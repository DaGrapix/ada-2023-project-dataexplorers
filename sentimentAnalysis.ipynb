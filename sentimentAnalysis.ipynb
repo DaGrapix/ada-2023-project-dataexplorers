{
 "cells": [
  {
   "cell_type": "code",
   "execution_count": 1,
   "id": "initial_id",
   "metadata": {
    "collapsed": true,
    "ExecuteTime": {
     "end_time": "2023-12-08T22:24:31.360077Z",
     "start_time": "2023-12-08T22:24:30.920942Z"
    }
   },
   "outputs": [
    {
     "name": "stderr",
     "output_type": "stream",
     "text": [
      "[nltk_data] Downloading package vader_lexicon to\n",
      "[nltk_data]     /Users/ericsaikali/nltk_data...\n",
      "[nltk_data]   Package vader_lexicon is already up-to-date!\n"
     ]
    },
    {
     "data": {
      "text/plain": "True"
     },
     "execution_count": 1,
     "metadata": {},
     "output_type": "execute_result"
    }
   ],
   "source": [
    "import numpy as np\n",
    "import pandas as pd\n",
    "\n",
    "from tqdm import tqdm\n",
    "import os\n",
    "import pickle as pkl\n",
    "import time\n",
    "import nltk\n",
    "from textblob import TextBlob\n",
    "import nltk\n",
    "from nltk.sentiment import SentimentIntensityAnalyzer\n",
    "\n",
    "\n",
    "nltk.download('vader_lexicon')\n"
   ]
  },
  {
   "cell_type": "code",
   "execution_count": 2,
   "outputs": [],
   "source": [
    "DATA_FOLDER = 'data/MovieSummaries/'\n",
    "ADDITIONAL_FOLDER = 'data/AdditionalData/'"
   ],
   "metadata": {
    "collapsed": false,
    "ExecuteTime": {
     "end_time": "2023-12-08T22:24:31.360276Z",
     "start_time": "2023-12-08T22:24:31.353033Z"
    }
   },
   "id": "6079dfa24a8af8cf"
  },
  {
   "cell_type": "code",
   "execution_count": 3,
   "outputs": [],
   "source": [
    "# reading a txt file and convert it to a dataframe\n",
    "def read_txt(path):\n",
    "    df = pd.read_csv(path, sep='\\t', header=None)\n",
    "    return df"
   ],
   "metadata": {
    "collapsed": false,
    "ExecuteTime": {
     "end_time": "2023-12-08T22:24:31.360328Z",
     "start_time": "2023-12-08T22:24:31.355744Z"
    }
   },
   "id": "e7b770048c5c0f97"
  },
  {
   "cell_type": "code",
   "execution_count": 4,
   "outputs": [],
   "source": [
    "# importing the data\n",
    "plots = pd.read_csv(DATA_FOLDER + 'plot_summaries.txt', header=None, sep=\"\\t\")\n",
    "movies = pd.read_csv(DATA_FOLDER + 'movie.metadata.tsv', header=None, sep=\"\\t\")\n",
    "characters = pd.read_csv(DATA_FOLDER + 'character.metadata.tsv', header=None, sep=\"\\t\")\n",
    "names = pd.read_csv(DATA_FOLDER + 'name.clusters.txt', header=None, sep=\"\\t\")\n",
    "tvtropes = pd.read_csv(DATA_FOLDER + 'tvtropes.clusters.txt', header=None, sep=\"\\t\")"
   ],
   "metadata": {
    "collapsed": false,
    "ExecuteTime": {
     "end_time": "2023-12-08T22:24:32.369131Z",
     "start_time": "2023-12-08T22:24:31.359780Z"
    }
   },
   "id": "2ad19c24b18f2122"
  },
  {
   "cell_type": "code",
   "execution_count": 5,
   "outputs": [],
   "source": [
    "# renaming columns the plots dataframe\n",
    "plots.columns = ['wikipedia_movie_id', 'plot']"
   ],
   "metadata": {
    "collapsed": false,
    "ExecuteTime": {
     "end_time": "2023-12-08T22:24:32.375102Z",
     "start_time": "2023-12-08T22:24:32.370568Z"
    }
   },
   "id": "ef9e735265c14bc4"
  },
  {
   "cell_type": "code",
   "execution_count": 6,
   "outputs": [],
   "source": [
    "# Sample synopsis\n",
    "synopsis = plots.iloc[:, 1].loc[0]"
   ],
   "metadata": {
    "collapsed": false,
    "ExecuteTime": {
     "end_time": "2023-12-08T22:24:32.375209Z",
     "start_time": "2023-12-08T22:24:32.372678Z"
    }
   },
   "id": "68f714b7f8463f84"
  },
  {
   "cell_type": "code",
   "execution_count": 7,
   "outputs": [],
   "source": [
    "def find_ending(plot, max_sentences=3):\n",
    "    blob = TextBlob(plot)\n",
    "    last_sentences = blob.sentences[-max_sentences:]  # Adjust the number of sentences as needed\n",
    "    return \" \".join([str(sentence) for sentence in last_sentences])"
   ],
   "metadata": {
    "collapsed": false,
    "ExecuteTime": {
     "end_time": "2023-12-08T22:24:32.386912Z",
     "start_time": "2023-12-08T22:24:32.375016Z"
    }
   },
   "id": "38d349080d627141"
  },
  {
   "cell_type": "code",
   "execution_count": 8,
   "outputs": [
    {
     "data": {
      "text/plain": "0        Shlykov, a hard-working taxi driver and Lyosha...\n1        However, before they can commit suicide, they ...\n2        At Menon's funeral, Manapally Pavithran arrive...\n3        Moran and Charley are arrested while the judge...\n4        In October 1982, Lindy is found guilty and sen...\n                               ...                        \n42298    The story is about Reema , a young Muslim scho...\n42299    Moved, Leo tells him they have. The assistant ...\n42300    Now Parsons is creating instruments that are h...\n42301    Mini does not recognize Rehman, who realises t...\n42302    Mainwaring and his men become the pride of the...\nName: endings, Length: 42303, dtype: object"
     },
     "execution_count": 8,
     "metadata": {},
     "output_type": "execute_result"
    }
   ],
   "source": [
    "plots['endings'] = plots.iloc[:, 1].apply(lambda plot: find_ending(plot))\n",
    "plots['endings']"
   ],
   "metadata": {
    "collapsed": false,
    "ExecuteTime": {
     "end_time": "2023-12-08T22:24:41.704014Z",
     "start_time": "2023-12-08T22:24:32.377156Z"
    }
   },
   "id": "b9150f29123a66e3"
  },
  {
   "cell_type": "code",
   "execution_count": 9,
   "outputs": [],
   "source": [
    "sia = SentimentIntensityAnalyzer()"
   ],
   "metadata": {
    "collapsed": false,
    "ExecuteTime": {
     "end_time": "2023-12-08T22:24:41.709584Z",
     "start_time": "2023-12-08T22:24:41.699993Z"
    }
   },
   "id": "2d9a7bec12556c43"
  },
  {
   "cell_type": "code",
   "execution_count": 10,
   "outputs": [],
   "source": [
    "def attribute_sentiments(text):\n",
    "    dico = sia.polarity_scores(text)\n",
    "    return dico['neg'], dico['neu'], dico['pos'], dico['compound']\n"
   ],
   "metadata": {
    "collapsed": false,
    "ExecuteTime": {
     "end_time": "2023-12-08T22:24:41.709651Z",
     "start_time": "2023-12-08T22:24:41.705956Z"
    }
   },
   "id": "b0c7f9def0ab5a3e"
  },
  {
   "cell_type": "code",
   "execution_count": 11,
   "outputs": [
    {
     "data": {
      "text/plain": "       wikipedia_movie_id                                               plot  \\\n0                23890098  Shlykov, a hard-working taxi driver and Lyosha...   \n1                31186339  The nation of Panem consists of a wealthy Capi...   \n2                20663735  Poovalli Induchoodan  is sentenced for six yea...   \n3                 2231378  The Lemon Drop Kid , a New York City swindler,...   \n4                  595909  Seventh-day Adventist Church pastor Michael Ch...   \n...                   ...                                                ...   \n42298            34808485  The story is about Reema , a young Muslim scho...   \n42299             1096473  In 1928 Hollywood, director Leo Andreyev  look...   \n42300            35102018  American Luthier focuses on Randy Parsons’ tra...   \n42301             8628195  Abdur Rehman Khan , a middle-aged dry fruit se...   \n42302             6040782  1940 - Operation Dynamo has just taken place. ...   \n\n                                                 endings  ending_negativity  \\\n0      Shlykov, a hard-working taxi driver and Lyosha...              0.093   \n1      However, before they can commit suicide, they ...              0.171   \n2      At Menon's funeral, Manapally Pavithran arrive...              0.187   \n3      Moran and Charley are arrested while the judge...              0.078   \n4      In October 1982, Lindy is found guilty and sen...              0.144   \n...                                                  ...                ...   \n42298  The story is about Reema , a young Muslim scho...              0.066   \n42299  Moved, Leo tells him they have. The assistant ...              0.000   \n42300  Now Parsons is creating instruments that are h...              0.000   \n42301  Mini does not recognize Rehman, who realises t...              0.034   \n42302  Mainwaring and his men become the pride of the...              0.071   \n\n       ending_neutrality  ending_positivity  ending_compound_sentiment  \n0                  0.812              0.095                     0.0083  \n1                  0.753              0.077                    -0.7269  \n2                  0.692              0.122                    -0.5719  \n3                  0.791              0.132                     0.7096  \n4                  0.843              0.013                    -0.9042  \n...                  ...                ...                        ...  \n42298              0.843              0.091                     0.2732  \n42299              0.652              0.348                     0.9231  \n42300              0.746              0.254                     0.9686  \n42301              0.883              0.083                     0.4215  \n42302              0.874              0.055                    -0.1779  \n\n[42303 rows x 7 columns]",
      "text/html": "<div>\n<style scoped>\n    .dataframe tbody tr th:only-of-type {\n        vertical-align: middle;\n    }\n\n    .dataframe tbody tr th {\n        vertical-align: top;\n    }\n\n    .dataframe thead th {\n        text-align: right;\n    }\n</style>\n<table border=\"1\" class=\"dataframe\">\n  <thead>\n    <tr style=\"text-align: right;\">\n      <th></th>\n      <th>wikipedia_movie_id</th>\n      <th>plot</th>\n      <th>endings</th>\n      <th>ending_negativity</th>\n      <th>ending_neutrality</th>\n      <th>ending_positivity</th>\n      <th>ending_compound_sentiment</th>\n    </tr>\n  </thead>\n  <tbody>\n    <tr>\n      <th>0</th>\n      <td>23890098</td>\n      <td>Shlykov, a hard-working taxi driver and Lyosha...</td>\n      <td>Shlykov, a hard-working taxi driver and Lyosha...</td>\n      <td>0.093</td>\n      <td>0.812</td>\n      <td>0.095</td>\n      <td>0.0083</td>\n    </tr>\n    <tr>\n      <th>1</th>\n      <td>31186339</td>\n      <td>The nation of Panem consists of a wealthy Capi...</td>\n      <td>However, before they can commit suicide, they ...</td>\n      <td>0.171</td>\n      <td>0.753</td>\n      <td>0.077</td>\n      <td>-0.7269</td>\n    </tr>\n    <tr>\n      <th>2</th>\n      <td>20663735</td>\n      <td>Poovalli Induchoodan  is sentenced for six yea...</td>\n      <td>At Menon's funeral, Manapally Pavithran arrive...</td>\n      <td>0.187</td>\n      <td>0.692</td>\n      <td>0.122</td>\n      <td>-0.5719</td>\n    </tr>\n    <tr>\n      <th>3</th>\n      <td>2231378</td>\n      <td>The Lemon Drop Kid , a New York City swindler,...</td>\n      <td>Moran and Charley are arrested while the judge...</td>\n      <td>0.078</td>\n      <td>0.791</td>\n      <td>0.132</td>\n      <td>0.7096</td>\n    </tr>\n    <tr>\n      <th>4</th>\n      <td>595909</td>\n      <td>Seventh-day Adventist Church pastor Michael Ch...</td>\n      <td>In October 1982, Lindy is found guilty and sen...</td>\n      <td>0.144</td>\n      <td>0.843</td>\n      <td>0.013</td>\n      <td>-0.9042</td>\n    </tr>\n    <tr>\n      <th>...</th>\n      <td>...</td>\n      <td>...</td>\n      <td>...</td>\n      <td>...</td>\n      <td>...</td>\n      <td>...</td>\n      <td>...</td>\n    </tr>\n    <tr>\n      <th>42298</th>\n      <td>34808485</td>\n      <td>The story is about Reema , a young Muslim scho...</td>\n      <td>The story is about Reema , a young Muslim scho...</td>\n      <td>0.066</td>\n      <td>0.843</td>\n      <td>0.091</td>\n      <td>0.2732</td>\n    </tr>\n    <tr>\n      <th>42299</th>\n      <td>1096473</td>\n      <td>In 1928 Hollywood, director Leo Andreyev  look...</td>\n      <td>Moved, Leo tells him they have. The assistant ...</td>\n      <td>0.000</td>\n      <td>0.652</td>\n      <td>0.348</td>\n      <td>0.9231</td>\n    </tr>\n    <tr>\n      <th>42300</th>\n      <td>35102018</td>\n      <td>American Luthier focuses on Randy Parsons’ tra...</td>\n      <td>Now Parsons is creating instruments that are h...</td>\n      <td>0.000</td>\n      <td>0.746</td>\n      <td>0.254</td>\n      <td>0.9686</td>\n    </tr>\n    <tr>\n      <th>42301</th>\n      <td>8628195</td>\n      <td>Abdur Rehman Khan , a middle-aged dry fruit se...</td>\n      <td>Mini does not recognize Rehman, who realises t...</td>\n      <td>0.034</td>\n      <td>0.883</td>\n      <td>0.083</td>\n      <td>0.4215</td>\n    </tr>\n    <tr>\n      <th>42302</th>\n      <td>6040782</td>\n      <td>1940 - Operation Dynamo has just taken place. ...</td>\n      <td>Mainwaring and his men become the pride of the...</td>\n      <td>0.071</td>\n      <td>0.874</td>\n      <td>0.055</td>\n      <td>-0.1779</td>\n    </tr>\n  </tbody>\n</table>\n<p>42303 rows × 7 columns</p>\n</div>"
     },
     "execution_count": 11,
     "metadata": {},
     "output_type": "execute_result"
    }
   ],
   "source": [
    "sentiments = plots['endings'].apply(lambda end: attribute_sentiments(end))\n",
    "sentiments_df = pd.DataFrame(sentiments.tolist(), columns=['ending_negativity', 'ending_neutrality', 'ending_positivity', 'ending_compound_sentiment'])\n",
    "plots = plots.join(sentiments_df)\n",
    "plots"
   ],
   "metadata": {
    "collapsed": false,
    "ExecuteTime": {
     "end_time": "2023-12-08T22:24:53.029426Z",
     "start_time": "2023-12-08T22:24:41.775376Z"
    }
   },
   "id": "f4f6ded0093d01ad"
  },
  {
   "cell_type": "code",
   "execution_count": 11,
   "outputs": [],
   "source": [],
   "metadata": {
    "collapsed": false,
    "ExecuteTime": {
     "end_time": "2023-12-08T22:24:53.029527Z",
     "start_time": "2023-12-08T22:24:53.025098Z"
    }
   },
   "id": "c362f50510562d2f"
  }
 ],
 "metadata": {
  "kernelspec": {
   "display_name": "Python 3",
   "language": "python",
   "name": "python3"
  },
  "language_info": {
   "codemirror_mode": {
    "name": "ipython",
    "version": 2
   },
   "file_extension": ".py",
   "mimetype": "text/x-python",
   "name": "python",
   "nbconvert_exporter": "python",
   "pygments_lexer": "ipython2",
   "version": "2.7.6"
  }
 },
 "nbformat": 4,
 "nbformat_minor": 5
}
