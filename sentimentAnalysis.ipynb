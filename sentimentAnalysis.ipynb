{
 "cells": [
  {
   "cell_type": "code",
   "execution_count": 178,
   "id": "initial_id",
   "metadata": {
    "collapsed": true,
    "ExecuteTime": {
     "end_time": "2023-12-08T22:05:54.625962Z",
     "start_time": "2023-12-08T22:05:54.276023Z"
    }
   },
   "outputs": [
    {
     "name": "stderr",
     "output_type": "stream",
     "text": [
      "[nltk_data] Downloading package vader_lexicon to\n",
      "[nltk_data]     /Users/ericsaikali/nltk_data...\n"
     ]
    },
    {
     "data": {
      "text/plain": "True"
     },
     "execution_count": 178,
     "metadata": {},
     "output_type": "execute_result"
    }
   ],
   "source": [
    "import numpy as np\n",
    "import pandas as pd\n",
    "\n",
    "from tqdm import tqdm\n",
    "import os\n",
    "import pickle as pkl\n",
    "import time\n",
    "import nltk\n",
    "from textblob import TextBlob\n",
    "import nltk\n",
    "nltk.download('vader_lexicon')\n"
   ]
  },
  {
   "cell_type": "code",
   "execution_count": 160,
   "outputs": [],
   "source": [
    "DATA_FOLDER = 'data/MovieSummaries/'\n",
    "ADDITIONAL_FOLDER = 'data/AdditionalData/'"
   ],
   "metadata": {
    "collapsed": false,
    "ExecuteTime": {
     "end_time": "2023-12-08T22:00:37.810808Z",
     "start_time": "2023-12-08T22:00:37.780828Z"
    }
   },
   "id": "6079dfa24a8af8cf"
  },
  {
   "cell_type": "code",
   "execution_count": 161,
   "outputs": [],
   "source": [
    "# reading a txt file and convert it to a dataframe\n",
    "def read_txt(path):\n",
    "    df = pd.read_csv(path, sep='\\t', header=None)\n",
    "    return df"
   ],
   "metadata": {
    "collapsed": false,
    "ExecuteTime": {
     "end_time": "2023-12-08T22:00:38.176160Z",
     "start_time": "2023-12-08T22:00:38.152899Z"
    }
   },
   "id": "e7b770048c5c0f97"
  },
  {
   "cell_type": "code",
   "execution_count": 162,
   "outputs": [],
   "source": [
    "# importing the data\n",
    "plots = pd.read_csv(DATA_FOLDER + 'plot_summaries.txt', header=None, sep=\"\\t\")\n",
    "movies = pd.read_csv(DATA_FOLDER + 'movie.metadata.tsv', header=None, sep=\"\\t\")\n",
    "characters = pd.read_csv(DATA_FOLDER + 'character.metadata.tsv', header=None, sep=\"\\t\")\n",
    "names = pd.read_csv(DATA_FOLDER + 'name.clusters.txt', header=None, sep=\"\\t\")\n",
    "tvtropes = pd.read_csv(DATA_FOLDER + 'tvtropes.clusters.txt', header=None, sep=\"\\t\")"
   ],
   "metadata": {
    "collapsed": false,
    "ExecuteTime": {
     "end_time": "2023-12-08T22:00:40.004577Z",
     "start_time": "2023-12-08T22:00:38.866435Z"
    }
   },
   "id": "2ad19c24b18f2122"
  },
  {
   "cell_type": "code",
   "execution_count": 163,
   "outputs": [],
   "source": [
    "# renaming columns the plots dataframe\n",
    "plots.columns = ['wikipedia_movie_id', 'plot']"
   ],
   "metadata": {
    "collapsed": false,
    "ExecuteTime": {
     "end_time": "2023-12-08T22:00:40.010401Z",
     "start_time": "2023-12-08T22:00:40.005051Z"
    }
   },
   "id": "ef9e735265c14bc4"
  },
  {
   "cell_type": "code",
   "execution_count": 175,
   "outputs": [],
   "source": [
    "# Sample synopsis\n",
    "synopsis = plots.iloc[:, 1].loc[0]"
   ],
   "metadata": {
    "collapsed": false,
    "ExecuteTime": {
     "end_time": "2023-12-08T22:04:36.925522Z",
     "start_time": "2023-12-08T22:04:36.897468Z"
    }
   },
   "id": "68f714b7f8463f84"
  },
  {
   "cell_type": "code",
   "execution_count": 176,
   "outputs": [],
   "source": [
    "def find_ending(plot, max_sentences=3):\n",
    "    blob = TextBlob(plot)\n",
    "    last_sentences = blob.sentences[-max_sentences:]  # Adjust the number of sentences as needed\n",
    "    return \" \".join([str(sentence) for sentence in last_sentences])"
   ],
   "metadata": {
    "collapsed": false,
    "ExecuteTime": {
     "end_time": "2023-12-08T22:04:39.543802Z",
     "start_time": "2023-12-08T22:04:39.507375Z"
    }
   },
   "id": "38d349080d627141"
  },
  {
   "cell_type": "code",
   "execution_count": 177,
   "outputs": [
    {
     "data": {
      "text/plain": "0        Shlykov, a hard-working taxi driver and Lyosha...\n1        However, before they can commit suicide, they ...\n2        At Menon's funeral, Manapally Pavithran arrive...\n3        Moran and Charley are arrested while the judge...\n4        In October 1982, Lindy is found guilty and sen...\n                               ...                        \n42298    The story is about Reema , a young Muslim scho...\n42299    Moved, Leo tells him they have. The assistant ...\n42300    Now Parsons is creating instruments that are h...\n42301    Mini does not recognize Rehman, who realises t...\n42302    Mainwaring and his men become the pride of the...\nName: endings, Length: 42303, dtype: object"
     },
     "execution_count": 177,
     "metadata": {},
     "output_type": "execute_result"
    }
   ],
   "source": [
    "plots['endings'] = plots.iloc[:, 1].apply(lambda plot: find_ending(plot))\n",
    "plots['endings']"
   ],
   "metadata": {
    "collapsed": false,
    "ExecuteTime": {
     "end_time": "2023-12-08T22:05:22.416706Z",
     "start_time": "2023-12-08T22:05:13.185772Z"
    }
   },
   "id": "b9150f29123a66e3"
  },
  {
   "cell_type": "code",
   "execution_count": 184,
   "outputs": [
    {
     "name": "stdout",
     "output_type": "stream",
     "text": [
      "{'neg': 0.0, 'neu': 0.376, 'pos': 0.624, 'compound': 0.8516}\n"
     ]
    }
   ],
   "source": [
    "from nltk.sentiment import SentimentIntensityAnalyzer\n",
    "\n",
    "sia = SentimentIntensityAnalyzer()\n",
    "text = \"I love Python. It's such an amazing language!\"\n",
    "\n",
    "sentiment = sia.polarity_scores(text)\n",
    "print(sentiment)\n"
   ],
   "metadata": {
    "collapsed": false,
    "ExecuteTime": {
     "end_time": "2023-12-08T22:09:32.603031Z",
     "start_time": "2023-12-08T22:09:32.586670Z"
    }
   },
   "id": "2d9a7bec12556c43"
  },
  {
   "cell_type": "code",
   "execution_count": 181,
   "outputs": [],
   "source": [
    "plots['ending_sentiment'] = plots['endings'].apply(lambda end: sia.polarity_scores(end)['compound'])\n"
   ],
   "metadata": {
    "collapsed": false,
    "ExecuteTime": {
     "end_time": "2023-12-08T22:08:49.355806Z",
     "start_time": "2023-12-08T22:08:38.146467Z"
    }
   },
   "id": "47ec6b8b213375c4"
  },
  {
   "cell_type": "code",
   "execution_count": 182,
   "outputs": [
    {
     "data": {
      "text/plain": "0        0.0083\n1       -0.7269\n2       -0.5719\n3        0.7096\n4       -0.9042\n          ...  \n42298    0.2732\n42299    0.9231\n42300    0.9686\n42301    0.4215\n42302   -0.1779\nName: ending_sentiment, Length: 42303, dtype: float64"
     },
     "execution_count": 182,
     "metadata": {},
     "output_type": "execute_result"
    }
   ],
   "source": [
    "plots['ending_sentiment'] "
   ],
   "metadata": {
    "collapsed": false,
    "ExecuteTime": {
     "end_time": "2023-12-08T22:08:50.190985Z",
     "start_time": "2023-12-08T22:08:50.157972Z"
    }
   },
   "id": "a43e6471c5f48aca"
  },
  {
   "cell_type": "code",
   "execution_count": 183,
   "outputs": [
    {
     "data": {
      "text/plain": "count    42303.000000\nmean        -0.043300\nstd          0.655356\nmin         -0.997300\n25%         -0.695600\n50%         -0.025800\n75%          0.599400\nmax          0.997000\nName: ending_sentiment, dtype: float64"
     },
     "execution_count": 183,
     "metadata": {},
     "output_type": "execute_result"
    }
   ],
   "source": [],
   "metadata": {
    "collapsed": false,
    "ExecuteTime": {
     "end_time": "2023-12-08T22:09:02.115629Z",
     "start_time": "2023-12-08T22:09:02.090790Z"
    }
   },
   "id": "b0c7f9def0ab5a3e"
  },
  {
   "cell_type": "code",
   "execution_count": null,
   "outputs": [],
   "source": [],
   "metadata": {
    "collapsed": false
   },
   "id": "f4f6ded0093d01ad"
  }
 ],
 "metadata": {
  "kernelspec": {
   "display_name": "Python 3",
   "language": "python",
   "name": "python3"
  },
  "language_info": {
   "codemirror_mode": {
    "name": "ipython",
    "version": 2
   },
   "file_extension": ".py",
   "mimetype": "text/x-python",
   "name": "python",
   "nbconvert_exporter": "python",
   "pygments_lexer": "ipython2",
   "version": "2.7.6"
  }
 },
 "nbformat": 4,
 "nbformat_minor": 5
}
