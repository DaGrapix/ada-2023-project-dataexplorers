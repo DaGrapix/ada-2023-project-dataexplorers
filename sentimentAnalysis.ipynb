{
 "cells": [
  {
   "cell_type": "code",
   "execution_count": 1,
   "id": "initial_id",
   "metadata": {
    "collapsed": true,
    "ExecuteTime": {
     "end_time": "2023-12-15T19:07:29.224954Z",
     "start_time": "2023-12-15T19:07:27.178712Z"
    }
   },
   "outputs": [
    {
     "name": "stderr",
     "output_type": "stream",
     "text": [
      "/Users/ericsaikali/Library/Mobile Documents/com~apple~CloudDocs/Documents/GitHub/ada-2023-project-dataexplorers/venv/lib/python3.9/site-packages/urllib3/__init__.py:34: NotOpenSSLWarning: urllib3 v2 only supports OpenSSL 1.1.1+, currently the 'ssl' module is compiled with 'LibreSSL 2.8.3'. See: https://github.com/urllib3/urllib3/issues/3020\n",
      "  warnings.warn(\n",
      "/Users/ericsaikali/Library/Mobile Documents/com~apple~CloudDocs/Documents/GitHub/ada-2023-project-dataexplorers/venv/lib/python3.9/site-packages/tqdm/auto.py:21: TqdmWarning: IProgress not found. Please update jupyter and ipywidgets. See https://ipywidgets.readthedocs.io/en/stable/user_install.html\n",
      "  from .autonotebook import tqdm as notebook_tqdm\n",
      "[nltk_data] Downloading package vader_lexicon to\n",
      "[nltk_data]     /Users/ericsaikali/nltk_data...\n",
      "[nltk_data]   Package vader_lexicon is already up-to-date!\n"
     ]
    }
   ],
   "source": [
    "import numpy as np\n",
    "import pandas as pd\n",
    "import scipy.stats\n",
    "\n",
    "from tqdm import tqdm\n",
    "import os\n",
    "import pickle as pkl\n",
    "import time\n",
    "import nltk\n",
    "from textblob import TextBlob\n",
    "import nltk\n",
    "from nltk.sentiment import SentimentIntensityAnalyzer\n",
    "from transformers import pipeline\n",
    "import matplotlib.pyplot as plt\n",
    "tqdm.pandas()\n",
    "nltk.download('vader_lexicon')\n",
    "import pandas as pd\n",
    "from sklearn.model_selection import train_test_split\n",
    "from sklearn.linear_model import LinearRegression\n",
    "from sklearn.feature_selection import mutual_info_regression\n",
    "from sklearn.metrics import accuracy_score, roc_auc_score\n",
    "from scipy import stats as sts\n",
    "import seaborn as sns\n",
    "import matplotlib.pyplot as plt\n",
    "import numpy as np\n",
    "import pandas as pd\n",
    "import scipy.stats as sts\n",
    "from sklearn.feature_selection import mutual_info_regression\n",
    "import dash\n",
    "from dash import dcc, html\n",
    "import plotly.express as px\n",
    "from dash.dependencies import Input, Output\n"
   ]
  },
  {
   "cell_type": "markdown",
   "source": [
    "# DATA PREPROCESSING"
   ],
   "metadata": {
    "collapsed": false
   },
   "id": "4d15c3b0aab90412"
  },
  {
   "cell_type": "code",
   "execution_count": 2,
   "outputs": [],
   "source": [
    "DATA_FOLDER = 'data/MovieSummaries/'\n",
    "ADDITIONAL_FOLDER = 'data/AdditionalData/'"
   ],
   "metadata": {
    "collapsed": false,
    "ExecuteTime": {
     "end_time": "2023-12-15T19:07:29.225085Z",
     "start_time": "2023-12-15T19:07:29.218476Z"
    }
   },
   "id": "6079dfa24a8af8cf"
  },
  {
   "cell_type": "code",
   "execution_count": 3,
   "outputs": [],
   "source": [
    "# reading a txt file and convert it to a dataframe\n",
    "def read_txt(path):\n",
    "    df = pd.read_csv(path, sep='\\t', header=None)\n",
    "    return df"
   ],
   "metadata": {
    "collapsed": false,
    "ExecuteTime": {
     "end_time": "2023-12-15T19:07:29.225118Z",
     "start_time": "2023-12-15T19:07:29.218634Z"
    }
   },
   "id": "e7b770048c5c0f97"
  },
  {
   "cell_type": "code",
   "execution_count": 4,
   "outputs": [],
   "source": [
    "# importing the data\n",
    "plots = pd.read_csv(DATA_FOLDER + 'plot_summaries.txt', header=None, sep=\"\\t\")\n",
    "movies = pd.read_csv(DATA_FOLDER + 'movie.metadata.tsv', header=None, sep=\"\\t\")\n",
    "characters = pd.read_csv(DATA_FOLDER + 'character.metadata.tsv', header=None, sep=\"\\t\")\n",
    "names = pd.read_csv(DATA_FOLDER + 'name.clusters.txt', header=None, sep=\"\\t\")\n",
    "tvtropes = pd.read_csv(DATA_FOLDER + 'tvtropes.clusters.txt', header=None, sep=\"\\t\")"
   ],
   "metadata": {
    "collapsed": false,
    "ExecuteTime": {
     "end_time": "2023-12-15T19:07:30.236474Z",
     "start_time": "2023-12-15T19:07:29.219176Z"
    }
   },
   "id": "2ad19c24b18f2122"
  },
  {
   "cell_type": "code",
   "execution_count": 5,
   "outputs": [],
   "source": [
    "# renaming columns the plots dataframe\n",
    "plots.columns = ['wikipedia_movie_id', 'plot']"
   ],
   "metadata": {
    "collapsed": false,
    "ExecuteTime": {
     "end_time": "2023-12-15T19:07:30.243936Z",
     "start_time": "2023-12-15T19:07:30.236856Z"
    }
   },
   "id": "ef9e735265c14bc4"
  },
  {
   "cell_type": "code",
   "execution_count": 6,
   "outputs": [
    {
     "data": {
      "text/plain": "              0           1  \\\n0        975900   /m/03vyhn   \n1       3196793   /m/08yl5d   \n2      28463795  /m/0crgdbh   \n3       9363483  /m/0285_cd   \n4        261236   /m/01mrr1   \n...         ...         ...   \n81736  35228177  /m/0j7hxnt   \n81737  34980460  /m/0g4pl34   \n81738   9971909  /m/02pygw1   \n81739    913762   /m/03pcrp   \n81740  12476867  /m/02w7zz8   \n\n                                                       2           3  \\\n0                                         Ghosts of Mars  2001-08-24   \n1      Getting Away with Murder: The JonBenét Ramsey ...  2000-02-16   \n2                                            Brun bitter        1988   \n3                                       White Of The Eye        1987   \n4                                      A Woman in Flames        1983   \n...                                                  ...         ...   \n81736                           Mermaids: The Body Found  2011-03-19   \n81737                                            Knuckle  2011-01-21   \n81738                                  Another Nice Mess  1972-09-22   \n81739  The Super Dimension Fortress Macross II: Lover...  1992-05-21   \n81740                                            Spliced        2002   \n\n                4      5                                   6  \\\n0      14010832.0   98.0  {\"/m/02h40lc\": \"English Language\"}   \n1             NaN   95.0  {\"/m/02h40lc\": \"English Language\"}   \n2             NaN   83.0  {\"/m/05f_3\": \"Norwegian Language\"}   \n3             NaN  110.0  {\"/m/02h40lc\": \"English Language\"}   \n4             NaN  106.0   {\"/m/04306rv\": \"German Language\"}   \n...           ...    ...                                 ...   \n81736         NaN  120.0  {\"/m/02h40lc\": \"English Language\"}   \n81737         NaN   96.0  {\"/m/02h40lc\": \"English Language\"}   \n81738         NaN   66.0  {\"/m/02h40lc\": \"English Language\"}   \n81739         NaN  150.0   {\"/m/03_9r\": \"Japanese Language\"}   \n81740         NaN   86.0  {\"/m/02h40lc\": \"English Language\"}   \n\n                                                       7  \\\n0              {\"/m/09c7w0\": \"United States of America\"}   \n1              {\"/m/09c7w0\": \"United States of America\"}   \n2                                 {\"/m/05b4w\": \"Norway\"}   \n3                         {\"/m/07ssc\": \"United Kingdom\"}   \n4                                {\"/m/0345h\": \"Germany\"}   \n...                                                  ...   \n81736          {\"/m/09c7w0\": \"United States of America\"}   \n81737  {\"/m/03rt9\": \"Ireland\", \"/m/07ssc\": \"United Ki...   \n81738          {\"/m/09c7w0\": \"United States of America\"}   \n81739                              {\"/m/03_3d\": \"Japan\"}   \n81740                            {\"/m/0d060g\": \"Canada\"}   \n\n                                                       8  \n0      {\"/m/01jfsb\": \"Thriller\", \"/m/06n90\": \"Science...  \n1      {\"/m/02n4kr\": \"Mystery\", \"/m/03bxz7\": \"Biograp...  \n2      {\"/m/0lsxr\": \"Crime Fiction\", \"/m/07s9rl0\": \"D...  \n3      {\"/m/01jfsb\": \"Thriller\", \"/m/0glj9q\": \"Erotic...  \n4                                {\"/m/07s9rl0\": \"Drama\"}  \n...                                                  ...  \n81736                            {\"/m/07s9rl0\": \"Drama\"}  \n81737  {\"/m/03bxz7\": \"Biographical film\", \"/m/07s9rl0...  \n81738       {\"/m/06nbt\": \"Satire\", \"/m/01z4y\": \"Comedy\"}  \n81739  {\"/m/06n90\": \"Science Fiction\", \"/m/0gw5n2f\": ...  \n81740  {\"/m/01jfsb\": \"Thriller\", \"/m/03npn\": \"Horror\"...  \n\n[81741 rows x 9 columns]",
      "text/html": "<div>\n<style scoped>\n    .dataframe tbody tr th:only-of-type {\n        vertical-align: middle;\n    }\n\n    .dataframe tbody tr th {\n        vertical-align: top;\n    }\n\n    .dataframe thead th {\n        text-align: right;\n    }\n</style>\n<table border=\"1\" class=\"dataframe\">\n  <thead>\n    <tr style=\"text-align: right;\">\n      <th></th>\n      <th>0</th>\n      <th>1</th>\n      <th>2</th>\n      <th>3</th>\n      <th>4</th>\n      <th>5</th>\n      <th>6</th>\n      <th>7</th>\n      <th>8</th>\n    </tr>\n  </thead>\n  <tbody>\n    <tr>\n      <th>0</th>\n      <td>975900</td>\n      <td>/m/03vyhn</td>\n      <td>Ghosts of Mars</td>\n      <td>2001-08-24</td>\n      <td>14010832.0</td>\n      <td>98.0</td>\n      <td>{\"/m/02h40lc\": \"English Language\"}</td>\n      <td>{\"/m/09c7w0\": \"United States of America\"}</td>\n      <td>{\"/m/01jfsb\": \"Thriller\", \"/m/06n90\": \"Science...</td>\n    </tr>\n    <tr>\n      <th>1</th>\n      <td>3196793</td>\n      <td>/m/08yl5d</td>\n      <td>Getting Away with Murder: The JonBenét Ramsey ...</td>\n      <td>2000-02-16</td>\n      <td>NaN</td>\n      <td>95.0</td>\n      <td>{\"/m/02h40lc\": \"English Language\"}</td>\n      <td>{\"/m/09c7w0\": \"United States of America\"}</td>\n      <td>{\"/m/02n4kr\": \"Mystery\", \"/m/03bxz7\": \"Biograp...</td>\n    </tr>\n    <tr>\n      <th>2</th>\n      <td>28463795</td>\n      <td>/m/0crgdbh</td>\n      <td>Brun bitter</td>\n      <td>1988</td>\n      <td>NaN</td>\n      <td>83.0</td>\n      <td>{\"/m/05f_3\": \"Norwegian Language\"}</td>\n      <td>{\"/m/05b4w\": \"Norway\"}</td>\n      <td>{\"/m/0lsxr\": \"Crime Fiction\", \"/m/07s9rl0\": \"D...</td>\n    </tr>\n    <tr>\n      <th>3</th>\n      <td>9363483</td>\n      <td>/m/0285_cd</td>\n      <td>White Of The Eye</td>\n      <td>1987</td>\n      <td>NaN</td>\n      <td>110.0</td>\n      <td>{\"/m/02h40lc\": \"English Language\"}</td>\n      <td>{\"/m/07ssc\": \"United Kingdom\"}</td>\n      <td>{\"/m/01jfsb\": \"Thriller\", \"/m/0glj9q\": \"Erotic...</td>\n    </tr>\n    <tr>\n      <th>4</th>\n      <td>261236</td>\n      <td>/m/01mrr1</td>\n      <td>A Woman in Flames</td>\n      <td>1983</td>\n      <td>NaN</td>\n      <td>106.0</td>\n      <td>{\"/m/04306rv\": \"German Language\"}</td>\n      <td>{\"/m/0345h\": \"Germany\"}</td>\n      <td>{\"/m/07s9rl0\": \"Drama\"}</td>\n    </tr>\n    <tr>\n      <th>...</th>\n      <td>...</td>\n      <td>...</td>\n      <td>...</td>\n      <td>...</td>\n      <td>...</td>\n      <td>...</td>\n      <td>...</td>\n      <td>...</td>\n      <td>...</td>\n    </tr>\n    <tr>\n      <th>81736</th>\n      <td>35228177</td>\n      <td>/m/0j7hxnt</td>\n      <td>Mermaids: The Body Found</td>\n      <td>2011-03-19</td>\n      <td>NaN</td>\n      <td>120.0</td>\n      <td>{\"/m/02h40lc\": \"English Language\"}</td>\n      <td>{\"/m/09c7w0\": \"United States of America\"}</td>\n      <td>{\"/m/07s9rl0\": \"Drama\"}</td>\n    </tr>\n    <tr>\n      <th>81737</th>\n      <td>34980460</td>\n      <td>/m/0g4pl34</td>\n      <td>Knuckle</td>\n      <td>2011-01-21</td>\n      <td>NaN</td>\n      <td>96.0</td>\n      <td>{\"/m/02h40lc\": \"English Language\"}</td>\n      <td>{\"/m/03rt9\": \"Ireland\", \"/m/07ssc\": \"United Ki...</td>\n      <td>{\"/m/03bxz7\": \"Biographical film\", \"/m/07s9rl0...</td>\n    </tr>\n    <tr>\n      <th>81738</th>\n      <td>9971909</td>\n      <td>/m/02pygw1</td>\n      <td>Another Nice Mess</td>\n      <td>1972-09-22</td>\n      <td>NaN</td>\n      <td>66.0</td>\n      <td>{\"/m/02h40lc\": \"English Language\"}</td>\n      <td>{\"/m/09c7w0\": \"United States of America\"}</td>\n      <td>{\"/m/06nbt\": \"Satire\", \"/m/01z4y\": \"Comedy\"}</td>\n    </tr>\n    <tr>\n      <th>81739</th>\n      <td>913762</td>\n      <td>/m/03pcrp</td>\n      <td>The Super Dimension Fortress Macross II: Lover...</td>\n      <td>1992-05-21</td>\n      <td>NaN</td>\n      <td>150.0</td>\n      <td>{\"/m/03_9r\": \"Japanese Language\"}</td>\n      <td>{\"/m/03_3d\": \"Japan\"}</td>\n      <td>{\"/m/06n90\": \"Science Fiction\", \"/m/0gw5n2f\": ...</td>\n    </tr>\n    <tr>\n      <th>81740</th>\n      <td>12476867</td>\n      <td>/m/02w7zz8</td>\n      <td>Spliced</td>\n      <td>2002</td>\n      <td>NaN</td>\n      <td>86.0</td>\n      <td>{\"/m/02h40lc\": \"English Language\"}</td>\n      <td>{\"/m/0d060g\": \"Canada\"}</td>\n      <td>{\"/m/01jfsb\": \"Thriller\", \"/m/03npn\": \"Horror\"...</td>\n    </tr>\n  </tbody>\n</table>\n<p>81741 rows × 9 columns</p>\n</div>"
     },
     "execution_count": 6,
     "metadata": {},
     "output_type": "execute_result"
    }
   ],
   "source": [
    "movies"
   ],
   "metadata": {
    "collapsed": false,
    "ExecuteTime": {
     "end_time": "2023-12-15T19:07:30.255040Z",
     "start_time": "2023-12-15T19:07:30.240284Z"
    }
   },
   "id": "1e27b3fd66cb821c"
  },
  {
   "cell_type": "markdown",
   "source": [
    "# RETRIEVE ENDINGS"
   ],
   "metadata": {
    "collapsed": false
   },
   "id": "4105bfdeb1e2bfc3"
  },
  {
   "cell_type": "code",
   "execution_count": 7,
   "outputs": [],
   "source": [
    "# Sample synopsis\n",
    "synopsis = plots.iloc[:, 1].loc[0]"
   ],
   "metadata": {
    "collapsed": false,
    "ExecuteTime": {
     "end_time": "2023-12-15T19:07:30.255124Z",
     "start_time": "2023-12-15T19:07:30.247395Z"
    }
   },
   "id": "68f714b7f8463f84"
  },
  {
   "cell_type": "code",
   "execution_count": 8,
   "outputs": [],
   "source": [
    "def find_ending(plot, max_sentences=3):\n",
    "    blob = TextBlob(plot)\n",
    "    last_sentences = blob.sentences[-max_sentences:]  \n",
    "    return \" \".join([str(sentence) for sentence in last_sentences])"
   ],
   "metadata": {
    "collapsed": false,
    "ExecuteTime": {
     "end_time": "2023-12-15T19:07:30.255150Z",
     "start_time": "2023-12-15T19:07:30.249604Z"
    }
   },
   "id": "38d349080d627141"
  },
  {
   "cell_type": "code",
   "execution_count": 9,
   "outputs": [],
   "source": [
    "plots['endings'] = plots.iloc[:, 1].apply(lambda plot: find_ending(plot))"
   ],
   "metadata": {
    "collapsed": false,
    "ExecuteTime": {
     "end_time": "2023-12-15T19:07:39.945912Z",
     "start_time": "2023-12-15T19:07:30.251462Z"
    }
   },
   "id": "b9150f29123a66e3"
  },
  {
   "cell_type": "markdown",
   "source": [
    "# SENTIMENT ANALYSIS"
   ],
   "metadata": {
    "collapsed": false
   },
   "id": "9a85ac1eab50c44d"
  },
  {
   "cell_type": "code",
   "execution_count": 10,
   "outputs": [],
   "source": [
    "sia = SentimentIntensityAnalyzer()"
   ],
   "metadata": {
    "collapsed": false,
    "ExecuteTime": {
     "end_time": "2023-12-15T19:07:39.953342Z",
     "start_time": "2023-12-15T19:07:39.947615Z"
    }
   },
   "id": "2d9a7bec12556c43"
  },
  {
   "cell_type": "code",
   "execution_count": 11,
   "outputs": [
    {
     "data": {
      "text/plain": "(0.0, 0.526, 0.474, 0.4019)"
     },
     "execution_count": 11,
     "metadata": {},
     "output_type": "execute_result"
    }
   ],
   "source": [
    "def attribute_polar_sentiments(text):\n",
    "    dico = sia.polarity_scores(text)\n",
    "    return dico['neg'], dico['neu'], dico['pos'], dico['compound']\n",
    "\n",
    "attribute_polar_sentiments(\"Then aymeric hugged eric.\")"
   ],
   "metadata": {
    "collapsed": false,
    "ExecuteTime": {
     "end_time": "2023-12-15T19:07:39.964326Z",
     "start_time": "2023-12-15T19:07:39.954002Z"
    }
   },
   "id": "b0c7f9def0ab5a3e"
  },
  {
   "cell_type": "code",
   "execution_count": 12,
   "outputs": [],
   "source": [
    "sentiments = plots['endings'].apply(lambda end: attribute_polar_sentiments(end))\n",
    "sentiments_df = pd.DataFrame(sentiments.tolist(), columns=['ending_negativity', 'ending_neutrality', 'ending_positivity', 'ending_compound_sentiment'])\n",
    "plots = plots.join(sentiments_df)"
   ],
   "metadata": {
    "collapsed": false,
    "ExecuteTime": {
     "end_time": "2023-12-15T19:07:52.151151Z",
     "start_time": "2023-12-15T19:07:39.962226Z"
    }
   },
   "id": "f4f6ded0093d01ad"
  },
  {
   "cell_type": "markdown",
   "source": [
    "# ANALYSIS"
   ],
   "metadata": {
    "collapsed": false
   },
   "id": "b5ae1e93e50fff62"
  },
  {
   "cell_type": "markdown",
   "source": [
    "## SENTIMENTS ONLY ANALYSIS"
   ],
   "metadata": {
    "collapsed": false
   },
   "id": "cb222ff53ee0e8af"
  },
  {
   "cell_type": "code",
   "execution_count": 13,
   "outputs": [
    {
     "data": {
      "text/plain": "<Figure size 1500x500 with 3 Axes>",
      "image/png": "[encoded data removed]"
     },
     "metadata": {},
     "output_type": "display_data"
    }
   ],
   "source": [
    "N_ROW = 1\n",
    "N_COL = 3\n",
    "fig, axs = plt.subplots(N_ROW, N_COL, figsize=(15, 5), sharey=True,sharex=True)\n",
    "\n",
    "# Plotting histograms\n",
    "for idx, col in enumerate(['ending_negativity', 'ending_neutrality', 'ending_positivity']):\n",
    "    axs[idx].hist(plots[col], bins=40, label=col,)\n",
    "    axs[idx].set_title(col)\n",
    "\n",
    "plt.tight_layout()\n",
    "plt.show()"
   ],
   "metadata": {
    "collapsed": false,
    "ExecuteTime": {
     "end_time": "2023-12-15T19:07:52.152110Z",
     "start_time": "2023-12-15T19:07:51.472155Z"
    }
   },
   "id": "2401c993284aa6ab"
  },
  {
   "cell_type": "raw",
   "source": [
    "def hist_multi_sentiments(movie_plots,bins=50, ):\n",
    "    N_ROW = 2\n",
    "    N_COL = 3\n",
    "    fig, axs = plt.subplots(N_ROW, N_COL, sharey=True, sharex=True)\n",
    "    colors = ['red', 'purple', 'yellow', 'pink', 'blue', 'gray']\n",
    "    for idx, col in enumerate(['anger', 'fear', 'joy', 'love', 'sadness', 'surprise']):\n",
    "        axs[idx//N_COL, idx % N_COL].hist(movie_plots[col], bins=bins, label=col, color=colors[idx])\n",
    "        axs[idx//N_COL, idx % N_COL].set_yscale('log')\n",
    "        axs[idx//N_COL, idx % N_COL].set_title(col)\n",
    "        \n",
    "    plt.tight_layout()\n",
    "hist_multi_sentiments(plots)"
   ],
   "metadata": {
    "collapsed": false
   },
   "id": "40269ddb3ed81b23"
  },
  {
   "cell_type": "code",
   "execution_count": 14,
   "outputs": [
    {
     "data": {
      "text/plain": "<Figure size 1500x500 with 1 Axes>",
      "image/png": "[encoded data removed]"
     },
     "metadata": {},
     "output_type": "display_data"
    }
   ],
   "source": [
    "fig, ax = plt.subplots(figsize=(15, 5))\n",
    "ax.hist(plots['ending_compound_sentiment'],bins=90)\n",
    "plt.show()\n"
   ],
   "metadata": {
    "collapsed": false,
    "ExecuteTime": {
     "end_time": "2023-12-15T19:07:52.152192Z",
     "start_time": "2023-12-15T19:07:51.848295Z"
    }
   },
   "id": "3d88b46dd630e8be"
  },
  {
   "cell_type": "raw",
   "source": [
    "plots[(plots['ending_compound_sentiment'] <= -0.98) ].iloc[0].endings"
   ],
   "metadata": {
    "collapsed": false
   },
   "id": "5ee2961ec45e944c"
  },
  {
   "cell_type": "raw",
   "source": [
    "plots.columns"
   ],
   "metadata": {
    "collapsed": false
   },
   "id": "48716f5d2e467931"
  },
  {
   "cell_type": "markdown",
   "source": [
    "## MOVIE SCORE AND PROCESSING"
   ],
   "metadata": {
    "collapsed": false
   },
   "id": "8af7d45b90248afd"
  },
  {
   "cell_type": "code",
   "execution_count": 15,
   "outputs": [],
   "source": [
    "with open(f'{ADDITIONAL_FOLDER}movie_scored_thresh_75.pkl',\"rb\") as f:\n",
    "    movies = pkl.load(f)"
   ],
   "metadata": {
    "collapsed": false,
    "ExecuteTime": {
     "end_time": "2023-12-15T19:07:52.152222Z",
     "start_time": "2023-12-15T19:07:51.956170Z"
    }
   },
   "id": "803eafdd0685d04c"
  },
  {
   "cell_type": "code",
   "execution_count": 16,
   "outputs": [],
   "source": [
    "movies_and_plots = pd.merge(movies, plots, how='left', on='wikipedia_movie_id')"
   ],
   "metadata": {
    "collapsed": false,
    "ExecuteTime": {
     "end_time": "2023-12-15T19:07:52.152246Z",
     "start_time": "2023-12-15T19:07:52.034411Z"
    }
   },
   "id": "2a4f05e738f0ece0"
  },
  {
   "cell_type": "markdown",
   "source": [
    "## ANALYSIS"
   ],
   "metadata": {
    "collapsed": false
   },
   "id": "eeb3ff10b04528fd"
  },
  {
   "cell_type": "code",
   "execution_count": 17,
   "outputs": [
    {
     "name": "stdout",
     "output_type": "stream",
     "text": [
      "Movies without a given plot : 20.87%\n"
     ]
    }
   ],
   "source": [
    "percentage = movies_and_plots.endings.isna().sum() / len(movies_and_plots) * 100\n",
    "print(f\"Movies without a given plot : {percentage:.2f}%\")"
   ],
   "metadata": {
    "collapsed": false,
    "ExecuteTime": {
     "end_time": "2023-12-15T19:07:52.152298Z",
     "start_time": "2023-12-15T19:07:52.043299Z"
    }
   },
   "id": "19a2fbbefba5dad6"
  },
  {
   "cell_type": "code",
   "execution_count": 18,
   "outputs": [
    {
     "data": {
      "text/plain": "       wikipedia_movie_id freebase_movie_id  \\\n0                 2466773         /m/07g1sm   \n1                  174251         /m/017jd9   \n2                 4276475         /m/0btpm6   \n4                   52549          /m/0dtfn   \n5                   73875          /m/0jsf6   \n...                   ...               ...   \n17759            22031391        /m/05pbc0k   \n17760            33323067         /m/06m9kx   \n17761            33528878        /m/0hgqtr_   \n17762            24873771        /m/03y8ltv   \n17763             5555253         /m/0dsb4b   \n\n                                                name release_date  \\\n0                                      The Godfather   1972-03-15   \n1      The Lord of the Rings: The Return of the King   2003-12-17   \n2                                    The Dark Knight   2008-07-16   \n4                   Star Wars Episode IV: A New Hope   1977-05-25   \n5                              The Godfather Part II   1974-12-12   \n...                                              ...          ...   \n17759                   Mega Shark Vs. Giant Octopus   2009-05-26   \n17760                                   Robotropolis   2011-09-02   \n17761                                        7 Lives   2011-10-07   \n17762                                     Thiruthani         2008   \n17763                       Underground Comedy Movie   1999-05-14   \n\n            revenue  runtime  \\\n0      2.685000e+08    177.0   \n1      1.119930e+09    250.0   \n2      1.004558e+09    153.0   \n4      7.753980e+08    122.0   \n5      1.930000e+08    200.0   \n...             ...      ...   \n17759  7.220000e+02     90.0   \n17760  1.180000e+02     80.0   \n17761  5.100000e+01     90.0   \n17762  3.123000e+03   1440.0   \n17763  8.560000e+02     92.0   \n\n                                               languages  \\\n0      {\"/m/04h9h\": \"Latin Language\", \"/m/02bjrlw\": \"...   \n1      {\"/m/05p2d\": \"Old English language\", \"/m/02h40...   \n2      {\"/m/0653m\": \"Standard Mandarin\", \"/m/02h40lc\"...   \n4                     {\"/m/02h40lc\": \"English Language\"}   \n5      {\"/m/02bjrlw\": \"Italian Language\", \"/m/02h40lc...   \n...                                                  ...   \n17759                 {\"/m/02h40lc\": \"English Language\"}   \n17760                                                 {}   \n17761                                                 {}   \n17762                     {\"/m/07c9s\": \"Tamil Language\"}   \n17763                 {\"/m/02h40lc\": \"English Language\"}   \n\n                                               countries  \\\n0              {\"/m/09c7w0\": \"United States of America\"}   \n1      {\"/m/09c7w0\": \"United States of America\", \"/m/...   \n2      {\"/m/09c7w0\": \"United States of America\", \"/m/...   \n4              {\"/m/09c7w0\": \"United States of America\"}   \n5              {\"/m/09c7w0\": \"United States of America\"}   \n...                                                  ...   \n17759          {\"/m/09c7w0\": \"United States of America\"}   \n17760                                                 {}   \n17761                     {\"/m/07ssc\": \"United Kingdom\"}   \n17762                              {\"/m/03rk0\": \"India\"}   \n17763          {\"/m/09c7w0\": \"United States of America\"}   \n\n                                                  genres       budget  ...  \\\n0      [Crime Fiction, Gangster Film, Crime Drama, Fa...    6000000.0  ...   \n1      [Fantasy Adventure, Adventure, Epic, Action/Ad...   94000000.0  ...   \n2      [Crime Fiction, Thriller, Superhero movie, Cri...  185000000.0  ...   \n4      [Science Fiction, Adventure, Fantasy, Coming o...   11000000.0  ...   \n5      [Crime Fiction, Gangster Film, Drama, Crime Dr...   13000000.0  ...   \n...                                                  ...          ...  ...   \n17759   [Science Fiction, Action, Horror, Sci-Fi Horror]          NaN  ...   \n17760               [Science Fiction, Action, Adventure]          NaN  ...   \n17761                                [Thriller, Fantasy]       2500.0  ...   \n17762                                           [Action]          NaN  ...   \n17763                              [Cult, Indie, Comedy]     170000.0  ...   \n\n             RC  movie_score  Good Movie  \\\n0      0.987805    95.908194           1   \n1      0.963415    94.563911           1   \n2      0.963415    93.949723           1   \n4      0.914634    93.846619           1   \n5      0.963415    93.543061           1   \n...         ...          ...         ...   \n17759  0.170732    21.564511           0   \n17760  0.243902    20.918441           0   \n17761  0.280488    20.804988           0   \n17762  0.073171    20.068884           0   \n17763  0.097561    18.884183           0   \n\n                                           Generic Genre  \\\n0                   [Crime, Drama, Family, Period piece]   \n1                    [Action, Adventure, Drama, Fantasy]   \n2            [Action, Adventure, Crime, Drama, Thriller]   \n4      [Action, Adventure, Family, Fantasy, Science F...   \n5                                         [Crime, Drama]   \n...                                                  ...   \n17759                  [Action, Horror, Science Fiction]   \n17760               [Action, Adventure, Science Fiction]   \n17761                                [Fantasy, Thriller]   \n17762                                           [Action]   \n17763                                           [Comedy]   \n\n                                                    plot  \\\n0      On the day of his only daughter's wedding, Vit...   \n1       Gandalf, Aragorn, Legolas, Gimli, Théoden, Ga...   \n2       In Gotham City, the Joker and his accomplices...   \n4       The film begins with an opening crawl explain...   \n5      : In 1901 Corleone, Sicily, nine-year-old Vito...   \n...                                                  ...   \n17759  Off the coast of Alaska, oceanographer Emma Ma...   \n17760  A group of reporters are covering the unveilin...   \n17761  Tom, a married man with kids, is struggling at...   \n17762  The film opens with Bharath beating up men who...   \n17763  The film mainly consists of skits featuring ce...   \n\n                                                 endings  ending_negativity  \\\n0      Michael is confronted by Connie, who accuses h...              0.323   \n1      In the aftermath, Aragorn is crowned King, her...              0.000   \n2      Batman convinces Gordon to hold him publicly r...              0.134   \n4      Vader and a group of TIE fighters are about to...              0.286   \n5      Michael announces he has left college to enlis...              0.153   \n...                                                  ...                ...   \n17759  The two sink, dead, still locked from their ba...              0.161   \n17760  A group of reporters are covering the unveilin...              0.079   \n17761  On his way home one night he gets attacked by ...              0.097   \n17762  Shocked at this news, the doctor informs Bhara...              0.292   \n17763  Lawrence Van Gelder in The New York Times wrot...              0.000   \n\n       ending_neutrality  ending_positivity  ending_compound_sentiment  \n0                  0.634              0.043                    -0.9325  \n1                  0.860              0.140                     0.9042  \n2                  0.715              0.151                    -0.1779  \n4                  0.564              0.150                    -0.8674  \n5                  0.766              0.081                    -0.4678  \n...                  ...                ...                        ...  \n17759              0.787              0.053                    -0.7717  \n17760              0.921              0.000                    -0.5023  \n17761              0.856              0.047                    -0.6124  \n17762              0.708              0.000                    -0.9460  \n17763              1.000              0.000                     0.0000  \n\n[14057 rows x 33 columns]",
      "text/html": "<div>\n<style scoped>\n    .dataframe tbody tr th:only-of-type {\n        vertical-align: middle;\n    }\n\n    .dataframe tbody tr th {\n        vertical-align: top;\n    }\n\n    .dataframe thead th {\n        text-align: right;\n    }\n</style>\n<table border=\"1\" class=\"dataframe\">\n  <thead>\n    <tr style=\"text-align: right;\">\n      <th></th>\n      <th>wikipedia_movie_id</th>\n      <th>freebase_movie_id</th>\n      <th>name</th>\n      <th>release_date</th>\n      <th>revenue</th>\n      <th>runtime</th>\n      <th>languages</th>\n      <th>countries</th>\n      <th>genres</th>\n      <th>budget</th>\n      <th>...</th>\n      <th>RC</th>\n      <th>movie_score</th>\n      <th>Good Movie</th>\n      <th>Generic Genre</th>\n      <th>plot</th>\n      <th>endings</th>\n      <th>ending_negativity</th>\n      <th>ending_neutrality</th>\n      <th>ending_positivity</th>\n      <th>ending_compound_sentiment</th>\n    </tr>\n  </thead>\n  <tbody>\n    <tr>\n      <th>0</th>\n      <td>2466773</td>\n      <td>/m/07g1sm</td>\n      <td>The Godfather</td>\n      <td>1972-03-15</td>\n      <td>2.685000e+08</td>\n      <td>177.0</td>\n      <td>{\"/m/04h9h\": \"Latin Language\", \"/m/02bjrlw\": \"...</td>\n      <td>{\"/m/09c7w0\": \"United States of America\"}</td>\n      <td>[Crime Fiction, Gangster Film, Crime Drama, Fa...</td>\n      <td>6000000.0</td>\n      <td>...</td>\n      <td>0.987805</td>\n      <td>95.908194</td>\n      <td>1</td>\n      <td>[Crime, Drama, Family, Period piece]</td>\n      <td>On the day of his only daughter's wedding, Vit...</td>\n      <td>Michael is confronted by Connie, who accuses h...</td>\n      <td>0.323</td>\n      <td>0.634</td>\n      <td>0.043</td>\n      <td>-0.9325</td>\n    </tr>\n    <tr>\n      <th>1</th>\n      <td>174251</td>\n      <td>/m/017jd9</td>\n      <td>The Lord of the Rings: The Return of the King</td>\n      <td>2003-12-17</td>\n      <td>1.119930e+09</td>\n      <td>250.0</td>\n      <td>{\"/m/05p2d\": \"Old English language\", \"/m/02h40...</td>\n      <td>{\"/m/09c7w0\": \"United States of America\", \"/m/...</td>\n      <td>[Fantasy Adventure, Adventure, Epic, Action/Ad...</td>\n      <td>94000000.0</td>\n      <td>...</td>\n      <td>0.963415</td>\n      <td>94.563911</td>\n      <td>1</td>\n      <td>[Action, Adventure, Drama, Fantasy]</td>\n      <td>Gandalf, Aragorn, Legolas, Gimli, Théoden, Ga...</td>\n      <td>In the aftermath, Aragorn is crowned King, her...</td>\n      <td>0.000</td>\n      <td>0.860</td>\n      <td>0.140</td>\n      <td>0.9042</td>\n    </tr>\n    <tr>\n      <th>2</th>\n      <td>4276475</td>\n      <td>/m/0btpm6</td>\n      <td>The Dark Knight</td>\n      <td>2008-07-16</td>\n      <td>1.004558e+09</td>\n      <td>153.0</td>\n      <td>{\"/m/0653m\": \"Standard Mandarin\", \"/m/02h40lc\"...</td>\n      <td>{\"/m/09c7w0\": \"United States of America\", \"/m/...</td>\n      <td>[Crime Fiction, Thriller, Superhero movie, Cri...</td>\n      <td>185000000.0</td>\n      <td>...</td>\n      <td>0.963415</td>\n      <td>93.949723</td>\n      <td>1</td>\n      <td>[Action, Adventure, Crime, Drama, Thriller]</td>\n      <td>In Gotham City, the Joker and his accomplices...</td>\n      <td>Batman convinces Gordon to hold him publicly r...</td>\n      <td>0.134</td>\n      <td>0.715</td>\n      <td>0.151</td>\n      <td>-0.1779</td>\n    </tr>\n    <tr>\n      <th>4</th>\n      <td>52549</td>\n      <td>/m/0dtfn</td>\n      <td>Star Wars Episode IV: A New Hope</td>\n      <td>1977-05-25</td>\n      <td>7.753980e+08</td>\n      <td>122.0</td>\n      <td>{\"/m/02h40lc\": \"English Language\"}</td>\n      <td>{\"/m/09c7w0\": \"United States of America\"}</td>\n      <td>[Science Fiction, Adventure, Fantasy, Coming o...</td>\n      <td>11000000.0</td>\n      <td>...</td>\n      <td>0.914634</td>\n      <td>93.846619</td>\n      <td>1</td>\n      <td>[Action, Adventure, Family, Fantasy, Science F...</td>\n      <td>The film begins with an opening crawl explain...</td>\n      <td>Vader and a group of TIE fighters are about to...</td>\n      <td>0.286</td>\n      <td>0.564</td>\n      <td>0.150</td>\n      <td>-0.8674</td>\n    </tr>\n    <tr>\n      <th>5</th>\n      <td>73875</td>\n      <td>/m/0jsf6</td>\n      <td>The Godfather Part II</td>\n      <td>1974-12-12</td>\n      <td>1.930000e+08</td>\n      <td>200.0</td>\n      <td>{\"/m/02bjrlw\": \"Italian Language\", \"/m/02h40lc...</td>\n      <td>{\"/m/09c7w0\": \"United States of America\"}</td>\n      <td>[Crime Fiction, Gangster Film, Drama, Crime Dr...</td>\n      <td>13000000.0</td>\n      <td>...</td>\n      <td>0.963415</td>\n      <td>93.543061</td>\n      <td>1</td>\n      <td>[Crime, Drama]</td>\n      <td>: In 1901 Corleone, Sicily, nine-year-old Vito...</td>\n      <td>Michael announces he has left college to enlis...</td>\n      <td>0.153</td>\n      <td>0.766</td>\n      <td>0.081</td>\n      <td>-0.4678</td>\n    </tr>\n    <tr>\n      <th>...</th>\n      <td>...</td>\n      <td>...</td>\n      <td>...</td>\n      <td>...</td>\n      <td>...</td>\n      <td>...</td>\n      <td>...</td>\n      <td>...</td>\n      <td>...</td>\n      <td>...</td>\n      <td>...</td>\n      <td>...</td>\n      <td>...</td>\n      <td>...</td>\n      <td>...</td>\n      <td>...</td>\n      <td>...</td>\n      <td>...</td>\n      <td>...</td>\n      <td>...</td>\n      <td>...</td>\n    </tr>\n    <tr>\n      <th>17759</th>\n      <td>22031391</td>\n      <td>/m/05pbc0k</td>\n      <td>Mega Shark Vs. Giant Octopus</td>\n      <td>2009-05-26</td>\n      <td>7.220000e+02</td>\n      <td>90.0</td>\n      <td>{\"/m/02h40lc\": \"English Language\"}</td>\n      <td>{\"/m/09c7w0\": \"United States of America\"}</td>\n      <td>[Science Fiction, Action, Horror, Sci-Fi Horror]</td>\n      <td>NaN</td>\n      <td>...</td>\n      <td>0.170732</td>\n      <td>21.564511</td>\n      <td>0</td>\n      <td>[Action, Horror, Science Fiction]</td>\n      <td>Off the coast of Alaska, oceanographer Emma Ma...</td>\n      <td>The two sink, dead, still locked from their ba...</td>\n      <td>0.161</td>\n      <td>0.787</td>\n      <td>0.053</td>\n      <td>-0.7717</td>\n    </tr>\n    <tr>\n      <th>17760</th>\n      <td>33323067</td>\n      <td>/m/06m9kx</td>\n      <td>Robotropolis</td>\n      <td>2011-09-02</td>\n      <td>1.180000e+02</td>\n      <td>80.0</td>\n      <td>{}</td>\n      <td>{}</td>\n      <td>[Science Fiction, Action, Adventure]</td>\n      <td>NaN</td>\n      <td>...</td>\n      <td>0.243902</td>\n      <td>20.918441</td>\n      <td>0</td>\n      <td>[Action, Adventure, Science Fiction]</td>\n      <td>A group of reporters are covering the unveilin...</td>\n      <td>A group of reporters are covering the unveilin...</td>\n      <td>0.079</td>\n      <td>0.921</td>\n      <td>0.000</td>\n      <td>-0.5023</td>\n    </tr>\n    <tr>\n      <th>17761</th>\n      <td>33528878</td>\n      <td>/m/0hgqtr_</td>\n      <td>7 Lives</td>\n      <td>2011-10-07</td>\n      <td>5.100000e+01</td>\n      <td>90.0</td>\n      <td>{}</td>\n      <td>{\"/m/07ssc\": \"United Kingdom\"}</td>\n      <td>[Thriller, Fantasy]</td>\n      <td>2500.0</td>\n      <td>...</td>\n      <td>0.280488</td>\n      <td>20.804988</td>\n      <td>0</td>\n      <td>[Fantasy, Thriller]</td>\n      <td>Tom, a married man with kids, is struggling at...</td>\n      <td>On his way home one night he gets attacked by ...</td>\n      <td>0.097</td>\n      <td>0.856</td>\n      <td>0.047</td>\n      <td>-0.6124</td>\n    </tr>\n    <tr>\n      <th>17762</th>\n      <td>24873771</td>\n      <td>/m/03y8ltv</td>\n      <td>Thiruthani</td>\n      <td>2008</td>\n      <td>3.123000e+03</td>\n      <td>1440.0</td>\n      <td>{\"/m/07c9s\": \"Tamil Language\"}</td>\n      <td>{\"/m/03rk0\": \"India\"}</td>\n      <td>[Action]</td>\n      <td>NaN</td>\n      <td>...</td>\n      <td>0.073171</td>\n      <td>20.068884</td>\n      <td>0</td>\n      <td>[Action]</td>\n      <td>The film opens with Bharath beating up men who...</td>\n      <td>Shocked at this news, the doctor informs Bhara...</td>\n      <td>0.292</td>\n      <td>0.708</td>\n      <td>0.000</td>\n      <td>-0.9460</td>\n    </tr>\n    <tr>\n      <th>17763</th>\n      <td>5555253</td>\n      <td>/m/0dsb4b</td>\n      <td>Underground Comedy Movie</td>\n      <td>1999-05-14</td>\n      <td>8.560000e+02</td>\n      <td>92.0</td>\n      <td>{\"/m/02h40lc\": \"English Language\"}</td>\n      <td>{\"/m/09c7w0\": \"United States of America\"}</td>\n      <td>[Cult, Indie, Comedy]</td>\n      <td>170000.0</td>\n      <td>...</td>\n      <td>0.097561</td>\n      <td>18.884183</td>\n      <td>0</td>\n      <td>[Comedy]</td>\n      <td>The film mainly consists of skits featuring ce...</td>\n      <td>Lawrence Van Gelder in The New York Times wrot...</td>\n      <td>0.000</td>\n      <td>1.000</td>\n      <td>0.000</td>\n      <td>0.0000</td>\n    </tr>\n  </tbody>\n</table>\n<p>14057 rows × 33 columns</p>\n</div>"
     },
     "execution_count": 18,
     "metadata": {},
     "output_type": "execute_result"
    }
   ],
   "source": [
    "movies_with_plots = movies_and_plots[~movies_and_plots.endings.isna()]\n",
    "movies_with_plots"
   ],
   "metadata": {
    "collapsed": false,
    "ExecuteTime": {
     "end_time": "2023-12-15T19:07:52.152635Z",
     "start_time": "2023-12-15T19:07:52.046094Z"
    }
   },
   "id": "3958da760b8a6c6e"
  },
  {
   "cell_type": "code",
   "execution_count": 19,
   "outputs": [],
   "source": [
    "X = movies_with_plots[['ending_negativity', 'ending_positivity','ending_neutrality']].to_numpy()\n",
    "y = movies_with_plots['movie_score'].to_numpy()\n"
   ],
   "metadata": {
    "collapsed": false,
    "ExecuteTime": {
     "end_time": "2023-12-15T19:07:52.152660Z",
     "start_time": "2023-12-15T19:07:52.063281Z"
    }
   },
   "id": "c3521c72c4b42cc2"
  },
  {
   "cell_type": "code",
   "execution_count": 20,
   "outputs": [
    {
     "data": {
      "text/plain": "array([0.01361522, 0.00269025, 0.00999688])"
     },
     "execution_count": 20,
     "metadata": {},
     "output_type": "execute_result"
    }
   ],
   "source": [
    "mutual_info = mutual_info_regression(X, y)\n",
    "mutual_info"
   ],
   "metadata": {
    "collapsed": false,
    "ExecuteTime": {
     "end_time": "2023-12-15T19:07:52.152717Z",
     "start_time": "2023-12-15T19:07:52.065972Z"
    }
   },
   "id": "276713e1c937acb5"
  },
  {
   "cell_type": "markdown",
   "source": [
    "Do end movie sentiment has a significant correlation with movie score ?"
   ],
   "metadata": {
    "collapsed": false
   },
   "id": "d4fbd3b8fb26c0d6"
  },
  {
   "cell_type": "code",
   "execution_count": 21,
   "outputs": [
    {
     "data": {
      "text/plain": "array([0])"
     },
     "execution_count": 21,
     "metadata": {},
     "output_type": "execute_result"
    }
   ],
   "source": [
    "x = movies_with_plots['ending_compound_sentiment'].to_numpy()\n",
    "mutual_info = mutual_info_regression(y.reshape(-1,1), x.reshape(-1,))\n",
    "mutual_info"
   ],
   "metadata": {
    "collapsed": false,
    "ExecuteTime": {
     "end_time": "2023-12-15T19:07:52.390657Z",
     "start_time": "2023-12-15T19:07:52.147625Z"
    }
   },
   "id": "5d42acacd5d3fa9f"
  },
  {
   "cell_type": "markdown",
   "source": [
    "This does not sound promissing, however, someone that wants to watch a horror movies might not want the movie to end with a love story...\n",
    "To improve the naive analysis, let's compare using the genres."
   ],
   "metadata": {
    "collapsed": false
   },
   "id": "4f0a6308890fbc94"
  },
  {
   "cell_type": "code",
   "execution_count": 22,
   "outputs": [
    {
     "data": {
      "text/plain": "                    Action  Adventure  Animation  Comedy  Crime  Drama  \\\nwikipedia_movie_id                                                       \n3217                     1          1          0       1      0      1   \n3333                     0          0          0       0      0      1   \n3746                     0          0          0       0      1      1   \n3837                     0          0          0       1      0      0   \n3947                     0          0          0       0      1      0   \n...                    ...        ...        ...     ...    ...    ...   \n37174696                 0          0          0       0      0      1   \n37210334                 0          0          0       1      0      1   \n37241569                 1          0          0       0      0      0   \n37322106                 0          0          0       0      0      1   \n37373877                 0          0          0       0      0      0   \n\n                    Family  Fantasy  Horror  Musical  Period piece  Romance  \\\nwikipedia_movie_id                                                            \n3217                     0        1       1        0             0        0   \n3333                     0        0       0        0             0        0   \n3746                     0        0       0        0             0        0   \n3837                     0        0       0        0             0        0   \n3947                     0        0       0        0             0        0   \n...                    ...      ...     ...      ...           ...      ...   \n37174696                 0        0       0        0             0        0   \n37210334                 0        0       0        0             0        0   \n37241569                 0        0       0        0             0        0   \n37322106                 0        0       0        0             0        1   \n37373877                 0        0       1        0             0        0   \n\n                    Science Fiction  Sport  Thriller  War film  \nwikipedia_movie_id                                              \n3217                              0      0         0         0  \n3333                              0      0         0         1  \n3746                              1      0         1         0  \n3837                              0      0         0         0  \n3947                              0      0         1         0  \n...                             ...    ...       ...       ...  \n37174696                          0      0         0         0  \n37210334                          0      0         0         0  \n37241569                          0      0         0         0  \n37322106                          0      0         0         0  \n37373877                          0      0         0         0  \n\n[17764 rows x 16 columns]",
      "text/html": "<div>\n<style scoped>\n    .dataframe tbody tr th:only-of-type {\n        vertical-align: middle;\n    }\n\n    .dataframe tbody tr th {\n        vertical-align: top;\n    }\n\n    .dataframe thead th {\n        text-align: right;\n    }\n</style>\n<table border=\"1\" class=\"dataframe\">\n  <thead>\n    <tr style=\"text-align: right;\">\n      <th></th>\n      <th>Action</th>\n      <th>Adventure</th>\n      <th>Animation</th>\n      <th>Comedy</th>\n      <th>Crime</th>\n      <th>Drama</th>\n      <th>Family</th>\n      <th>Fantasy</th>\n      <th>Horror</th>\n      <th>Musical</th>\n      <th>Period piece</th>\n      <th>Romance</th>\n      <th>Science Fiction</th>\n      <th>Sport</th>\n      <th>Thriller</th>\n      <th>War film</th>\n    </tr>\n    <tr>\n      <th>wikipedia_movie_id</th>\n      <th></th>\n      <th></th>\n      <th></th>\n      <th></th>\n      <th></th>\n      <th></th>\n      <th></th>\n      <th></th>\n      <th></th>\n      <th></th>\n      <th></th>\n      <th></th>\n      <th></th>\n      <th></th>\n      <th></th>\n      <th></th>\n    </tr>\n  </thead>\n  <tbody>\n    <tr>\n      <th>3217</th>\n      <td>1</td>\n      <td>1</td>\n      <td>0</td>\n      <td>1</td>\n      <td>0</td>\n      <td>1</td>\n      <td>0</td>\n      <td>1</td>\n      <td>1</td>\n      <td>0</td>\n      <td>0</td>\n      <td>0</td>\n      <td>0</td>\n      <td>0</td>\n      <td>0</td>\n      <td>0</td>\n    </tr>\n    <tr>\n      <th>3333</th>\n      <td>0</td>\n      <td>0</td>\n      <td>0</td>\n      <td>0</td>\n      <td>0</td>\n      <td>1</td>\n      <td>0</td>\n      <td>0</td>\n      <td>0</td>\n      <td>0</td>\n      <td>0</td>\n      <td>0</td>\n      <td>0</td>\n      <td>0</td>\n      <td>0</td>\n      <td>1</td>\n    </tr>\n    <tr>\n      <th>3746</th>\n      <td>0</td>\n      <td>0</td>\n      <td>0</td>\n      <td>0</td>\n      <td>1</td>\n      <td>1</td>\n      <td>0</td>\n      <td>0</td>\n      <td>0</td>\n      <td>0</td>\n      <td>0</td>\n      <td>0</td>\n      <td>1</td>\n      <td>0</td>\n      <td>1</td>\n      <td>0</td>\n    </tr>\n    <tr>\n      <th>3837</th>\n      <td>0</td>\n      <td>0</td>\n      <td>0</td>\n      <td>1</td>\n      <td>0</td>\n      <td>0</td>\n      <td>0</td>\n      <td>0</td>\n      <td>0</td>\n      <td>0</td>\n      <td>0</td>\n      <td>0</td>\n      <td>0</td>\n      <td>0</td>\n      <td>0</td>\n      <td>0</td>\n    </tr>\n    <tr>\n      <th>3947</th>\n      <td>0</td>\n      <td>0</td>\n      <td>0</td>\n      <td>0</td>\n      <td>1</td>\n      <td>0</td>\n      <td>0</td>\n      <td>0</td>\n      <td>0</td>\n      <td>0</td>\n      <td>0</td>\n      <td>0</td>\n      <td>0</td>\n      <td>0</td>\n      <td>1</td>\n      <td>0</td>\n    </tr>\n    <tr>\n      <th>...</th>\n      <td>...</td>\n      <td>...</td>\n      <td>...</td>\n      <td>...</td>\n      <td>...</td>\n      <td>...</td>\n      <td>...</td>\n      <td>...</td>\n      <td>...</td>\n      <td>...</td>\n      <td>...</td>\n      <td>...</td>\n      <td>...</td>\n      <td>...</td>\n      <td>...</td>\n      <td>...</td>\n    </tr>\n    <tr>\n      <th>37174696</th>\n      <td>0</td>\n      <td>0</td>\n      <td>0</td>\n      <td>0</td>\n      <td>0</td>\n      <td>1</td>\n      <td>0</td>\n      <td>0</td>\n      <td>0</td>\n      <td>0</td>\n      <td>0</td>\n      <td>0</td>\n      <td>0</td>\n      <td>0</td>\n      <td>0</td>\n      <td>0</td>\n    </tr>\n    <tr>\n      <th>37210334</th>\n      <td>0</td>\n      <td>0</td>\n      <td>0</td>\n      <td>1</td>\n      <td>0</td>\n      <td>1</td>\n      <td>0</td>\n      <td>0</td>\n      <td>0</td>\n      <td>0</td>\n      <td>0</td>\n      <td>0</td>\n      <td>0</td>\n      <td>0</td>\n      <td>0</td>\n      <td>0</td>\n    </tr>\n    <tr>\n      <th>37241569</th>\n      <td>1</td>\n      <td>0</td>\n      <td>0</td>\n      <td>0</td>\n      <td>0</td>\n      <td>0</td>\n      <td>0</td>\n      <td>0</td>\n      <td>0</td>\n      <td>0</td>\n      <td>0</td>\n      <td>0</td>\n      <td>0</td>\n      <td>0</td>\n      <td>0</td>\n      <td>0</td>\n    </tr>\n    <tr>\n      <th>37322106</th>\n      <td>0</td>\n      <td>0</td>\n      <td>0</td>\n      <td>0</td>\n      <td>0</td>\n      <td>1</td>\n      <td>0</td>\n      <td>0</td>\n      <td>0</td>\n      <td>0</td>\n      <td>0</td>\n      <td>1</td>\n      <td>0</td>\n      <td>0</td>\n      <td>0</td>\n      <td>0</td>\n    </tr>\n    <tr>\n      <th>37373877</th>\n      <td>0</td>\n      <td>0</td>\n      <td>0</td>\n      <td>0</td>\n      <td>0</td>\n      <td>0</td>\n      <td>0</td>\n      <td>0</td>\n      <td>1</td>\n      <td>0</td>\n      <td>0</td>\n      <td>0</td>\n      <td>0</td>\n      <td>0</td>\n      <td>0</td>\n      <td>0</td>\n    </tr>\n  </tbody>\n</table>\n<p>17764 rows × 16 columns</p>\n</div>"
     },
     "execution_count": 22,
     "metadata": {},
     "output_type": "execute_result"
    }
   ],
   "source": [
    "exploded_df = movies_and_plots.explode('Generic Genre')\n",
    "dummies = pd.get_dummies(exploded_df['Generic Genre'], dtype=int)\n",
    "combined_df = pd.concat([exploded_df, dummies], axis=1)\n",
    "genres_cols = list(dummies.columns.values)\n",
    "genres_cols_with_id = genres_cols + ['wikipedia_movie_id']\n",
    "one_hot_encoded_genres = combined_df[genres_cols_with_id].groupby('wikipedia_movie_id').sum()\n",
    "one_hot_encoded_genres"
   ],
   "metadata": {
    "collapsed": false,
    "ExecuteTime": {
     "end_time": "2023-12-15T19:07:52.390977Z",
     "start_time": "2023-12-15T19:07:52.178920Z"
    }
   },
   "id": "6ad15c8690ac6374"
  },
  {
   "cell_type": "code",
   "execution_count": 23,
   "outputs": [],
   "source": [
    "movies_and_plots = pd.merge(movies_and_plots, one_hot_encoded_genres, on='wikipedia_movie_id')\n",
    "movies_with_plots = movies_and_plots[~movies_and_plots.endings.isna()]"
   ],
   "metadata": {
    "collapsed": false,
    "ExecuteTime": {
     "end_time": "2023-12-15T19:07:52.391029Z",
     "start_time": "2023-12-15T19:07:52.244136Z"
    }
   },
   "id": "87d563c3f47b5127"
  },
  {
   "cell_type": "code",
   "execution_count": 24,
   "outputs": [
    {
     "data": {
      "text/plain": "       wikipedia_movie_id freebase_movie_id  \\\n0                 2466773         /m/07g1sm   \n1                  174251         /m/017jd9   \n2                 4276475         /m/0btpm6   \n3                 4588970         /m/0cbckv   \n4                   52549          /m/0dtfn   \n...                   ...               ...   \n17759            22031391        /m/05pbc0k   \n17760            33323067         /m/06m9kx   \n17761            33528878        /m/0hgqtr_   \n17762            24873771        /m/03y8ltv   \n17763             5555253         /m/0dsb4b   \n\n                                                name         release_date  \\\n0                                      The Godfather           1972-03-15   \n1      The Lord of the Rings: The Return of the King           2003-12-17   \n2                                    The Dark Knight           2008-07-16   \n3                      Anchorhead Story of Star Wars  1977-01-01 00:00:00   \n4                   Star Wars Episode IV: A New Hope           1977-05-25   \n...                                              ...                  ...   \n17759                   Mega Shark Vs. Giant Octopus           2009-05-26   \n17760                                   Robotropolis           2011-09-02   \n17761                                        7 Lives           2011-10-07   \n17762                                     Thiruthani                 2008   \n17763                       Underground Comedy Movie           1999-05-14   \n\n            revenue  runtime  \\\n0      2.685000e+08    177.0   \n1      1.119930e+09    250.0   \n2      1.004558e+09    153.0   \n3      7.753980e+08      NaN   \n4      7.753980e+08    122.0   \n...             ...      ...   \n17759  7.220000e+02     90.0   \n17760  1.180000e+02     80.0   \n17761  5.100000e+01     90.0   \n17762  3.123000e+03   1440.0   \n17763  8.560000e+02     92.0   \n\n                                               languages  \\\n0      {\"/m/04h9h\": \"Latin Language\", \"/m/02bjrlw\": \"...   \n1      {\"/m/05p2d\": \"Old English language\", \"/m/02h40...   \n2      {\"/m/0653m\": \"Standard Mandarin\", \"/m/02h40lc\"...   \n3                                                     {}   \n4                     {\"/m/02h40lc\": \"English Language\"}   \n...                                                  ...   \n17759                 {\"/m/02h40lc\": \"English Language\"}   \n17760                                                 {}   \n17761                                                 {}   \n17762                     {\"/m/07c9s\": \"Tamil Language\"}   \n17763                 {\"/m/02h40lc\": \"English Language\"}   \n\n                                               countries  \\\n0              {\"/m/09c7w0\": \"United States of America\"}   \n1      {\"/m/09c7w0\": \"United States of America\", \"/m/...   \n2      {\"/m/09c7w0\": \"United States of America\", \"/m/...   \n3                                                     {}   \n4              {\"/m/09c7w0\": \"United States of America\"}   \n...                                                  ...   \n17759          {\"/m/09c7w0\": \"United States of America\"}   \n17760                                                 {}   \n17761                     {\"/m/07ssc\": \"United Kingdom\"}   \n17762                              {\"/m/03rk0\": \"India\"}   \n17763          {\"/m/09c7w0\": \"United States of America\"}   \n\n                                                  genres       budget  ...  \\\n0      [Crime Fiction, Gangster Film, Crime Drama, Fa...    6000000.0  ...   \n1      [Fantasy Adventure, Adventure, Epic, Action/Ad...   94000000.0  ...   \n2      [Crime Fiction, Thriller, Superhero movie, Cri...  185000000.0  ...   \n3                                                     []   11000000.0  ...   \n4      [Science Fiction, Adventure, Fantasy, Coming o...   11000000.0  ...   \n...                                                  ...          ...  ...   \n17759   [Science Fiction, Action, Horror, Sci-Fi Horror]          NaN  ...   \n17760               [Science Fiction, Action, Adventure]          NaN  ...   \n17761                                [Thriller, Fantasy]       2500.0  ...   \n17762                                           [Action]          NaN  ...   \n17763                              [Cult, Indie, Comedy]     170000.0  ...   \n\n       Family  Fantasy  Horror  Musical  Period piece Romance  \\\n0           1        0       0        0             1       0   \n1           0        1       0        0             0       0   \n2           0        0       0        0             0       0   \n3           0        0       0        0             0       0   \n4           1        1       0        0             0       0   \n...       ...      ...     ...      ...           ...     ...   \n17759       0        0       1        0             0       0   \n17760       0        0       0        0             0       0   \n17761       0        1       0        0             0       0   \n17762       0        0       0        0             0       0   \n17763       0        0       0        0             0       0   \n\n       Science Fiction  Sport  Thriller  War film  \n0                    0      0         0         0  \n1                    0      0         0         0  \n2                    0      0         1         0  \n3                    0      0         0         0  \n4                    1      0         0         0  \n...                ...    ...       ...       ...  \n17759                1      0         0         0  \n17760                1      0         0         0  \n17761                0      0         1         0  \n17762                0      0         0         0  \n17763                0      0         0         0  \n\n[17764 rows x 49 columns]",
      "text/html": "<div>\n<style scoped>\n    .dataframe tbody tr th:only-of-type {\n        vertical-align: middle;\n    }\n\n    .dataframe tbody tr th {\n        vertical-align: top;\n    }\n\n    .dataframe thead th {\n        text-align: right;\n    }\n</style>\n<table border=\"1\" class=\"dataframe\">\n  <thead>\n    <tr style=\"text-align: right;\">\n      <th></th>\n      <th>wikipedia_movie_id</th>\n      <th>freebase_movie_id</th>\n      <th>name</th>\n      <th>release_date</th>\n      <th>revenue</th>\n      <th>runtime</th>\n      <th>languages</th>\n      <th>countries</th>\n      <th>genres</th>\n      <th>budget</th>\n      <th>...</th>\n      <th>Family</th>\n      <th>Fantasy</th>\n      <th>Horror</th>\n      <th>Musical</th>\n      <th>Period piece</th>\n      <th>Romance</th>\n      <th>Science Fiction</th>\n      <th>Sport</th>\n      <th>Thriller</th>\n      <th>War film</th>\n    </tr>\n  </thead>\n  <tbody>\n    <tr>\n      <th>0</th>\n      <td>2466773</td>\n      <td>/m/07g1sm</td>\n      <td>The Godfather</td>\n      <td>1972-03-15</td>\n      <td>2.685000e+08</td>\n      <td>177.0</td>\n      <td>{\"/m/04h9h\": \"Latin Language\", \"/m/02bjrlw\": \"...</td>\n      <td>{\"/m/09c7w0\": \"United States of America\"}</td>\n      <td>[Crime Fiction, Gangster Film, Crime Drama, Fa...</td>\n      <td>6000000.0</td>\n      <td>...</td>\n      <td>1</td>\n      <td>0</td>\n      <td>0</td>\n      <td>0</td>\n      <td>1</td>\n      <td>0</td>\n      <td>0</td>\n      <td>0</td>\n      <td>0</td>\n      <td>0</td>\n    </tr>\n    <tr>\n      <th>1</th>\n      <td>174251</td>\n      <td>/m/017jd9</td>\n      <td>The Lord of the Rings: The Return of the King</td>\n      <td>2003-12-17</td>\n      <td>1.119930e+09</td>\n      <td>250.0</td>\n      <td>{\"/m/05p2d\": \"Old English language\", \"/m/02h40...</td>\n      <td>{\"/m/09c7w0\": \"United States of America\", \"/m/...</td>\n      <td>[Fantasy Adventure, Adventure, Epic, Action/Ad...</td>\n      <td>94000000.0</td>\n      <td>...</td>\n      <td>0</td>\n      <td>1</td>\n      <td>0</td>\n      <td>0</td>\n      <td>0</td>\n      <td>0</td>\n      <td>0</td>\n      <td>0</td>\n      <td>0</td>\n      <td>0</td>\n    </tr>\n    <tr>\n      <th>2</th>\n      <td>4276475</td>\n      <td>/m/0btpm6</td>\n      <td>The Dark Knight</td>\n      <td>2008-07-16</td>\n      <td>1.004558e+09</td>\n      <td>153.0</td>\n      <td>{\"/m/0653m\": \"Standard Mandarin\", \"/m/02h40lc\"...</td>\n      <td>{\"/m/09c7w0\": \"United States of America\", \"/m/...</td>\n      <td>[Crime Fiction, Thriller, Superhero movie, Cri...</td>\n      <td>185000000.0</td>\n      <td>...</td>\n      <td>0</td>\n      <td>0</td>\n      <td>0</td>\n      <td>0</td>\n      <td>0</td>\n      <td>0</td>\n      <td>0</td>\n      <td>0</td>\n      <td>1</td>\n      <td>0</td>\n    </tr>\n    <tr>\n      <th>3</th>\n      <td>4588970</td>\n      <td>/m/0cbckv</td>\n      <td>Anchorhead Story of Star Wars</td>\n      <td>1977-01-01 00:00:00</td>\n      <td>7.753980e+08</td>\n      <td>NaN</td>\n      <td>{}</td>\n      <td>{}</td>\n      <td>[]</td>\n      <td>11000000.0</td>\n      <td>...</td>\n      <td>0</td>\n      <td>0</td>\n      <td>0</td>\n      <td>0</td>\n      <td>0</td>\n      <td>0</td>\n      <td>0</td>\n      <td>0</td>\n      <td>0</td>\n      <td>0</td>\n    </tr>\n    <tr>\n      <th>4</th>\n      <td>52549</td>\n      <td>/m/0dtfn</td>\n      <td>Star Wars Episode IV: A New Hope</td>\n      <td>1977-05-25</td>\n      <td>7.753980e+08</td>\n      <td>122.0</td>\n      <td>{\"/m/02h40lc\": \"English Language\"}</td>\n      <td>{\"/m/09c7w0\": \"United States of America\"}</td>\n      <td>[Science Fiction, Adventure, Fantasy, Coming o...</td>\n      <td>11000000.0</td>\n      <td>...</td>\n      <td>1</td>\n      <td>1</td>\n      <td>0</td>\n      <td>0</td>\n      <td>0</td>\n      <td>0</td>\n      <td>1</td>\n      <td>0</td>\n      <td>0</td>\n      <td>0</td>\n    </tr>\n    <tr>\n      <th>...</th>\n      <td>...</td>\n      <td>...</td>\n      <td>...</td>\n      <td>...</td>\n      <td>...</td>\n      <td>...</td>\n      <td>...</td>\n      <td>...</td>\n      <td>...</td>\n      <td>...</td>\n      <td>...</td>\n      <td>...</td>\n      <td>...</td>\n      <td>...</td>\n      <td>...</td>\n      <td>...</td>\n      <td>...</td>\n      <td>...</td>\n      <td>...</td>\n      <td>...</td>\n      <td>...</td>\n    </tr>\n    <tr>\n      <th>17759</th>\n      <td>22031391</td>\n      <td>/m/05pbc0k</td>\n      <td>Mega Shark Vs. Giant Octopus</td>\n      <td>2009-05-26</td>\n      <td>7.220000e+02</td>\n      <td>90.0</td>\n      <td>{\"/m/02h40lc\": \"English Language\"}</td>\n      <td>{\"/m/09c7w0\": \"United States of America\"}</td>\n      <td>[Science Fiction, Action, Horror, Sci-Fi Horror]</td>\n      <td>NaN</td>\n      <td>...</td>\n      <td>0</td>\n      <td>0</td>\n      <td>1</td>\n      <td>0</td>\n      <td>0</td>\n      <td>0</td>\n      <td>1</td>\n      <td>0</td>\n      <td>0</td>\n      <td>0</td>\n    </tr>\n    <tr>\n      <th>17760</th>\n      <td>33323067</td>\n      <td>/m/06m9kx</td>\n      <td>Robotropolis</td>\n      <td>2011-09-02</td>\n      <td>1.180000e+02</td>\n      <td>80.0</td>\n      <td>{}</td>\n      <td>{}</td>\n      <td>[Science Fiction, Action, Adventure]</td>\n      <td>NaN</td>\n      <td>...</td>\n      <td>0</td>\n      <td>0</td>\n      <td>0</td>\n      <td>0</td>\n      <td>0</td>\n      <td>0</td>\n      <td>1</td>\n      <td>0</td>\n      <td>0</td>\n      <td>0</td>\n    </tr>\n    <tr>\n      <th>17761</th>\n      <td>33528878</td>\n      <td>/m/0hgqtr_</td>\n      <td>7 Lives</td>\n      <td>2011-10-07</td>\n      <td>5.100000e+01</td>\n      <td>90.0</td>\n      <td>{}</td>\n      <td>{\"/m/07ssc\": \"United Kingdom\"}</td>\n      <td>[Thriller, Fantasy]</td>\n      <td>2500.0</td>\n      <td>...</td>\n      <td>0</td>\n      <td>1</td>\n      <td>0</td>\n      <td>0</td>\n      <td>0</td>\n      <td>0</td>\n      <td>0</td>\n      <td>0</td>\n      <td>1</td>\n      <td>0</td>\n    </tr>\n    <tr>\n      <th>17762</th>\n      <td>24873771</td>\n      <td>/m/03y8ltv</td>\n      <td>Thiruthani</td>\n      <td>2008</td>\n      <td>3.123000e+03</td>\n      <td>1440.0</td>\n      <td>{\"/m/07c9s\": \"Tamil Language\"}</td>\n      <td>{\"/m/03rk0\": \"India\"}</td>\n      <td>[Action]</td>\n      <td>NaN</td>\n      <td>...</td>\n      <td>0</td>\n      <td>0</td>\n      <td>0</td>\n      <td>0</td>\n      <td>0</td>\n      <td>0</td>\n      <td>0</td>\n      <td>0</td>\n      <td>0</td>\n      <td>0</td>\n    </tr>\n    <tr>\n      <th>17763</th>\n      <td>5555253</td>\n      <td>/m/0dsb4b</td>\n      <td>Underground Comedy Movie</td>\n      <td>1999-05-14</td>\n      <td>8.560000e+02</td>\n      <td>92.0</td>\n      <td>{\"/m/02h40lc\": \"English Language\"}</td>\n      <td>{\"/m/09c7w0\": \"United States of America\"}</td>\n      <td>[Cult, Indie, Comedy]</td>\n      <td>170000.0</td>\n      <td>...</td>\n      <td>0</td>\n      <td>0</td>\n      <td>0</td>\n      <td>0</td>\n      <td>0</td>\n      <td>0</td>\n      <td>0</td>\n      <td>0</td>\n      <td>0</td>\n      <td>0</td>\n    </tr>\n  </tbody>\n</table>\n<p>17764 rows × 49 columns</p>\n</div>"
     },
     "execution_count": 24,
     "metadata": {},
     "output_type": "execute_result"
    }
   ],
   "source": [
    "movies_and_plots"
   ],
   "metadata": {
    "collapsed": false,
    "ExecuteTime": {
     "end_time": "2023-12-15T19:07:52.391287Z",
     "start_time": "2023-12-15T19:07:52.256991Z"
    }
   },
   "id": "f796fbf5f43e926d"
  },
  {
   "cell_type": "code",
   "execution_count": 25,
   "outputs": [
    {
     "name": "stderr",
     "output_type": "stream",
     "text": [
      "/var/folders/vq/vpp5gf_96v7f5w4frq2kpfn00000gn/T/ipykernel_10500/2790649418.py:3: SettingWithCopyWarning: \n",
      "A value is trying to be set on a copy of a slice from a DataFrame.\n",
      "Try using .loc[row_indexer,col_indexer] = value instead\n",
      "\n",
      "See the caveats in the documentation: https://pandas.pydata.org/pandas-docs/stable/user_guide/indexing.html#returning-a-view-versus-a-copy\n",
      "  genres_and_sentiments.loc[:,'sentiment_intensity'] = genres_and_sentiments['ending_compound_sentiment'].apply(np.abs)\n"
     ]
    }
   ],
   "source": [
    "sentiments_cols = ['ending_negativity', 'ending_positivity', 'ending_compound_sentiment']\n",
    "genres_and_sentiments  = movies_with_plots[genres_cols+sentiments_cols + ['movie_score']]\n",
    "genres_and_sentiments.loc[:,'sentiment_intensity'] = genres_and_sentiments['ending_compound_sentiment'].apply(np.abs)\n"
   ],
   "metadata": {
    "collapsed": false,
    "ExecuteTime": {
     "end_time": "2023-12-15T19:07:52.391336Z",
     "start_time": "2023-12-15T19:07:52.270752Z"
    }
   },
   "id": "3fc07ba16f3c7f5e"
  },
  {
   "cell_type": "raw",
   "source": [
    "for genre in genres_cols:\n",
    "    movies_with_genre = genres_and_sentiments[genres_and_sentiments[genre]==1][sentiments_cols]\n",
    "    correlation = sts.pearsonr(movies_with_genre['ending_compound_sentiment'], movies_with_genre['movie_score'])\n",
    "    information = mutual_info_regression(movies_with_genre['ending_compound_sentiment'].to_numpy().reshape(-1,1), movies_with_genre['movie_score'].to_numpy().reshape(-1,1))\n",
    "    print(f\"correlation for genre for movies {genre} is {correlation}\")\n",
    "    print(f\"information for genre for movies {genre} is {information}\")"
   ],
   "metadata": {
    "collapsed": false
   },
   "id": "8248137060c09282"
  },
  {
   "cell_type": "markdown",
   "source": [
    "Is a neutral ending of movies better or a more sentimental one ?"
   ],
   "metadata": {
    "collapsed": false
   },
   "id": "9bc66b3112225bd3"
  },
  {
   "cell_type": "raw",
   "source": [
    "import matplotlib.pyplot as plt\n",
    "import numpy as np\n",
    "import pandas as pd\n",
    "import scipy.stats as sts\n",
    "from sklearn.feature_selection import mutual_info_regression\n",
    "\n",
    "# Assuming genres_cols and sentiments_cols are defined\n",
    "# genres_and_sentiments is your DataFrame\n",
    "\n",
    "n_genres = len(genres_cols)\n",
    "N_COL = 2\n",
    "N_ROW = n_genres // N_COL\n",
    "fig, axes = plt.subplots(nrows=N_ROW, ncols=N_COL, figsize=(10, 2 * n_genres))\n",
    "\n",
    "for i, genre in enumerate(genres_cols):\n",
    "    movies_with_genre = genres_and_sentiments[genres_and_sentiments[genre] == 1][sentiments_cols]\n",
    "    movies_with_genre['sentiment_intensity'] = movies_with_genre['ending_compound_sentiment'].apply(np.abs)\n",
    "\n",
    "    axes[i// N_COL, i % N_COL].hexbin(movies_with_genre['sentiment_intensity'], movies_with_genre['movie_score'], gridsize=30, cmap='Blues', mincnt=1)\n",
    "    slope, intercept, r_value, p_value, std_err = sts.linregress(movies_with_genre['sentiment_intensity'], movies_with_genre['movie_score'])\n",
    "    line = slope * movies_with_genre['sentiment_intensity'] + intercept\n",
    "    axes[i// N_COL, i % N_COL].plot(movies_with_genre['sentiment_intensity'], line, color='red')  # red line for the trend\n",
    "\n",
    "\n",
    "    axes[i// N_COL, i % N_COL].set_xlabel('Sentiment Intensity')\n",
    "    axes[i// N_COL, i % N_COL].set_ylabel('Movie Score')\n",
    "    axes[i// N_COL, i % N_COL].set_title(f'Hexbin Plot for Genre: {genre}')\n",
    "\n",
    "    # Calculate correlation and mutual information\n",
    "    #correlation = sts.pearsonr(movies_with_genre['sentiment_intensity'], movies_with_genre['movie_score'])[0]\n",
    "    #information = mutual_info_regression(movies_with_genre[['sentiment_intensity']], movies_with_genre['movie_score'])[0]\n",
    "    #print(f\"Correlation for genre {genre}: {correlation:.2f}\")\n",
    "    #print(f\"Mutual information for genre {genre}: {information:.2f}\")\n",
    "\n",
    "plt.tight_layout()\n",
    "plt.show()\n"
   ],
   "metadata": {
    "collapsed": false
   },
   "id": "1f0e1e4caa700b64"
  },
  {
   "cell_type": "markdown",
   "source": [
    "Film repartition is imbalanced and really pronounced on the edges\n",
    "to address this issue, let's normalize the sentiment intensity:"
   ],
   "metadata": {
    "collapsed": false
   },
   "id": "5533b3e19fb5da55"
  },
  {
   "cell_type": "raw",
   "source": [
    "movies_with_genre"
   ],
   "metadata": {
    "collapsed": false
   },
   "id": "a110380fa916df85"
  },
  {
   "cell_type": "raw",
   "source": [
    "import plotly.express as plotlypx\n",
    "fig = plotlypx.density_contour(movies_with_genre, x= 'sentiment_intensity', y='movie_score')\n",
    "fig.update_traces(contours_coloring='fill',contours_showlabels= True)\n",
    "fig.update_layout(\n",
    "    title='Density Contour of Movie Score vs Sentiment Intensity',\n",
    "    xaxis_title='Sentiment Intensity',\n",
    "    yaxis_title='Movie Score'\n",
    ")\n",
    "fig.show()"
   ],
   "metadata": {
    "collapsed": false
   },
   "id": "ba580dbb273b6a46"
  },
  {
   "cell_type": "code",
   "execution_count": 135,
   "outputs": [],
   "source": [
    "genre_scores = {}\n",
    "for i, genre in enumerate(genres_cols):\n",
    "    movies_with_genre = genres_and_sentiments[genres_and_sentiments[genre] == 1]\n",
    "    # Calculate correlation and mutual information\n",
    "    correlation = sts.pearsonr(movies_with_genre['sentiment_intensity'], movies_with_genre['movie_score'])[0]\n",
    "    information = mutual_info_regression(movies_with_genre[['sentiment_intensity']], movies_with_genre['movie_score'])[0]\n",
    "    genre_scores[genre] = {'correlation': correlation, 'information': information}\n"
   ],
   "metadata": {
    "collapsed": false,
    "ExecuteTime": {
     "end_time": "2023-12-15T22:49:45.432263Z",
     "start_time": "2023-12-15T22:49:45.340395Z"
    }
   },
   "id": "fa089d010366820e"
  },
  {
   "cell_type": "code",
   "execution_count": 134,
   "outputs": [
    {
     "data": {
      "application/vnd.plotly.v1+json": {
       "data": [
        {
         "name": "Correlation",
         "x": [
          "Action",
          "Adventure",
          "Animation",
          "Comedy",
          "Crime",
          "Drama",
          "Family",
          "Fantasy",
          "Horror",
          "Musical",
          "Period piece",
          "Romance",
          "Science Fiction",
          "Sport",
          "Thriller",
          "War film"
         ],
         "y": [
          -0.029869242031257782,
          -0.011631895529507526,
          0.03713884054005771,
          0.014482476993926621,
          -0.003746289756710956,
          0.004902636661733385,
          0.05161843604538141,
          0.04707478080864546,
          -0.08291683499873684,
          -0.017041757601217507,
          0.020002078724384784,
          -0.004763131663668976,
          0.0044110531294592826,
          -0.001342060853061887,
          -0.047719568887808365,
          -0.04496678598629209
         ],
         "type": "bar",
         "xaxis": "x",
         "yaxis": "y"
        },
        {
         "name": "Information",
         "x": [
          "Action",
          "Adventure",
          "Animation",
          "Comedy",
          "Crime",
          "Drama",
          "Family",
          "Fantasy",
          "Horror",
          "Musical",
          "Period piece",
          "Romance",
          "Science Fiction",
          "Sport",
          "Thriller",
          "War film"
         ],
         "y": [
          0.007806193073882639,
          0,
          0.00771312292729931,
          0.0054396995217222965,
          0,
          0.004226349577018951,
          0.014430366662289806,
          0,
          0.008993364933544523,
          0,
          0,
          0,
          0.010313166764835735,
          0,
          0.01530957995397042,
          0.011504301099197978
         ],
         "type": "bar",
         "xaxis": "x2",
         "yaxis": "y2"
        }
       ],
       "layout": {
        "template": {
         "data": {
          "histogram2dcontour": [
           {
            "type": "histogram2dcontour",
            "colorbar": {
             "outlinewidth": 0,
             "ticks": ""
            },
            "colorscale": [
             [
              0.0,
              "#0d0887"
             ],
             [
              0.1111111111111111,
              "#46039f"
             ],
             [
              0.2222222222222222,
              "#7201a8"
             ],
             [
              0.3333333333333333,
              "#9c179e"
             ],
             [
              0.4444444444444444,
              "#bd3786"
             ],
             [
              0.5555555555555556,
              "#d8576b"
             ],
             [
              0.6666666666666666,
              "#ed7953"
             ],
             [
              0.7777777777777778,
              "#fb9f3a"
             ],
             [
              0.8888888888888888,
              "#fdca26"
             ],
             [
              1.0,
              "#f0f921"
             ]
            ]
           }
          ],
          "choropleth": [
           {
            "type": "choropleth",
            "colorbar": {
             "outlinewidth": 0,
             "ticks": ""
            }
           }
          ],
          "histogram2d": [
           {
            "type": "histogram2d",
            "colorbar": {
             "outlinewidth": 0,
             "ticks": ""
            },
            "colorscale": [
             [
              0.0,
              "#0d0887"
             ],
             [
              0.1111111111111111,
              "#46039f"
             ],
             [
              0.2222222222222222,
              "#7201a8"
             ],
             [
              0.3333333333333333,
              "#9c179e"
             ],
             [
              0.4444444444444444,
              "#bd3786"
             ],
             [
              0.5555555555555556,
              "#d8576b"
             ],
             [
              0.6666666666666666,
              "#ed7953"
             ],
             [
              0.7777777777777778,
              "#fb9f3a"
             ],
             [
              0.8888888888888888,
              "#fdca26"
             ],
             [
              1.0,
              "#f0f921"
             ]
            ]
           }
          ],
          "heatmap": [
           {
            "type": "heatmap",
            "colorbar": {
             "outlinewidth": 0,
             "ticks": ""
            },
            "colorscale": [
             [
              0.0,
              "#0d0887"
             ],
             [
              0.1111111111111111,
              "#46039f"
             ],
             [
              0.2222222222222222,
              "#7201a8"
             ],
             [
              0.3333333333333333,
              "#9c179e"
             ],
             [
              0.4444444444444444,
              "#bd3786"
             ],
             [
              0.5555555555555556,
              "#d8576b"
             ],
             [
              0.6666666666666666,
              "#ed7953"
             ],
             [
              0.7777777777777778,
              "#fb9f3a"
             ],
             [
              0.8888888888888888,
              "#fdca26"
             ],
             [
              1.0,
              "#f0f921"
             ]
            ]
           }
          ],
          "heatmapgl": [
           {
            "type": "heatmapgl",
            "colorbar": {
             "outlinewidth": 0,
             "ticks": ""
            },
            "colorscale": [
             [
              0.0,
              "#0d0887"
             ],
             [
              0.1111111111111111,
              "#46039f"
             ],
             [
              0.2222222222222222,
              "#7201a8"
             ],
             [
              0.3333333333333333,
              "#9c179e"
             ],
             [
              0.4444444444444444,
              "#bd3786"
             ],
             [
              0.5555555555555556,
              "#d8576b"
             ],
             [
              0.6666666666666666,
              "#ed7953"
             ],
             [
              0.7777777777777778,
              "#fb9f3a"
             ],
             [
              0.8888888888888888,
              "#fdca26"
             ],
             [
              1.0,
              "#f0f921"
             ]
            ]
           }
          ],
          "contourcarpet": [
           {
            "type": "contourcarpet",
            "colorbar": {
             "outlinewidth": 0,
             "ticks": ""
            }
           }
          ],
          "contour": [
           {
            "type": "contour",
            "colorbar": {
             "outlinewidth": 0,
             "ticks": ""
            },
            "colorscale": [
             [
              0.0,
              "#0d0887"
             ],
             [
              0.1111111111111111,
              "#46039f"
             ],
             [
              0.2222222222222222,
              "#7201a8"
             ],
             [
              0.3333333333333333,
              "#9c179e"
             ],
             [
              0.4444444444444444,
              "#bd3786"
             ],
             [
              0.5555555555555556,
              "#d8576b"
             ],
             [
              0.6666666666666666,
              "#ed7953"
             ],
             [
              0.7777777777777778,
              "#fb9f3a"
             ],
             [
              0.8888888888888888,
              "#fdca26"
             ],
             [
              1.0,
              "#f0f921"
             ]
            ]
           }
          ],
          "surface": [
           {
            "type": "surface",
            "colorbar": {
             "outlinewidth": 0,
             "ticks": ""
            },
            "colorscale": [
             [
              0.0,
              "#0d0887"
             ],
             [
              0.1111111111111111,
              "#46039f"
             ],
             [
              0.2222222222222222,
              "#7201a8"
             ],
             [
              0.3333333333333333,
              "#9c179e"
             ],
             [
              0.4444444444444444,
              "#bd3786"
             ],
             [
              0.5555555555555556,
              "#d8576b"
             ],
             [
              0.6666666666666666,
              "#ed7953"
             ],
             [
              0.7777777777777778,
              "#fb9f3a"
             ],
             [
              0.8888888888888888,
              "#fdca26"
             ],
             [
              1.0,
              "#f0f921"
             ]
            ]
           }
          ],
          "mesh3d": [
           {
            "type": "mesh3d",
            "colorbar": {
             "outlinewidth": 0,
             "ticks": ""
            }
           }
          ],
          "scatter": [
           {
            "marker": {
             "line": {
              "color": "#283442"
             }
            },
            "type": "scatter"
           }
          ],
          "parcoords": [
           {
            "type": "parcoords",
            "line": {
             "colorbar": {
              "outlinewidth": 0,
              "ticks": ""
             }
            }
           }
          ],
          "scatterpolargl": [
           {
            "type": "scatterpolargl",
            "marker": {
             "colorbar": {
              "outlinewidth": 0,
              "ticks": ""
             }
            }
           }
          ],
          "bar": [
           {
            "error_x": {
             "color": "#f2f5fa"
            },
            "error_y": {
             "color": "#f2f5fa"
            },
            "marker": {
             "line": {
              "color": "rgb(17,17,17)",
              "width": 0.5
             },
             "pattern": {
              "fillmode": "overlay",
              "size": 10,
              "solidity": 0.2
             }
            },
            "type": "bar"
           }
          ],
          "scattergeo": [
           {
            "type": "scattergeo",
            "marker": {
             "colorbar": {
              "outlinewidth": 0,
              "ticks": ""
             }
            }
           }
          ],
          "scatterpolar": [
           {
            "type": "scatterpolar",
            "marker": {
             "colorbar": {
              "outlinewidth": 0,
              "ticks": ""
             }
            }
           }
          ],
          "histogram": [
           {
            "marker": {
             "pattern": {
              "fillmode": "overlay",
              "size": 10,
              "solidity": 0.2
             }
            },
            "type": "histogram"
           }
          ],
          "scattergl": [
           {
            "marker": {
             "line": {
              "color": "#283442"
             }
            },
            "type": "scattergl"
           }
          ],
          "scatter3d": [
           {
            "type": "scatter3d",
            "line": {
             "colorbar": {
              "outlinewidth": 0,
              "ticks": ""
             }
            },
            "marker": {
             "colorbar": {
              "outlinewidth": 0,
              "ticks": ""
             }
            }
           }
          ],
          "scattermapbox": [
           {
            "type": "scattermapbox",
            "marker": {
             "colorbar": {
              "outlinewidth": 0,
              "ticks": ""
             }
            }
           }
          ],
          "scatterternary": [
           {
            "type": "scatterternary",
            "marker": {
             "colorbar": {
              "outlinewidth": 0,
              "ticks": ""
             }
            }
           }
          ],
          "scattercarpet": [
           {
            "type": "scattercarpet",
            "marker": {
             "colorbar": {
              "outlinewidth": 0,
              "ticks": ""
             }
            }
           }
          ],
          "carpet": [
           {
            "aaxis": {
             "endlinecolor": "#A2B1C6",
             "gridcolor": "#506784",
             "linecolor": "#506784",
             "minorgridcolor": "#506784",
             "startlinecolor": "#A2B1C6"
            },
            "baxis": {
             "endlinecolor": "#A2B1C6",
             "gridcolor": "#506784",
             "linecolor": "#506784",
             "minorgridcolor": "#506784",
             "startlinecolor": "#A2B1C6"
            },
            "type": "carpet"
           }
          ],
          "table": [
           {
            "cells": {
             "fill": {
              "color": "#506784"
             },
             "line": {
              "color": "rgb(17,17,17)"
             }
            },
            "header": {
             "fill": {
              "color": "#2a3f5f"
             },
             "line": {
              "color": "rgb(17,17,17)"
             }
            },
            "type": "table"
           }
          ],
          "barpolar": [
           {
            "marker": {
             "line": {
              "color": "rgb(17,17,17)",
              "width": 0.5
             },
             "pattern": {
              "fillmode": "overlay",
              "size": 10,
              "solidity": 0.2
             }
            },
            "type": "barpolar"
           }
          ],
          "pie": [
           {
            "automargin": true,
            "type": "pie"
           }
          ]
         },
         "layout": {
          "autotypenumbers": "strict",
          "colorway": [
           "#636efa",
           "#EF553B",
           "#00cc96",
           "#ab63fa",
           "#FFA15A",
           "#19d3f3",
           "#FF6692",
           "#B6E880",
           "#FF97FF",
           "#FECB52"
          ],
          "font": {
           "color": "#f2f5fa"
          },
          "hovermode": "closest",
          "hoverlabel": {
           "align": "left"
          },
          "paper_bgcolor": "rgb(17,17,17)",
          "plot_bgcolor": "rgb(17,17,17)",
          "polar": {
           "bgcolor": "rgb(17,17,17)",
           "angularaxis": {
            "gridcolor": "#506784",
            "linecolor": "#506784",
            "ticks": ""
           },
           "radialaxis": {
            "gridcolor": "#506784",
            "linecolor": "#506784",
            "ticks": ""
           }
          },
          "ternary": {
           "bgcolor": "rgb(17,17,17)",
           "aaxis": {
            "gridcolor": "#506784",
            "linecolor": "#506784",
            "ticks": ""
           },
           "baxis": {
            "gridcolor": "#506784",
            "linecolor": "#506784",
            "ticks": ""
           },
           "caxis": {
            "gridcolor": "#506784",
            "linecolor": "#506784",
            "ticks": ""
           }
          },
          "coloraxis": {
           "colorbar": {
            "outlinewidth": 0,
            "ticks": ""
           }
          },
          "colorscale": {
           "sequential": [
            [
             0.0,
             "#0d0887"
            ],
            [
             0.1111111111111111,
             "#46039f"
            ],
            [
             0.2222222222222222,
             "#7201a8"
            ],
            [
             0.3333333333333333,
             "#9c179e"
            ],
            [
             0.4444444444444444,
             "#bd3786"
            ],
            [
             0.5555555555555556,
             "#d8576b"
            ],
            [
             0.6666666666666666,
             "#ed7953"
            ],
            [
             0.7777777777777778,
             "#fb9f3a"
            ],
            [
             0.8888888888888888,
             "#fdca26"
            ],
            [
             1.0,
             "#f0f921"
            ]
           ],
           "sequentialminus": [
            [
             0.0,
             "#0d0887"
            ],
            [
             0.1111111111111111,
             "#46039f"
            ],
            [
             0.2222222222222222,
             "#7201a8"
            ],
            [
             0.3333333333333333,
             "#9c179e"
            ],
            [
             0.4444444444444444,
             "#bd3786"
            ],
            [
             0.5555555555555556,
             "#d8576b"
            ],
            [
             0.6666666666666666,
             "#ed7953"
            ],
            [
             0.7777777777777778,
             "#fb9f3a"
            ],
            [
             0.8888888888888888,
             "#fdca26"
            ],
            [
             1.0,
             "#f0f921"
            ]
           ],
           "diverging": [
            [
             0,
             "#8e0152"
            ],
            [
             0.1,
             "#c51b7d"
            ],
            [
             0.2,
             "#de77ae"
            ],
            [
             0.3,
             "#f1b6da"
            ],
            [
             0.4,
             "#fde0ef"
            ],
            [
             0.5,
             "#f7f7f7"
            ],
            [
             0.6,
             "#e6f5d0"
            ],
            [
             0.7,
             "#b8e186"
            ],
            [
             0.8,
             "#7fbc41"
            ],
            [
             0.9,
             "#4d9221"
            ],
            [
             1,
             "#276419"
            ]
           ]
          },
          "xaxis": {
           "gridcolor": "#283442",
           "linecolor": "#506784",
           "ticks": "",
           "title": {
            "standoff": 15
           },
           "zerolinecolor": "#283442",
           "automargin": true,
           "zerolinewidth": 2
          },
          "yaxis": {
           "gridcolor": "#283442",
           "linecolor": "#506784",
           "ticks": "",
           "title": {
            "standoff": 15
           },
           "zerolinecolor": "#283442",
           "automargin": true,
           "zerolinewidth": 2
          },
          "scene": {
           "xaxis": {
            "backgroundcolor": "rgb(17,17,17)",
            "gridcolor": "#506784",
            "linecolor": "#506784",
            "showbackground": true,
            "ticks": "",
            "zerolinecolor": "#C8D4E3",
            "gridwidth": 2
           },
           "yaxis": {
            "backgroundcolor": "rgb(17,17,17)",
            "gridcolor": "#506784",
            "linecolor": "#506784",
            "showbackground": true,
            "ticks": "",
            "zerolinecolor": "#C8D4E3",
            "gridwidth": 2
           },
           "zaxis": {
            "backgroundcolor": "rgb(17,17,17)",
            "gridcolor": "#506784",
            "linecolor": "#506784",
            "showbackground": true,
            "ticks": "",
            "zerolinecolor": "#C8D4E3",
            "gridwidth": 2
           }
          },
          "shapedefaults": {
           "line": {
            "color": "#f2f5fa"
           }
          },
          "annotationdefaults": {
           "arrowcolor": "#f2f5fa",
           "arrowhead": 0,
           "arrowwidth": 1
          },
          "geo": {
           "bgcolor": "rgb(17,17,17)",
           "landcolor": "rgb(17,17,17)",
           "subunitcolor": "#506784",
           "showland": true,
           "showlakes": true,
           "lakecolor": "rgb(17,17,17)"
          },
          "title": {
           "x": 0.05
          },
          "updatemenudefaults": {
           "bgcolor": "#506784",
           "borderwidth": 0
          },
          "sliderdefaults": {
           "bgcolor": "#C8D4E3",
           "borderwidth": 1,
           "bordercolor": "rgb(17,17,17)",
           "tickwidth": 0
          },
          "mapbox": {
           "style": "dark"
          }
         }
        },
        "xaxis": {
         "anchor": "y",
         "domain": [
          0.0,
          0.45
         ]
        },
        "yaxis": {
         "anchor": "x",
         "domain": [
          0.0,
          1.0
         ]
        },
        "xaxis2": {
         "anchor": "y2",
         "domain": [
          0.55,
          1.0
         ]
        },
        "yaxis2": {
         "anchor": "x2",
         "domain": [
          0.0,
          1.0
         ]
        },
        "annotations": [
         {
          "font": {
           "size": 16
          },
          "showarrow": false,
          "text": "Pearson correlations",
          "x": 0.225,
          "xanchor": "center",
          "xref": "paper",
          "y": 1.0,
          "yanchor": "bottom",
          "yref": "paper"
         },
         {
          "font": {
           "size": 16
          },
          "showarrow": false,
          "text": "Mutual Information",
          "x": 0.775,
          "xanchor": "center",
          "xref": "paper",
          "y": 1.0,
          "yanchor": "bottom",
          "yref": "paper"
         }
        ],
        "title": {
         "text": "Genre Analysis between sentiment intensity and movie score"
        },
        "barmode": "group"
       },
       "config": {
        "plotlyServerURL": "https://plot.ly"
       }
      },
      "text/html": "<div>                            <div id=\"ee95796d-b906-4d95-975e-471544c911f4\" class=\"plotly-graph-div\" style=\"height:525px; width:100%;\"></div>            <script type=\"text/javascript\">                require([\"plotly\"], function(Plotly) {                    window.PLOTLYENV=window.PLOTLYENV || {};                                    if (document.getElementById(\"ee95796d-b906-4d95-975e-471544c911f4\")) {                    Plotly.newPlot(                        \"ee95796d-b906-4d95-975e-471544c911f4\",                        [{\"name\":\"Correlation\",\"x\":[\"Action\",\"Adventure\",\"Animation\",\"Comedy\",\"Crime\",\"Drama\",\"Family\",\"Fantasy\",\"Horror\",\"Musical\",\"Period piece\",\"Romance\",\"Science Fiction\",\"Sport\",\"Thriller\",\"War film\"],\"y\":[-0.029869242031257782,-0.011631895529507526,0.03713884054005771,0.014482476993926621,-0.003746289756710956,0.004902636661733385,0.05161843604538141,0.04707478080864546,-0.08291683499873684,-0.017041757601217507,0.020002078724384784,-0.004763131663668976,0.0044110531294592826,-0.001342060853061887,-0.047719568887808365,-0.04496678598629209],\"type\":\"bar\",\"xaxis\":\"x\",\"yaxis\":\"y\"},{\"name\":\"Information\",\"x\":[\"Action\",\"Adventure\",\"Animation\",\"Comedy\",\"Crime\",\"Drama\",\"Family\",\"Fantasy\",\"Horror\",\"Musical\",\"Period piece\",\"Romance\",\"Science Fiction\",\"Sport\",\"Thriller\",\"War film\"],\"y\":[0.007806193073882639,0,0.00771312292729931,0.0054396995217222965,0,0.004226349577018951,0.014430366662289806,0,0.008993364933544523,0,0,0,0.010313166764835735,0,0.01530957995397042,0.011504301099197978],\"type\":\"bar\",\"xaxis\":\"x2\",\"yaxis\":\"y2\"}],                        {\"template\":{\"data\":{\"histogram2dcontour\":[{\"type\":\"histogram2dcontour\",\"colorbar\":{\"outlinewidth\":0,\"ticks\":\"\"},\"colorscale\":[[0.0,\"#0d0887\"],[0.1111111111111111,\"#46039f\"],[0.2222222222222222,\"#7201a8\"],[0.3333333333333333,\"#9c179e\"],[0.4444444444444444,\"#bd3786\"],[0.5555555555555556,\"#d8576b\"],[0.6666666666666666,\"#ed7953\"],[0.7777777777777778,\"#fb9f3a\"],[0.8888888888888888,\"#fdca26\"],[1.0,\"#f0f921\"]]}],\"choropleth\":[{\"type\":\"choropleth\",\"colorbar\":{\"outlinewidth\":0,\"ticks\":\"\"}}],\"histogram2d\":[{\"type\":\"histogram2d\",\"colorbar\":{\"outlinewidth\":0,\"ticks\":\"\"},\"colorscale\":[[0.0,\"#0d0887\"],[0.1111111111111111,\"#46039f\"],[0.2222222222222222,\"#7201a8\"],[0.3333333333333333,\"#9c179e\"],[0.4444444444444444,\"#bd3786\"],[0.5555555555555556,\"#d8576b\"],[0.6666666666666666,\"#ed7953\"],[0.7777777777777778,\"#fb9f3a\"],[0.8888888888888888,\"#fdca26\"],[1.0,\"#f0f921\"]]}],\"heatmap\":[{\"type\":\"heatmap\",\"colorbar\":{\"outlinewidth\":0,\"ticks\":\"\"},\"colorscale\":[[0.0,\"#0d0887\"],[0.1111111111111111,\"#46039f\"],[0.2222222222222222,\"#7201a8\"],[0.3333333333333333,\"#9c179e\"],[0.4444444444444444,\"#bd3786\"],[0.5555555555555556,\"#d8576b\"],[0.6666666666666666,\"#ed7953\"],[0.7777777777777778,\"#fb9f3a\"],[0.8888888888888888,\"#fdca26\"],[1.0,\"#f0f921\"]]}],\"heatmapgl\":[{\"type\":\"heatmapgl\",\"colorbar\":{\"outlinewidth\":0,\"ticks\":\"\"},\"colorscale\":[[0.0,\"#0d0887\"],[0.1111111111111111,\"#46039f\"],[0.2222222222222222,\"#7201a8\"],[0.3333333333333333,\"#9c179e\"],[0.4444444444444444,\"#bd3786\"],[0.5555555555555556,\"#d8576b\"],[0.6666666666666666,\"#ed7953\"],[0.7777777777777778,\"#fb9f3a\"],[0.8888888888888888,\"#fdca26\"],[1.0,\"#f0f921\"]]}],\"contourcarpet\":[{\"type\":\"contourcarpet\",\"colorbar\":{\"outlinewidth\":0,\"ticks\":\"\"}}],\"contour\":[{\"type\":\"contour\",\"colorbar\":{\"outlinewidth\":0,\"ticks\":\"\"},\"colorscale\":[[0.0,\"#0d0887\"],[0.1111111111111111,\"#46039f\"],[0.2222222222222222,\"#7201a8\"],[0.3333333333333333,\"#9c179e\"],[0.4444444444444444,\"#bd3786\"],[0.5555555555555556,\"#d8576b\"],[0.6666666666666666,\"#ed7953\"],[0.7777777777777778,\"#fb9f3a\"],[0.8888888888888888,\"#fdca26\"],[1.0,\"#f0f921\"]]}],\"surface\":[{\"type\":\"surface\",\"colorbar\":{\"outlinewidth\":0,\"ticks\":\"\"},\"colorscale\":[[0.0,\"#0d0887\"],[0.1111111111111111,\"#46039f\"],[0.2222222222222222,\"#7201a8\"],[0.3333333333333333,\"#9c179e\"],[0.4444444444444444,\"#bd3786\"],[0.5555555555555556,\"#d8576b\"],[0.6666666666666666,\"#ed7953\"],[0.7777777777777778,\"#fb9f3a\"],[0.8888888888888888,\"#fdca26\"],[1.0,\"#f0f921\"]]}],\"mesh3d\":[{\"type\":\"mesh3d\",\"colorbar\":{\"outlinewidth\":0,\"ticks\":\"\"}}],\"scatter\":[{\"marker\":{\"line\":{\"color\":\"#283442\"}},\"type\":\"scatter\"}],\"parcoords\":[{\"type\":\"parcoords\",\"line\":{\"colorbar\":{\"outlinewidth\":0,\"ticks\":\"\"}}}],\"scatterpolargl\":[{\"type\":\"scatterpolargl\",\"marker\":{\"colorbar\":{\"outlinewidth\":0,\"ticks\":\"\"}}}],\"bar\":[{\"error_x\":{\"color\":\"#f2f5fa\"},\"error_y\":{\"color\":\"#f2f5fa\"},\"marker\":{\"line\":{\"color\":\"rgb(17,17,17)\",\"width\":0.5},\"pattern\":{\"fillmode\":\"overlay\",\"size\":10,\"solidity\":0.2}},\"type\":\"bar\"}],\"scattergeo\":[{\"type\":\"scattergeo\",\"marker\":{\"colorbar\":{\"outlinewidth\":0,\"ticks\":\"\"}}}],\"scatterpolar\":[{\"type\":\"scatterpolar\",\"marker\":{\"colorbar\":{\"outlinewidth\":0,\"ticks\":\"\"}}}],\"histogram\":[{\"marker\":{\"pattern\":{\"fillmode\":\"overlay\",\"size\":10,\"solidity\":0.2}},\"type\":\"histogram\"}],\"scattergl\":[{\"marker\":{\"line\":{\"color\":\"#283442\"}},\"type\":\"scattergl\"}],\"scatter3d\":[{\"type\":\"scatter3d\",\"line\":{\"colorbar\":{\"outlinewidth\":0,\"ticks\":\"\"}},\"marker\":{\"colorbar\":{\"outlinewidth\":0,\"ticks\":\"\"}}}],\"scattermapbox\":[{\"type\":\"scattermapbox\",\"marker\":{\"colorbar\":{\"outlinewidth\":0,\"ticks\":\"\"}}}],\"scatterternary\":[{\"type\":\"scatterternary\",\"marker\":{\"colorbar\":{\"outlinewidth\":0,\"ticks\":\"\"}}}],\"scattercarpet\":[{\"type\":\"scattercarpet\",\"marker\":{\"colorbar\":{\"outlinewidth\":0,\"ticks\":\"\"}}}],\"carpet\":[{\"aaxis\":{\"endlinecolor\":\"#A2B1C6\",\"gridcolor\":\"#506784\",\"linecolor\":\"#506784\",\"minorgridcolor\":\"#506784\",\"startlinecolor\":\"#A2B1C6\"},\"baxis\":{\"endlinecolor\":\"#A2B1C6\",\"gridcolor\":\"#506784\",\"linecolor\":\"#506784\",\"minorgridcolor\":\"#506784\",\"startlinecolor\":\"#A2B1C6\"},\"type\":\"carpet\"}],\"table\":[{\"cells\":{\"fill\":{\"color\":\"#506784\"},\"line\":{\"color\":\"rgb(17,17,17)\"}},\"header\":{\"fill\":{\"color\":\"#2a3f5f\"},\"line\":{\"color\":\"rgb(17,17,17)\"}},\"type\":\"table\"}],\"barpolar\":[{\"marker\":{\"line\":{\"color\":\"rgb(17,17,17)\",\"width\":0.5},\"pattern\":{\"fillmode\":\"overlay\",\"size\":10,\"solidity\":0.2}},\"type\":\"barpolar\"}],\"pie\":[{\"automargin\":true,\"type\":\"pie\"}]},\"layout\":{\"autotypenumbers\":\"strict\",\"colorway\":[\"#636efa\",\"#EF553B\",\"#00cc96\",\"#ab63fa\",\"#FFA15A\",\"#19d3f3\",\"#FF6692\",\"#B6E880\",\"#FF97FF\",\"#FECB52\"],\"font\":{\"color\":\"#f2f5fa\"},\"hovermode\":\"closest\",\"hoverlabel\":{\"align\":\"left\"},\"paper_bgcolor\":\"rgb(17,17,17)\",\"plot_bgcolor\":\"rgb(17,17,17)\",\"polar\":{\"bgcolor\":\"rgb(17,17,17)\",\"angularaxis\":{\"gridcolor\":\"#506784\",\"linecolor\":\"#506784\",\"ticks\":\"\"},\"radialaxis\":{\"gridcolor\":\"#506784\",\"linecolor\":\"#506784\",\"ticks\":\"\"}},\"ternary\":{\"bgcolor\":\"rgb(17,17,17)\",\"aaxis\":{\"gridcolor\":\"#506784\",\"linecolor\":\"#506784\",\"ticks\":\"\"},\"baxis\":{\"gridcolor\":\"#506784\",\"linecolor\":\"#506784\",\"ticks\":\"\"},\"caxis\":{\"gridcolor\":\"#506784\",\"linecolor\":\"#506784\",\"ticks\":\"\"}},\"coloraxis\":{\"colorbar\":{\"outlinewidth\":0,\"ticks\":\"\"}},\"colorscale\":{\"sequential\":[[0.0,\"#0d0887\"],[0.1111111111111111,\"#46039f\"],[0.2222222222222222,\"#7201a8\"],[0.3333333333333333,\"#9c179e\"],[0.4444444444444444,\"#bd3786\"],[0.5555555555555556,\"#d8576b\"],[0.6666666666666666,\"#ed7953\"],[0.7777777777777778,\"#fb9f3a\"],[0.8888888888888888,\"#fdca26\"],[1.0,\"#f0f921\"]],\"sequentialminus\":[[0.0,\"#0d0887\"],[0.1111111111111111,\"#46039f\"],[0.2222222222222222,\"#7201a8\"],[0.3333333333333333,\"#9c179e\"],[0.4444444444444444,\"#bd3786\"],[0.5555555555555556,\"#d8576b\"],[0.6666666666666666,\"#ed7953\"],[0.7777777777777778,\"#fb9f3a\"],[0.8888888888888888,\"#fdca26\"],[1.0,\"#f0f921\"]],\"diverging\":[[0,\"#8e0152\"],[0.1,\"#c51b7d\"],[0.2,\"#de77ae\"],[0.3,\"#f1b6da\"],[0.4,\"#fde0ef\"],[0.5,\"#f7f7f7\"],[0.6,\"#e6f5d0\"],[0.7,\"#b8e186\"],[0.8,\"#7fbc41\"],[0.9,\"#4d9221\"],[1,\"#276419\"]]},\"xaxis\":{\"gridcolor\":\"#283442\",\"linecolor\":\"#506784\",\"ticks\":\"\",\"title\":{\"standoff\":15},\"zerolinecolor\":\"#283442\",\"automargin\":true,\"zerolinewidth\":2},\"yaxis\":{\"gridcolor\":\"#283442\",\"linecolor\":\"#506784\",\"ticks\":\"\",\"title\":{\"standoff\":15},\"zerolinecolor\":\"#283442\",\"automargin\":true,\"zerolinewidth\":2},\"scene\":{\"xaxis\":{\"backgroundcolor\":\"rgb(17,17,17)\",\"gridcolor\":\"#506784\",\"linecolor\":\"#506784\",\"showbackground\":true,\"ticks\":\"\",\"zerolinecolor\":\"#C8D4E3\",\"gridwidth\":2},\"yaxis\":{\"backgroundcolor\":\"rgb(17,17,17)\",\"gridcolor\":\"#506784\",\"linecolor\":\"#506784\",\"showbackground\":true,\"ticks\":\"\",\"zerolinecolor\":\"#C8D4E3\",\"gridwidth\":2},\"zaxis\":{\"backgroundcolor\":\"rgb(17,17,17)\",\"gridcolor\":\"#506784\",\"linecolor\":\"#506784\",\"showbackground\":true,\"ticks\":\"\",\"zerolinecolor\":\"#C8D4E3\",\"gridwidth\":2}},\"shapedefaults\":{\"line\":{\"color\":\"#f2f5fa\"}},\"annotationdefaults\":{\"arrowcolor\":\"#f2f5fa\",\"arrowhead\":0,\"arrowwidth\":1},\"geo\":{\"bgcolor\":\"rgb(17,17,17)\",\"landcolor\":\"rgb(17,17,17)\",\"subunitcolor\":\"#506784\",\"showland\":true,\"showlakes\":true,\"lakecolor\":\"rgb(17,17,17)\"},\"title\":{\"x\":0.05},\"updatemenudefaults\":{\"bgcolor\":\"#506784\",\"borderwidth\":0},\"sliderdefaults\":{\"bgcolor\":\"#C8D4E3\",\"borderwidth\":1,\"bordercolor\":\"rgb(17,17,17)\",\"tickwidth\":0},\"mapbox\":{\"style\":\"dark\"}}},\"xaxis\":{\"anchor\":\"y\",\"domain\":[0.0,0.45]},\"yaxis\":{\"anchor\":\"x\",\"domain\":[0.0,1.0]},\"xaxis2\":{\"anchor\":\"y2\",\"domain\":[0.55,1.0]},\"yaxis2\":{\"anchor\":\"x2\",\"domain\":[0.0,1.0]},\"annotations\":[{\"font\":{\"size\":16},\"showarrow\":false,\"text\":\"Pearson correlations\",\"x\":0.225,\"xanchor\":\"center\",\"xref\":\"paper\",\"y\":1.0,\"yanchor\":\"bottom\",\"yref\":\"paper\"},{\"font\":{\"size\":16},\"showarrow\":false,\"text\":\"Mutual Information\",\"x\":0.775,\"xanchor\":\"center\",\"xref\":\"paper\",\"y\":1.0,\"yanchor\":\"bottom\",\"yref\":\"paper\"}],\"title\":{\"text\":\"Genre Analysis between sentiment intensity and movie score\"},\"barmode\":\"group\"},                        {\"responsive\": true}                    ).then(function(){\n                            \nvar gd = document.getElementById('ee95796d-b906-4d95-975e-471544c911f4');\nvar x = new MutationObserver(function (mutations, observer) {{\n        var display = window.getComputedStyle(gd).display;\n        if (!display || display === 'none') {{\n            console.log([gd, 'removed!']);\n            Plotly.purge(gd);\n            observer.disconnect();\n        }}\n}});\n\n// Listen for the removal of the full notebook cells\nvar notebookContainer = gd.closest('#notebook-container');\nif (notebookContainer) {{\n    x.observe(notebookContainer, {childList: true});\n}}\n\n// Listen for the clearing of the current output cell\nvar outputEl = gd.closest('.output');\nif (outputEl) {{\n    x.observe(outputEl, {childList: true});\n}}\n\n                        })                };                });            </script>        </div>"
     },
     "metadata": {},
     "output_type": "display_data"
    }
   ],
   "source": [
    "import plotly.graph_objects as go\n",
    "from plotly.subplots import make_subplots\n",
    "\n",
    "# Assuming 'data' is your dictionary\n",
    "\n",
    "\n",
    "genres = list(genre_scores.keys())\n",
    "correlations = [genre_scores[genre]['correlation'] for genre in genres]\n",
    "informations = [genre_scores[genre]['information'] for genre in genres]\n",
    "\n",
    "# Create subplots\n",
    "fig = make_subplots(rows=1, cols=2, subplot_titles=(\"Pearson correlations\", \"Mutual Information\"))\n",
    "\n",
    "# Add correlation bar plot\n",
    "fig.add_trace(go.Bar(x=genres, y=correlations, name='Correlation'), row=1, col=1)\n",
    "\n",
    "# Add information bar plot\n",
    "fig.add_trace(go.Bar(x=genres, y=informations, name='Information'), row=1, col=2)\n",
    "\n",
    "# Update layout\n",
    "fig.update_layout(title_text=\"Genre Analysis between sentiment intensity and movie score\", barmode='group')\n",
    "\n",
    "# Show figure\n",
    "fig.show()\n"
   ],
   "metadata": {
    "collapsed": false,
    "ExecuteTime": {
     "end_time": "2023-12-15T22:49:08.611282Z",
     "start_time": "2023-12-15T22:49:08.591495Z"
    }
   },
   "id": "9d3b9fa11878b1bb"
  },
  {
   "cell_type": "code",
   "execution_count": 127,
   "outputs": [
    {
     "data": {
      "text/plain": "<IPython.lib.display.IFrame at 0x2dbade490>",
      "text/html": "\n        <iframe\n            width=\"100%\"\n            height=\"650\"\n            src=\"http://127.0.0.1:8050/\"\n            frameborder=\"0\"\n            allowfullscreen\n            \n        ></iframe>\n        "
     },
     "metadata": {},
     "output_type": "display_data"
    }
   ],
   "source": [
    "app = dash.Dash(__name__)\n",
    "\n",
    "app.layout = html.Div([\n",
    "    dcc.Dropdown(\n",
    "        id='genre-dropdown',\n",
    "        options=[{'label': 'All', 'value': 'All'}] + [{'label': genre, 'value': genre} for genre in genres_cols],\n",
    "        value='All',\n",
    "        multi=True\n",
    "    ),\n",
    "    dcc.Graph(id='genre-plot'),\n",
    "    \n",
    "])\n",
    "@app.callback(\n",
    "    Output('genre-plot', 'figure'),\n",
    "    [Input('genre-dropdown', 'value')]\n",
    ")\n",
    "def update_graph(selected_genres):\n",
    "    needed_columns = ['movie_score','sentiment_intensity']\n",
    "    if 'All' in selected_genres or not selected_genres:\n",
    "        filtered_df = genres_and_sentiments[needed_columns]\n",
    "        display(filtered_df)\n",
    "    else:\n",
    "        filtered_df = genres_and_sentiments[genres_and_sentiments[selected_genres].any(axis=1)][needed_columns]\n",
    "    # Create the plot\n",
    "    fig = px.density_contour(filtered_df, x='sentiment_intensity', y='movie_score')\n",
    "    \n",
    "    fig.update_traces(contours_coloring='fill', contours_showlabels=True)\n",
    "    fig.update_layout(title='Density Contour of Movie Score vs Sentiment Intensity',\n",
    "    xaxis_title='Sentiment Intensity',\n",
    "    yaxis_title='Movie Score')\n",
    " \n",
    "\n",
    "\n",
    "    return fig\n",
    "\n",
    "if __name__ == '__main__':\n",
    "    app.run_server(debug=True)\n"
   ],
   "metadata": {
    "collapsed": false,
    "ExecuteTime": {
     "end_time": "2023-12-15T22:44:39.067519Z",
     "start_time": "2023-12-15T22:44:38.617783Z"
    }
   },
   "id": "397918cf7b7bbf97"
  },
  {
   "cell_type": "markdown",
   "source": [],
   "metadata": {
    "collapsed": false
   },
   "id": "90c20369562e20f1"
  },
  {
   "cell_type": "markdown",
   "source": [],
   "metadata": {
    "collapsed": false
   },
   "id": "e68a0ef3b91937a9"
  }
 ],
 "metadata": {
  "kernelspec": {
   "display_name": "Python 3",
   "language": "python",
   "name": "python3"
  },
  "language_info": {
   "codemirror_mode": {
    "name": "ipython",
    "version": 2
   },
   "file_extension": ".py",
   "mimetype": "text/x-python",
   "name": "python",
   "nbconvert_exporter": "python",
   "pygments_lexer": "ipython2",
   "version": "2.7.6"
  }
 },
 "nbformat": 4,
 "nbformat_minor": 5
}
