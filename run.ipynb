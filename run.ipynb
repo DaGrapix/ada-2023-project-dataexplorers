{
 "cells": [
  {
   "cell_type": "code",
   "execution_count": 171,
   "id": "c5119c325fe53c41",
   "metadata": {
    "ExecuteTime": {
     "end_time": "2023-11-17T19:29:17.096353200Z",
     "start_time": "2023-11-17T19:28:51.470522800Z"
    },
    "collapsed": false,
    "jupyter": {
     "outputs_hidden": false
    }
   },
   "outputs": [
    {
     "name": "stderr",
     "output_type": "stream",
     "text": [
      "[nltk_data] Downloading package stopwords to\n",
      "[nltk_data]     /Users/yarasabbagha/nltk_data...\n",
      "[nltk_data]   Package stopwords is already up-to-date!\n",
      "[nltk_data] Downloading package punkt to\n",
      "[nltk_data]     /Users/yarasabbagha/nltk_data...\n",
      "[nltk_data]   Package punkt is already up-to-date!\n"
     ]
    },
    {
     "data": {
      "text/plain": [
       "True"
      ]
     },
     "execution_count": 171,
     "metadata": {},
     "output_type": "execute_result"
    }
   ],
   "source": [
    "import numpy as np\n",
    "import pandas as pd\n",
    "import matplotlib.pyplot as plt\n",
    "import scipy.stats as stats\n",
    "import seaborn as sns\n",
    "import json\n",
    "from tqdm import tqdm\n",
    "import os\n",
    "import ast\n",
    "import pickle as pkl\n",
    "import time\n",
    "import dash\n",
    "from abc import ABC\n",
    "import nltk\n",
    "from nltk.corpus import stopwords\n",
    "\n",
    "nltk.download('stopwords')\n",
    "nltk.download('punkt')"
   ]
  },
  {
   "cell_type": "markdown",
   "id": "c1555581cb73dc3f",
   "metadata": {
    "collapsed": false,
    "jupyter": {
     "outputs_hidden": false
    }
   },
   "source": [
    "# Importing the data"
   ]
  },
  {
   "cell_type": "code",
   "execution_count": 172,
   "id": "fd0e8e9ae281e797",
   "metadata": {
    "ExecuteTime": {
     "end_time": "2023-11-17T19:29:17.096353200Z",
     "start_time": "2023-11-17T19:28:52.107229600Z"
    },
    "collapsed": false,
    "jupyter": {
     "outputs_hidden": false
    }
   },
   "outputs": [],
   "source": [
    "DATA_FOLDER = 'data/MovieSummaries/'\n",
    "ADDITIONAL_FOLDER = 'data/AdditionalData/'"
   ]
  },
  {
   "cell_type": "code",
   "execution_count": 173,
   "id": "43c68116ac926743",
   "metadata": {
    "ExecuteTime": {
     "end_time": "2023-11-17T19:29:17.096353200Z",
     "start_time": "2023-11-17T19:28:52.122229200Z"
    },
    "collapsed": false,
    "jupyter": {
     "outputs_hidden": false
    }
   },
   "outputs": [],
   "source": [
    "# reading a txt file and convert it to a dataframe\n",
    "def read_txt(path):\n",
    "    df = pd.read_csv(path, sep='\\t', header=None)\n",
    "    return df"
   ]
  },
  {
   "cell_type": "code",
   "execution_count": 174,
   "id": "f7c6c91d57922b59",
   "metadata": {
    "ExecuteTime": {
     "end_time": "2023-11-17T19:29:11.978265100Z",
     "start_time": "2023-11-17T19:28:52.139750600Z"
    },
    "collapsed": false,
    "jupyter": {
     "outputs_hidden": false
    }
   },
   "outputs": [],
   "source": [
    "# importing the data\n",
    "plots = pd.read_csv(DATA_FOLDER + 'plot_summaries.txt', header=None, sep=\"\\t\")\n",
    "movies = pd.read_csv(DATA_FOLDER + 'movie.metadata.tsv', header=None, sep=\"\\t\")\n",
    "characters = pd.read_csv(DATA_FOLDER + 'character.metadata.tsv', header=None, sep=\"\\t\")\n",
    "names = pd.read_csv(DATA_FOLDER + 'name.clusters.txt', header=None, sep=\"\\t\")\n",
    "tvtropes = pd.read_csv(DATA_FOLDER + 'tvtropes.clusters.txt', header=None, sep=\"\\t\")"
   ]
  },
  {
   "cell_type": "code",
   "execution_count": 175,
   "id": "e997e5bd7fc2a12",
   "metadata": {
    "ExecuteTime": {
     "end_time": "2023-11-17T19:29:12.140773700Z",
     "start_time": "2023-11-17T19:28:53.593343300Z"
    },
    "collapsed": false,
    "jupyter": {
     "outputs_hidden": false
    }
   },
   "outputs": [],
   "source": [
    "# renaming columns the plots dataframe\n",
    "plots.columns = ['wikipedia_movie_id', 'plot']"
   ]
  },
  {
   "cell_type": "markdown",
   "id": "26dc533e70c6ff25",
   "metadata": {
    "collapsed": false,
    "jupyter": {
     "outputs_hidden": false
    }
   },
   "source": [
    "`movies` data\n",
    "\n",
    "1. Wikipedia movie ID\n",
    "2. Freebase movie ID\n",
    "3. Movie name\n",
    "4. Movie release date\n",
    "5. Movie box office revenue\n",
    "6. Movie runtime\n",
    "7. Movie languages (Freebase ID:name tuples)\n",
    "8. Movie countries (Freebase ID:name tuples)\n",
    "9. Movie genres (Freebase ID:name tuples)"
   ]
  },
  {
   "cell_type": "code",
   "execution_count": 176,
   "id": "45db299384a5740b",
   "metadata": {
    "ExecuteTime": {
     "end_time": "2023-11-17T19:29:12.327337100Z",
     "start_time": "2023-11-17T19:28:53.608213800Z"
    },
    "collapsed": false,
    "jupyter": {
     "outputs_hidden": false
    }
   },
   "outputs": [],
   "source": [
    "# renaming the movie dataframe columns\n",
    "movies.columns = ['wikipedia_movie_id', 'freebase_movie_id', 'name', 'release_date', 'revenue', 'runtime', 'languages',\n",
    "                  'countries', 'genres']"
   ]
  },
  {
   "cell_type": "markdown",
   "id": "a5005cf3b6d7796",
   "metadata": {
    "collapsed": false,
    "jupyter": {
     "outputs_hidden": false
    }
   },
   "source": [
    "`characters` data:\n",
    "1. Wikipedia movie ID\n",
    "2. Freebase movie ID\n",
    "3. Movie release date\n",
    "4. Character name\n",
    "5. Actor date of birth\n",
    "6. Actor gender\n",
    "7. Actor height (in meters)\n",
    "8. Actor ethnicity (Freebase ID)\n",
    "9. Actor name\n",
    "10. Actor age at movie release\n",
    "11. Freebase character/actor map ID\n",
    "12. Freebase character ID\n",
    "13. Freebase actor ID"
   ]
  },
  {
   "cell_type": "code",
   "execution_count": 177,
   "id": "a58e3933a202e825",
   "metadata": {
    "ExecuteTime": {
     "end_time": "2023-11-17T19:29:12.327337100Z",
     "start_time": "2023-11-17T19:28:53.624212300Z"
    },
    "collapsed": false,
    "jupyter": {
     "outputs_hidden": false
    }
   },
   "outputs": [],
   "source": [
    "# fixing the character columns\n",
    "characters.columns = ['wikipedia_movie_id', 'freebase_movie_id', 'release_date', 'character_name', 'date_of_birth',\n",
    "                      'gender', 'height', 'ethnicity', 'name', 'age_at_release', 'freebase_character_map_id',\n",
    "                      'freebase_character_id', 'freebase_actor_id']"
   ]
  },
  {
   "cell_type": "markdown",
   "id": "a1e9047436624d48",
   "metadata": {
    "collapsed": false,
    "jupyter": {
     "outputs_hidden": false
    }
   },
   "source": [
    "# Data preprocessing"
   ]
  },
  {
   "cell_type": "code",
   "execution_count": 178,
   "id": "445473dcd2ab5800",
   "metadata": {
    "ExecuteTime": {
     "end_time": "2023-11-17T19:29:12.467013700Z",
     "start_time": "2023-11-17T19:28:53.638220200Z"
    },
    "collapsed": false,
    "jupyter": {
     "outputs_hidden": false
    }
   },
   "outputs": [
    {
     "name": "stdout",
     "output_type": "stream",
     "text": [
      "Number of movies without revenue data:  73340\n"
     ]
    }
   ],
   "source": [
    "revenue_nans = movies[movies['revenue'].isna()][\"wikipedia_movie_id\"]\n",
    "print('Number of movies without revenue data: ', revenue_nans.shape[0])"
   ]
  },
  {
   "cell_type": "markdown",
   "id": "3536b388d1c688",
   "metadata": {
    "collapsed": false,
    "jupyter": {
     "outputs_hidden": false
    }
   },
   "source": [
    "### Completing missing revenue data"
   ]
  },
  {
   "cell_type": "code",
   "execution_count": 179,
   "id": "e3fffdfe9697d72f",
   "metadata": {
    "ExecuteTime": {
     "end_time": "2023-11-17T19:29:20.553051600Z",
     "start_time": "2023-11-17T19:29:06.767644700Z"
    },
    "collapsed": false,
    "jupyter": {
     "outputs_hidden": false
    }
   },
   "outputs": [
    {
     "data": {
      "text/html": [
       "<div>\n",
       "<style scoped>\n",
       "    .dataframe tbody tr th:only-of-type {\n",
       "        vertical-align: middle;\n",
       "    }\n",
       "\n",
       "    .dataframe tbody tr th {\n",
       "        vertical-align: top;\n",
       "    }\n",
       "\n",
       "    .dataframe thead th {\n",
       "        text-align: right;\n",
       "    }\n",
       "</style>\n",
       "<table border=\"1\" class=\"dataframe\">\n",
       "  <thead>\n",
       "    <tr style=\"text-align: right;\">\n",
       "      <th></th>\n",
       "      <th>wikipedia_movie_id</th>\n",
       "      <th>name</th>\n",
       "      <th>global_revenue</th>\n",
       "      <th>budget</th>\n",
       "      <th>gross_domestic</th>\n",
       "      <th>opening_weekend</th>\n",
       "      <th>rating_score</th>\n",
       "      <th>number_of_ratings</th>\n",
       "      <th>watched_rank</th>\n",
       "      <th>producer</th>\n",
       "      <th>release_year</th>\n",
       "    </tr>\n",
       "  </thead>\n",
       "  <tbody>\n",
       "    <tr>\n",
       "      <th>0</th>\n",
       "      <td>975900</td>\n",
       "      <td>Ghosts of Mars</td>\n",
       "      <td>14010832.0</td>\n",
       "      <td>28000000.0</td>\n",
       "      <td>8709640.0</td>\n",
       "      <td>3804452.0</td>\n",
       "      <td>4.9</td>\n",
       "      <td>57000.0</td>\n",
       "      <td>3850.0</td>\n",
       "      <td>John Carpenter</td>\n",
       "      <td>2001.0</td>\n",
       "    </tr>\n",
       "    <tr>\n",
       "      <th>1</th>\n",
       "      <td>3196793</td>\n",
       "      <td>Getting Away with Murder: The JonBenét Ramsey ...</td>\n",
       "      <td>NaN</td>\n",
       "      <td>NaN</td>\n",
       "      <td>NaN</td>\n",
       "      <td>NaN</td>\n",
       "      <td>6.0</td>\n",
       "      <td>69.0</td>\n",
       "      <td>NaN</td>\n",
       "      <td>Edward Lucas</td>\n",
       "      <td>2000.0</td>\n",
       "    </tr>\n",
       "    <tr>\n",
       "      <th>2</th>\n",
       "      <td>28463795</td>\n",
       "      <td>Brun bitter</td>\n",
       "      <td>NaN</td>\n",
       "      <td>NaN</td>\n",
       "      <td>NaN</td>\n",
       "      <td>NaN</td>\n",
       "      <td>5.6</td>\n",
       "      <td>40.0</td>\n",
       "      <td>NaN</td>\n",
       "      <td>Sølve Skagen</td>\n",
       "      <td>1988.0</td>\n",
       "    </tr>\n",
       "  </tbody>\n",
       "</table>\n",
       "</div>"
      ],
      "text/plain": [
       "   wikipedia_movie_id                                               name  \\\n",
       "0              975900                                     Ghosts of Mars   \n",
       "1             3196793  Getting Away with Murder: The JonBenét Ramsey ...   \n",
       "2            28463795                                        Brun bitter   \n",
       "\n",
       "   global_revenue      budget  gross_domestic  opening_weekend  rating_score  \\\n",
       "0      14010832.0  28000000.0       8709640.0        3804452.0           4.9   \n",
       "1             NaN         NaN             NaN              NaN           6.0   \n",
       "2             NaN         NaN             NaN              NaN           5.6   \n",
       "\n",
       "   number_of_ratings  watched_rank        producer  release_year  \n",
       "0            57000.0        3850.0  John Carpenter        2001.0  \n",
       "1               69.0           NaN    Edward Lucas        2000.0  \n",
       "2               40.0           NaN    Sølve Skagen        1988.0  "
      ]
     },
     "execution_count": 179,
     "metadata": {},
     "output_type": "execute_result"
    }
   ],
   "source": [
    "# reading the scraped dataset\n",
    "imdb_movies = pd.read_csv(ADDITIONAL_FOLDER + 'imdb_scraped_dataset.csv')\n",
    "imdb_movies.head(3)"
   ]
  },
  {
   "cell_type": "code",
   "execution_count": 180,
   "id": "f72e8a3e190471e6",
   "metadata": {
    "ExecuteTime": {
     "end_time": "2023-11-17T19:29:20.553051600Z",
     "start_time": "2023-11-17T19:29:06.878503700Z"
    },
    "collapsed": false,
    "jupyter": {
     "outputs_hidden": false
    }
   },
   "outputs": [
    {
     "name": "stdout",
     "output_type": "stream",
     "text": [
      "Number of movies without global revenue data:  64912\n"
     ]
    }
   ],
   "source": [
    "# computing number of movies without global revenue data in the imdb dataset\n",
    "global_revenue_nans = imdb_movies[imdb_movies['global_revenue'].isna()][\"wikipedia_movie_id\"]\n",
    "print('Number of movies without global revenue data: ', global_revenue_nans.shape[0])"
   ]
  },
  {
   "cell_type": "markdown",
   "id": "c7546addecc86165",
   "metadata": {
    "collapsed": false,
    "jupyter": {
     "outputs_hidden": false
    }
   },
   "source": [
    "We have less missing revenue data in the scraped data"
   ]
  },
  {
   "cell_type": "code",
   "execution_count": 181,
   "id": "da58eb7af0de7c07",
   "metadata": {
    "ExecuteTime": {
     "end_time": "2023-11-17T19:29:20.554051600Z",
     "start_time": "2023-11-17T19:29:06.893034600Z"
    },
    "collapsed": false,
    "jupyter": {
     "outputs_hidden": false
    }
   },
   "outputs": [
    {
     "data": {
      "text/plain": [
       "wikipedia_movie_id\n",
       "False    63468\n",
       "True      1444\n",
       "Name: count, dtype: int64"
      ]
     },
     "execution_count": 181,
     "metadata": {},
     "output_type": "execute_result"
    }
   ],
   "source": [
    "# calculating number of movies that have missing revenue in the original dataset but don't have missing revenue in the imdb dataset\n",
    "(~global_revenue_nans.isin(revenue_nans)).value_counts()"
   ]
  },
  {
   "cell_type": "markdown",
   "id": "e25c5df135336895",
   "metadata": {
    "collapsed": false,
    "jupyter": {
     "outputs_hidden": false
    }
   },
   "source": [
    "1444 scraped movies have revenue informations not present in out original dataset. We can thus complete our revenue data with them."
   ]
  },
  {
   "cell_type": "markdown",
   "id": "5761b9218e96f123",
   "metadata": {
    "collapsed": false,
    "jupyter": {
     "outputs_hidden": false
    }
   },
   "source": [
    "### Completting missing date data"
   ]
  },
  {
   "cell_type": "code",
   "execution_count": 182,
   "id": "83575d199c39291",
   "metadata": {
    "ExecuteTime": {
     "end_time": "2023-11-17T19:29:20.554051600Z",
     "start_time": "2023-11-17T19:29:06.910034500Z"
    },
    "collapsed": false,
    "jupyter": {
     "outputs_hidden": false
    }
   },
   "outputs": [
    {
     "data": {
      "text/html": [
       "<div>\n",
       "<style scoped>\n",
       "    .dataframe tbody tr th:only-of-type {\n",
       "        vertical-align: middle;\n",
       "    }\n",
       "\n",
       "    .dataframe tbody tr th {\n",
       "        vertical-align: top;\n",
       "    }\n",
       "\n",
       "    .dataframe thead th {\n",
       "        text-align: right;\n",
       "    }\n",
       "</style>\n",
       "<table border=\"1\" class=\"dataframe\">\n",
       "  <thead>\n",
       "    <tr style=\"text-align: right;\">\n",
       "      <th></th>\n",
       "      <th>wikipedia_movie_id</th>\n",
       "      <th>freebase_movie_id</th>\n",
       "      <th>name</th>\n",
       "      <th>release_date</th>\n",
       "      <th>revenue</th>\n",
       "      <th>runtime</th>\n",
       "      <th>languages</th>\n",
       "      <th>countries</th>\n",
       "      <th>genres</th>\n",
       "      <th>global_revenue</th>\n",
       "      <th>budget</th>\n",
       "      <th>gross_domestic</th>\n",
       "      <th>opening_weekend</th>\n",
       "      <th>rating_score</th>\n",
       "      <th>number_of_ratings</th>\n",
       "      <th>watched_rank</th>\n",
       "      <th>producer</th>\n",
       "      <th>release_year</th>\n",
       "      <th>imdb_release_date</th>\n",
       "    </tr>\n",
       "  </thead>\n",
       "  <tbody>\n",
       "    <tr>\n",
       "      <th>0</th>\n",
       "      <td>975900</td>\n",
       "      <td>/m/03vyhn</td>\n",
       "      <td>Ghosts of Mars</td>\n",
       "      <td>2001-08-24</td>\n",
       "      <td>14010832.0</td>\n",
       "      <td>98.0</td>\n",
       "      <td>{\"/m/02h40lc\": \"English Language\"}</td>\n",
       "      <td>{\"/m/09c7w0\": \"United States of America\"}</td>\n",
       "      <td>{\"/m/01jfsb\": \"Thriller\", \"/m/06n90\": \"Science...</td>\n",
       "      <td>14010832.0</td>\n",
       "      <td>28000000.0</td>\n",
       "      <td>8709640.0</td>\n",
       "      <td>3804452.0</td>\n",
       "      <td>4.9</td>\n",
       "      <td>57000.0</td>\n",
       "      <td>3850.0</td>\n",
       "      <td>John Carpenter</td>\n",
       "      <td>2001.0</td>\n",
       "      <td>2001-01-01</td>\n",
       "    </tr>\n",
       "    <tr>\n",
       "      <th>1</th>\n",
       "      <td>3196793</td>\n",
       "      <td>/m/08yl5d</td>\n",
       "      <td>Getting Away with Murder: The JonBenét Ramsey ...</td>\n",
       "      <td>2000-02-16</td>\n",
       "      <td>NaN</td>\n",
       "      <td>95.0</td>\n",
       "      <td>{\"/m/02h40lc\": \"English Language\"}</td>\n",
       "      <td>{\"/m/09c7w0\": \"United States of America\"}</td>\n",
       "      <td>{\"/m/02n4kr\": \"Mystery\", \"/m/03bxz7\": \"Biograp...</td>\n",
       "      <td>NaN</td>\n",
       "      <td>NaN</td>\n",
       "      <td>NaN</td>\n",
       "      <td>NaN</td>\n",
       "      <td>6.0</td>\n",
       "      <td>69.0</td>\n",
       "      <td>NaN</td>\n",
       "      <td>Edward Lucas</td>\n",
       "      <td>2000.0</td>\n",
       "      <td>2000-01-01</td>\n",
       "    </tr>\n",
       "    <tr>\n",
       "      <th>2</th>\n",
       "      <td>28463795</td>\n",
       "      <td>/m/0crgdbh</td>\n",
       "      <td>Brun bitter</td>\n",
       "      <td>1988</td>\n",
       "      <td>NaN</td>\n",
       "      <td>83.0</td>\n",
       "      <td>{\"/m/05f_3\": \"Norwegian Language\"}</td>\n",
       "      <td>{\"/m/05b4w\": \"Norway\"}</td>\n",
       "      <td>{\"/m/0lsxr\": \"Crime Fiction\", \"/m/07s9rl0\": \"D...</td>\n",
       "      <td>NaN</td>\n",
       "      <td>NaN</td>\n",
       "      <td>NaN</td>\n",
       "      <td>NaN</td>\n",
       "      <td>5.6</td>\n",
       "      <td>40.0</td>\n",
       "      <td>NaN</td>\n",
       "      <td>Sølve Skagen</td>\n",
       "      <td>1988.0</td>\n",
       "      <td>1988-01-01</td>\n",
       "    </tr>\n",
       "  </tbody>\n",
       "</table>\n",
       "</div>"
      ],
      "text/plain": [
       "   wikipedia_movie_id freebase_movie_id  \\\n",
       "0              975900         /m/03vyhn   \n",
       "1             3196793         /m/08yl5d   \n",
       "2            28463795        /m/0crgdbh   \n",
       "\n",
       "                                                name release_date     revenue  \\\n",
       "0                                     Ghosts of Mars   2001-08-24  14010832.0   \n",
       "1  Getting Away with Murder: The JonBenét Ramsey ...   2000-02-16         NaN   \n",
       "2                                        Brun bitter         1988         NaN   \n",
       "\n",
       "   runtime                           languages  \\\n",
       "0     98.0  {\"/m/02h40lc\": \"English Language\"}   \n",
       "1     95.0  {\"/m/02h40lc\": \"English Language\"}   \n",
       "2     83.0  {\"/m/05f_3\": \"Norwegian Language\"}   \n",
       "\n",
       "                                   countries  \\\n",
       "0  {\"/m/09c7w0\": \"United States of America\"}   \n",
       "1  {\"/m/09c7w0\": \"United States of America\"}   \n",
       "2                     {\"/m/05b4w\": \"Norway\"}   \n",
       "\n",
       "                                              genres  global_revenue  \\\n",
       "0  {\"/m/01jfsb\": \"Thriller\", \"/m/06n90\": \"Science...      14010832.0   \n",
       "1  {\"/m/02n4kr\": \"Mystery\", \"/m/03bxz7\": \"Biograp...             NaN   \n",
       "2  {\"/m/0lsxr\": \"Crime Fiction\", \"/m/07s9rl0\": \"D...             NaN   \n",
       "\n",
       "       budget  gross_domestic  opening_weekend  rating_score  \\\n",
       "0  28000000.0       8709640.0        3804452.0           4.9   \n",
       "1         NaN             NaN              NaN           6.0   \n",
       "2         NaN             NaN              NaN           5.6   \n",
       "\n",
       "   number_of_ratings  watched_rank        producer  release_year  \\\n",
       "0            57000.0        3850.0  John Carpenter        2001.0   \n",
       "1               69.0           NaN    Edward Lucas        2000.0   \n",
       "2               40.0           NaN    Sølve Skagen        1988.0   \n",
       "\n",
       "  imdb_release_date  \n",
       "0        2001-01-01  \n",
       "1        2000-01-01  \n",
       "2        1988-01-01  "
      ]
     },
     "execution_count": 182,
     "metadata": {},
     "output_type": "execute_result"
    }
   ],
   "source": [
    "imdb_movies.drop(columns=['name'], inplace=True)\n",
    "imdb_movies[\"imdb_release_date\"] = pd.to_datetime(imdb_movies[\"release_year\"], format=\"%Y\")\n",
    "movies_augmented = pd.merge(movies, imdb_movies, on=\"wikipedia_movie_id\")\n",
    "movies_augmented.head(3)"
   ]
  },
  {
   "cell_type": "markdown",
   "id": "f98e1c7d4f9c2154",
   "metadata": {
    "collapsed": false,
    "jupyter": {
     "outputs_hidden": false
    }
   },
   "source": [
    "Similarly to the previous part, we see that the scraping was able to retrieve 1711 release years that were missing in our original data. We can similarly complete them."
   ]
  },
  {
   "cell_type": "code",
   "execution_count": 183,
   "id": "4e10e590a0f6dba2",
   "metadata": {
    "ExecuteTime": {
     "end_time": "2023-11-17T19:29:20.554051600Z",
     "start_time": "2023-11-17T19:29:06.954586200Z"
    },
    "collapsed": false,
    "jupyter": {
     "outputs_hidden": false
    }
   },
   "outputs": [],
   "source": [
    "missing_dates = movies_augmented[movies_augmented['release_date'].isna()].index.values"
   ]
  },
  {
   "cell_type": "code",
   "execution_count": 184,
   "id": "4acbb3b631994d0c",
   "metadata": {
    "ExecuteTime": {
     "end_time": "2023-11-17T19:29:20.555052Z",
     "start_time": "2023-11-17T19:29:06.972585600Z"
    },
    "collapsed": false,
    "jupyter": {
     "outputs_hidden": false
    }
   },
   "outputs": [
    {
     "data": {
      "text/plain": [
       "15    1941-01-01 00:00:00\n",
       "74    1927-01-01 00:00:00\n",
       "81    1977-01-01 00:00:00\n",
       "Name: release_date, dtype: object"
      ]
     },
     "execution_count": 184,
     "metadata": {},
     "output_type": "execute_result"
    }
   ],
   "source": [
    "# filling the missing dates with the imdb dates\n",
    "movies_augmented.loc[missing_dates, \"release_date\"] = movies_augmented.loc[missing_dates, \"imdb_release_date\"]\n",
    "\n",
    "# replace NaT with nans\n",
    "movies_augmented[\"release_date\"].where(movies_augmented[\"release_date\"].notnull(), None, inplace=True)\n",
    "movies_augmented.drop(columns=['release_year', 'imdb_release_date'], inplace=True)\n",
    "movies_augmented.loc[missing_dates, \"release_date\"].head(3)"
   ]
  },
  {
   "cell_type": "markdown",
   "id": "a19175169519486",
   "metadata": {
    "collapsed": false,
    "jupyter": {
     "outputs_hidden": false
    }
   },
   "source": [
    "We can also create a year feature in our dataset"
   ]
  },
  {
   "cell_type": "code",
   "execution_count": 185,
   "id": "65753eb14d188f75",
   "metadata": {
    "ExecuteTime": {
     "end_time": "2023-11-17T19:29:20.555052Z",
     "start_time": "2023-11-17T19:29:07.003006200Z"
    },
    "collapsed": false,
    "jupyter": {
     "outputs_hidden": false
    }
   },
   "outputs": [
    {
     "data": {
      "text/html": [
       "<div>\n",
       "<style scoped>\n",
       "    .dataframe tbody tr th:only-of-type {\n",
       "        vertical-align: middle;\n",
       "    }\n",
       "\n",
       "    .dataframe tbody tr th {\n",
       "        vertical-align: top;\n",
       "    }\n",
       "\n",
       "    .dataframe thead th {\n",
       "        text-align: right;\n",
       "    }\n",
       "</style>\n",
       "<table border=\"1\" class=\"dataframe\">\n",
       "  <thead>\n",
       "    <tr style=\"text-align: right;\">\n",
       "      <th></th>\n",
       "      <th>wikipedia_movie_id</th>\n",
       "      <th>freebase_movie_id</th>\n",
       "      <th>name</th>\n",
       "      <th>release_date</th>\n",
       "      <th>revenue</th>\n",
       "      <th>runtime</th>\n",
       "      <th>languages</th>\n",
       "      <th>countries</th>\n",
       "      <th>genres</th>\n",
       "      <th>global_revenue</th>\n",
       "      <th>budget</th>\n",
       "      <th>gross_domestic</th>\n",
       "      <th>opening_weekend</th>\n",
       "      <th>rating_score</th>\n",
       "      <th>number_of_ratings</th>\n",
       "      <th>watched_rank</th>\n",
       "      <th>producer</th>\n",
       "    </tr>\n",
       "  </thead>\n",
       "  <tbody>\n",
       "    <tr>\n",
       "      <th>0</th>\n",
       "      <td>975900</td>\n",
       "      <td>/m/03vyhn</td>\n",
       "      <td>Ghosts of Mars</td>\n",
       "      <td>2001-08-24</td>\n",
       "      <td>14010832.0</td>\n",
       "      <td>98.0</td>\n",
       "      <td>{\"/m/02h40lc\": \"English Language\"}</td>\n",
       "      <td>{\"/m/09c7w0\": \"United States of America\"}</td>\n",
       "      <td>{\"/m/01jfsb\": \"Thriller\", \"/m/06n90\": \"Science...</td>\n",
       "      <td>14010832.0</td>\n",
       "      <td>28000000.0</td>\n",
       "      <td>8709640.0</td>\n",
       "      <td>3804452.0</td>\n",
       "      <td>4.9</td>\n",
       "      <td>57000.0</td>\n",
       "      <td>3850.0</td>\n",
       "      <td>John Carpenter</td>\n",
       "    </tr>\n",
       "    <tr>\n",
       "      <th>1</th>\n",
       "      <td>3196793</td>\n",
       "      <td>/m/08yl5d</td>\n",
       "      <td>Getting Away with Murder: The JonBenét Ramsey ...</td>\n",
       "      <td>2000-02-16</td>\n",
       "      <td>NaN</td>\n",
       "      <td>95.0</td>\n",
       "      <td>{\"/m/02h40lc\": \"English Language\"}</td>\n",
       "      <td>{\"/m/09c7w0\": \"United States of America\"}</td>\n",
       "      <td>{\"/m/02n4kr\": \"Mystery\", \"/m/03bxz7\": \"Biograp...</td>\n",
       "      <td>NaN</td>\n",
       "      <td>NaN</td>\n",
       "      <td>NaN</td>\n",
       "      <td>NaN</td>\n",
       "      <td>6.0</td>\n",
       "      <td>69.0</td>\n",
       "      <td>NaN</td>\n",
       "      <td>Edward Lucas</td>\n",
       "    </tr>\n",
       "    <tr>\n",
       "      <th>2</th>\n",
       "      <td>28463795</td>\n",
       "      <td>/m/0crgdbh</td>\n",
       "      <td>Brun bitter</td>\n",
       "      <td>1988</td>\n",
       "      <td>NaN</td>\n",
       "      <td>83.0</td>\n",
       "      <td>{\"/m/05f_3\": \"Norwegian Language\"}</td>\n",
       "      <td>{\"/m/05b4w\": \"Norway\"}</td>\n",
       "      <td>{\"/m/0lsxr\": \"Crime Fiction\", \"/m/07s9rl0\": \"D...</td>\n",
       "      <td>NaN</td>\n",
       "      <td>NaN</td>\n",
       "      <td>NaN</td>\n",
       "      <td>NaN</td>\n",
       "      <td>5.6</td>\n",
       "      <td>40.0</td>\n",
       "      <td>NaN</td>\n",
       "      <td>Sølve Skagen</td>\n",
       "    </tr>\n",
       "  </tbody>\n",
       "</table>\n",
       "</div>"
      ],
      "text/plain": [
       "   wikipedia_movie_id freebase_movie_id  \\\n",
       "0              975900         /m/03vyhn   \n",
       "1             3196793         /m/08yl5d   \n",
       "2            28463795        /m/0crgdbh   \n",
       "\n",
       "                                                name release_date     revenue  \\\n",
       "0                                     Ghosts of Mars   2001-08-24  14010832.0   \n",
       "1  Getting Away with Murder: The JonBenét Ramsey ...   2000-02-16         NaN   \n",
       "2                                        Brun bitter         1988         NaN   \n",
       "\n",
       "   runtime                           languages  \\\n",
       "0     98.0  {\"/m/02h40lc\": \"English Language\"}   \n",
       "1     95.0  {\"/m/02h40lc\": \"English Language\"}   \n",
       "2     83.0  {\"/m/05f_3\": \"Norwegian Language\"}   \n",
       "\n",
       "                                   countries  \\\n",
       "0  {\"/m/09c7w0\": \"United States of America\"}   \n",
       "1  {\"/m/09c7w0\": \"United States of America\"}   \n",
       "2                     {\"/m/05b4w\": \"Norway\"}   \n",
       "\n",
       "                                              genres  global_revenue  \\\n",
       "0  {\"/m/01jfsb\": \"Thriller\", \"/m/06n90\": \"Science...      14010832.0   \n",
       "1  {\"/m/02n4kr\": \"Mystery\", \"/m/03bxz7\": \"Biograp...             NaN   \n",
       "2  {\"/m/0lsxr\": \"Crime Fiction\", \"/m/07s9rl0\": \"D...             NaN   \n",
       "\n",
       "       budget  gross_domestic  opening_weekend  rating_score  \\\n",
       "0  28000000.0       8709640.0        3804452.0           4.9   \n",
       "1         NaN             NaN              NaN           6.0   \n",
       "2         NaN             NaN              NaN           5.6   \n",
       "\n",
       "   number_of_ratings  watched_rank        producer  \n",
       "0            57000.0        3850.0  John Carpenter  \n",
       "1               69.0           NaN    Edward Lucas  \n",
       "2               40.0           NaN    Sølve Skagen  "
      ]
     },
     "execution_count": 185,
     "metadata": {},
     "output_type": "execute_result"
    }
   ],
   "source": [
    "movies_augmented.head(3)"
   ]
  },
  {
   "cell_type": "code",
   "execution_count": 186,
   "id": "aa6cfd0ce81b6742",
   "metadata": {
    "ExecuteTime": {
     "end_time": "2023-11-17T19:29:20.556056200Z",
     "start_time": "2023-11-17T19:29:07.021245900Z"
    },
    "collapsed": false,
    "jupyter": {
     "outputs_hidden": false
    }
   },
   "outputs": [
    {
     "data": {
      "text/html": [
       "<div>\n",
       "<style scoped>\n",
       "    .dataframe tbody tr th:only-of-type {\n",
       "        vertical-align: middle;\n",
       "    }\n",
       "\n",
       "    .dataframe tbody tr th {\n",
       "        vertical-align: top;\n",
       "    }\n",
       "\n",
       "    .dataframe thead th {\n",
       "        text-align: right;\n",
       "    }\n",
       "</style>\n",
       "<table border=\"1\" class=\"dataframe\">\n",
       "  <thead>\n",
       "    <tr style=\"text-align: right;\">\n",
       "      <th></th>\n",
       "      <th>wikipedia_movie_id</th>\n",
       "      <th>freebase_movie_id</th>\n",
       "      <th>name</th>\n",
       "      <th>release_date</th>\n",
       "      <th>revenue</th>\n",
       "      <th>runtime</th>\n",
       "      <th>languages</th>\n",
       "      <th>countries</th>\n",
       "      <th>genres</th>\n",
       "      <th>global_revenue</th>\n",
       "      <th>budget</th>\n",
       "      <th>gross_domestic</th>\n",
       "      <th>opening_weekend</th>\n",
       "      <th>rating_score</th>\n",
       "      <th>number_of_ratings</th>\n",
       "      <th>watched_rank</th>\n",
       "      <th>producer</th>\n",
       "      <th>year</th>\n",
       "    </tr>\n",
       "  </thead>\n",
       "  <tbody>\n",
       "    <tr>\n",
       "      <th>0</th>\n",
       "      <td>975900</td>\n",
       "      <td>/m/03vyhn</td>\n",
       "      <td>Ghosts of Mars</td>\n",
       "      <td>2001-08-24</td>\n",
       "      <td>14010832.0</td>\n",
       "      <td>98.0</td>\n",
       "      <td>{\"/m/02h40lc\": \"English Language\"}</td>\n",
       "      <td>{\"/m/09c7w0\": \"United States of America\"}</td>\n",
       "      <td>{\"/m/01jfsb\": \"Thriller\", \"/m/06n90\": \"Science...</td>\n",
       "      <td>14010832.0</td>\n",
       "      <td>28000000.0</td>\n",
       "      <td>8709640.0</td>\n",
       "      <td>3804452.0</td>\n",
       "      <td>4.9</td>\n",
       "      <td>57000.0</td>\n",
       "      <td>3850.0</td>\n",
       "      <td>John Carpenter</td>\n",
       "      <td>2001</td>\n",
       "    </tr>\n",
       "    <tr>\n",
       "      <th>1</th>\n",
       "      <td>3196793</td>\n",
       "      <td>/m/08yl5d</td>\n",
       "      <td>Getting Away with Murder: The JonBenét Ramsey ...</td>\n",
       "      <td>2000-02-16</td>\n",
       "      <td>NaN</td>\n",
       "      <td>95.0</td>\n",
       "      <td>{\"/m/02h40lc\": \"English Language\"}</td>\n",
       "      <td>{\"/m/09c7w0\": \"United States of America\"}</td>\n",
       "      <td>{\"/m/02n4kr\": \"Mystery\", \"/m/03bxz7\": \"Biograp...</td>\n",
       "      <td>NaN</td>\n",
       "      <td>NaN</td>\n",
       "      <td>NaN</td>\n",
       "      <td>NaN</td>\n",
       "      <td>6.0</td>\n",
       "      <td>69.0</td>\n",
       "      <td>NaN</td>\n",
       "      <td>Edward Lucas</td>\n",
       "      <td>2000</td>\n",
       "    </tr>\n",
       "    <tr>\n",
       "      <th>2</th>\n",
       "      <td>28463795</td>\n",
       "      <td>/m/0crgdbh</td>\n",
       "      <td>Brun bitter</td>\n",
       "      <td>1988</td>\n",
       "      <td>NaN</td>\n",
       "      <td>83.0</td>\n",
       "      <td>{\"/m/05f_3\": \"Norwegian Language\"}</td>\n",
       "      <td>{\"/m/05b4w\": \"Norway\"}</td>\n",
       "      <td>{\"/m/0lsxr\": \"Crime Fiction\", \"/m/07s9rl0\": \"D...</td>\n",
       "      <td>NaN</td>\n",
       "      <td>NaN</td>\n",
       "      <td>NaN</td>\n",
       "      <td>NaN</td>\n",
       "      <td>5.6</td>\n",
       "      <td>40.0</td>\n",
       "      <td>NaN</td>\n",
       "      <td>Sølve Skagen</td>\n",
       "      <td>1988</td>\n",
       "    </tr>\n",
       "  </tbody>\n",
       "</table>\n",
       "</div>"
      ],
      "text/plain": [
       "   wikipedia_movie_id freebase_movie_id  \\\n",
       "0              975900         /m/03vyhn   \n",
       "1             3196793         /m/08yl5d   \n",
       "2            28463795        /m/0crgdbh   \n",
       "\n",
       "                                                name release_date     revenue  \\\n",
       "0                                     Ghosts of Mars   2001-08-24  14010832.0   \n",
       "1  Getting Away with Murder: The JonBenét Ramsey ...   2000-02-16         NaN   \n",
       "2                                        Brun bitter         1988         NaN   \n",
       "\n",
       "   runtime                           languages  \\\n",
       "0     98.0  {\"/m/02h40lc\": \"English Language\"}   \n",
       "1     95.0  {\"/m/02h40lc\": \"English Language\"}   \n",
       "2     83.0  {\"/m/05f_3\": \"Norwegian Language\"}   \n",
       "\n",
       "                                   countries  \\\n",
       "0  {\"/m/09c7w0\": \"United States of America\"}   \n",
       "1  {\"/m/09c7w0\": \"United States of America\"}   \n",
       "2                     {\"/m/05b4w\": \"Norway\"}   \n",
       "\n",
       "                                              genres  global_revenue  \\\n",
       "0  {\"/m/01jfsb\": \"Thriller\", \"/m/06n90\": \"Science...      14010832.0   \n",
       "1  {\"/m/02n4kr\": \"Mystery\", \"/m/03bxz7\": \"Biograp...             NaN   \n",
       "2  {\"/m/0lsxr\": \"Crime Fiction\", \"/m/07s9rl0\": \"D...             NaN   \n",
       "\n",
       "       budget  gross_domestic  opening_weekend  rating_score  \\\n",
       "0  28000000.0       8709640.0        3804452.0           4.9   \n",
       "1         NaN             NaN              NaN           6.0   \n",
       "2         NaN             NaN              NaN           5.6   \n",
       "\n",
       "   number_of_ratings  watched_rank        producer  year  \n",
       "0            57000.0        3850.0  John Carpenter  2001  \n",
       "1               69.0           NaN    Edward Lucas  2000  \n",
       "2               40.0           NaN    Sølve Skagen  1988  "
      ]
     },
     "execution_count": 186,
     "metadata": {},
     "output_type": "execute_result"
    }
   ],
   "source": [
    "\"\"\"extracting the year from the release date feature\"\"\"\n",
    "\n",
    "# extracting the years from the release date feature\n",
    "movie_with_date = movies_augmented[-movies_augmented[\"release_date\"].isna()].copy(deep=True)\n",
    "dates = movie_with_date[\"release_date\"]\n",
    "date_years = dates.astype(str).str.extract(r'(\\d{4})')\n",
    "\n",
    "# adding an index column & renaiming the date_years columns\n",
    "date_years[\"index\"] = date_years.index\n",
    "date_years.columns = [\"year\", \"index\"]\n",
    "\n",
    "# adding an index column to the movies_augmented dataframe\n",
    "movies_augmented[\"index\"] = movies_augmented.index\n",
    "\n",
    "# merging the movies_augmented and date_years dataframes on the index column\n",
    "merged = pd.merge(movies_augmented, date_years, on=\"index\", how=\"left\")\n",
    "merged.drop(columns=[\"index\"], inplace=True)\n",
    "movies_augmented = merged.copy(deep=True)\n",
    "movies_augmented.head(3)"
   ]
  },
  {
   "cell_type": "code",
   "execution_count": 187,
   "id": "a379db2fb54ef136",
   "metadata": {
    "ExecuteTime": {
     "end_time": "2023-11-17T19:29:20.556056200Z",
     "start_time": "2023-11-17T19:29:07.208237500Z"
    },
    "collapsed": false,
    "jupyter": {
     "outputs_hidden": false
    }
   },
   "outputs": [
    {
     "data": {
      "text/plain": [
       "1   NaN\n",
       "2   NaN\n",
       "3   NaN\n",
       "Name: revenue, dtype: float64"
      ]
     },
     "execution_count": 187,
     "metadata": {},
     "output_type": "execute_result"
    }
   ],
   "source": [
    "# filling the missing dates with the imdb dates\n",
    "missing_revenue = movies_augmented[movies_augmented['revenue'].isna()].index.values\n",
    "movies_augmented.loc[missing_revenue, \"revenue\"] = movies_augmented.loc[missing_revenue, \"global_revenue\"]\n",
    "movies_augmented.loc[missing_revenue, \"revenue\"].head(3)"
   ]
  },
  {
   "cell_type": "markdown",
   "id": "8e0528c58342a825",
   "metadata": {
    "collapsed": false,
    "jupyter": {
     "outputs_hidden": false
    }
   },
   "source": [
    "### Removing useless data\n",
    "We shouldn't consider movies with no revenue data, no valid date or no valid ratingwe shouldn't consider movies with no revenue data, no valid date or no valid rating"
   ]
  },
  {
   "cell_type": "code",
   "execution_count": 188,
   "id": "cbe254b5777969dd",
   "metadata": {
    "ExecuteTime": {
     "end_time": "2023-11-17T19:29:20.556056200Z",
     "start_time": "2023-11-17T19:29:07.242619800Z"
    },
    "collapsed": false,
    "jupyter": {
     "outputs_hidden": false
    }
   },
   "outputs": [
    {
     "name": "stdout",
     "output_type": "stream",
     "text": [
      "Missing release date datapoints: 0\n",
      "Missing rating datapoints: 0\n",
      "Missing revenue datapoints: 0\n"
     ]
    }
   ],
   "source": [
    "#droping missing revenue, date & rating datapoints\n",
    "revenue_nans_filter = movies_augmented['revenue'].isna()\n",
    "release_date_nans_filter = movies_augmented['release_date'].isna()\n",
    "rating_nans_filter = movies_augmented['rating_score'].isna()\n",
    "\n",
    "movies_augmented = movies_augmented[~(revenue_nans_filter | release_date_nans_filter | rating_nans_filter)].copy(\n",
    "    deep=True)\n",
    "\n",
    "# dropping the global_revenue column\n",
    "movies_augmented.drop(columns=[\"global_revenue\"], inplace=True)\n",
    "\n",
    "# checking we removed all the useless datapoints\n",
    "missing_revenue = movies_augmented[\"revenue\"].isna().sum()\n",
    "missing_dates = movies_augmented[\"release_date\"].isna().sum()\n",
    "missing_rating = movies_augmented[\"rating_score\"].isna().sum()\n",
    "\n",
    "print(f\"Missing release date datapoints: {missing_revenue}\")\n",
    "print(f\"Missing rating datapoints: {missing_dates}\")\n",
    "print(f\"Missing revenue datapoints: {missing_rating}\")"
   ]
  },
  {
   "cell_type": "code",
   "execution_count": 189,
   "id": "26722333c367e8a1",
   "metadata": {
    "ExecuteTime": {
     "end_time": "2023-11-17T19:29:20.557052300Z",
     "start_time": "2023-11-17T19:29:07.255155900Z"
    },
    "collapsed": false,
    "jupyter": {
     "outputs_hidden": false
    }
   },
   "outputs": [
    {
     "data": {
      "text/html": [
       "<div>\n",
       "<style scoped>\n",
       "    .dataframe tbody tr th:only-of-type {\n",
       "        vertical-align: middle;\n",
       "    }\n",
       "\n",
       "    .dataframe tbody tr th {\n",
       "        vertical-align: top;\n",
       "    }\n",
       "\n",
       "    .dataframe thead th {\n",
       "        text-align: right;\n",
       "    }\n",
       "</style>\n",
       "<table border=\"1\" class=\"dataframe\">\n",
       "  <thead>\n",
       "    <tr style=\"text-align: right;\">\n",
       "      <th></th>\n",
       "      <th>wikipedia_movie_id</th>\n",
       "      <th>freebase_movie_id</th>\n",
       "      <th>name</th>\n",
       "      <th>release_date</th>\n",
       "      <th>revenue</th>\n",
       "      <th>runtime</th>\n",
       "      <th>languages</th>\n",
       "      <th>countries</th>\n",
       "      <th>genres</th>\n",
       "      <th>budget</th>\n",
       "      <th>gross_domestic</th>\n",
       "      <th>opening_weekend</th>\n",
       "      <th>rating_score</th>\n",
       "      <th>number_of_ratings</th>\n",
       "      <th>watched_rank</th>\n",
       "      <th>producer</th>\n",
       "      <th>year</th>\n",
       "    </tr>\n",
       "  </thead>\n",
       "  <tbody>\n",
       "    <tr>\n",
       "      <th>0</th>\n",
       "      <td>975900</td>\n",
       "      <td>/m/03vyhn</td>\n",
       "      <td>Ghosts of Mars</td>\n",
       "      <td>2001-08-24</td>\n",
       "      <td>14010832.0</td>\n",
       "      <td>98.0</td>\n",
       "      <td>{\"/m/02h40lc\": \"English Language\"}</td>\n",
       "      <td>{\"/m/09c7w0\": \"United States of America\"}</td>\n",
       "      <td>{\"/m/01jfsb\": \"Thriller\", \"/m/06n90\": \"Science...</td>\n",
       "      <td>28000000.0</td>\n",
       "      <td>8709640.0</td>\n",
       "      <td>3804452.0</td>\n",
       "      <td>4.9</td>\n",
       "      <td>57000.0</td>\n",
       "      <td>3850.0</td>\n",
       "      <td>John Carpenter</td>\n",
       "      <td>2001</td>\n",
       "    </tr>\n",
       "    <tr>\n",
       "      <th>7</th>\n",
       "      <td>10408933</td>\n",
       "      <td>/m/02qc0j7</td>\n",
       "      <td>Alexander's Ragtime Band</td>\n",
       "      <td>1938-08-16</td>\n",
       "      <td>3600000.0</td>\n",
       "      <td>106.0</td>\n",
       "      <td>{\"/m/02h40lc\": \"English Language\"}</td>\n",
       "      <td>{\"/m/09c7w0\": \"United States of America\"}</td>\n",
       "      <td>{\"/m/04t36\": \"Musical\", \"/m/01z4y\": \"Comedy\", ...</td>\n",
       "      <td>2000000.0</td>\n",
       "      <td>NaN</td>\n",
       "      <td>NaN</td>\n",
       "      <td>6.8</td>\n",
       "      <td>2300.0</td>\n",
       "      <td>NaN</td>\n",
       "      <td>Henry King</td>\n",
       "      <td>1938</td>\n",
       "    </tr>\n",
       "    <tr>\n",
       "      <th>13</th>\n",
       "      <td>171005</td>\n",
       "      <td>/m/016ywb</td>\n",
       "      <td>Henry V</td>\n",
       "      <td>1989-11-08</td>\n",
       "      <td>10161099.0</td>\n",
       "      <td>137.0</td>\n",
       "      <td>{\"/m/02h40lc\": \"English Language\"}</td>\n",
       "      <td>{\"/m/07ssc\": \"United Kingdom\"}</td>\n",
       "      <td>{\"/m/04xvh5\": \"Costume drama\", \"/m/082gq\": \"Wa...</td>\n",
       "      <td>9000000.0</td>\n",
       "      <td>10161099.0</td>\n",
       "      <td>64933.0</td>\n",
       "      <td>7.5</td>\n",
       "      <td>31000.0</td>\n",
       "      <td>NaN</td>\n",
       "      <td>Kenneth Branagh</td>\n",
       "      <td>1989</td>\n",
       "    </tr>\n",
       "  </tbody>\n",
       "</table>\n",
       "</div>"
      ],
      "text/plain": [
       "    wikipedia_movie_id freebase_movie_id                      name  \\\n",
       "0               975900         /m/03vyhn            Ghosts of Mars   \n",
       "7             10408933        /m/02qc0j7  Alexander's Ragtime Band   \n",
       "13              171005         /m/016ywb                   Henry V   \n",
       "\n",
       "   release_date     revenue  runtime                           languages  \\\n",
       "0    2001-08-24  14010832.0     98.0  {\"/m/02h40lc\": \"English Language\"}   \n",
       "7    1938-08-16   3600000.0    106.0  {\"/m/02h40lc\": \"English Language\"}   \n",
       "13   1989-11-08  10161099.0    137.0  {\"/m/02h40lc\": \"English Language\"}   \n",
       "\n",
       "                                    countries  \\\n",
       "0   {\"/m/09c7w0\": \"United States of America\"}   \n",
       "7   {\"/m/09c7w0\": \"United States of America\"}   \n",
       "13             {\"/m/07ssc\": \"United Kingdom\"}   \n",
       "\n",
       "                                               genres      budget  \\\n",
       "0   {\"/m/01jfsb\": \"Thriller\", \"/m/06n90\": \"Science...  28000000.0   \n",
       "7   {\"/m/04t36\": \"Musical\", \"/m/01z4y\": \"Comedy\", ...   2000000.0   \n",
       "13  {\"/m/04xvh5\": \"Costume drama\", \"/m/082gq\": \"Wa...   9000000.0   \n",
       "\n",
       "    gross_domestic  opening_weekend  rating_score  number_of_ratings  \\\n",
       "0        8709640.0        3804452.0           4.9            57000.0   \n",
       "7              NaN              NaN           6.8             2300.0   \n",
       "13      10161099.0          64933.0           7.5            31000.0   \n",
       "\n",
       "    watched_rank         producer  year  \n",
       "0         3850.0   John Carpenter  2001  \n",
       "7            NaN       Henry King  1938  \n",
       "13           NaN  Kenneth Branagh  1989  "
      ]
     },
     "execution_count": 189,
     "metadata": {},
     "output_type": "execute_result"
    }
   ],
   "source": [
    "movies_augmented.head(3)"
   ]
  },
  {
   "cell_type": "code",
   "execution_count": 190,
   "id": "5cab1f17cfbadc8a",
   "metadata": {
    "ExecuteTime": {
     "end_time": "2023-11-17T19:29:20.557052300Z",
     "start_time": "2023-11-17T19:29:07.270158Z"
    },
    "collapsed": false,
    "jupyter": {
     "outputs_hidden": false
    }
   },
   "outputs": [
    {
     "data": {
      "text/plain": [
       "(17766, 17)"
      ]
     },
     "execution_count": 190,
     "metadata": {},
     "output_type": "execute_result"
    }
   ],
   "source": [
    "movies_augmented.shape"
   ]
  },
  {
   "cell_type": "markdown",
   "id": "1d13099da7f2f99b",
   "metadata": {
    "collapsed": false,
    "jupyter": {
     "outputs_hidden": false
    }
   },
   "source": [
    "We are left with close to 18000 clean datapoints, which is a lot less than the total numbers of movies we had at the beginning. But this is necessary to correctly define the next analysis steps we will conduct."
   ]
  },
  {
   "cell_type": "code",
   "execution_count": 191,
   "id": "ff1d0993b1a305dd",
   "metadata": {
    "ExecuteTime": {
     "end_time": "2023-11-17T19:29:20.557052300Z",
     "start_time": "2023-11-17T19:29:07.286490Z"
    },
    "collapsed": false,
    "jupyter": {
     "outputs_hidden": false
    }
   },
   "outputs": [],
   "source": [
    "# converting years to floats & defining a new dataframe\n",
    "movies = movies_augmented.copy(deep=True)\n",
    "movies[\"year\"] = movies[\"year\"].astype(float)"
   ]
  },
  {
   "cell_type": "markdown",
   "id": "d80c6881e9f1ef8b",
   "metadata": {
    "collapsed": false,
    "jupyter": {
     "outputs_hidden": false
    }
   },
   "source": [
    "## Taking care of inflation"
   ]
  },
  {
   "cell_type": "markdown",
   "id": "142367d7d486874e",
   "metadata": {
    "collapsed": false,
    "jupyter": {
     "outputs_hidden": false
    }
   },
   "source": [
    "Comparing movie revenues across different periods of time is not relevant as the value of the USD has varied inbetween. This calls for taking inflation into account and adjusting revenues across all time periods on a single reference date."
   ]
  },
  {
   "cell_type": "code",
   "execution_count": 192,
   "id": "ee7469f077c28325",
   "metadata": {
    "ExecuteTime": {
     "end_time": "2023-11-17T19:29:20.558052400Z",
     "start_time": "2023-11-17T19:29:07.302490400Z"
    },
    "collapsed": false,
    "jupyter": {
     "outputs_hidden": false
    }
   },
   "outputs": [
    {
     "data": {
      "text/html": [
       "<div>\n",
       "<style scoped>\n",
       "    .dataframe tbody tr th:only-of-type {\n",
       "        vertical-align: middle;\n",
       "    }\n",
       "\n",
       "    .dataframe tbody tr th {\n",
       "        vertical-align: top;\n",
       "    }\n",
       "\n",
       "    .dataframe thead th {\n",
       "        text-align: right;\n",
       "    }\n",
       "</style>\n",
       "<table border=\"1\" class=\"dataframe\">\n",
       "  <thead>\n",
       "    <tr style=\"text-align: right;\">\n",
       "      <th></th>\n",
       "      <th>year</th>\n",
       "      <th>avg_avg</th>\n",
       "    </tr>\n",
       "  </thead>\n",
       "  <tbody>\n",
       "    <tr>\n",
       "      <th>0</th>\n",
       "      <td>1913</td>\n",
       "      <td>0.0</td>\n",
       "    </tr>\n",
       "    <tr>\n",
       "      <th>1</th>\n",
       "      <td>1914</td>\n",
       "      <td>1.0</td>\n",
       "    </tr>\n",
       "    <tr>\n",
       "      <th>2</th>\n",
       "      <td>1915</td>\n",
       "      <td>1.0</td>\n",
       "    </tr>\n",
       "  </tbody>\n",
       "</table>\n",
       "</div>"
      ],
      "text/plain": [
       "   year  avg_avg\n",
       "0  1913      0.0\n",
       "1  1914      1.0\n",
       "2  1915      1.0"
      ]
     },
     "execution_count": 192,
     "metadata": {},
     "output_type": "execute_result"
    }
   ],
   "source": [
    "# inflation data from:\n",
    "# https://www.usinflationcalculator.com/inflation/consumer-price-index-and-annual-percent-changes-from-1913-to-2008/\n",
    "us_inflation = pd.read_csv(ADDITIONAL_FOLDER + \"US_yearly_inflation.csv\")\n",
    "us_yearly_inflation = us_inflation[[\"Year\", \"Avg-Avg\"]].fillna(0)\n",
    "us_yearly_inflation.rename(columns={\"Year\": \"year\", \"Avg-Avg\": \"avg_avg\"}, inplace=True)\n",
    "us_yearly_inflation.head(3)"
   ]
  },
  {
   "cell_type": "code",
   "execution_count": 193,
   "id": "33d31c623d679301",
   "metadata": {
    "ExecuteTime": {
     "end_time": "2023-11-17T19:29:20.558052400Z",
     "start_time": "2023-11-17T19:29:07.334192300Z"
    },
    "collapsed": false,
    "jupyter": {
     "outputs_hidden": false
    }
   },
   "outputs": [],
   "source": [
    "# the 1897 datapoint needs to be removed as we have no inflation data for before 1913\n",
    "movies = movies[movies[\"year\"] >= 1913]"
   ]
  },
  {
   "cell_type": "code",
   "execution_count": 194,
   "id": "b32fb5ce-40f9-414a-9ce2-138d38191aba",
   "metadata": {},
   "outputs": [
    {
     "data": {
      "text/html": [
       "<div>\n",
       "<style scoped>\n",
       "    .dataframe tbody tr th:only-of-type {\n",
       "        vertical-align: middle;\n",
       "    }\n",
       "\n",
       "    .dataframe tbody tr th {\n",
       "        vertical-align: top;\n",
       "    }\n",
       "\n",
       "    .dataframe thead th {\n",
       "        text-align: right;\n",
       "    }\n",
       "</style>\n",
       "<table border=\"1\" class=\"dataframe\">\n",
       "  <thead>\n",
       "    <tr style=\"text-align: right;\">\n",
       "      <th></th>\n",
       "      <th>year</th>\n",
       "      <th>avg_avg</th>\n",
       "    </tr>\n",
       "  </thead>\n",
       "  <tbody>\n",
       "    <tr>\n",
       "      <th>0</th>\n",
       "      <td>1913</td>\n",
       "      <td>0.0</td>\n",
       "    </tr>\n",
       "    <tr>\n",
       "      <th>1</th>\n",
       "      <td>1914</td>\n",
       "      <td>1.0</td>\n",
       "    </tr>\n",
       "    <tr>\n",
       "      <th>2</th>\n",
       "      <td>1915</td>\n",
       "      <td>1.0</td>\n",
       "    </tr>\n",
       "    <tr>\n",
       "      <th>3</th>\n",
       "      <td>1916</td>\n",
       "      <td>7.9</td>\n",
       "    </tr>\n",
       "    <tr>\n",
       "      <th>4</th>\n",
       "      <td>1917</td>\n",
       "      <td>17.4</td>\n",
       "    </tr>\n",
       "  </tbody>\n",
       "</table>\n",
       "</div>"
      ],
      "text/plain": [
       "   year  avg_avg\n",
       "0  1913      0.0\n",
       "1  1914      1.0\n",
       "2  1915      1.0\n",
       "3  1916      7.9\n",
       "4  1917     17.4"
      ]
     },
     "execution_count": 194,
     "metadata": {},
     "output_type": "execute_result"
    }
   ],
   "source": [
    "us_yearly_inflation.head(5)"
   ]
  },
  {
   "cell_type": "code",
   "execution_count": 195,
   "id": "e22e10433b0a2ab1",
   "metadata": {
    "ExecuteTime": {
     "end_time": "2023-11-17T19:29:20.558052400Z",
     "start_time": "2023-11-17T19:29:07.350194800Z"
    },
    "collapsed": false,
    "jupyter": {
     "outputs_hidden": false
    }
   },
   "outputs": [
    {
     "data": {
      "image/png": "[encoded data removed]",
      "text/plain": [
       "<Figure size 432x288 with 1 Axes>"
      ]
     },
     "metadata": {
      "needs_background": "light"
     },
     "output_type": "display_data"
    }
   ],
   "source": [
    "# plotting the yearly USD Inflation Rates\n",
    "x_values = us_yearly_inflation['year'].values\n",
    "y_values = us_yearly_inflation['avg_avg'].values\n",
    "\n",
    "plt.plot(x_values, y_values)\n",
    "plt.title(\"Yearly USD Inflation Rates (From Average to Average)\")\n",
    "plt.xlabel(\"Year\")\n",
    "plt.ylabel(\"Inflation Rate (%)\")\n",
    "plt.grid(False)\n",
    "plt.show()"
   ]
  },
  {
   "cell_type": "code",
   "execution_count": 196,
   "id": "4e1de3cbd70394ca",
   "metadata": {
    "ExecuteTime": {
     "end_time": "2023-11-17T19:29:20.559051800Z",
     "start_time": "2023-11-17T19:29:07.505537800Z"
    },
    "collapsed": false,
    "jupyter": {
     "outputs_hidden": false
    }
   },
   "outputs": [],
   "source": [
    "prices = [1]  # we set the initial price as a reference\n",
    "\n",
    "# Calculate prices based on inflation rates\n",
    "for index, row in us_yearly_inflation.iterrows():\n",
    "    if index == 0:\n",
    "        continue  # Skip the first row (no inflation data for the initial price)\n",
    "    price = prices[-1] * (1 + row['avg_avg'] / 100)\n",
    "    prices.append(price)\n",
    "\n",
    "# Add the prices to the DataFrame\n",
    "us_yearly_inflation['price'] = prices"
   ]
  },
  {
   "cell_type": "code",
   "execution_count": 197,
   "id": "3b62cd9fc671aec5",
   "metadata": {
    "ExecuteTime": {
     "end_time": "2023-11-17T19:29:20.559051800Z",
     "start_time": "2023-11-17T19:29:07.522538100Z"
    },
    "collapsed": false,
    "jupyter": {
     "outputs_hidden": false
    }
   },
   "outputs": [
    {
     "data": {
      "text/html": [
       "<div>\n",
       "<style scoped>\n",
       "    .dataframe tbody tr th:only-of-type {\n",
       "        vertical-align: middle;\n",
       "    }\n",
       "\n",
       "    .dataframe tbody tr th {\n",
       "        vertical-align: top;\n",
       "    }\n",
       "\n",
       "    .dataframe thead th {\n",
       "        text-align: right;\n",
       "    }\n",
       "</style>\n",
       "<table border=\"1\" class=\"dataframe\">\n",
       "  <thead>\n",
       "    <tr style=\"text-align: right;\">\n",
       "      <th></th>\n",
       "      <th>wikipedia_movie_id</th>\n",
       "      <th>freebase_movie_id</th>\n",
       "      <th>name</th>\n",
       "      <th>release_date</th>\n",
       "      <th>revenue</th>\n",
       "      <th>runtime</th>\n",
       "      <th>languages</th>\n",
       "      <th>countries</th>\n",
       "      <th>genres</th>\n",
       "      <th>budget</th>\n",
       "      <th>...</th>\n",
       "      <th>rating_score</th>\n",
       "      <th>number_of_ratings</th>\n",
       "      <th>watched_rank</th>\n",
       "      <th>producer</th>\n",
       "      <th>year</th>\n",
       "      <th>correlation_factor</th>\n",
       "      <th>adjusted_revenue</th>\n",
       "      <th>adjusted_budget</th>\n",
       "      <th>adjusted_gross_domestic</th>\n",
       "      <th>adjusted_opening_weekend</th>\n",
       "    </tr>\n",
       "  </thead>\n",
       "  <tbody>\n",
       "    <tr>\n",
       "      <th>0</th>\n",
       "      <td>975900</td>\n",
       "      <td>/m/03vyhn</td>\n",
       "      <td>Ghosts of Mars</td>\n",
       "      <td>2001-08-24</td>\n",
       "      <td>14010832.0</td>\n",
       "      <td>98.0</td>\n",
       "      <td>{\"/m/02h40lc\": \"English Language\"}</td>\n",
       "      <td>{\"/m/09c7w0\": \"United States of America\"}</td>\n",
       "      <td>{\"/m/01jfsb\": \"Thriller\", \"/m/06n90\": \"Science...</td>\n",
       "      <td>28000000.0</td>\n",
       "      <td>...</td>\n",
       "      <td>4.9</td>\n",
       "      <td>57000.0</td>\n",
       "      <td>3850.0</td>\n",
       "      <td>John Carpenter</td>\n",
       "      <td>2001.0</td>\n",
       "      <td>1.295952</td>\n",
       "      <td>1.815737e+07</td>\n",
       "      <td>3.628666e+07</td>\n",
       "      <td>1.128728e+07</td>\n",
       "      <td>4.930388e+06</td>\n",
       "    </tr>\n",
       "    <tr>\n",
       "      <th>1</th>\n",
       "      <td>10408933</td>\n",
       "      <td>/m/02qc0j7</td>\n",
       "      <td>Alexander's Ragtime Band</td>\n",
       "      <td>1938-08-16</td>\n",
       "      <td>3600000.0</td>\n",
       "      <td>106.0</td>\n",
       "      <td>{\"/m/02h40lc\": \"English Language\"}</td>\n",
       "      <td>{\"/m/09c7w0\": \"United States of America\"}</td>\n",
       "      <td>{\"/m/04t36\": \"Musical\", \"/m/01z4y\": \"Comedy\", ...</td>\n",
       "      <td>2000000.0</td>\n",
       "      <td>...</td>\n",
       "      <td>6.8</td>\n",
       "      <td>2300.0</td>\n",
       "      <td>NaN</td>\n",
       "      <td>Henry King</td>\n",
       "      <td>1938.0</td>\n",
       "      <td>16.274561</td>\n",
       "      <td>5.858842e+07</td>\n",
       "      <td>3.254912e+07</td>\n",
       "      <td>NaN</td>\n",
       "      <td>NaN</td>\n",
       "    </tr>\n",
       "    <tr>\n",
       "      <th>2</th>\n",
       "      <td>171005</td>\n",
       "      <td>/m/016ywb</td>\n",
       "      <td>Henry V</td>\n",
       "      <td>1989-11-08</td>\n",
       "      <td>10161099.0</td>\n",
       "      <td>137.0</td>\n",
       "      <td>{\"/m/02h40lc\": \"English Language\"}</td>\n",
       "      <td>{\"/m/07ssc\": \"United Kingdom\"}</td>\n",
       "      <td>{\"/m/04xvh5\": \"Costume drama\", \"/m/082gq\": \"Wa...</td>\n",
       "      <td>9000000.0</td>\n",
       "      <td>...</td>\n",
       "      <td>7.5</td>\n",
       "      <td>31000.0</td>\n",
       "      <td>NaN</td>\n",
       "      <td>Kenneth Branagh</td>\n",
       "      <td>1989.0</td>\n",
       "      <td>1.852181</td>\n",
       "      <td>1.882019e+07</td>\n",
       "      <td>1.666963e+07</td>\n",
       "      <td>1.882019e+07</td>\n",
       "      <td>1.202676e+05</td>\n",
       "    </tr>\n",
       "  </tbody>\n",
       "</table>\n",
       "<p>3 rows × 22 columns</p>\n",
       "</div>"
      ],
      "text/plain": [
       "   wikipedia_movie_id freebase_movie_id                      name  \\\n",
       "0              975900         /m/03vyhn            Ghosts of Mars   \n",
       "1            10408933        /m/02qc0j7  Alexander's Ragtime Band   \n",
       "2              171005         /m/016ywb                   Henry V   \n",
       "\n",
       "  release_date     revenue  runtime                           languages  \\\n",
       "0   2001-08-24  14010832.0     98.0  {\"/m/02h40lc\": \"English Language\"}   \n",
       "1   1938-08-16   3600000.0    106.0  {\"/m/02h40lc\": \"English Language\"}   \n",
       "2   1989-11-08  10161099.0    137.0  {\"/m/02h40lc\": \"English Language\"}   \n",
       "\n",
       "                                   countries  \\\n",
       "0  {\"/m/09c7w0\": \"United States of America\"}   \n",
       "1  {\"/m/09c7w0\": \"United States of America\"}   \n",
       "2             {\"/m/07ssc\": \"United Kingdom\"}   \n",
       "\n",
       "                                              genres      budget  ...  \\\n",
       "0  {\"/m/01jfsb\": \"Thriller\", \"/m/06n90\": \"Science...  28000000.0  ...   \n",
       "1  {\"/m/04t36\": \"Musical\", \"/m/01z4y\": \"Comedy\", ...   2000000.0  ...   \n",
       "2  {\"/m/04xvh5\": \"Costume drama\", \"/m/082gq\": \"Wa...   9000000.0  ...   \n",
       "\n",
       "   rating_score  number_of_ratings  watched_rank         producer    year  \\\n",
       "0           4.9            57000.0        3850.0   John Carpenter  2001.0   \n",
       "1           6.8             2300.0           NaN       Henry King  1938.0   \n",
       "2           7.5            31000.0           NaN  Kenneth Branagh  1989.0   \n",
       "\n",
       "  correlation_factor  adjusted_revenue  adjusted_budget  \\\n",
       "0           1.295952      1.815737e+07     3.628666e+07   \n",
       "1          16.274561      5.858842e+07     3.254912e+07   \n",
       "2           1.852181      1.882019e+07     1.666963e+07   \n",
       "\n",
       "   adjusted_gross_domestic  adjusted_opening_weekend  \n",
       "0             1.128728e+07              4.930388e+06  \n",
       "1                      NaN                       NaN  \n",
       "2             1.882019e+07              1.202676e+05  \n",
       "\n",
       "[3 rows x 22 columns]"
      ]
     },
     "execution_count": 197,
     "metadata": {},
     "output_type": "execute_result"
    }
   ],
   "source": [
    "reference_price = us_yearly_inflation[us_yearly_inflation[\"year\"] == 2012][\"price\"].values[0]\n",
    "correction_factor = reference_price / us_yearly_inflation[\"price\"]\n",
    "us_yearly_inflation[\"correlation_factor\"] = correction_factor\n",
    "us_yearly_inflation.drop(columns=['price', 'avg_avg'], inplace=True)\n",
    "\n",
    "merged_all = pd.merge(movies, us_yearly_inflation, on=\"year\", how=\"left\")\n",
    "movies = merged_all.copy(deep=True)\n",
    "\n",
    "# inflation adjusted revenue\n",
    "movies[\"adjusted_revenue\"] = movies[\"revenue\"] * movies[\"correlation_factor\"]\n",
    "movies[\"adjusted_budget\"] = movies[\"budget\"] * movies[\"correlation_factor\"]\n",
    "movies[\"adjusted_gross_domestic\"] = movies[\"gross_domestic\"] * movies[\"correlation_factor\"]\n",
    "movies[\"adjusted_opening_weekend\"] = movies[\"opening_weekend\"] * movies[\"correlation_factor\"]\n",
    "\n",
    "movies.head(3)"
   ]
  },
  {
   "cell_type": "markdown",
   "id": "fba396b58c3238e5",
   "metadata": {
    "collapsed": false,
    "jupyter": {
     "outputs_hidden": false
    }
   },
   "source": [
    "### Box office revenue"
   ]
  },
  {
   "cell_type": "markdown",
   "id": "2cbda34ee40a8477",
   "metadata": {
    "collapsed": false,
    "jupyter": {
     "outputs_hidden": false
    }
   },
   "source": [
    "We need to adjust movie revenues to inflation to make them comparable. As we have inflation data up to 2012, we will place our reference USD value at year 2012."
   ]
  },
  {
   "cell_type": "code",
   "execution_count": 198,
   "id": "d2bd8c1d5a4e4b1c",
   "metadata": {
    "ExecuteTime": {
     "end_time": "2023-11-17T19:29:20.559051800Z",
     "start_time": "2023-11-17T19:29:07.555935100Z"
    },
    "collapsed": false,
    "jupyter": {
     "outputs_hidden": false
    }
   },
   "outputs": [
    {
     "data": {
      "image/png": "[encoded data removed]",
      "text/plain": [
       "<Figure size 1440x432 with 2 Axes>"
      ]
     },
     "metadata": {
      "needs_background": "light"
     },
     "output_type": "display_data"
    }
   ],
   "source": [
    "# Calculate the max box office revenue for each year\n",
    "max_revenue_per_year = movies.groupby('year')['revenue'].max().reset_index()\n",
    "max_revenue_per_year_adjusted = movies.groupby('year')['adjusted_revenue'].max().reset_index()\n",
    "\n",
    "#x_values = us_yearly_inflation['year'].values\n",
    "#y_values = us_yearly_inflation['avg_avg'].values\n",
    "\n",
    "#plt.plot(x_values, y_values)\n",
    "\n",
    "fig, axes = plt.subplots(1, 2, figsize=(20, 6))\n",
    "# Create a line plot\n",
    "axes[0].plot(max_revenue_per_year['year'], max_revenue_per_year['revenue'])\n",
    "axes[0].set_xlabel('Year')\n",
    "axes[0].set_ylabel('Max Revenue')\n",
    "axes[0].set_title('Max Box Office Revenue per Year for non-adjusted inflation')\n",
    "plt.grid(False)\n",
    "\n",
    "# Create a line plot\n",
    "axes[1].plot(max_revenue_per_year_adjusted['year'], max_revenue_per_year_adjusted['adjusted_revenue'])\n",
    "axes[1].set_xlabel('Year')\n",
    "axes[1].set_ylabel('Max Revenue')\n",
    "axes[1].set_title('Max Box Office Revenue per Year for adjusted inflation')\n",
    "plt.grid(False)\n",
    "plt.grid(False)\n",
    "\n",
    "plt.show()"
   ]
  },
  {
   "cell_type": "markdown",
   "id": "699d7a735deaabbb",
   "metadata": {
    "collapsed": false,
    "jupyter": {
     "outputs_hidden": false
    }
   },
   "source": [
    "We can plot the max box office revenue for every year. Note that we are interested in the best movies so we don't plot average or median."
   ]
  },
  {
   "cell_type": "code",
   "execution_count": 199,
   "id": "17977ee3254c6d4f",
   "metadata": {
    "ExecuteTime": {
     "end_time": "2023-11-17T19:29:20.559051800Z",
     "start_time": "2023-11-17T19:29:07.790994400Z"
    },
    "collapsed": false,
    "jupyter": {
     "outputs_hidden": false
    }
   },
   "outputs": [
    {
     "name": "stdout",
     "output_type": "stream",
     "text": [
      "Highest revenue movie: Avatar\n",
      "Highest adjusted revenue movie: Snow White and the Seven Dwarfs\n"
     ]
    }
   ],
   "source": [
    "# movie with most revenue\n",
    "highest_revenue_movie = movies[movies[\"revenue\"] == movies[\"revenue\"].max()][\"name\"].values[0]\n",
    "\n",
    "# movie with most revenue\n",
    "highest_adjusted_revenue_movie = movies[movies[\"adjusted_revenue\"] == movies[\"adjusted_revenue\"].max()][\"name\"].values[\n",
    "    0]\n",
    "\n",
    "print(f\"Highest revenue movie: {highest_revenue_movie}\")\n",
    "print(f\"Highest adjusted revenue movie: {highest_adjusted_revenue_movie}\")"
   ]
  },
  {
   "cell_type": "markdown",
   "id": "e9d7bebc24bc1f97",
   "metadata": {
    "collapsed": false,
    "jupyter": {
     "outputs_hidden": false
    }
   },
   "source": [
    "Looking at the previous graph it seems like Avatar is the best movie! Until we adjust the revenue for inflation and see that it is actually Snow White and the Seven Dwarfs that is the movie that generated the most value."
   ]
  },
  {
   "cell_type": "code",
   "execution_count": 200,
   "id": "6b0f33a75af1c401",
   "metadata": {
    "ExecuteTime": {
     "end_time": "2023-11-17T19:29:20.560558100Z",
     "start_time": "2023-11-17T19:29:07.805993300Z"
    },
    "collapsed": false,
    "jupyter": {
     "outputs_hidden": false
    }
   },
   "outputs": [
    {
     "data": {
      "text/html": [
       "<div>\n",
       "<style scoped>\n",
       "    .dataframe tbody tr th:only-of-type {\n",
       "        vertical-align: middle;\n",
       "    }\n",
       "\n",
       "    .dataframe tbody tr th {\n",
       "        vertical-align: top;\n",
       "    }\n",
       "\n",
       "    .dataframe thead th {\n",
       "        text-align: right;\n",
       "    }\n",
       "</style>\n",
       "<table border=\"1\" class=\"dataframe\">\n",
       "  <thead>\n",
       "    <tr style=\"text-align: right;\">\n",
       "      <th></th>\n",
       "      <th>wikipedia_movie_id</th>\n",
       "      <th>freebase_movie_id</th>\n",
       "      <th>name</th>\n",
       "      <th>release_date</th>\n",
       "      <th>revenue</th>\n",
       "      <th>runtime</th>\n",
       "      <th>languages</th>\n",
       "      <th>countries</th>\n",
       "      <th>genres</th>\n",
       "      <th>budget</th>\n",
       "      <th>...</th>\n",
       "      <th>rating_score</th>\n",
       "      <th>number_of_ratings</th>\n",
       "      <th>watched_rank</th>\n",
       "      <th>producer</th>\n",
       "      <th>year</th>\n",
       "      <th>correlation_factor</th>\n",
       "      <th>adjusted_revenue</th>\n",
       "      <th>adjusted_budget</th>\n",
       "      <th>adjusted_gross_domestic</th>\n",
       "      <th>adjusted_opening_weekend</th>\n",
       "    </tr>\n",
       "  </thead>\n",
       "  <tbody>\n",
       "    <tr>\n",
       "      <th>0</th>\n",
       "      <td>975900</td>\n",
       "      <td>/m/03vyhn</td>\n",
       "      <td>Ghosts of Mars</td>\n",
       "      <td>2001-08-24</td>\n",
       "      <td>14010832.0</td>\n",
       "      <td>98.0</td>\n",
       "      <td>{\"/m/02h40lc\": \"English Language\"}</td>\n",
       "      <td>{\"/m/09c7w0\": \"United States of America\"}</td>\n",
       "      <td>{\"/m/01jfsb\": \"Thriller\", \"/m/06n90\": \"Science...</td>\n",
       "      <td>28000000.0</td>\n",
       "      <td>...</td>\n",
       "      <td>4.9</td>\n",
       "      <td>57000.0</td>\n",
       "      <td>3850.0</td>\n",
       "      <td>John Carpenter</td>\n",
       "      <td>2001.0</td>\n",
       "      <td>1.295952</td>\n",
       "      <td>1.815737e+07</td>\n",
       "      <td>3.628666e+07</td>\n",
       "      <td>1.128728e+07</td>\n",
       "      <td>4.930388e+06</td>\n",
       "    </tr>\n",
       "    <tr>\n",
       "      <th>1</th>\n",
       "      <td>10408933</td>\n",
       "      <td>/m/02qc0j7</td>\n",
       "      <td>Alexander's Ragtime Band</td>\n",
       "      <td>1938-08-16</td>\n",
       "      <td>3600000.0</td>\n",
       "      <td>106.0</td>\n",
       "      <td>{\"/m/02h40lc\": \"English Language\"}</td>\n",
       "      <td>{\"/m/09c7w0\": \"United States of America\"}</td>\n",
       "      <td>{\"/m/04t36\": \"Musical\", \"/m/01z4y\": \"Comedy\", ...</td>\n",
       "      <td>2000000.0</td>\n",
       "      <td>...</td>\n",
       "      <td>6.8</td>\n",
       "      <td>2300.0</td>\n",
       "      <td>NaN</td>\n",
       "      <td>Henry King</td>\n",
       "      <td>1938.0</td>\n",
       "      <td>16.274561</td>\n",
       "      <td>5.858842e+07</td>\n",
       "      <td>3.254912e+07</td>\n",
       "      <td>NaN</td>\n",
       "      <td>NaN</td>\n",
       "    </tr>\n",
       "    <tr>\n",
       "      <th>2</th>\n",
       "      <td>171005</td>\n",
       "      <td>/m/016ywb</td>\n",
       "      <td>Henry V</td>\n",
       "      <td>1989-11-08</td>\n",
       "      <td>10161099.0</td>\n",
       "      <td>137.0</td>\n",
       "      <td>{\"/m/02h40lc\": \"English Language\"}</td>\n",
       "      <td>{\"/m/07ssc\": \"United Kingdom\"}</td>\n",
       "      <td>{\"/m/04xvh5\": \"Costume drama\", \"/m/082gq\": \"Wa...</td>\n",
       "      <td>9000000.0</td>\n",
       "      <td>...</td>\n",
       "      <td>7.5</td>\n",
       "      <td>31000.0</td>\n",
       "      <td>NaN</td>\n",
       "      <td>Kenneth Branagh</td>\n",
       "      <td>1989.0</td>\n",
       "      <td>1.852181</td>\n",
       "      <td>1.882019e+07</td>\n",
       "      <td>1.666963e+07</td>\n",
       "      <td>1.882019e+07</td>\n",
       "      <td>1.202676e+05</td>\n",
       "    </tr>\n",
       "  </tbody>\n",
       "</table>\n",
       "<p>3 rows × 22 columns</p>\n",
       "</div>"
      ],
      "text/plain": [
       "   wikipedia_movie_id freebase_movie_id                      name  \\\n",
       "0              975900         /m/03vyhn            Ghosts of Mars   \n",
       "1            10408933        /m/02qc0j7  Alexander's Ragtime Band   \n",
       "2              171005         /m/016ywb                   Henry V   \n",
       "\n",
       "  release_date     revenue  runtime                           languages  \\\n",
       "0   2001-08-24  14010832.0     98.0  {\"/m/02h40lc\": \"English Language\"}   \n",
       "1   1938-08-16   3600000.0    106.0  {\"/m/02h40lc\": \"English Language\"}   \n",
       "2   1989-11-08  10161099.0    137.0  {\"/m/02h40lc\": \"English Language\"}   \n",
       "\n",
       "                                   countries  \\\n",
       "0  {\"/m/09c7w0\": \"United States of America\"}   \n",
       "1  {\"/m/09c7w0\": \"United States of America\"}   \n",
       "2             {\"/m/07ssc\": \"United Kingdom\"}   \n",
       "\n",
       "                                              genres      budget  ...  \\\n",
       "0  {\"/m/01jfsb\": \"Thriller\", \"/m/06n90\": \"Science...  28000000.0  ...   \n",
       "1  {\"/m/04t36\": \"Musical\", \"/m/01z4y\": \"Comedy\", ...   2000000.0  ...   \n",
       "2  {\"/m/04xvh5\": \"Costume drama\", \"/m/082gq\": \"Wa...   9000000.0  ...   \n",
       "\n",
       "   rating_score  number_of_ratings  watched_rank         producer    year  \\\n",
       "0           4.9            57000.0        3850.0   John Carpenter  2001.0   \n",
       "1           6.8             2300.0           NaN       Henry King  1938.0   \n",
       "2           7.5            31000.0           NaN  Kenneth Branagh  1989.0   \n",
       "\n",
       "  correlation_factor  adjusted_revenue  adjusted_budget  \\\n",
       "0           1.295952      1.815737e+07     3.628666e+07   \n",
       "1          16.274561      5.858842e+07     3.254912e+07   \n",
       "2           1.852181      1.882019e+07     1.666963e+07   \n",
       "\n",
       "   adjusted_gross_domestic  adjusted_opening_weekend  \n",
       "0             1.128728e+07              4.930388e+06  \n",
       "1                      NaN                       NaN  \n",
       "2             1.882019e+07              1.202676e+05  \n",
       "\n",
       "[3 rows x 22 columns]"
      ]
     },
     "execution_count": 200,
     "metadata": {},
     "output_type": "execute_result"
    }
   ],
   "source": [
    "movies.head(3)"
   ]
  },
  {
   "cell_type": "markdown",
   "id": "895f8f2031788032",
   "metadata": {
    "collapsed": false,
    "jupyter": {
     "outputs_hidden": false
    }
   },
   "source": [
    "## Looking for a correlation between the rating and the revenue"
   ]
  },
  {
   "cell_type": "code",
   "execution_count": 201,
   "id": "bbdccf8b4a243bc0",
   "metadata": {
    "ExecuteTime": {
     "end_time": "2023-11-17T19:29:20.560558100Z",
     "start_time": "2023-11-17T19:29:07.822993400Z"
    },
    "collapsed": false,
    "jupyter": {
     "outputs_hidden": false
    }
   },
   "outputs": [
    {
     "name": "stdout",
     "output_type": "stream",
     "text": [
      "Pearson correlation coefficient:  PearsonRResult(statistic=0.137178021438133, pvalue=2.329908373947409e-75)\n",
      "As we can see there is a weak correlation between the rating and the revenue\n"
     ]
    }
   ],
   "source": [
    "pearson_corr = stats.pearsonr(movies['rating_score'], movies['adjusted_revenue'])\n",
    "\n",
    "print('Pearson correlation coefficient: ', pearson_corr)\n",
    "print('As we can see there is a weak correlation between the rating and the revenue')"
   ]
  },
  {
   "cell_type": "markdown",
   "id": "a573f469f650ffd",
   "metadata": {
    "collapsed": false,
    "jupyter": {
     "outputs_hidden": false
    }
   },
   "source": [
    "The null-hypothesis states that there is no correlation between movie revenue and ratings. Based on this Pearson Correlation test, the p-value is smaller than 0.05, so we reject the null-hypothesis. However, the correlation coefficient is equal to 0.14, which is quite small. So we conclude that there is not a significant correlation between movie revenue and ratings."
   ]
  },
  {
   "cell_type": "markdown",
   "id": "6927f39e3200e764",
   "metadata": {
    "collapsed": false,
    "jupyter": {
     "outputs_hidden": false
    }
   },
   "source": [
    "### Therefore, we can define a success movie score, which combines both the revenue and ratings."
   ]
  },
  {
   "cell_type": "markdown",
   "id": "2ec5c320eefd88b5",
   "metadata": {
    "collapsed": false,
    "jupyter": {
     "outputs_hidden": false
    }
   },
   "source": [
    "We define the score as a function composed of two components:\n",
    "\n",
    "- $BORC$    : Box Office Revenue Component\n",
    "- $RC$      : Rating Component\n",
    "\n",
    "These components can be computed with the Adjusted Movie Revenue (which we write define as $AMR$) and the movie rating (we will write as $MR$)\n",
    "\n",
    "We log-transform the data and define $x = \\log(AMR)$ and $y = MR$\n",
    "\n",
    "$\n",
    "\\begin{cases}\n",
    "    BORC = \\frac{x - \\min(x)}{\\max(x) - \\min(x)}\\\\\n",
    "    RC = \\frac{y - \\min(y)}{\\max(y) - \\min(y)}\n",
    "\\end{cases}\n",
    "$\n",
    "\n",
    "As such, we have $BORC, RC \\in [0, 1]$\n",
    "\n",
    "We define a weight $\\alpha \\in [0, 1]$ and take the convex combinations of $BORC$ and $RC$. This weight controls the importance we give to each of our two components in our metric. Its importance will be determined in the future and we will adjust it accordingly to the study. Multiplying by 100 gives us a final score \n",
    "\n",
    "$$Movie Score = 100\\left(\\alpha BORC + (1 - \\alpha) RC \\right)$$"
   ]
  },
  {
   "cell_type": "code",
   "execution_count": 202,
   "id": "c23d4ba867222d27",
   "metadata": {
    "ExecuteTime": {
     "end_time": "2023-11-17T19:29:20.561563200Z",
     "start_time": "2023-11-17T19:29:07.839995800Z"
    },
    "collapsed": false,
    "jupyter": {
     "outputs_hidden": false
    }
   },
   "outputs": [
    {
     "data": {
      "text/html": [
       "<div>\n",
       "<style scoped>\n",
       "    .dataframe tbody tr th:only-of-type {\n",
       "        vertical-align: middle;\n",
       "    }\n",
       "\n",
       "    .dataframe tbody tr th {\n",
       "        vertical-align: top;\n",
       "    }\n",
       "\n",
       "    .dataframe thead th {\n",
       "        text-align: right;\n",
       "    }\n",
       "</style>\n",
       "<table border=\"1\" class=\"dataframe\">\n",
       "  <thead>\n",
       "    <tr style=\"text-align: right;\">\n",
       "      <th></th>\n",
       "      <th>wikipedia_movie_id</th>\n",
       "      <th>freebase_movie_id</th>\n",
       "      <th>name</th>\n",
       "      <th>release_date</th>\n",
       "      <th>revenue</th>\n",
       "      <th>runtime</th>\n",
       "      <th>languages</th>\n",
       "      <th>countries</th>\n",
       "      <th>genres</th>\n",
       "      <th>budget</th>\n",
       "      <th>...</th>\n",
       "      <th>producer</th>\n",
       "      <th>year</th>\n",
       "      <th>correlation_factor</th>\n",
       "      <th>adjusted_revenue</th>\n",
       "      <th>adjusted_budget</th>\n",
       "      <th>adjusted_gross_domestic</th>\n",
       "      <th>adjusted_opening_weekend</th>\n",
       "      <th>BORC</th>\n",
       "      <th>RC</th>\n",
       "      <th>movie_score</th>\n",
       "    </tr>\n",
       "  </thead>\n",
       "  <tbody>\n",
       "    <tr>\n",
       "      <th>0</th>\n",
       "      <td>975900</td>\n",
       "      <td>/m/03vyhn</td>\n",
       "      <td>Ghosts of Mars</td>\n",
       "      <td>2001-08-24</td>\n",
       "      <td>14010832.0</td>\n",
       "      <td>98.0</td>\n",
       "      <td>{\"/m/02h40lc\": \"English Language\"}</td>\n",
       "      <td>{\"/m/09c7w0\": \"United States of America\"}</td>\n",
       "      <td>{\"/m/01jfsb\": \"Thriller\", \"/m/06n90\": \"Science...</td>\n",
       "      <td>28000000.0</td>\n",
       "      <td>...</td>\n",
       "      <td>John Carpenter</td>\n",
       "      <td>2001.0</td>\n",
       "      <td>1.295952</td>\n",
       "      <td>1.815737e+07</td>\n",
       "      <td>3.628666e+07</td>\n",
       "      <td>1.128728e+07</td>\n",
       "      <td>4.930388e+06</td>\n",
       "      <td>0.726723</td>\n",
       "      <td>0.463415</td>\n",
       "      <td>59.506901</td>\n",
       "    </tr>\n",
       "    <tr>\n",
       "      <th>1</th>\n",
       "      <td>10408933</td>\n",
       "      <td>/m/02qc0j7</td>\n",
       "      <td>Alexander's Ragtime Band</td>\n",
       "      <td>1938-08-16</td>\n",
       "      <td>3600000.0</td>\n",
       "      <td>106.0</td>\n",
       "      <td>{\"/m/02h40lc\": \"English Language\"}</td>\n",
       "      <td>{\"/m/09c7w0\": \"United States of America\"}</td>\n",
       "      <td>{\"/m/04t36\": \"Musical\", \"/m/01z4y\": \"Comedy\", ...</td>\n",
       "      <td>2000000.0</td>\n",
       "      <td>...</td>\n",
       "      <td>Henry King</td>\n",
       "      <td>1938.0</td>\n",
       "      <td>16.274561</td>\n",
       "      <td>5.858842e+07</td>\n",
       "      <td>3.254912e+07</td>\n",
       "      <td>NaN</td>\n",
       "      <td>NaN</td>\n",
       "      <td>0.780983</td>\n",
       "      <td>0.695122</td>\n",
       "      <td>73.805262</td>\n",
       "    </tr>\n",
       "    <tr>\n",
       "      <th>2</th>\n",
       "      <td>171005</td>\n",
       "      <td>/m/016ywb</td>\n",
       "      <td>Henry V</td>\n",
       "      <td>1989-11-08</td>\n",
       "      <td>10161099.0</td>\n",
       "      <td>137.0</td>\n",
       "      <td>{\"/m/02h40lc\": \"English Language\"}</td>\n",
       "      <td>{\"/m/07ssc\": \"United Kingdom\"}</td>\n",
       "      <td>{\"/m/04xvh5\": \"Costume drama\", \"/m/082gq\": \"Wa...</td>\n",
       "      <td>9000000.0</td>\n",
       "      <td>...</td>\n",
       "      <td>Kenneth Branagh</td>\n",
       "      <td>1989.0</td>\n",
       "      <td>1.852181</td>\n",
       "      <td>1.882019e+07</td>\n",
       "      <td>1.666963e+07</td>\n",
       "      <td>1.882019e+07</td>\n",
       "      <td>1.202676e+05</td>\n",
       "      <td>0.728384</td>\n",
       "      <td>0.780488</td>\n",
       "      <td>75.443593</td>\n",
       "    </tr>\n",
       "  </tbody>\n",
       "</table>\n",
       "<p>3 rows × 25 columns</p>\n",
       "</div>"
      ],
      "text/plain": [
       "   wikipedia_movie_id freebase_movie_id                      name  \\\n",
       "0              975900         /m/03vyhn            Ghosts of Mars   \n",
       "1            10408933        /m/02qc0j7  Alexander's Ragtime Band   \n",
       "2              171005         /m/016ywb                   Henry V   \n",
       "\n",
       "  release_date     revenue  runtime                           languages  \\\n",
       "0   2001-08-24  14010832.0     98.0  {\"/m/02h40lc\": \"English Language\"}   \n",
       "1   1938-08-16   3600000.0    106.0  {\"/m/02h40lc\": \"English Language\"}   \n",
       "2   1989-11-08  10161099.0    137.0  {\"/m/02h40lc\": \"English Language\"}   \n",
       "\n",
       "                                   countries  \\\n",
       "0  {\"/m/09c7w0\": \"United States of America\"}   \n",
       "1  {\"/m/09c7w0\": \"United States of America\"}   \n",
       "2             {\"/m/07ssc\": \"United Kingdom\"}   \n",
       "\n",
       "                                              genres      budget  ...  \\\n",
       "0  {\"/m/01jfsb\": \"Thriller\", \"/m/06n90\": \"Science...  28000000.0  ...   \n",
       "1  {\"/m/04t36\": \"Musical\", \"/m/01z4y\": \"Comedy\", ...   2000000.0  ...   \n",
       "2  {\"/m/04xvh5\": \"Costume drama\", \"/m/082gq\": \"Wa...   9000000.0  ...   \n",
       "\n",
       "          producer    year  correlation_factor  adjusted_revenue  \\\n",
       "0   John Carpenter  2001.0            1.295952      1.815737e+07   \n",
       "1       Henry King  1938.0           16.274561      5.858842e+07   \n",
       "2  Kenneth Branagh  1989.0            1.852181      1.882019e+07   \n",
       "\n",
       "   adjusted_budget adjusted_gross_domestic  adjusted_opening_weekend  \\\n",
       "0     3.628666e+07            1.128728e+07              4.930388e+06   \n",
       "1     3.254912e+07                     NaN                       NaN   \n",
       "2     1.666963e+07            1.882019e+07              1.202676e+05   \n",
       "\n",
       "       BORC        RC  movie_score  \n",
       "0  0.726723  0.463415    59.506901  \n",
       "1  0.780983  0.695122    73.805262  \n",
       "2  0.728384  0.780488    75.443593  \n",
       "\n",
       "[3 rows x 25 columns]"
      ]
     },
     "execution_count": 202,
     "metadata": {},
     "output_type": "execute_result"
    }
   ],
   "source": [
    "# Calculate the components\n",
    "log_adj_revenue = np.log(movies['adjusted_revenue'].values)\n",
    "movie_rating = movies['rating_score'].values\n",
    "\n",
    "movies.loc[:, 'BORC'] = (log_adj_revenue - np.min(log_adj_revenue)) / (\n",
    "            np.max(log_adj_revenue) - np.min(log_adj_revenue))\n",
    "movies.loc[:, 'RC'] = (movie_rating - np.min(movie_rating)) / (np.max(movie_rating) - np.min(movie_rating))\n",
    "\n",
    "# Calculate Movie Score\n",
    "alpha = 1 / 2\n",
    "movies.loc[:, 'movie_score'] = 100 * (alpha * movies['BORC'] + (1 - alpha) * movies['RC'])\n",
    "\n",
    "movies.head(3)"
   ]
  },
  {
   "cell_type": "markdown",
   "id": "611eeb05b03b01f7",
   "metadata": {
    "collapsed": false,
    "jupyter": {
     "outputs_hidden": false
    }
   },
   "source": [
    "### Now that we have the movie scores we can keep the top T percent and consider these as the Good films that we want to study"
   ]
  },
  {
   "cell_type": "code",
   "execution_count": 203,
   "id": "8ff48ee6dba3f285",
   "metadata": {
    "ExecuteTime": {
     "end_time": "2023-11-17T19:29:20.561563200Z",
     "start_time": "2023-11-17T19:29:07.852995900Z"
    },
    "collapsed": false,
    "jupyter": {
     "outputs_hidden": false
    }
   },
   "outputs": [],
   "source": [
    "T = 75\n",
    "num_movies = movies.shape[0]\n",
    "movies = movies.sort_values(\"movie_score\", ascending=False)\n",
    "\n",
    "# Set the 'Good Movie' column for the first N% rows to 1 and the rest to 0 using iloc\n",
    "movies['Good Movie'] = movies['movie_score'].apply(lambda x: 1 if x >= T else 0)\n",
    "\n",
    "df_good_movies = movies[movies[\"movie_score\"] >= T].copy()\n",
    "df_bad_movies = movies[movies[\"movie_score\"] < T].copy()"
   ]
  },
  {
   "cell_type": "code",
   "execution_count": 204,
   "id": "3cb862aa8ec08be5",
   "metadata": {
    "ExecuteTime": {
     "end_time": "2023-11-17T19:29:20.561563200Z",
     "start_time": "2023-11-17T19:29:07.885501400Z"
    },
    "collapsed": false,
    "jupyter": {
     "outputs_hidden": false
    }
   },
   "outputs": [
    {
     "data": {
      "text/html": [
       "<div>\n",
       "<style scoped>\n",
       "    .dataframe tbody tr th:only-of-type {\n",
       "        vertical-align: middle;\n",
       "    }\n",
       "\n",
       "    .dataframe tbody tr th {\n",
       "        vertical-align: top;\n",
       "    }\n",
       "\n",
       "    .dataframe thead th {\n",
       "        text-align: right;\n",
       "    }\n",
       "</style>\n",
       "<table border=\"1\" class=\"dataframe\">\n",
       "  <thead>\n",
       "    <tr style=\"text-align: right;\">\n",
       "      <th></th>\n",
       "      <th>wikipedia_movie_id</th>\n",
       "      <th>freebase_movie_id</th>\n",
       "      <th>name</th>\n",
       "      <th>release_date</th>\n",
       "      <th>revenue</th>\n",
       "      <th>runtime</th>\n",
       "      <th>languages</th>\n",
       "      <th>countries</th>\n",
       "      <th>genres</th>\n",
       "      <th>budget</th>\n",
       "      <th>...</th>\n",
       "      <th>year</th>\n",
       "      <th>correlation_factor</th>\n",
       "      <th>adjusted_revenue</th>\n",
       "      <th>adjusted_budget</th>\n",
       "      <th>adjusted_gross_domestic</th>\n",
       "      <th>adjusted_opening_weekend</th>\n",
       "      <th>BORC</th>\n",
       "      <th>RC</th>\n",
       "      <th>movie_score</th>\n",
       "      <th>Good Movie</th>\n",
       "    </tr>\n",
       "  </thead>\n",
       "  <tbody>\n",
       "    <tr>\n",
       "      <th>8110</th>\n",
       "      <td>2466773</td>\n",
       "      <td>/m/07g1sm</td>\n",
       "      <td>The Godfather</td>\n",
       "      <td>1972-03-15</td>\n",
       "      <td>2.685000e+08</td>\n",
       "      <td>177.0</td>\n",
       "      <td>{\"/m/04h9h\": \"Latin Language\", \"/m/02bjrlw\": \"...</td>\n",
       "      <td>{\"/m/09c7w0\": \"United States of America\"}</td>\n",
       "      <td>{\"/m/0lsxr\": \"Crime Fiction\", \"/m/0gw5w78\": \"G...</td>\n",
       "      <td>6000000.0</td>\n",
       "      <td>...</td>\n",
       "      <td>1972.0</td>\n",
       "      <td>5.488629</td>\n",
       "      <td>1.473697e+09</td>\n",
       "      <td>3.293178e+07</td>\n",
       "      <td>7.485452e+08</td>\n",
       "      <td>1.659723e+06</td>\n",
       "      <td>0.930359</td>\n",
       "      <td>0.987805</td>\n",
       "      <td>95.908194</td>\n",
       "      <td>1</td>\n",
       "    </tr>\n",
       "    <tr>\n",
       "      <th>17595</th>\n",
       "      <td>174251</td>\n",
       "      <td>/m/017jd9</td>\n",
       "      <td>The Lord of the Rings: The Return of the King</td>\n",
       "      <td>2003-12-17</td>\n",
       "      <td>1.119930e+09</td>\n",
       "      <td>250.0</td>\n",
       "      <td>{\"/m/05p2d\": \"Old English language\", \"/m/02h40...</td>\n",
       "      <td>{\"/m/09c7w0\": \"United States of America\", \"/m/...</td>\n",
       "      <td>{\"/m/0hj3n2k\": \"Fantasy Adventure\", \"/m/03k9fj...</td>\n",
       "      <td>94000000.0</td>\n",
       "      <td>...</td>\n",
       "      <td>2003.0</td>\n",
       "      <td>1.246866</td>\n",
       "      <td>1.396402e+09</td>\n",
       "      <td>1.172054e+08</td>\n",
       "      <td>4.730948e+08</td>\n",
       "      <td>9.055949e+07</td>\n",
       "      <td>0.927864</td>\n",
       "      <td>0.963415</td>\n",
       "      <td>94.563911</td>\n",
       "      <td>1</td>\n",
       "    </tr>\n",
       "    <tr>\n",
       "      <th>8476</th>\n",
       "      <td>4276475</td>\n",
       "      <td>/m/0btpm6</td>\n",
       "      <td>The Dark Knight</td>\n",
       "      <td>2008-07-16</td>\n",
       "      <td>1.004558e+09</td>\n",
       "      <td>153.0</td>\n",
       "      <td>{\"/m/0653m\": \"Standard Mandarin\", \"/m/02h40lc\"...</td>\n",
       "      <td>{\"/m/09c7w0\": \"United States of America\", \"/m/...</td>\n",
       "      <td>{\"/m/0lsxr\": \"Crime Fiction\", \"/m/01jfsb\": \"Th...</td>\n",
       "      <td>185000000.0</td>\n",
       "      <td>...</td>\n",
       "      <td>2008.0</td>\n",
       "      <td>1.066249</td>\n",
       "      <td>1.071109e+09</td>\n",
       "      <td>1.972560e+08</td>\n",
       "      <td>5.704292e+08</td>\n",
       "      <td>1.689060e+08</td>\n",
       "      <td>0.915580</td>\n",
       "      <td>0.963415</td>\n",
       "      <td>93.949723</td>\n",
       "      <td>1</td>\n",
       "    </tr>\n",
       "  </tbody>\n",
       "</table>\n",
       "<p>3 rows × 26 columns</p>\n",
       "</div>"
      ],
      "text/plain": [
       "       wikipedia_movie_id freebase_movie_id  \\\n",
       "8110              2466773         /m/07g1sm   \n",
       "17595              174251         /m/017jd9   \n",
       "8476              4276475         /m/0btpm6   \n",
       "\n",
       "                                                name release_date  \\\n",
       "8110                                   The Godfather   1972-03-15   \n",
       "17595  The Lord of the Rings: The Return of the King   2003-12-17   \n",
       "8476                                 The Dark Knight   2008-07-16   \n",
       "\n",
       "            revenue  runtime  \\\n",
       "8110   2.685000e+08    177.0   \n",
       "17595  1.119930e+09    250.0   \n",
       "8476   1.004558e+09    153.0   \n",
       "\n",
       "                                               languages  \\\n",
       "8110   {\"/m/04h9h\": \"Latin Language\", \"/m/02bjrlw\": \"...   \n",
       "17595  {\"/m/05p2d\": \"Old English language\", \"/m/02h40...   \n",
       "8476   {\"/m/0653m\": \"Standard Mandarin\", \"/m/02h40lc\"...   \n",
       "\n",
       "                                               countries  \\\n",
       "8110           {\"/m/09c7w0\": \"United States of America\"}   \n",
       "17595  {\"/m/09c7w0\": \"United States of America\", \"/m/...   \n",
       "8476   {\"/m/09c7w0\": \"United States of America\", \"/m/...   \n",
       "\n",
       "                                                  genres       budget  ...  \\\n",
       "8110   {\"/m/0lsxr\": \"Crime Fiction\", \"/m/0gw5w78\": \"G...    6000000.0  ...   \n",
       "17595  {\"/m/0hj3n2k\": \"Fantasy Adventure\", \"/m/03k9fj...   94000000.0  ...   \n",
       "8476   {\"/m/0lsxr\": \"Crime Fiction\", \"/m/01jfsb\": \"Th...  185000000.0  ...   \n",
       "\n",
       "         year  correlation_factor  adjusted_revenue  adjusted_budget  \\\n",
       "8110   1972.0            5.488629      1.473697e+09     3.293178e+07   \n",
       "17595  2003.0            1.246866      1.396402e+09     1.172054e+08   \n",
       "8476   2008.0            1.066249      1.071109e+09     1.972560e+08   \n",
       "\n",
       "       adjusted_gross_domestic adjusted_opening_weekend      BORC        RC  \\\n",
       "8110              7.485452e+08             1.659723e+06  0.930359  0.987805   \n",
       "17595             4.730948e+08             9.055949e+07  0.927864  0.963415   \n",
       "8476              5.704292e+08             1.689060e+08  0.915580  0.963415   \n",
       "\n",
       "       movie_score  Good Movie  \n",
       "8110     95.908194           1  \n",
       "17595    94.563911           1  \n",
       "8476     93.949723           1  \n",
       "\n",
       "[3 rows x 26 columns]"
      ]
     },
     "execution_count": 204,
     "metadata": {},
     "output_type": "execute_result"
    }
   ],
   "source": [
    "df_good_movies.head(3)"
   ]
  },
  {
   "cell_type": "code",
   "execution_count": 205,
   "id": "769c95560677d740",
   "metadata": {
    "ExecuteTime": {
     "end_time": "2023-11-17T19:29:20.562563200Z",
     "start_time": "2023-11-17T19:29:07.901500500Z"
    },
    "collapsed": false,
    "jupyter": {
     "outputs_hidden": false
    }
   },
   "outputs": [
    {
     "data": {
      "text/html": [
       "<div>\n",
       "<style scoped>\n",
       "    .dataframe tbody tr th:only-of-type {\n",
       "        vertical-align: middle;\n",
       "    }\n",
       "\n",
       "    .dataframe tbody tr th {\n",
       "        vertical-align: top;\n",
       "    }\n",
       "\n",
       "    .dataframe thead th {\n",
       "        text-align: right;\n",
       "    }\n",
       "</style>\n",
       "<table border=\"1\" class=\"dataframe\">\n",
       "  <thead>\n",
       "    <tr style=\"text-align: right;\">\n",
       "      <th></th>\n",
       "      <th>wikipedia_movie_id</th>\n",
       "      <th>freebase_movie_id</th>\n",
       "      <th>name</th>\n",
       "      <th>release_date</th>\n",
       "      <th>revenue</th>\n",
       "      <th>runtime</th>\n",
       "      <th>languages</th>\n",
       "      <th>countries</th>\n",
       "      <th>genres</th>\n",
       "      <th>budget</th>\n",
       "      <th>...</th>\n",
       "      <th>year</th>\n",
       "      <th>correlation_factor</th>\n",
       "      <th>adjusted_revenue</th>\n",
       "      <th>adjusted_budget</th>\n",
       "      <th>adjusted_gross_domestic</th>\n",
       "      <th>adjusted_opening_weekend</th>\n",
       "      <th>BORC</th>\n",
       "      <th>RC</th>\n",
       "      <th>movie_score</th>\n",
       "      <th>Good Movie</th>\n",
       "    </tr>\n",
       "  </thead>\n",
       "  <tbody>\n",
       "    <tr>\n",
       "      <th>2118</th>\n",
       "      <td>28272795</td>\n",
       "      <td>/m/0g4pmz_</td>\n",
       "      <td>One Day</td>\n",
       "      <td>2011-08-08</td>\n",
       "      <td>56706628.0</td>\n",
       "      <td>107.0</td>\n",
       "      <td>{\"/m/02h40lc\": \"English Language\"}</td>\n",
       "      <td>{\"/m/09c7w0\": \"United States of America\", \"/m/...</td>\n",
       "      <td>{\"/m/068d7h\": \"Romantic drama\", \"/m/02l7c8\": \"...</td>\n",
       "      <td>15000000.0</td>\n",
       "      <td>...</td>\n",
       "      <td>2011.0</td>\n",
       "      <td>1.021000</td>\n",
       "      <td>5.789747e+07</td>\n",
       "      <td>15315000.0</td>\n",
       "      <td>1.413449e+07</td>\n",
       "      <td>5.186237e+06</td>\n",
       "      <td>0.780434</td>\n",
       "      <td>0.719512</td>\n",
       "      <td>74.997299</td>\n",
       "      <td>0</td>\n",
       "    </tr>\n",
       "    <tr>\n",
       "      <th>1590</th>\n",
       "      <td>5301628</td>\n",
       "      <td>/m/0ddf9m</td>\n",
       "      <td>Eye of the Needle</td>\n",
       "      <td>1981-07-24</td>\n",
       "      <td>17583634.0</td>\n",
       "      <td>111.0</td>\n",
       "      <td>{\"/m/02h40lc\": \"English Language\"}</td>\n",
       "      <td>{\"/m/09c7w0\": \"United States of America\", \"/m/...</td>\n",
       "      <td>{\"/m/01jfsb\": \"Thriller\", \"/m/0lsxr\": \"Crime F...</td>\n",
       "      <td>NaN</td>\n",
       "      <td>...</td>\n",
       "      <td>1981.0</td>\n",
       "      <td>2.526257</td>\n",
       "      <td>4.442078e+07</td>\n",
       "      <td>NaN</td>\n",
       "      <td>4.442078e+07</td>\n",
       "      <td>NaN</td>\n",
       "      <td>0.768161</td>\n",
       "      <td>0.731707</td>\n",
       "      <td>74.993418</td>\n",
       "      <td>0</td>\n",
       "    </tr>\n",
       "    <tr>\n",
       "      <th>10259</th>\n",
       "      <td>1528272</td>\n",
       "      <td>/m/0586x1</td>\n",
       "      <td>Murder in the First</td>\n",
       "      <td>1995-01-20</td>\n",
       "      <td>17381942.0</td>\n",
       "      <td>120.0</td>\n",
       "      <td>{\"/m/02h40lc\": \"English Language\"}</td>\n",
       "      <td>{\"/m/0f8l9c\": \"France\", \"/m/09c7w0\": \"United S...</td>\n",
       "      <td>{\"/m/0lsxr\": \"Crime Fiction\", \"/m/07s9rl0\": \"D...</td>\n",
       "      <td>NaN</td>\n",
       "      <td>...</td>\n",
       "      <td>1995.0</td>\n",
       "      <td>1.507163</td>\n",
       "      <td>2.619741e+07</td>\n",
       "      <td>NaN</td>\n",
       "      <td>2.619741e+07</td>\n",
       "      <td>7.112583e+06</td>\n",
       "      <td>0.743703</td>\n",
       "      <td>0.756098</td>\n",
       "      <td>74.990022</td>\n",
       "      <td>0</td>\n",
       "    </tr>\n",
       "  </tbody>\n",
       "</table>\n",
       "<p>3 rows × 26 columns</p>\n",
       "</div>"
      ],
      "text/plain": [
       "       wikipedia_movie_id freebase_movie_id                 name release_date  \\\n",
       "2118             28272795        /m/0g4pmz_              One Day   2011-08-08   \n",
       "1590              5301628         /m/0ddf9m    Eye of the Needle   1981-07-24   \n",
       "10259             1528272         /m/0586x1  Murder in the First   1995-01-20   \n",
       "\n",
       "          revenue  runtime                           languages  \\\n",
       "2118   56706628.0    107.0  {\"/m/02h40lc\": \"English Language\"}   \n",
       "1590   17583634.0    111.0  {\"/m/02h40lc\": \"English Language\"}   \n",
       "10259  17381942.0    120.0  {\"/m/02h40lc\": \"English Language\"}   \n",
       "\n",
       "                                               countries  \\\n",
       "2118   {\"/m/09c7w0\": \"United States of America\", \"/m/...   \n",
       "1590   {\"/m/09c7w0\": \"United States of America\", \"/m/...   \n",
       "10259  {\"/m/0f8l9c\": \"France\", \"/m/09c7w0\": \"United S...   \n",
       "\n",
       "                                                  genres      budget  ...  \\\n",
       "2118   {\"/m/068d7h\": \"Romantic drama\", \"/m/02l7c8\": \"...  15000000.0  ...   \n",
       "1590   {\"/m/01jfsb\": \"Thriller\", \"/m/0lsxr\": \"Crime F...         NaN  ...   \n",
       "10259  {\"/m/0lsxr\": \"Crime Fiction\", \"/m/07s9rl0\": \"D...         NaN  ...   \n",
       "\n",
       "         year  correlation_factor  adjusted_revenue  adjusted_budget  \\\n",
       "2118   2011.0            1.021000      5.789747e+07       15315000.0   \n",
       "1590   1981.0            2.526257      4.442078e+07              NaN   \n",
       "10259  1995.0            1.507163      2.619741e+07              NaN   \n",
       "\n",
       "       adjusted_gross_domestic adjusted_opening_weekend      BORC        RC  \\\n",
       "2118              1.413449e+07             5.186237e+06  0.780434  0.719512   \n",
       "1590              4.442078e+07                      NaN  0.768161  0.731707   \n",
       "10259             2.619741e+07             7.112583e+06  0.743703  0.756098   \n",
       "\n",
       "       movie_score  Good Movie  \n",
       "2118     74.997299           0  \n",
       "1590     74.993418           0  \n",
       "10259    74.990022           0  \n",
       "\n",
       "[3 rows x 26 columns]"
      ]
     },
     "execution_count": 205,
     "metadata": {},
     "output_type": "execute_result"
    }
   ],
   "source": [
    "df_bad_movies.head(3)"
   ]
  },
  {
   "cell_type": "markdown",
   "id": "83d223d5b896ebc5",
   "metadata": {
    "collapsed": false,
    "jupyter": {
     "outputs_hidden": false
    }
   },
   "source": [
    "We now have 2 datasets: of good movies and of bad ones"
   ]
  },
  {
   "cell_type": "markdown",
   "id": "35f0d026a5205b6a",
   "metadata": {
    "collapsed": false,
    "jupyter": {
     "outputs_hidden": false
    }
   },
   "source": [
    "# Features\n",
    "## We will find the effect of each feature on the movie’s success score. "
   ]
  },
  {
   "cell_type": "code",
   "execution_count": 206,
   "id": "442c330485fae087",
   "metadata": {
    "ExecuteTime": {
     "end_time": "2023-11-17T19:29:20.562563200Z",
     "start_time": "2023-11-17T19:29:07.917501100Z"
    },
    "collapsed": false,
    "jupyter": {
     "outputs_hidden": false
    }
   },
   "outputs": [],
   "source": [
    "processed_directory = ADDITIONAL_FOLDER\n",
    "try:\n",
    "    os.makedirs(processed_directory)\n",
    "except:\n",
    "    pass"
   ]
  },
  {
   "cell_type": "code",
   "execution_count": 37,
   "id": "dceb1ba73ed0df52",
   "metadata": {
    "ExecuteTime": {
     "end_time": "2023-11-17T19:29:20.562563200Z",
     "start_time": "2023-11-17T19:29:07.933752300Z"
    },
    "collapsed": false,
    "jupyter": {
     "outputs_hidden": false
    }
   },
   "outputs": [],
   "source": [
    "merged = movies.copy(deep=True)"
   ]
  },
  {
   "cell_type": "code",
   "execution_count": 38,
   "id": "9a8d1f2563363c44",
   "metadata": {
    "ExecuteTime": {
     "end_time": "2023-11-17T19:29:20.562563200Z",
     "start_time": "2023-11-17T19:29:07.947765400Z"
    },
    "collapsed": false,
    "jupyter": {
     "outputs_hidden": false
    }
   },
   "outputs": [
    {
     "data": {
      "text/plain": [
       "'{\"/m/09c7w0\": \"United States of America\"}'"
      ]
     },
     "execution_count": 38,
     "metadata": {},
     "output_type": "execute_result"
    }
   ],
   "source": [
    "merged[\"countries\"].iloc[5]"
   ]
  },
  {
   "cell_type": "code",
   "execution_count": 39,
   "id": "1b1cd5cb553271e",
   "metadata": {
    "ExecuteTime": {
     "end_time": "2023-11-17T19:29:20.563563Z",
     "start_time": "2023-11-17T19:29:07.963420500Z"
    },
    "collapsed": false,
    "jupyter": {
     "outputs_hidden": false
    }
   },
   "outputs": [
    {
     "name": "stdout",
     "output_type": "stream",
     "text": [
      "/m/09c7w0\n"
     ]
    }
   ],
   "source": [
    "for key in ast.literal_eval(merged[\"countries\"][5]).keys():\n",
    "    print(key)"
   ]
  },
  {
   "cell_type": "code",
   "execution_count": 40,
   "id": "2cf052aa073bccec",
   "metadata": {
    "ExecuteTime": {
     "end_time": "2023-11-17T19:29:20.563563Z",
     "start_time": "2023-11-17T19:29:07.981420900Z"
    },
    "collapsed": false,
    "jupyter": {
     "outputs_hidden": false
    }
   },
   "outputs": [],
   "source": [
    "# country dataframe & dictionary\n",
    "try:\n",
    "    movie_countries = pd.read_csv(processed_directory + \"/movie_countries.csv\")\n",
    "    country_dictionary = pkl.load(open(processed_directory + \"/country_dictionary.pickle\", \"rb\"))\n",
    "\n",
    "except:\n",
    "    movie_countries = pd.DataFrame(columns=[\"wikipedia_movie_id\", \"country_id\"])\n",
    "    country_dictionary = {}\n",
    "    for i in tqdm(range(merged.shape[0])):\n",
    "        wikiID = merged[\"wikipedia_movie_id\"][i]\n",
    "        dico = ast.literal_eval(merged[\"countries\"][i])\n",
    "        data = [{'wikipedia_movie_id': wikiID, 'country_id': key} for key in dico.keys()]\n",
    "        dataframe = pd.DataFrame(data)\n",
    "        movie_countries = pd.concat([movie_countries, dataframe], axis=0)\n",
    "        country_dictionary.update(dico)\n",
    "\n",
    "    # save the dataframe to csv\n",
    "    movie_countries.to_csv(processed_directory + \"/movie_countries.csv\", index=False)\n",
    "\n",
    "    # dump the dictionary to pickle\n",
    "    with open(processed_directory + '/country_dictionary.pickle', 'wb') as handle:\n",
    "        pkl.dump(country_dictionary, handle, protocol=pkl.HIGHEST_PROTOCOL)"
   ]
  },
  {
   "cell_type": "code",
   "execution_count": 41,
   "id": "2375346a34128de7",
   "metadata": {
    "ExecuteTime": {
     "end_time": "2023-11-17T19:29:20.563563Z",
     "start_time": "2023-11-17T19:29:07.994421100Z"
    },
    "collapsed": false,
    "jupyter": {
     "outputs_hidden": false
    }
   },
   "outputs": [],
   "source": [
    "# language dataframe & dictionary\n",
    "try:\n",
    "    movie_languages = pd.read_csv(processed_directory + \"/movie_languages.csv\")\n",
    "    language_dictionary = pkl.load(open(processed_directory + \"/language_dictionary.pickle\", \"rb\"))\n",
    "except:\n",
    "    movie_languages = pd.DataFrame(columns=[\"wikipedia_movie_id\", \"language_id\"])\n",
    "    language_dictionary = {}\n",
    "    for i in tqdm(range(merged.shape[0])):\n",
    "        wikiID = merged[\"wikipedia_movie_id\"][i]\n",
    "        dico = ast.literal_eval(merged[\"languages\"][i])\n",
    "        data = [{'wikipedia_movie_id': wikiID, 'language_id': key} for key in dico.keys()]\n",
    "        dataframe = pd.DataFrame(data)\n",
    "        movie_languages = pd.concat([movie_languages, dataframe], axis=0)\n",
    "        language_dictionary.update(dico)\n",
    "\n",
    "    # save the dataframe to csv\n",
    "    movie_languages.to_csv(processed_directory + \"/movie_languages.csv\", index=False)\n",
    "\n",
    "    # dump the dictionary to pickle\n",
    "    with open(processed_directory + '/language_dictionary.pickle', 'wb') as handle:\n",
    "        pkl.dump(language_dictionary, handle, protocol=pkl.HIGHEST_PROTOCOL)"
   ]
  },
  {
   "cell_type": "code",
   "execution_count": 42,
   "id": "fd4789eeb0be42c3",
   "metadata": {
    "ExecuteTime": {
     "end_time": "2023-11-17T19:29:20.563563Z",
     "start_time": "2023-11-17T19:29:08.012419600Z"
    },
    "collapsed": false,
    "jupyter": {
     "outputs_hidden": false
    }
   },
   "outputs": [],
   "source": [
    "try:\n",
    "    movie_genres = pd.read_csv(processed_directory + \"/movie_genres.csv\")\n",
    "    genre_dictionary = pkl.load(open(processed_directory + \"/genre_dictionary.pickle\", \"rb\"))\n",
    "except:\n",
    "    movie_genres = pd.DataFrame(columns=[\"wikipedia_movie_id\", \"genre_id\"])\n",
    "    genre_dictionary = {}\n",
    "    for i in tqdm(range(merged.shape[0])):\n",
    "        wiki_id = movies[\"wikipedia_movie_id\"][i]\n",
    "        dico = ast.literal_eval(merged[\"genres\"][i])\n",
    "        data = [{'wikipedia_movie_id': wiki_id, 'genre_id': key} for key in dico.keys()]\n",
    "        dataframe = pd.DataFrame(data)\n",
    "        movie_genres = pd.concat([movie_genres, dataframe], axis=0)\n",
    "        genre_dictionary.update(dico)\n",
    "\n",
    "    # save the dataframe to csv\n",
    "    movie_genres.to_csv(processed_directory + \"/movie_genres.csv\", index=False)\n",
    "\n",
    "    # dump the dictionary to pickle\n",
    "    with open(processed_directory + '/genre_dictionary.pickle', 'wb') as handle:\n",
    "        pkl.dump(genre_dictionary, handle, protocol=pkl.HIGHEST_PROTOCOL)"
   ]
  },
  {
   "cell_type": "markdown",
   "id": "109cf565803465e0",
   "metadata": {
    "collapsed": false,
    "jupyter": {
     "outputs_hidden": false
    }
   },
   "source": [
    "We can now start by properly merging in the two new dataframes we created:"
   ]
  },
  {
   "cell_type": "code",
   "execution_count": 43,
   "id": "bd6a875ba648bda7",
   "metadata": {
    "ExecuteTime": {
     "end_time": "2023-11-17T19:29:20.564563400Z",
     "start_time": "2023-11-17T19:29:08.042424400Z"
    },
    "collapsed": false,
    "jupyter": {
     "outputs_hidden": false
    }
   },
   "outputs": [
    {
     "data": {
      "text/html": [
       "<div>\n",
       "<style scoped>\n",
       "    .dataframe tbody tr th:only-of-type {\n",
       "        vertical-align: middle;\n",
       "    }\n",
       "\n",
       "    .dataframe tbody tr th {\n",
       "        vertical-align: top;\n",
       "    }\n",
       "\n",
       "    .dataframe thead th {\n",
       "        text-align: right;\n",
       "    }\n",
       "</style>\n",
       "<table border=\"1\" class=\"dataframe\">\n",
       "  <thead>\n",
       "    <tr style=\"text-align: right;\">\n",
       "      <th></th>\n",
       "      <th>wikipedia_movie_id</th>\n",
       "      <th>freebase_movie_id</th>\n",
       "      <th>name</th>\n",
       "      <th>release_date</th>\n",
       "      <th>revenue</th>\n",
       "      <th>runtime</th>\n",
       "      <th>budget</th>\n",
       "      <th>gross_domestic</th>\n",
       "      <th>opening_weekend</th>\n",
       "      <th>rating_score</th>\n",
       "      <th>...</th>\n",
       "      <th>adjusted_budget</th>\n",
       "      <th>adjusted_gross_domestic</th>\n",
       "      <th>adjusted_opening_weekend</th>\n",
       "      <th>BORC</th>\n",
       "      <th>RC</th>\n",
       "      <th>movie_score</th>\n",
       "      <th>Good Movie</th>\n",
       "      <th>language_id</th>\n",
       "      <th>country_id</th>\n",
       "      <th>genre_id</th>\n",
       "    </tr>\n",
       "  </thead>\n",
       "  <tbody>\n",
       "    <tr>\n",
       "      <th>0</th>\n",
       "      <td>2466773</td>\n",
       "      <td>/m/07g1sm</td>\n",
       "      <td>The Godfather</td>\n",
       "      <td>1972-03-15</td>\n",
       "      <td>268500000.0</td>\n",
       "      <td>177.0</td>\n",
       "      <td>6000000.0</td>\n",
       "      <td>136381073.0</td>\n",
       "      <td>302393.0</td>\n",
       "      <td>9.2</td>\n",
       "      <td>...</td>\n",
       "      <td>3.293178e+07</td>\n",
       "      <td>7.485452e+08</td>\n",
       "      <td>1.659723e+06</td>\n",
       "      <td>0.930359</td>\n",
       "      <td>0.987805</td>\n",
       "      <td>95.908194</td>\n",
       "      <td>1</td>\n",
       "      <td>/m/04h9h</td>\n",
       "      <td>/m/09c7w0</td>\n",
       "      <td>/m/0lsxr</td>\n",
       "    </tr>\n",
       "    <tr>\n",
       "      <th>1</th>\n",
       "      <td>2466773</td>\n",
       "      <td>/m/07g1sm</td>\n",
       "      <td>The Godfather</td>\n",
       "      <td>1972-03-15</td>\n",
       "      <td>268500000.0</td>\n",
       "      <td>177.0</td>\n",
       "      <td>6000000.0</td>\n",
       "      <td>136381073.0</td>\n",
       "      <td>302393.0</td>\n",
       "      <td>9.2</td>\n",
       "      <td>...</td>\n",
       "      <td>3.293178e+07</td>\n",
       "      <td>7.485452e+08</td>\n",
       "      <td>1.659723e+06</td>\n",
       "      <td>0.930359</td>\n",
       "      <td>0.987805</td>\n",
       "      <td>95.908194</td>\n",
       "      <td>1</td>\n",
       "      <td>/m/04h9h</td>\n",
       "      <td>/m/09c7w0</td>\n",
       "      <td>/m/0gw5w78</td>\n",
       "    </tr>\n",
       "    <tr>\n",
       "      <th>2</th>\n",
       "      <td>2466773</td>\n",
       "      <td>/m/07g1sm</td>\n",
       "      <td>The Godfather</td>\n",
       "      <td>1972-03-15</td>\n",
       "      <td>268500000.0</td>\n",
       "      <td>177.0</td>\n",
       "      <td>6000000.0</td>\n",
       "      <td>136381073.0</td>\n",
       "      <td>302393.0</td>\n",
       "      <td>9.2</td>\n",
       "      <td>...</td>\n",
       "      <td>3.293178e+07</td>\n",
       "      <td>7.485452e+08</td>\n",
       "      <td>1.659723e+06</td>\n",
       "      <td>0.930359</td>\n",
       "      <td>0.987805</td>\n",
       "      <td>95.908194</td>\n",
       "      <td>1</td>\n",
       "      <td>/m/04h9h</td>\n",
       "      <td>/m/09c7w0</td>\n",
       "      <td>/m/0hj3n01</td>\n",
       "    </tr>\n",
       "  </tbody>\n",
       "</table>\n",
       "<p>3 rows × 26 columns</p>\n",
       "</div>"
      ],
      "text/plain": [
       "   wikipedia_movie_id freebase_movie_id           name release_date  \\\n",
       "0             2466773         /m/07g1sm  The Godfather   1972-03-15   \n",
       "1             2466773         /m/07g1sm  The Godfather   1972-03-15   \n",
       "2             2466773         /m/07g1sm  The Godfather   1972-03-15   \n",
       "\n",
       "       revenue  runtime     budget  gross_domestic  opening_weekend  \\\n",
       "0  268500000.0    177.0  6000000.0     136381073.0         302393.0   \n",
       "1  268500000.0    177.0  6000000.0     136381073.0         302393.0   \n",
       "2  268500000.0    177.0  6000000.0     136381073.0         302393.0   \n",
       "\n",
       "   rating_score  ...  adjusted_budget  adjusted_gross_domestic  \\\n",
       "0           9.2  ...     3.293178e+07             7.485452e+08   \n",
       "1           9.2  ...     3.293178e+07             7.485452e+08   \n",
       "2           9.2  ...     3.293178e+07             7.485452e+08   \n",
       "\n",
       "  adjusted_opening_weekend      BORC        RC  movie_score  Good Movie  \\\n",
       "0             1.659723e+06  0.930359  0.987805    95.908194           1   \n",
       "1             1.659723e+06  0.930359  0.987805    95.908194           1   \n",
       "2             1.659723e+06  0.930359  0.987805    95.908194           1   \n",
       "\n",
       "   language_id  country_id    genre_id  \n",
       "0     /m/04h9h   /m/09c7w0    /m/0lsxr  \n",
       "1     /m/04h9h   /m/09c7w0  /m/0gw5w78  \n",
       "2     /m/04h9h   /m/09c7w0  /m/0hj3n01  \n",
       "\n",
       "[3 rows x 26 columns]"
      ]
     },
     "execution_count": 43,
     "metadata": {},
     "output_type": "execute_result"
    }
   ],
   "source": [
    "merged_languages = pd.merge(merged, movie_languages, on=\"wikipedia_movie_id\", how=\"inner\")\n",
    "merged_countries = pd.merge(merged_languages, movie_countries, on=\"wikipedia_movie_id\", how=\"inner\")\n",
    "merged_all = pd.merge(merged_countries, movie_genres, on=\"wikipedia_movie_id\", how=\"inner\")\n",
    "merged_all.drop(columns=[\"languages\", \"countries\", \"genres\"], inplace=True)\n",
    "merged_all.head(3)"
   ]
  },
  {
   "cell_type": "markdown",
   "id": "817b388bde598492",
   "metadata": {
    "collapsed": false,
    "jupyter": {
     "outputs_hidden": false
    }
   },
   "source": [
    "We can also replace the language and country ids by their corresponding values"
   ]
  },
  {
   "cell_type": "code",
   "execution_count": 44,
   "id": "7f102689470ac02d",
   "metadata": {
    "ExecuteTime": {
     "end_time": "2023-11-17T19:29:20.565565700Z",
     "start_time": "2023-11-17T19:29:08.182440300Z"
    },
    "collapsed": false,
    "jupyter": {
     "outputs_hidden": false
    }
   },
   "outputs": [
    {
     "data": {
      "text/html": [
       "<div>\n",
       "<style scoped>\n",
       "    .dataframe tbody tr th:only-of-type {\n",
       "        vertical-align: middle;\n",
       "    }\n",
       "\n",
       "    .dataframe tbody tr th {\n",
       "        vertical-align: top;\n",
       "    }\n",
       "\n",
       "    .dataframe thead th {\n",
       "        text-align: right;\n",
       "    }\n",
       "</style>\n",
       "<table border=\"1\" class=\"dataframe\">\n",
       "  <thead>\n",
       "    <tr style=\"text-align: right;\">\n",
       "      <th></th>\n",
       "      <th>wikipedia_movie_id</th>\n",
       "      <th>freebase_movie_id</th>\n",
       "      <th>name</th>\n",
       "      <th>release_date</th>\n",
       "      <th>revenue</th>\n",
       "      <th>runtime</th>\n",
       "      <th>budget</th>\n",
       "      <th>gross_domestic</th>\n",
       "      <th>opening_weekend</th>\n",
       "      <th>rating_score</th>\n",
       "      <th>...</th>\n",
       "      <th>adjusted_budget</th>\n",
       "      <th>adjusted_gross_domestic</th>\n",
       "      <th>adjusted_opening_weekend</th>\n",
       "      <th>BORC</th>\n",
       "      <th>RC</th>\n",
       "      <th>movie_score</th>\n",
       "      <th>Good Movie</th>\n",
       "      <th>language</th>\n",
       "      <th>country</th>\n",
       "      <th>genre</th>\n",
       "    </tr>\n",
       "  </thead>\n",
       "  <tbody>\n",
       "    <tr>\n",
       "      <th>0</th>\n",
       "      <td>2466773</td>\n",
       "      <td>/m/07g1sm</td>\n",
       "      <td>The Godfather</td>\n",
       "      <td>1972-03-15</td>\n",
       "      <td>268500000.0</td>\n",
       "      <td>177.0</td>\n",
       "      <td>6000000.0</td>\n",
       "      <td>136381073.0</td>\n",
       "      <td>302393.0</td>\n",
       "      <td>9.2</td>\n",
       "      <td>...</td>\n",
       "      <td>3.293178e+07</td>\n",
       "      <td>7.485452e+08</td>\n",
       "      <td>1.659723e+06</td>\n",
       "      <td>0.930359</td>\n",
       "      <td>0.987805</td>\n",
       "      <td>95.908194</td>\n",
       "      <td>1</td>\n",
       "      <td>Latin Language</td>\n",
       "      <td>United States of America</td>\n",
       "      <td>Crime Fiction</td>\n",
       "    </tr>\n",
       "    <tr>\n",
       "      <th>1</th>\n",
       "      <td>2466773</td>\n",
       "      <td>/m/07g1sm</td>\n",
       "      <td>The Godfather</td>\n",
       "      <td>1972-03-15</td>\n",
       "      <td>268500000.0</td>\n",
       "      <td>177.0</td>\n",
       "      <td>6000000.0</td>\n",
       "      <td>136381073.0</td>\n",
       "      <td>302393.0</td>\n",
       "      <td>9.2</td>\n",
       "      <td>...</td>\n",
       "      <td>3.293178e+07</td>\n",
       "      <td>7.485452e+08</td>\n",
       "      <td>1.659723e+06</td>\n",
       "      <td>0.930359</td>\n",
       "      <td>0.987805</td>\n",
       "      <td>95.908194</td>\n",
       "      <td>1</td>\n",
       "      <td>Latin Language</td>\n",
       "      <td>United States of America</td>\n",
       "      <td>Gangster Film</td>\n",
       "    </tr>\n",
       "    <tr>\n",
       "      <th>2</th>\n",
       "      <td>2466773</td>\n",
       "      <td>/m/07g1sm</td>\n",
       "      <td>The Godfather</td>\n",
       "      <td>1972-03-15</td>\n",
       "      <td>268500000.0</td>\n",
       "      <td>177.0</td>\n",
       "      <td>6000000.0</td>\n",
       "      <td>136381073.0</td>\n",
       "      <td>302393.0</td>\n",
       "      <td>9.2</td>\n",
       "      <td>...</td>\n",
       "      <td>3.293178e+07</td>\n",
       "      <td>7.485452e+08</td>\n",
       "      <td>1.659723e+06</td>\n",
       "      <td>0.930359</td>\n",
       "      <td>0.987805</td>\n",
       "      <td>95.908194</td>\n",
       "      <td>1</td>\n",
       "      <td>Latin Language</td>\n",
       "      <td>United States of America</td>\n",
       "      <td>Crime Drama</td>\n",
       "    </tr>\n",
       "  </tbody>\n",
       "</table>\n",
       "<p>3 rows × 26 columns</p>\n",
       "</div>"
      ],
      "text/plain": [
       "   wikipedia_movie_id freebase_movie_id           name release_date  \\\n",
       "0             2466773         /m/07g1sm  The Godfather   1972-03-15   \n",
       "1             2466773         /m/07g1sm  The Godfather   1972-03-15   \n",
       "2             2466773         /m/07g1sm  The Godfather   1972-03-15   \n",
       "\n",
       "       revenue  runtime     budget  gross_domestic  opening_weekend  \\\n",
       "0  268500000.0    177.0  6000000.0     136381073.0         302393.0   \n",
       "1  268500000.0    177.0  6000000.0     136381073.0         302393.0   \n",
       "2  268500000.0    177.0  6000000.0     136381073.0         302393.0   \n",
       "\n",
       "   rating_score  ...  adjusted_budget  adjusted_gross_domestic  \\\n",
       "0           9.2  ...     3.293178e+07             7.485452e+08   \n",
       "1           9.2  ...     3.293178e+07             7.485452e+08   \n",
       "2           9.2  ...     3.293178e+07             7.485452e+08   \n",
       "\n",
       "  adjusted_opening_weekend      BORC        RC  movie_score  Good Movie  \\\n",
       "0             1.659723e+06  0.930359  0.987805    95.908194           1   \n",
       "1             1.659723e+06  0.930359  0.987805    95.908194           1   \n",
       "2             1.659723e+06  0.930359  0.987805    95.908194           1   \n",
       "\n",
       "         language                   country          genre  \n",
       "0  Latin Language  United States of America  Crime Fiction  \n",
       "1  Latin Language  United States of America  Gangster Film  \n",
       "2  Latin Language  United States of America    Crime Drama  \n",
       "\n",
       "[3 rows x 26 columns]"
      ]
     },
     "execution_count": 44,
     "metadata": {},
     "output_type": "execute_result"
    }
   ],
   "source": [
    "merged_all[\"language_id\"].replace(language_dictionary, inplace=True)\n",
    "merged_all[\"country_id\"].replace(country_dictionary, inplace=True)\n",
    "merged_all[\"genre_id\"].replace(genre_dictionary, inplace=True)\n",
    "\n",
    "#rename language_id as language, country_id as country and genre_id as genre\n",
    "merged_all.rename(columns={\"language_id\": \"language\", \"country_id\": \"country\", \"genre_id\": \"genre\"}, inplace=True)\n",
    "merged_all.head(3)"
   ]
  },
  {
   "cell_type": "code",
   "execution_count": 45,
   "id": "7800e70c1c67d893",
   "metadata": {
    "ExecuteTime": {
     "end_time": "2023-11-17T19:29:20.566563100Z",
     "start_time": "2023-11-17T19:29:09.759851100Z"
    },
    "collapsed": false,
    "jupyter": {
     "outputs_hidden": false
    }
   },
   "outputs": [
    {
     "data": {
      "text/plain": [
       "<Axes: title={'center': 'Total score per country'}, xlabel='Country', ylabel='Total score'>"
      ]
     },
     "execution_count": 45,
     "metadata": {},
     "output_type": "execute_result"
    },
    {
     "data": {
      "image/png": "[encoded data removed]",
      "text/plain": [
       "<Figure size 432x288 with 1 Axes>"
      ]
     },
     "metadata": {
      "needs_background": "light"
     },
     "output_type": "display_data"
    }
   ],
   "source": [
    "inflation_group = merged_all.groupby([\"country\"]).agg({\"movie_score\": \"sum\"})\n",
    "inflation_group.sort_values(by=\"movie_score\", ascending=False).head(20).plot(kind=\"bar\",\n",
    "                                                                             title=\"Total score per country\",\n",
    "                                                                             xlabel=\"Country\", ylabel=\"Total score\")"
   ]
  },
  {
   "cell_type": "code",
   "execution_count": 46,
   "id": "fd3a7a6335210935",
   "metadata": {
    "ExecuteTime": {
     "end_time": "2023-11-17T19:29:20.566563100Z",
     "start_time": "2023-11-17T19:29:09.997444500Z"
    },
    "collapsed": false,
    "jupyter": {
     "outputs_hidden": false
    }
   },
   "outputs": [],
   "source": [
    "# Top 20 countries that have generated movies with the highest scores\n",
    "top_20_countries = inflation_group.sort_values(by=\"movie_score\", ascending=False).head(20).index.values"
   ]
  },
  {
   "cell_type": "code",
   "execution_count": 47,
   "id": "4d5450dfa5b520ab",
   "metadata": {
    "ExecuteTime": {
     "end_time": "2023-11-17T19:29:20.567563400Z",
     "start_time": "2023-11-17T19:29:10.012444100Z"
    },
    "collapsed": false,
    "jupyter": {
     "outputs_hidden": false
    }
   },
   "outputs": [
    {
     "data": {
      "text/plain": [
       "<Axes: title={'center': 'Total score per language'}, xlabel='Language', ylabel='Total score'>"
      ]
     },
     "execution_count": 47,
     "metadata": {},
     "output_type": "execute_result"
    },
    {
     "data": {
      "image/png": "[encoded data removed]",
      "text/plain": [
       "<Figure size 432x288 with 1 Axes>"
      ]
     },
     "metadata": {
      "needs_background": "light"
     },
     "output_type": "display_data"
    }
   ],
   "source": [
    "# plotting the average movie score per language\n",
    "inflation_language_group = merged_all.groupby([\"language\"]).agg({\"movie_score\": \"sum\"})\n",
    "inflation_language_group.sort_values(by=\"movie_score\", ascending=False).head(20).plot(kind=\"bar\",\n",
    "                                                                                      title=\"Total score per language\",\n",
    "                                                                                      xlabel=\"Language\",\n",
    "                                                                                      ylabel=\"Total score\")"
   ]
  },
  {
   "cell_type": "markdown",
   "id": "ccc9ac7345212da3",
   "metadata": {
    "collapsed": false,
    "jupyter": {
     "outputs_hidden": false
    }
   },
   "source": [
    "Following the evolution over the years of the 20 countries that have generated the best movie score"
   ]
  },
  {
   "cell_type": "code",
   "execution_count": 48,
   "id": "ffd548c608fd65f2",
   "metadata": {
    "ExecuteTime": {
     "end_time": "2023-11-17T19:29:20.567563400Z",
     "start_time": "2023-11-17T19:29:10.249450Z"
    },
    "collapsed": false,
    "jupyter": {
     "outputs_hidden": false
    }
   },
   "outputs": [
    {
     "name": "stderr",
     "output_type": "stream",
     "text": [
      "/var/folders/sl/l4r0mck97851fkfhdlbf8shh0000gq/T/ipykernel_8848/629807857.py:2: SettingWithCopyWarning: \n",
      "A value is trying to be set on a copy of a slice from a DataFrame\n",
      "\n",
      "See the caveats in the documentation: https://pandas.pydata.org/pandas-docs/stable/user_guide/indexing.html#returning-a-view-versus-a-copy\n",
      "  top_20_merged.dropna(subset=[\"movie_score\"], inplace=True)\n"
     ]
    }
   ],
   "source": [
    "top_20_merged = merged_all[merged_all[\"country\"].isin(top_20_countries)]\n",
    "top_20_merged.dropna(subset=[\"movie_score\"], inplace=True)\n",
    "top_20_grouped = top_20_merged.groupby([\"year\", \"country\"])\n",
    "top_20_sum = top_20_grouped.agg({\"movie_score\": \"sum\"})"
   ]
  },
  {
   "cell_type": "code",
   "execution_count": 49,
   "id": "a6257a7c",
   "metadata": {},
   "outputs": [
    {
     "data": {
      "text/html": [
       "<div>\n",
       "<style scoped>\n",
       "    .dataframe tbody tr th:only-of-type {\n",
       "        vertical-align: middle;\n",
       "    }\n",
       "\n",
       "    .dataframe tbody tr th {\n",
       "        vertical-align: top;\n",
       "    }\n",
       "\n",
       "    .dataframe thead th {\n",
       "        text-align: right;\n",
       "    }\n",
       "</style>\n",
       "<table border=\"1\" class=\"dataframe\">\n",
       "  <thead>\n",
       "    <tr style=\"text-align: right;\">\n",
       "      <th></th>\n",
       "      <th>year</th>\n",
       "      <th>country</th>\n",
       "      <th>mean</th>\n",
       "      <th>std</th>\n",
       "      <th>count</th>\n",
       "    </tr>\n",
       "  </thead>\n",
       "  <tbody>\n",
       "    <tr>\n",
       "      <th>0</th>\n",
       "      <td>1914.0</td>\n",
       "      <td>United States of America</td>\n",
       "      <td>57.256782</td>\n",
       "      <td>9.932869</td>\n",
       "      <td>25</td>\n",
       "    </tr>\n",
       "    <tr>\n",
       "      <th>1</th>\n",
       "      <td>1915.0</td>\n",
       "      <td>United States of America</td>\n",
       "      <td>77.012932</td>\n",
       "      <td>0.000000</td>\n",
       "      <td>14</td>\n",
       "    </tr>\n",
       "    <tr>\n",
       "      <th>2</th>\n",
       "      <td>1918.0</td>\n",
       "      <td>United States of America</td>\n",
       "      <td>60.470042</td>\n",
       "      <td>0.000000</td>\n",
       "      <td>5</td>\n",
       "    </tr>\n",
       "  </tbody>\n",
       "</table>\n",
       "</div>"
      ],
      "text/plain": [
       "     year                   country       mean       std  count\n",
       "0  1914.0  United States of America  57.256782  9.932869     25\n",
       "1  1915.0  United States of America  77.012932  0.000000     14\n",
       "2  1918.0  United States of America  60.470042  0.000000      5"
      ]
     },
     "execution_count": 49,
     "metadata": {},
     "output_type": "execute_result"
    }
   ],
   "source": [
    "# for each country compute the mean over each year\n",
    "data_country_merged = top_20_grouped.agg(mean=(\"movie_score\", \"mean\"), \n",
    "                                         std=(\"movie_score\", \"std\"), \n",
    "                                         count=(\"movie_score\", \"count\")).reset_index()\n",
    "countries = top_20_merged[\"country\"].unique()\n",
    "\n",
    "data_country_merged.head(3)"
   ]
  },
  {
   "cell_type": "code",
   "execution_count": 50,
   "id": "00690cec",
   "metadata": {},
   "outputs": [
    {
     "data": {
      "image/png": "[encoded data removed]",
      "text/plain": [
       "<Figure size 432x288 with 1 Axes>"
      ]
     },
     "metadata": {
      "needs_background": "light"
     },
     "output_type": "display_data"
    }
   ],
   "source": [
    "for country in countries:\n",
    "    data_country = data_country_merged[data_country_merged[\"country\"] == country]\n",
    "\n",
    "    country_IC_plus = data_country[\"mean\"] + 1.96*data_country[\"std\"]/np.sqrt(data_country[\"count\"])\n",
    "    country_IC_minus = data_country[\"mean\"] - 1.96*data_country[\"std\"]/np.sqrt(data_country[\"count\"])\n",
    "    \n",
    "    plt.plot(data_country[\"year\"], data_country[\"mean\"], label=country)\n",
    "    plt.fill_between(data_country[\"year\"], country_IC_minus, country_IC_plus, alpha=0.2)\n",
    "\n",
    "plt.legend()\n",
    "plt.xlabel(\"Year\")\n",
    "plt.ylabel(\"Average movie score\")\n",
    "plt.title(\"Average movie score per country over time\")\n",
    "plt.show()"
   ]
  },
  {
   "cell_type": "code",
   "execution_count": 51,
   "id": "8f27a31f",
   "metadata": {},
   "outputs": [
    {
     "ename": "NameError",
     "evalue": "name 'genres_cols' is not defined",
     "output_type": "error",
     "traceback": [
      "\u001b[0;31m---------------------------------------------------------------------------\u001b[0m",
      "\u001b[0;31mNameError\u001b[0m                                 Traceback (most recent call last)",
      "Input \u001b[0;32mIn [51]\u001b[0m, in \u001b[0;36m<cell line: 8>\u001b[0;34m()\u001b[0m\n\u001b[1;32m      5\u001b[0m app \u001b[38;5;241m=\u001b[39m dash\u001b[38;5;241m.\u001b[39mDash(\u001b[38;5;18m__name__\u001b[39m)\n\u001b[1;32m      7\u001b[0m \u001b[38;5;66;03m# Layout of the app\u001b[39;00m\n\u001b[1;32m      8\u001b[0m app\u001b[38;5;241m.\u001b[39mlayout \u001b[38;5;241m=\u001b[39m html\u001b[38;5;241m.\u001b[39mDiv([\n\u001b[1;32m      9\u001b[0m     dcc\u001b[38;5;241m.\u001b[39mDropdown(\n\u001b[1;32m     10\u001b[0m         \u001b[38;5;28mid\u001b[39m\u001b[38;5;241m=\u001b[39m\u001b[38;5;124m'\u001b[39m\u001b[38;5;124mgenre-dropdown\u001b[39m\u001b[38;5;124m'\u001b[39m,\n\u001b[0;32m---> 11\u001b[0m         options\u001b[38;5;241m=\u001b[39m[{\u001b[38;5;124m'\u001b[39m\u001b[38;5;124mlabel\u001b[39m\u001b[38;5;124m'\u001b[39m: \u001b[38;5;124m'\u001b[39m\u001b[38;5;124mAll\u001b[39m\u001b[38;5;124m'\u001b[39m, \u001b[38;5;124m'\u001b[39m\u001b[38;5;124mvalue\u001b[39m\u001b[38;5;124m'\u001b[39m: \u001b[38;5;124m'\u001b[39m\u001b[38;5;124mAll\u001b[39m\u001b[38;5;124m'\u001b[39m}] \u001b[38;5;241m+\u001b[39m [{\u001b[38;5;124m'\u001b[39m\u001b[38;5;124mlabel\u001b[39m\u001b[38;5;124m'\u001b[39m: genre, \u001b[38;5;124m'\u001b[39m\u001b[38;5;124mvalue\u001b[39m\u001b[38;5;124m'\u001b[39m: genre} \u001b[38;5;28;01mfor\u001b[39;00m genre \u001b[38;5;129;01min\u001b[39;00m \u001b[43mgenres_cols\u001b[49m],\n\u001b[1;32m     12\u001b[0m         value\u001b[38;5;241m=\u001b[39m\u001b[38;5;124m'\u001b[39m\u001b[38;5;124mAll\u001b[39m\u001b[38;5;124m'\u001b[39m,\n\u001b[1;32m     13\u001b[0m         multi\u001b[38;5;241m=\u001b[39m\u001b[38;5;28;01mTrue\u001b[39;00m  \u001b[38;5;66;03m# Allow multiple selections\u001b[39;00m\n\u001b[1;32m     14\u001b[0m     ),\n\u001b[1;32m     15\u001b[0m     dcc\u001b[38;5;241m.\u001b[39mGraph(\u001b[38;5;28mid\u001b[39m\u001b[38;5;241m=\u001b[39m\u001b[38;5;124m'\u001b[39m\u001b[38;5;124mgenre-plot\u001b[39m\u001b[38;5;124m'\u001b[39m)\n\u001b[1;32m     16\u001b[0m ])\n\u001b[1;32m     17\u001b[0m \u001b[38;5;129m@app\u001b[39m\u001b[38;5;241m.\u001b[39mcallback(\n\u001b[1;32m     18\u001b[0m     Output(\u001b[38;5;124m'\u001b[39m\u001b[38;5;124mgenre-plot\u001b[39m\u001b[38;5;124m'\u001b[39m, \u001b[38;5;124m'\u001b[39m\u001b[38;5;124mfigure\u001b[39m\u001b[38;5;124m'\u001b[39m),\n\u001b[1;32m     19\u001b[0m     [Input(\u001b[38;5;124m'\u001b[39m\u001b[38;5;124mgenre-dropdown\u001b[39m\u001b[38;5;124m'\u001b[39m, \u001b[38;5;124m'\u001b[39m\u001b[38;5;124mvalue\u001b[39m\u001b[38;5;124m'\u001b[39m)]\n\u001b[1;32m     20\u001b[0m )\n\u001b[1;32m     21\u001b[0m \u001b[38;5;28;01mdef\u001b[39;00m \u001b[38;5;21mupdate_graph\u001b[39m(selected_genres):\n\u001b[1;32m     22\u001b[0m     \u001b[38;5;28;01mif\u001b[39;00m \u001b[38;5;124m'\u001b[39m\u001b[38;5;124mAll\u001b[39m\u001b[38;5;124m'\u001b[39m \u001b[38;5;129;01min\u001b[39;00m selected_genres \u001b[38;5;129;01mor\u001b[39;00m \u001b[38;5;129;01mnot\u001b[39;00m selected_genres:\n",
      "\u001b[0;31mNameError\u001b[0m: name 'genres_cols' is not defined"
     ]
    }
   ],
   "source": [
    "from dash import dcc, html\n",
    "import plotly.express as px\n",
    "from dash.dependencies import Input, Output\n",
    "\n",
    "app = dash.Dash(__name__)\n",
    "\n",
    "# Layout of the app\n",
    "app.layout = html.Div([\n",
    "    dcc.Dropdown(\n",
    "        id='genre-dropdown',\n",
    "        options=[{'label': 'All', 'value': 'All'}] + [{'label': genre, 'value': genre} for genre in genres_cols],\n",
    "        value='All',\n",
    "        multi=True  # Allow multiple selections\n",
    "    ),\n",
    "    dcc.Graph(id='genre-plot')\n",
    "])\n",
    "@app.callback(\n",
    "    Output('genre-plot', 'figure'),\n",
    "    [Input('genre-dropdown', 'value')]\n",
    ")\n",
    "def update_graph(selected_genres):\n",
    "    if 'All' in selected_genres or not selected_genres:\n",
    "        filtered_df = genres_and_sentiments[needed_columns]\n",
    "        display(filtered_df)\n",
    "    else:\n",
    "        filtered_df = genres_and_sentiments[genres_and_sentiments[selected_genres].any(axis=1)][needed_columns]\n",
    "    # Create the plot\n",
    "    fig = px.density_contour(filtered_df, x='sentiment_intensity', y='movie_score', \n",
    "                             title='Density Contour of Movie Score vs Sentiment Intensity')\n",
    "    fig.update_traces(contours_coloring='fill', contours_showlabels=True)\n",
    "    return fig\n",
    "\n",
    "if __name__ == '__main__':\n",
    "    app.run_server(debug=True)\n"
   ]
  },
  {
   "cell_type": "code",
   "execution_count": null,
   "id": "ab512eb8",
   "metadata": {},
   "outputs": [],
   "source": [
    "import plotly.graph_objects as go\n",
    "import numpy as np\n",
    "\n",
    "# Assuming 'countries' is a list of unique countries in your dataset\n",
    "\n",
    "# Create an empty figure\n",
    "fig = go.Figure()\n",
    "\n",
    "for i, country in enumerate(countries):\n",
    "    data_country = data_country_merged[data_country_merged[\"country\"] == country]\n",
    "\n",
    "    country_IC_plus = data_country[\"mean\"] + 1.96 * data_country[\"std\"] / np.sqrt(data_country[\"count\"])\n",
    "    country_IC_minus = data_country[\"mean\"] - 1.96 * data_country[\"std\"] / np.sqrt(data_country[\"count\"])\n",
    "\n",
    "    # Add trace for the mean line\n",
    "    fig.add_trace(go.Scatter(\n",
    "        x=data_country[\"year\"],\n",
    "        y=data_country[\"mean\"],\n",
    "        name=country,\n",
    "        mode='lines',\n",
    "        line=dict(color='blue'),  # You can customize the line color\n",
    "        hoverinfo='text',\n",
    "        text=[f'Mean: {mean}<br>Year: {year}' for mean, year in zip(data_country[\"mean\"], data_country[\"year\"])]\n",
    "    ))\n",
    "\n",
    "    # Add trace for the upper bound of the confidence interval\n",
    "    fig.add_trace(go.Scatter(\n",
    "        x=data_country[\"year\"].tolist() + data_country[\"year\"].tolist()[::-1],\n",
    "        y=country_IC_plus.tolist() + country_IC_minus.tolist()[::-1],\n",
    "        fill='toself',\n",
    "        fillcolor='rgba(0,100,80,0.2)',  # Fill color\n",
    "        line=dict(color='rgba(255,255,255,0)'),\n",
    "        showlegend=False,\n",
    "        name=f'{country}_CI',  # Add a unique name for the confidence interval trace\n",
    "    ))\n",
    "\n",
    "# Create dropdown buttons\n",
    "buttons = []\n",
    "for country in countries:\n",
    "    buttons.append(\n",
    "        dict(label=country,\n",
    "             method='update',\n",
    "             args=[{'visible': [country == trace.name or f'{country}_CI' == trace.name for trace in fig.data]},\n",
    "                   {'title': f'Average movie score for {country} over time'}])\n",
    "    )\n",
    "\n",
    "# Update layout to include dropdown menu\n",
    "fig.update_layout(\n",
    "    updatemenus=[\n",
    "        dict(\n",
    "            type='dropdown',\n",
    "            showactive=True,\n",
    "            x=0.1,\n",
    "            y=1.15,\n",
    "            buttons=buttons,\n",
    "        )\n",
    "    ]\n",
    ")\n",
    "\n",
    "# Set layout parameters\n",
    "fig.update_layout(\n",
    "    title=\"Average movie score per country over time\",\n",
    "    xaxis_title=\"Year\",\n",
    "    yaxis_title=\"Average movie score\",\n",
    ")\n",
    "\n",
    "# Show the figure\n",
    "fig.show()\n"
   ]
  },
  {
   "cell_type": "code",
   "execution_count": null,
   "id": "cd3184fa",
   "metadata": {},
   "outputs": [],
   "source": [
    "top_20_mean[top_20_mean[\"country\"] == \"United States\"]"
   ]
  },
  {
   "cell_type": "code",
   "execution_count": null,
   "id": "e439543b39f91343",
   "metadata": {
    "ExecuteTime": {
     "end_time": "2023-11-17T19:29:21.648972500Z",
     "start_time": "2023-11-17T19:29:10.313027700Z"
    },
    "collapsed": false,
    "jupyter": {
     "outputs_hidden": false
    }
   },
   "outputs": [],
   "source": [
    "ax = top_20_sum.unstack().plot(kind='bar', stacked=True, title=\"Total score\", xlabel=\"year\", ylabel=\"Total score\",\n",
    "                               figsize=(20, 10))\n",
    "ax.legend(loc='center left', bbox_to_anchor=(1, 0.5))"
   ]
  },
  {
   "cell_type": "markdown",
   "id": "fbf4023ee0af5213",
   "metadata": {
    "collapsed": false,
    "jupyter": {
     "outputs_hidden": false
    }
   },
   "source": [
    "We clearly see that globally, the movie industry has been making more successful movies over the years. Though we see a drop during the years that follow 2008 which might be a consequence of the subprime's crisis."
   ]
  },
  {
   "cell_type": "code",
   "execution_count": null,
   "id": "7cd58d36",
   "metadata": {},
   "outputs": [],
   "source": [
    "top_20_grouped[top_20_grouped[\"country\"]==\"France\"]"
   ]
  },
  {
   "cell_type": "code",
   "execution_count": null,
   "id": "d289475b",
   "metadata": {},
   "outputs": [],
   "source": [
    "top_20_avg = top_20_grouped.agg({\"movie_score\": \"mean\"})\n",
    "top_20_std = top_20_grouped.agg({\"movie_score\": \"std\"})"
   ]
  },
  {
   "cell_type": "markdown",
   "id": "18bdf12cbd1464d",
   "metadata": {
    "collapsed": false,
    "jupyter": {
     "outputs_hidden": false
    }
   },
   "source": [
    "## Movie score analysis over the length of a movie"
   ]
  },
  {
   "cell_type": "markdown",
   "id": "bfbba31964149492",
   "metadata": {
    "collapsed": false,
    "jupyter": {
     "outputs_hidden": false
    }
   },
   "source": [
    "Aboout 35 movies have a runtime that is longer that 500 minutes, which does not make sense."
   ]
  },
  {
   "cell_type": "code",
   "execution_count": null,
   "id": "d8994c3f4607772b",
   "metadata": {
    "ExecuteTime": {
     "end_time": "2023-11-17T19:29:21.648972500Z",
     "start_time": "2023-11-17T19:29:12.396849Z"
    },
    "collapsed": false,
    "jupyter": {
     "outputs_hidden": false
    }
   },
   "outputs": [],
   "source": [
    "merged_all[merged_all[\"runtime\"] >= 500][\"runtime\"].describe()"
   ]
  },
  {
   "cell_type": "markdown",
   "id": "c36f908be1813abe",
   "metadata": {
    "collapsed": false,
    "jupyter": {
     "outputs_hidden": false
    }
   },
   "source": [
    "We can remove these outliers and perform a `pearson correlation` test between the `movie_runtime` and its `movie_score`"
   ]
  },
  {
   "cell_type": "code",
   "execution_count": null,
   "id": "27750c15215b8102",
   "metadata": {
    "ExecuteTime": {
     "end_time": "2023-11-17T19:29:21.657234300Z",
     "start_time": "2023-11-17T19:29:12.411493200Z"
    },
    "collapsed": false,
    "jupyter": {
     "outputs_hidden": false
    }
   },
   "outputs": [],
   "source": [
    "merged_with_inflation_no_outlier = merged_all[merged_all[\"runtime\"] < 500]\n",
    "non_nan_merged_with_inflation = merged_with_inflation_no_outlier[\n",
    "    ~merged_with_inflation_no_outlier[\"movie_score\"].isna()]\n",
    "non_nan_merged_with_inflation = non_nan_merged_with_inflation[~non_nan_merged_with_inflation[\"runtime\"].isna()]\n",
    "stats.pearsonr(non_nan_merged_with_inflation[\"runtime\"], non_nan_merged_with_inflation[\"movie_score\"])"
   ]
  },
  {
   "cell_type": "markdown",
   "id": "a9e7a696104745d6",
   "metadata": {
    "collapsed": false,
    "jupyter": {
     "outputs_hidden": false
    }
   },
   "source": [
    "The p_value is low enough, we can trust the value of Pearson's coefficient `r=0.21` which indicates a weak positive correlation between `runtime` of a movie and its `movie_score`"
   ]
  },
  {
   "cell_type": "code",
   "execution_count": null,
   "id": "cfa78f7cebdacff1",
   "metadata": {
    "ExecuteTime": {
     "end_time": "2023-11-17T19:29:23.348438600Z",
     "start_time": "2023-11-17T19:29:12.493013500Z"
    },
    "collapsed": false,
    "jupyter": {
     "outputs_hidden": false
    }
   },
   "outputs": [],
   "source": [
    "# plotting revenue vs runtime with a linear regression\n",
    "sns.lmplot(x=\"runtime\", y=\"movie_score\", data=non_nan_merged_with_inflation, scatter_kws={'alpha':0.01})\n",
    "#plt.yscale('log')\n",
    "plt.xlabel(\"movie_score in minutes\")\n",
    "plt.ylabel(\"Total score\")\n",
    "plt.title(\"Total score vs Runtime\")"
   ]
  },
  {
   "cell_type": "code",
   "execution_count": null,
   "id": "bf21ebd5",
   "metadata": {},
   "outputs": [],
   "source": [
    "fig, ax = plt.subplots(nrows=1, ncols=1, figsize=(10,10))\n",
    "ax.hexbin(x=non_nan_merged_with_inflation[\"runtime\"], y=non_nan_merged_with_inflation[\"movie_score\"], gridsize=100, cmap=\"Blues\", mincnt=1)\n",
    "\n",
    "sns.regplot(x=\"runtime\", y=\"movie_score\", data=non_nan_merged_with_inflation, scatter=False, ax=ax, color=\"red\")\n",
    "plt.xlabel(\"Runtime in minutes\")\n",
    "plt.ylabel(\"Total score\")\n",
    "plt.title(\"Score vs Runtime\")"
   ]
  },
  {
   "cell_type": "code",
   "execution_count": null,
   "id": "02c5b93b",
   "metadata": {},
   "outputs": [],
   "source": [
    "fig, ax = plt.subplots(nrows=1, ncols=1, figsize=(10,10))\n",
    "ax.hexbin(x=non_nan_merged_with_inflation[\"runtime\"], y=non_nan_merged_with_inflation[\"movie_score\"], gridsize=100, cmap=\"Blues\", mincnt=1)\n",
    "\n",
    "sns.regplot(x=\"runtime\", y=\"movie_score\", data=non_nan_merged_with_inflation, scatter=False, ax=ax, color=\"blue\")\n",
    "plt.xlabel(\"Runtime in minutes\")\n",
    "plt.ylabel(\"Total score\")\n",
    "plt.title(\"Score vs Runtime\")"
   ]
  },
  {
   "cell_type": "code",
   "execution_count": null,
   "id": "7af8a8075cba36ff",
   "metadata": {
    "ExecuteTime": {
     "end_time": "2023-11-17T19:29:23.348438600Z",
     "start_time": "2023-11-17T19:29:21.473439700Z"
    },
    "collapsed": false,
    "jupyter": {
     "outputs_hidden": false
    }
   },
   "outputs": [],
   "source": [
    "non_nan_merged_with_inflation[\"runtime\"].describe()"
   ]
  },
  {
   "cell_type": "markdown",
   "id": "4b89b0a58f4263fa",
   "metadata": {
    "collapsed": false,
    "jupyter": {
     "outputs_hidden": false
    }
   },
   "source": [
    "## Producers"
   ]
  },
  {
   "cell_type": "markdown",
   "id": "13dedf0a00aec5b4",
   "metadata": {
    "collapsed": false,
    "jupyter": {
     "outputs_hidden": false
    }
   },
   "source": [
    "Plotting the 20 producers that have generated the most successful movies over their career "
   ]
  },
  {
   "cell_type": "code",
   "execution_count": null,
   "id": "7adc98de0c238bb",
   "metadata": {
    "ExecuteTime": {
     "end_time": "2023-11-17T19:29:23.746292400Z",
     "start_time": "2023-11-17T19:29:21.487440300Z"
    },
    "collapsed": false,
    "jupyter": {
     "outputs_hidden": false
    }
   },
   "outputs": [],
   "source": [
    "scraped_grouped = merged_all.groupby([\"producer\"]).agg({\"movie_score\": \"sum\"})\n",
    "scraped_grouped.sort_values(by=\"movie_score\", ascending=False).head(20).plot(kind=\"bar\",\n",
    "                                                                             title=\"Total score per producer\",\n",
    "                                                                             xlabel=\"Producer\", ylabel=\"Total score\")"
   ]
  },
  {
   "cell_type": "markdown",
   "id": "e9c55f11423ed7ad",
   "metadata": {
    "collapsed": false,
    "jupyter": {
     "outputs_hidden": false
    }
   },
   "source": [
    "## Movie budget"
   ]
  },
  {
   "cell_type": "markdown",
   "id": "bad29fba39002548",
   "metadata": {
    "collapsed": false,
    "jupyter": {
     "outputs_hidden": false
    }
   },
   "source": [
    "We can remove the movies that have a `budget` larger than $1B and perform a `pearson correlation` test between the `budget` and its `movie_score`"
   ]
  },
  {
   "cell_type": "code",
   "execution_count": null,
   "id": "e877727c04b4c91a",
   "metadata": {
    "ExecuteTime": {
     "end_time": "2023-11-17T19:29:23.746292400Z",
     "start_time": "2023-11-17T19:29:21.742662800Z"
    },
    "collapsed": false,
    "jupyter": {
     "outputs_hidden": false
    }
   },
   "outputs": [],
   "source": [
    "non_nan_budget = movies.copy(deep=True)\n",
    "non_nan_budget = non_nan_budget[~non_nan_budget[\"adjusted_budget\"].isna()]\n",
    "\n",
    "non_nan_budget = non_nan_budget[non_nan_budget[\"adjusted_budget\"] < 1e9]\n",
    "\n",
    "stats.pearsonr(non_nan_budget[\"adjusted_budget\"], non_nan_budget[\"movie_score\"])"
   ]
  },
  {
   "cell_type": "markdown",
   "id": "e6273246059d59d4",
   "metadata": {
    "collapsed": false,
    "jupyter": {
     "outputs_hidden": false
    }
   },
   "source": [
    "The p_value is low enough, we can trust the value of Pearson's coefficient `r=0.2` which indicates a weak positive correlation between `budget` of a movie and its `movie_score`"
   ]
  },
  {
   "cell_type": "code",
   "execution_count": null,
   "id": "b610e7ef90c9d7a1",
   "metadata": {
    "ExecuteTime": {
     "end_time": "2023-11-17T19:29:23.747294500Z",
     "start_time": "2023-11-17T19:29:21.772924900Z"
    },
    "collapsed": false,
    "jupyter": {
     "outputs_hidden": false
    }
   },
   "outputs": [],
   "source": [
    "# plotting movie_score vs runtime with a linear regression\n",
    "sns.lmplot(x=\"adjusted_budget\", y=\"adjusted_revenue\", data=non_nan_budget, scatter_kws={'alpha':0.01})\n",
    "plt.xlabel(\"Budget\")\n",
    "plt.ylabel(\"adjusted_revenue\")\n",
    "plt.title(\"Score vs Budget\")"
   ]
  },
  {
   "cell_type": "code",
   "execution_count": null,
   "id": "b4540e01",
   "metadata": {},
   "outputs": [],
   "source": [
    "fig, ax = plt.subplots(nrows=1, ncols=1, figsize=(10,10))\n",
    "ax.hexbin(x=non_nan_merged_with_inflation[\"adjusted_budget\"], y=non_nan_merged_with_inflation[\"movie_score\"], gridsize=100, cmap=\"Blues\", mincnt=1)\n",
    "\n",
    "sns.regplot(x=\"adjusted_budget\", y=\"movie_score\", data=non_nan_merged_with_inflation, scatter=False, ax=ax, color=\"red\")\n",
    "plt.xlabel(\"adjusted budget\")\n",
    "plt.ylabel(\"Total score\")\n",
    "plt.title(\"Score vs Adjusted budget\")"
   ]
  },
  {
   "cell_type": "code",
   "execution_count": null,
   "id": "47a14b69cb52476e",
   "metadata": {
    "ExecuteTime": {
     "end_time": "2023-11-17T19:29:23.747294500Z",
     "start_time": "2023-11-17T19:29:22.419993700Z"
    },
    "collapsed": false,
    "jupyter": {
     "outputs_hidden": false
    }
   },
   "outputs": [],
   "source": [
    "non_nan_budget[\"adjusted_budget\"].describe()"
   ]
  },
  {
   "cell_type": "code",
   "execution_count": null,
   "id": "1f765e90",
   "metadata": {},
   "outputs": [],
   "source": [
    "import plotly.express as px"
   ]
  },
  {
   "cell_type": "code",
   "execution_count": null,
   "id": "ae7bbbef",
   "metadata": {},
   "outputs": [],
   "source": [
    "new_df = non_nan_budget[[\"runtime\", \"movie_score\"]].copy(deep=True).dropna()\n",
    "#new_df[\"runtime\"] = np.log(new_df[\"runtime\"])\n",
    "#new_df[\"movie_score\"] = np.log(new_df[\"movie_score\"])\n",
    "\n",
    "fig = px.density_contour(new_df, x=\"runtime\", y=\"movie_score\")\n",
    "\n",
    "fig.update_layout(\n",
    "    title=\"Movie Score vs Runtime\",\n",
    "    xaxis_title=\"Runtime\",\n",
    "    yaxis_title=\"Movie Score\",\n",
    ")\n",
    "\n",
    "fig.update_xaxes(range=[70, 150])\n",
    "fig.update_yaxes(range=[30, 100])\n",
    "fig.update_traces(contours_coloring=\"fill\", contours_showlabels = True)\n",
    "fig.show()"
   ]
  },
  {
   "cell_type": "code",
   "execution_count": null,
   "id": "77a5c2a8",
   "metadata": {},
   "outputs": [],
   "source": [
    "new_df = non_nan_budget[[\"adjusted_budget\", \"movie_score\"]].copy(deep=True)\n",
    "#new_df[\"adjusted_budget\"] = np.log(new_df[\"adjusted_budget\"])\n",
    "#new_df[\"movie_score\"] = np.log(new_df[\"movie_score\"])\n",
    "\n",
    "fig = px.density_contour(new_df, x=\"adjusted_budget\", y=\"movie_score\")\n",
    "\n",
    "fig.update_yaxes(range=[30, 90])\n",
    "fig.update_xaxes(range=[-20000000, 120000000])\n",
    "fig.update_traces(contours_coloring=\"fill\", contours_showlabels = True)\n",
    "\n",
    "fig.update_layout(\n",
    "    title=\"Movie Score vs Budget\",\n",
    "    xaxis_title=\"Budget (Adjusted for inflation)\",\n",
    "    yaxis_title=\"Movie Score\",\n",
    ")\n",
    "\n",
    "fig.show()"
   ]
  },
  {
   "cell_type": "markdown",
   "id": "cab11ec52079b5b9",
   "metadata": {
    "collapsed": false,
    "jupyter": {
     "outputs_hidden": false
    }
   },
   "source": [
    "## Genres"
   ]
  },
  {
   "cell_type": "code",
   "execution_count": 207,
   "id": "e5790b2cd37bea62",
   "metadata": {
    "ExecuteTime": {
     "end_time": "2023-11-17T19:29:23.747294500Z",
     "start_time": "2023-11-17T19:29:22.434268700Z"
    },
    "collapsed": false,
    "jupyter": {
     "outputs_hidden": false
    }
   },
   "outputs": [
    {
     "data": {
      "text/html": [
       "<div>\n",
       "<style scoped>\n",
       "    .dataframe tbody tr th:only-of-type {\n",
       "        vertical-align: middle;\n",
       "    }\n",
       "\n",
       "    .dataframe tbody tr th {\n",
       "        vertical-align: top;\n",
       "    }\n",
       "\n",
       "    .dataframe thead th {\n",
       "        text-align: right;\n",
       "    }\n",
       "</style>\n",
       "<table border=\"1\" class=\"dataframe\">\n",
       "  <thead>\n",
       "    <tr style=\"text-align: right;\">\n",
       "      <th></th>\n",
       "      <th>wikipedia_movie_id</th>\n",
       "      <th>freebase_movie_id</th>\n",
       "      <th>name</th>\n",
       "      <th>release_date</th>\n",
       "      <th>revenue</th>\n",
       "      <th>runtime</th>\n",
       "      <th>languages</th>\n",
       "      <th>countries</th>\n",
       "      <th>genres</th>\n",
       "      <th>budget</th>\n",
       "      <th>...</th>\n",
       "      <th>year</th>\n",
       "      <th>correlation_factor</th>\n",
       "      <th>adjusted_revenue</th>\n",
       "      <th>adjusted_budget</th>\n",
       "      <th>adjusted_gross_domestic</th>\n",
       "      <th>adjusted_opening_weekend</th>\n",
       "      <th>BORC</th>\n",
       "      <th>RC</th>\n",
       "      <th>movie_score</th>\n",
       "      <th>Good Movie</th>\n",
       "    </tr>\n",
       "  </thead>\n",
       "  <tbody>\n",
       "    <tr>\n",
       "      <th>8110</th>\n",
       "      <td>2466773</td>\n",
       "      <td>/m/07g1sm</td>\n",
       "      <td>The Godfather</td>\n",
       "      <td>1972-03-15</td>\n",
       "      <td>2.685000e+08</td>\n",
       "      <td>177.0</td>\n",
       "      <td>{\"/m/04h9h\": \"Latin Language\", \"/m/02bjrlw\": \"...</td>\n",
       "      <td>{\"/m/09c7w0\": \"United States of America\"}</td>\n",
       "      <td>{\"/m/0lsxr\": \"Crime Fiction\", \"/m/0gw5w78\": \"G...</td>\n",
       "      <td>6000000.0</td>\n",
       "      <td>...</td>\n",
       "      <td>1972.0</td>\n",
       "      <td>5.488629</td>\n",
       "      <td>1.473697e+09</td>\n",
       "      <td>3.293178e+07</td>\n",
       "      <td>7.485452e+08</td>\n",
       "      <td>1.659723e+06</td>\n",
       "      <td>0.930359</td>\n",
       "      <td>0.987805</td>\n",
       "      <td>95.908194</td>\n",
       "      <td>1</td>\n",
       "    </tr>\n",
       "    <tr>\n",
       "      <th>17595</th>\n",
       "      <td>174251</td>\n",
       "      <td>/m/017jd9</td>\n",
       "      <td>The Lord of the Rings: The Return of the King</td>\n",
       "      <td>2003-12-17</td>\n",
       "      <td>1.119930e+09</td>\n",
       "      <td>250.0</td>\n",
       "      <td>{\"/m/05p2d\": \"Old English language\", \"/m/02h40...</td>\n",
       "      <td>{\"/m/09c7w0\": \"United States of America\", \"/m/...</td>\n",
       "      <td>{\"/m/0hj3n2k\": \"Fantasy Adventure\", \"/m/03k9fj...</td>\n",
       "      <td>94000000.0</td>\n",
       "      <td>...</td>\n",
       "      <td>2003.0</td>\n",
       "      <td>1.246866</td>\n",
       "      <td>1.396402e+09</td>\n",
       "      <td>1.172054e+08</td>\n",
       "      <td>4.730948e+08</td>\n",
       "      <td>9.055949e+07</td>\n",
       "      <td>0.927864</td>\n",
       "      <td>0.963415</td>\n",
       "      <td>94.563911</td>\n",
       "      <td>1</td>\n",
       "    </tr>\n",
       "    <tr>\n",
       "      <th>8476</th>\n",
       "      <td>4276475</td>\n",
       "      <td>/m/0btpm6</td>\n",
       "      <td>The Dark Knight</td>\n",
       "      <td>2008-07-16</td>\n",
       "      <td>1.004558e+09</td>\n",
       "      <td>153.0</td>\n",
       "      <td>{\"/m/0653m\": \"Standard Mandarin\", \"/m/02h40lc\"...</td>\n",
       "      <td>{\"/m/09c7w0\": \"United States of America\", \"/m/...</td>\n",
       "      <td>{\"/m/0lsxr\": \"Crime Fiction\", \"/m/01jfsb\": \"Th...</td>\n",
       "      <td>185000000.0</td>\n",
       "      <td>...</td>\n",
       "      <td>2008.0</td>\n",
       "      <td>1.066249</td>\n",
       "      <td>1.071109e+09</td>\n",
       "      <td>1.972560e+08</td>\n",
       "      <td>5.704292e+08</td>\n",
       "      <td>1.689060e+08</td>\n",
       "      <td>0.915580</td>\n",
       "      <td>0.963415</td>\n",
       "      <td>93.949723</td>\n",
       "      <td>1</td>\n",
       "    </tr>\n",
       "    <tr>\n",
       "      <th>4837</th>\n",
       "      <td>4588970</td>\n",
       "      <td>/m/0cbckv</td>\n",
       "      <td>Anchorhead Story of Star Wars</td>\n",
       "      <td>1977-01-01 00:00:00</td>\n",
       "      <td>7.753980e+08</td>\n",
       "      <td>NaN</td>\n",
       "      <td>{}</td>\n",
       "      <td>{}</td>\n",
       "      <td>{}</td>\n",
       "      <td>11000000.0</td>\n",
       "      <td>...</td>\n",
       "      <td>1977.0</td>\n",
       "      <td>3.787533</td>\n",
       "      <td>2.936845e+09</td>\n",
       "      <td>4.166286e+07</td>\n",
       "      <td>1.746047e+09</td>\n",
       "      <td>5.887625e+06</td>\n",
       "      <td>0.962298</td>\n",
       "      <td>0.914634</td>\n",
       "      <td>93.846619</td>\n",
       "      <td>1</td>\n",
       "    </tr>\n",
       "    <tr>\n",
       "      <th>17567</th>\n",
       "      <td>52549</td>\n",
       "      <td>/m/0dtfn</td>\n",
       "      <td>Star Wars Episode IV: A New Hope</td>\n",
       "      <td>1977-05-25</td>\n",
       "      <td>7.753980e+08</td>\n",
       "      <td>122.0</td>\n",
       "      <td>{\"/m/02h40lc\": \"English Language\"}</td>\n",
       "      <td>{\"/m/09c7w0\": \"United States of America\"}</td>\n",
       "      <td>{\"/m/06n90\": \"Science Fiction\", \"/m/03k9fj\": \"...</td>\n",
       "      <td>11000000.0</td>\n",
       "      <td>...</td>\n",
       "      <td>1977.0</td>\n",
       "      <td>3.787533</td>\n",
       "      <td>2.936845e+09</td>\n",
       "      <td>4.166286e+07</td>\n",
       "      <td>1.746047e+09</td>\n",
       "      <td>5.887625e+06</td>\n",
       "      <td>0.962298</td>\n",
       "      <td>0.914634</td>\n",
       "      <td>93.846619</td>\n",
       "      <td>1</td>\n",
       "    </tr>\n",
       "  </tbody>\n",
       "</table>\n",
       "<p>5 rows × 26 columns</p>\n",
       "</div>"
      ],
      "text/plain": [
       "       wikipedia_movie_id freebase_movie_id  \\\n",
       "8110              2466773         /m/07g1sm   \n",
       "17595              174251         /m/017jd9   \n",
       "8476              4276475         /m/0btpm6   \n",
       "4837              4588970         /m/0cbckv   \n",
       "17567               52549          /m/0dtfn   \n",
       "\n",
       "                                                name         release_date  \\\n",
       "8110                                   The Godfather           1972-03-15   \n",
       "17595  The Lord of the Rings: The Return of the King           2003-12-17   \n",
       "8476                                 The Dark Knight           2008-07-16   \n",
       "4837                   Anchorhead Story of Star Wars  1977-01-01 00:00:00   \n",
       "17567               Star Wars Episode IV: A New Hope           1977-05-25   \n",
       "\n",
       "            revenue  runtime  \\\n",
       "8110   2.685000e+08    177.0   \n",
       "17595  1.119930e+09    250.0   \n",
       "8476   1.004558e+09    153.0   \n",
       "4837   7.753980e+08      NaN   \n",
       "17567  7.753980e+08    122.0   \n",
       "\n",
       "                                               languages  \\\n",
       "8110   {\"/m/04h9h\": \"Latin Language\", \"/m/02bjrlw\": \"...   \n",
       "17595  {\"/m/05p2d\": \"Old English language\", \"/m/02h40...   \n",
       "8476   {\"/m/0653m\": \"Standard Mandarin\", \"/m/02h40lc\"...   \n",
       "4837                                                  {}   \n",
       "17567                 {\"/m/02h40lc\": \"English Language\"}   \n",
       "\n",
       "                                               countries  \\\n",
       "8110           {\"/m/09c7w0\": \"United States of America\"}   \n",
       "17595  {\"/m/09c7w0\": \"United States of America\", \"/m/...   \n",
       "8476   {\"/m/09c7w0\": \"United States of America\", \"/m/...   \n",
       "4837                                                  {}   \n",
       "17567          {\"/m/09c7w0\": \"United States of America\"}   \n",
       "\n",
       "                                                  genres       budget  ...  \\\n",
       "8110   {\"/m/0lsxr\": \"Crime Fiction\", \"/m/0gw5w78\": \"G...    6000000.0  ...   \n",
       "17595  {\"/m/0hj3n2k\": \"Fantasy Adventure\", \"/m/03k9fj...   94000000.0  ...   \n",
       "8476   {\"/m/0lsxr\": \"Crime Fiction\", \"/m/01jfsb\": \"Th...  185000000.0  ...   \n",
       "4837                                                  {}   11000000.0  ...   \n",
       "17567  {\"/m/06n90\": \"Science Fiction\", \"/m/03k9fj\": \"...   11000000.0  ...   \n",
       "\n",
       "         year  correlation_factor  adjusted_revenue  adjusted_budget  \\\n",
       "8110   1972.0            5.488629      1.473697e+09     3.293178e+07   \n",
       "17595  2003.0            1.246866      1.396402e+09     1.172054e+08   \n",
       "8476   2008.0            1.066249      1.071109e+09     1.972560e+08   \n",
       "4837   1977.0            3.787533      2.936845e+09     4.166286e+07   \n",
       "17567  1977.0            3.787533      2.936845e+09     4.166286e+07   \n",
       "\n",
       "       adjusted_gross_domestic adjusted_opening_weekend      BORC        RC  \\\n",
       "8110              7.485452e+08             1.659723e+06  0.930359  0.987805   \n",
       "17595             4.730948e+08             9.055949e+07  0.927864  0.963415   \n",
       "8476              5.704292e+08             1.689060e+08  0.915580  0.963415   \n",
       "4837              1.746047e+09             5.887625e+06  0.962298  0.914634   \n",
       "17567             1.746047e+09             5.887625e+06  0.962298  0.914634   \n",
       "\n",
       "       movie_score  Good Movie  \n",
       "8110     95.908194           1  \n",
       "17595    94.563911           1  \n",
       "8476     93.949723           1  \n",
       "4837     93.846619           1  \n",
       "17567    93.846619           1  \n",
       "\n",
       "[5 rows x 26 columns]"
      ]
     },
     "execution_count": 207,
     "metadata": {},
     "output_type": "execute_result"
    }
   ],
   "source": [
    "movies_genres = movies.copy(deep=True)\n",
    "movies_genres.head()"
   ]
  },
  {
   "cell_type": "code",
   "execution_count": 208,
   "id": "381dedbfc5d1f17a",
   "metadata": {
    "ExecuteTime": {
     "end_time": "2023-11-17T19:29:23.747294500Z",
     "start_time": "2023-11-17T19:29:22.465794400Z"
    },
    "collapsed": false,
    "jupyter": {
     "outputs_hidden": false
    }
   },
   "outputs": [],
   "source": [
    "def extract_json_values(df, column):\n",
    "    \"\"\"\n",
    "    This function takes a dataframe and a column name containing JSON strings.\n",
    "    It parses the JSON and preserves the content/values as a list of lists.\n",
    "    \"\"\"\n",
    "    # Extract the values from each JSON object and append to a list\n",
    "    values_list = []\n",
    "    for json_str in df[column]:\n",
    "        try:\n",
    "            # Parse the JSON data\n",
    "            json_data = json.loads(json_str)\n",
    "            # Extract values and append to the list\n",
    "            values_list.append(list(json_data.values()))\n",
    "        except json.JSONDecodeError:\n",
    "            # If JSON is not valid, append a None or handle it as needed\n",
    "            values_list.append(None)\n",
    "\n",
    "    return values_list"
   ]
  },
  {
   "cell_type": "code",
   "execution_count": 209,
   "id": "e8b4f8c18a6736fc",
   "metadata": {
    "ExecuteTime": {
     "end_time": "2023-11-17T19:29:23.748319Z",
     "start_time": "2023-11-17T19:29:22.481793800Z"
    },
    "collapsed": false,
    "jupyter": {
     "outputs_hidden": false
    }
   },
   "outputs": [
    {
     "data": {
      "text/html": [
       "<div>\n",
       "<style scoped>\n",
       "    .dataframe tbody tr th:only-of-type {\n",
       "        vertical-align: middle;\n",
       "    }\n",
       "\n",
       "    .dataframe tbody tr th {\n",
       "        vertical-align: top;\n",
       "    }\n",
       "\n",
       "    .dataframe thead th {\n",
       "        text-align: right;\n",
       "    }\n",
       "</style>\n",
       "<table border=\"1\" class=\"dataframe\">\n",
       "  <thead>\n",
       "    <tr style=\"text-align: right;\">\n",
       "      <th></th>\n",
       "      <th>wikipedia_movie_id</th>\n",
       "      <th>freebase_movie_id</th>\n",
       "      <th>name</th>\n",
       "      <th>release_date</th>\n",
       "      <th>revenue</th>\n",
       "      <th>runtime</th>\n",
       "      <th>languages</th>\n",
       "      <th>countries</th>\n",
       "      <th>genres</th>\n",
       "      <th>budget</th>\n",
       "      <th>...</th>\n",
       "      <th>year</th>\n",
       "      <th>correlation_factor</th>\n",
       "      <th>adjusted_revenue</th>\n",
       "      <th>adjusted_budget</th>\n",
       "      <th>adjusted_gross_domestic</th>\n",
       "      <th>adjusted_opening_weekend</th>\n",
       "      <th>BORC</th>\n",
       "      <th>RC</th>\n",
       "      <th>movie_score</th>\n",
       "      <th>Good Movie</th>\n",
       "    </tr>\n",
       "  </thead>\n",
       "  <tbody>\n",
       "    <tr>\n",
       "      <th>8110</th>\n",
       "      <td>2466773</td>\n",
       "      <td>/m/07g1sm</td>\n",
       "      <td>The Godfather</td>\n",
       "      <td>1972-03-15</td>\n",
       "      <td>2.685000e+08</td>\n",
       "      <td>177.0</td>\n",
       "      <td>{\"/m/04h9h\": \"Latin Language\", \"/m/02bjrlw\": \"...</td>\n",
       "      <td>{\"/m/09c7w0\": \"United States of America\"}</td>\n",
       "      <td>[Crime Fiction, Gangster Film, Crime Drama, Fa...</td>\n",
       "      <td>6000000.0</td>\n",
       "      <td>...</td>\n",
       "      <td>1972.0</td>\n",
       "      <td>5.488629</td>\n",
       "      <td>1.473697e+09</td>\n",
       "      <td>3.293178e+07</td>\n",
       "      <td>7.485452e+08</td>\n",
       "      <td>1.659723e+06</td>\n",
       "      <td>0.930359</td>\n",
       "      <td>0.987805</td>\n",
       "      <td>95.908194</td>\n",
       "      <td>1</td>\n",
       "    </tr>\n",
       "    <tr>\n",
       "      <th>17595</th>\n",
       "      <td>174251</td>\n",
       "      <td>/m/017jd9</td>\n",
       "      <td>The Lord of the Rings: The Return of the King</td>\n",
       "      <td>2003-12-17</td>\n",
       "      <td>1.119930e+09</td>\n",
       "      <td>250.0</td>\n",
       "      <td>{\"/m/05p2d\": \"Old English language\", \"/m/02h40...</td>\n",
       "      <td>{\"/m/09c7w0\": \"United States of America\", \"/m/...</td>\n",
       "      <td>[Fantasy Adventure, Adventure, Epic, Action/Ad...</td>\n",
       "      <td>94000000.0</td>\n",
       "      <td>...</td>\n",
       "      <td>2003.0</td>\n",
       "      <td>1.246866</td>\n",
       "      <td>1.396402e+09</td>\n",
       "      <td>1.172054e+08</td>\n",
       "      <td>4.730948e+08</td>\n",
       "      <td>9.055949e+07</td>\n",
       "      <td>0.927864</td>\n",
       "      <td>0.963415</td>\n",
       "      <td>94.563911</td>\n",
       "      <td>1</td>\n",
       "    </tr>\n",
       "    <tr>\n",
       "      <th>8476</th>\n",
       "      <td>4276475</td>\n",
       "      <td>/m/0btpm6</td>\n",
       "      <td>The Dark Knight</td>\n",
       "      <td>2008-07-16</td>\n",
       "      <td>1.004558e+09</td>\n",
       "      <td>153.0</td>\n",
       "      <td>{\"/m/0653m\": \"Standard Mandarin\", \"/m/02h40lc\"...</td>\n",
       "      <td>{\"/m/09c7w0\": \"United States of America\", \"/m/...</td>\n",
       "      <td>[Crime Fiction, Thriller, Superhero movie, Cri...</td>\n",
       "      <td>185000000.0</td>\n",
       "      <td>...</td>\n",
       "      <td>2008.0</td>\n",
       "      <td>1.066249</td>\n",
       "      <td>1.071109e+09</td>\n",
       "      <td>1.972560e+08</td>\n",
       "      <td>5.704292e+08</td>\n",
       "      <td>1.689060e+08</td>\n",
       "      <td>0.915580</td>\n",
       "      <td>0.963415</td>\n",
       "      <td>93.949723</td>\n",
       "      <td>1</td>\n",
       "    </tr>\n",
       "    <tr>\n",
       "      <th>4837</th>\n",
       "      <td>4588970</td>\n",
       "      <td>/m/0cbckv</td>\n",
       "      <td>Anchorhead Story of Star Wars</td>\n",
       "      <td>1977-01-01 00:00:00</td>\n",
       "      <td>7.753980e+08</td>\n",
       "      <td>NaN</td>\n",
       "      <td>{}</td>\n",
       "      <td>{}</td>\n",
       "      <td>[]</td>\n",
       "      <td>11000000.0</td>\n",
       "      <td>...</td>\n",
       "      <td>1977.0</td>\n",
       "      <td>3.787533</td>\n",
       "      <td>2.936845e+09</td>\n",
       "      <td>4.166286e+07</td>\n",
       "      <td>1.746047e+09</td>\n",
       "      <td>5.887625e+06</td>\n",
       "      <td>0.962298</td>\n",
       "      <td>0.914634</td>\n",
       "      <td>93.846619</td>\n",
       "      <td>1</td>\n",
       "    </tr>\n",
       "    <tr>\n",
       "      <th>17567</th>\n",
       "      <td>52549</td>\n",
       "      <td>/m/0dtfn</td>\n",
       "      <td>Star Wars Episode IV: A New Hope</td>\n",
       "      <td>1977-05-25</td>\n",
       "      <td>7.753980e+08</td>\n",
       "      <td>122.0</td>\n",
       "      <td>{\"/m/02h40lc\": \"English Language\"}</td>\n",
       "      <td>{\"/m/09c7w0\": \"United States of America\"}</td>\n",
       "      <td>[Science Fiction, Adventure, Fantasy, Coming o...</td>\n",
       "      <td>11000000.0</td>\n",
       "      <td>...</td>\n",
       "      <td>1977.0</td>\n",
       "      <td>3.787533</td>\n",
       "      <td>2.936845e+09</td>\n",
       "      <td>4.166286e+07</td>\n",
       "      <td>1.746047e+09</td>\n",
       "      <td>5.887625e+06</td>\n",
       "      <td>0.962298</td>\n",
       "      <td>0.914634</td>\n",
       "      <td>93.846619</td>\n",
       "      <td>1</td>\n",
       "    </tr>\n",
       "    <tr>\n",
       "      <th>2411</th>\n",
       "      <td>73875</td>\n",
       "      <td>/m/0jsf6</td>\n",
       "      <td>The Godfather Part II</td>\n",
       "      <td>1974-12-12</td>\n",
       "      <td>1.930000e+08</td>\n",
       "      <td>200.0</td>\n",
       "      <td>{\"/m/02bjrlw\": \"Italian Language\", \"/m/02h40lc...</td>\n",
       "      <td>{\"/m/09c7w0\": \"United States of America\"}</td>\n",
       "      <td>[Crime Fiction, Gangster Film, Drama, Crime Dr...</td>\n",
       "      <td>13000000.0</td>\n",
       "      <td>...</td>\n",
       "      <td>1974.0</td>\n",
       "      <td>4.656037</td>\n",
       "      <td>8.986151e+08</td>\n",
       "      <td>6.052848e+07</td>\n",
       "      <td>2.227196e+08</td>\n",
       "      <td>7.981239e+05</td>\n",
       "      <td>0.907447</td>\n",
       "      <td>0.963415</td>\n",
       "      <td>93.543061</td>\n",
       "      <td>1</td>\n",
       "    </tr>\n",
       "    <tr>\n",
       "      <th>8404</th>\n",
       "      <td>2804704</td>\n",
       "      <td>/m/083skw</td>\n",
       "      <td>Gone with the Wind</td>\n",
       "      <td>1939-12-15</td>\n",
       "      <td>4.000000e+08</td>\n",
       "      <td>234.0</td>\n",
       "      <td>{\"/m/02h40lc\": \"English Language\"}</td>\n",
       "      <td>{\"/m/09c7w0\": \"United States of America\"}</td>\n",
       "      <td>[Film adaptation, Costume drama, Roadshow thea...</td>\n",
       "      <td>3977000.0</td>\n",
       "      <td>...</td>\n",
       "      <td>1939.0</td>\n",
       "      <td>16.505640</td>\n",
       "      <td>6.602256e+09</td>\n",
       "      <td>6.564293e+07</td>\n",
       "      <td>3.315689e+09</td>\n",
       "      <td>1.968451e+07</td>\n",
       "      <td>0.999819</td>\n",
       "      <td>0.865854</td>\n",
       "      <td>93.283655</td>\n",
       "      <td>1</td>\n",
       "    </tr>\n",
       "    <tr>\n",
       "      <th>1931</th>\n",
       "      <td>173944</td>\n",
       "      <td>/m/017gm7</td>\n",
       "      <td>The Lord of the Rings: The Two Towers</td>\n",
       "      <td>2002-12-05</td>\n",
       "      <td>9.260471e+08</td>\n",
       "      <td>179.0</td>\n",
       "      <td>{\"/m/05p2d\": \"Old English language\", \"/m/02h40...</td>\n",
       "      <td>{\"/m/09c7w0\": \"United States of America\", \"/m/...</td>\n",
       "      <td>[Fantasy Adventure, Adventure, Epic, Action/Ad...</td>\n",
       "      <td>94000000.0</td>\n",
       "      <td>...</td>\n",
       "      <td>2002.0</td>\n",
       "      <td>1.275543</td>\n",
       "      <td>1.181213e+09</td>\n",
       "      <td>1.199011e+08</td>\n",
       "      <td>4.374508e+08</td>\n",
       "      <td>7.909330e+07</td>\n",
       "      <td>0.920112</td>\n",
       "      <td>0.939024</td>\n",
       "      <td>92.956817</td>\n",
       "      <td>1</td>\n",
       "    </tr>\n",
       "    <tr>\n",
       "      <th>12233</th>\n",
       "      <td>53964</td>\n",
       "      <td>/m/0f3m1</td>\n",
       "      <td>Star Wars Episode V: The Empire Strikes Back</td>\n",
       "      <td>1980-05-21</td>\n",
       "      <td>5.383751e+08</td>\n",
       "      <td>124.0</td>\n",
       "      <td>{\"/m/02h40lc\": \"English Language\"}</td>\n",
       "      <td>{\"/m/09c7w0\": \"United States of America\"}</td>\n",
       "      <td>[Science Fiction, Adventure, Space opera, Fant...</td>\n",
       "      <td>18000000.0</td>\n",
       "      <td>...</td>\n",
       "      <td>1980.0</td>\n",
       "      <td>2.786462</td>\n",
       "      <td>1.500162e+09</td>\n",
       "      <td>5.015631e+07</td>\n",
       "      <td>8.157477e+08</td>\n",
       "      <td>1.368287e+07</td>\n",
       "      <td>0.931183</td>\n",
       "      <td>0.926829</td>\n",
       "      <td>92.900633</td>\n",
       "      <td>1</td>\n",
       "    </tr>\n",
       "    <tr>\n",
       "      <th>17401</th>\n",
       "      <td>173941</td>\n",
       "      <td>/m/017gl1</td>\n",
       "      <td>The Lord of the Rings: The Fellowship of the Ring</td>\n",
       "      <td>2001-12-10</td>\n",
       "      <td>8.715303e+08</td>\n",
       "      <td>178.0</td>\n",
       "      <td>{\"/m/02h40lc\": \"English Language\"}</td>\n",
       "      <td>{\"/m/09c7w0\": \"United States of America\", \"/m/...</td>\n",
       "      <td>[Fantasy Adventure, Adventure, Epic, Fantasy, ...</td>\n",
       "      <td>93000000.0</td>\n",
       "      <td>...</td>\n",
       "      <td>2001.0</td>\n",
       "      <td>1.295952</td>\n",
       "      <td>1.129462e+09</td>\n",
       "      <td>1.205236e+08</td>\n",
       "      <td>4.096705e+08</td>\n",
       "      <td>6.118383e+07</td>\n",
       "      <td>0.918037</td>\n",
       "      <td>0.939024</td>\n",
       "      <td>92.853061</td>\n",
       "      <td>1</td>\n",
       "    </tr>\n",
       "  </tbody>\n",
       "</table>\n",
       "<p>10 rows × 26 columns</p>\n",
       "</div>"
      ],
      "text/plain": [
       "       wikipedia_movie_id freebase_movie_id  \\\n",
       "8110              2466773         /m/07g1sm   \n",
       "17595              174251         /m/017jd9   \n",
       "8476              4276475         /m/0btpm6   \n",
       "4837              4588970         /m/0cbckv   \n",
       "17567               52549          /m/0dtfn   \n",
       "2411                73875          /m/0jsf6   \n",
       "8404              2804704         /m/083skw   \n",
       "1931               173944         /m/017gm7   \n",
       "12233               53964          /m/0f3m1   \n",
       "17401              173941         /m/017gl1   \n",
       "\n",
       "                                                    name         release_date  \\\n",
       "8110                                       The Godfather           1972-03-15   \n",
       "17595      The Lord of the Rings: The Return of the King           2003-12-17   \n",
       "8476                                     The Dark Knight           2008-07-16   \n",
       "4837                       Anchorhead Story of Star Wars  1977-01-01 00:00:00   \n",
       "17567                   Star Wars Episode IV: A New Hope           1977-05-25   \n",
       "2411                               The Godfather Part II           1974-12-12   \n",
       "8404                                  Gone with the Wind           1939-12-15   \n",
       "1931               The Lord of the Rings: The Two Towers           2002-12-05   \n",
       "12233       Star Wars Episode V: The Empire Strikes Back           1980-05-21   \n",
       "17401  The Lord of the Rings: The Fellowship of the Ring           2001-12-10   \n",
       "\n",
       "            revenue  runtime  \\\n",
       "8110   2.685000e+08    177.0   \n",
       "17595  1.119930e+09    250.0   \n",
       "8476   1.004558e+09    153.0   \n",
       "4837   7.753980e+08      NaN   \n",
       "17567  7.753980e+08    122.0   \n",
       "2411   1.930000e+08    200.0   \n",
       "8404   4.000000e+08    234.0   \n",
       "1931   9.260471e+08    179.0   \n",
       "12233  5.383751e+08    124.0   \n",
       "17401  8.715303e+08    178.0   \n",
       "\n",
       "                                               languages  \\\n",
       "8110   {\"/m/04h9h\": \"Latin Language\", \"/m/02bjrlw\": \"...   \n",
       "17595  {\"/m/05p2d\": \"Old English language\", \"/m/02h40...   \n",
       "8476   {\"/m/0653m\": \"Standard Mandarin\", \"/m/02h40lc\"...   \n",
       "4837                                                  {}   \n",
       "17567                 {\"/m/02h40lc\": \"English Language\"}   \n",
       "2411   {\"/m/02bjrlw\": \"Italian Language\", \"/m/02h40lc...   \n",
       "8404                  {\"/m/02h40lc\": \"English Language\"}   \n",
       "1931   {\"/m/05p2d\": \"Old English language\", \"/m/02h40...   \n",
       "12233                 {\"/m/02h40lc\": \"English Language\"}   \n",
       "17401                 {\"/m/02h40lc\": \"English Language\"}   \n",
       "\n",
       "                                               countries  \\\n",
       "8110           {\"/m/09c7w0\": \"United States of America\"}   \n",
       "17595  {\"/m/09c7w0\": \"United States of America\", \"/m/...   \n",
       "8476   {\"/m/09c7w0\": \"United States of America\", \"/m/...   \n",
       "4837                                                  {}   \n",
       "17567          {\"/m/09c7w0\": \"United States of America\"}   \n",
       "2411           {\"/m/09c7w0\": \"United States of America\"}   \n",
       "8404           {\"/m/09c7w0\": \"United States of America\"}   \n",
       "1931   {\"/m/09c7w0\": \"United States of America\", \"/m/...   \n",
       "12233          {\"/m/09c7w0\": \"United States of America\"}   \n",
       "17401  {\"/m/09c7w0\": \"United States of America\", \"/m/...   \n",
       "\n",
       "                                                  genres       budget  ...  \\\n",
       "8110   [Crime Fiction, Gangster Film, Crime Drama, Fa...    6000000.0  ...   \n",
       "17595  [Fantasy Adventure, Adventure, Epic, Action/Ad...   94000000.0  ...   \n",
       "8476   [Crime Fiction, Thriller, Superhero movie, Cri...  185000000.0  ...   \n",
       "4837                                                  []   11000000.0  ...   \n",
       "17567  [Science Fiction, Adventure, Fantasy, Coming o...   11000000.0  ...   \n",
       "2411   [Crime Fiction, Gangster Film, Drama, Crime Dr...   13000000.0  ...   \n",
       "8404   [Film adaptation, Costume drama, Roadshow thea...    3977000.0  ...   \n",
       "1931   [Fantasy Adventure, Adventure, Epic, Action/Ad...   94000000.0  ...   \n",
       "12233  [Science Fiction, Adventure, Space opera, Fant...   18000000.0  ...   \n",
       "17401  [Fantasy Adventure, Adventure, Epic, Fantasy, ...   93000000.0  ...   \n",
       "\n",
       "         year  correlation_factor  adjusted_revenue  adjusted_budget  \\\n",
       "8110   1972.0            5.488629      1.473697e+09     3.293178e+07   \n",
       "17595  2003.0            1.246866      1.396402e+09     1.172054e+08   \n",
       "8476   2008.0            1.066249      1.071109e+09     1.972560e+08   \n",
       "4837   1977.0            3.787533      2.936845e+09     4.166286e+07   \n",
       "17567  1977.0            3.787533      2.936845e+09     4.166286e+07   \n",
       "2411   1974.0            4.656037      8.986151e+08     6.052848e+07   \n",
       "8404   1939.0           16.505640      6.602256e+09     6.564293e+07   \n",
       "1931   2002.0            1.275543      1.181213e+09     1.199011e+08   \n",
       "12233  1980.0            2.786462      1.500162e+09     5.015631e+07   \n",
       "17401  2001.0            1.295952      1.129462e+09     1.205236e+08   \n",
       "\n",
       "       adjusted_gross_domestic adjusted_opening_weekend      BORC        RC  \\\n",
       "8110              7.485452e+08             1.659723e+06  0.930359  0.987805   \n",
       "17595             4.730948e+08             9.055949e+07  0.927864  0.963415   \n",
       "8476              5.704292e+08             1.689060e+08  0.915580  0.963415   \n",
       "4837              1.746047e+09             5.887625e+06  0.962298  0.914634   \n",
       "17567             1.746047e+09             5.887625e+06  0.962298  0.914634   \n",
       "2411              2.227196e+08             7.981239e+05  0.907447  0.963415   \n",
       "8404              3.315689e+09             1.968451e+07  0.999819  0.865854   \n",
       "1931              4.374508e+08             7.909330e+07  0.920112  0.939024   \n",
       "12233             8.157477e+08             1.368287e+07  0.931183  0.926829   \n",
       "17401             4.096705e+08             6.118383e+07  0.918037  0.939024   \n",
       "\n",
       "       movie_score  Good Movie  \n",
       "8110     95.908194           1  \n",
       "17595    94.563911           1  \n",
       "8476     93.949723           1  \n",
       "4837     93.846619           1  \n",
       "17567    93.846619           1  \n",
       "2411     93.543061           1  \n",
       "8404     93.283655           1  \n",
       "1931     92.956817           1  \n",
       "12233    92.900633           1  \n",
       "17401    92.853061           1  \n",
       "\n",
       "[10 rows x 26 columns]"
      ]
     },
     "execution_count": 209,
     "metadata": {},
     "output_type": "execute_result"
    }
   ],
   "source": [
    "movies_genres['genres'] = extract_json_values(movies_genres, \"genres\")\n",
    "movies_genres.head(10)"
   ]
  },
  {
   "cell_type": "markdown",
   "id": "53f4f721ad6447ff",
   "metadata": {
    "collapsed": false,
    "jupyter": {
     "outputs_hidden": false
    }
   },
   "source": [
    "Let’s see how many movies there are per gender."
   ]
  },
  {
   "cell_type": "code",
   "execution_count": 210,
   "id": "71a9c12feb64c3e4",
   "metadata": {
    "ExecuteTime": {
     "end_time": "2023-11-17T19:29:23.748319Z",
     "start_time": "2023-11-17T19:29:22.546800300Z"
    },
    "collapsed": false,
    "jupyter": {
     "outputs_hidden": false
    }
   },
   "outputs": [
    {
     "data": {
      "text/html": [
       "<div>\n",
       "<style scoped>\n",
       "    .dataframe tbody tr th:only-of-type {\n",
       "        vertical-align: middle;\n",
       "    }\n",
       "\n",
       "    .dataframe tbody tr th {\n",
       "        vertical-align: top;\n",
       "    }\n",
       "\n",
       "    .dataframe thead th {\n",
       "        text-align: right;\n",
       "    }\n",
       "</style>\n",
       "<table border=\"1\" class=\"dataframe\">\n",
       "  <thead>\n",
       "    <tr style=\"text-align: right;\">\n",
       "      <th></th>\n",
       "      <th>Genre</th>\n",
       "      <th>Count</th>\n",
       "    </tr>\n",
       "  </thead>\n",
       "  <tbody>\n",
       "    <tr>\n",
       "      <th>5</th>\n",
       "      <td>Drama</td>\n",
       "      <td>9587</td>\n",
       "    </tr>\n",
       "    <tr>\n",
       "      <th>44</th>\n",
       "      <td>Comedy</td>\n",
       "      <td>5579</td>\n",
       "    </tr>\n",
       "    <tr>\n",
       "      <th>26</th>\n",
       "      <td>Romance Film</td>\n",
       "      <td>3856</td>\n",
       "    </tr>\n",
       "    <tr>\n",
       "      <th>14</th>\n",
       "      <td>Thriller</td>\n",
       "      <td>3518</td>\n",
       "    </tr>\n",
       "    <tr>\n",
       "      <th>79</th>\n",
       "      <td>World cinema</td>\n",
       "      <td>3227</td>\n",
       "    </tr>\n",
       "    <tr>\n",
       "      <th>...</th>\n",
       "      <td>...</td>\n",
       "      <td>...</td>\n",
       "    </tr>\n",
       "    <tr>\n",
       "      <th>277</th>\n",
       "      <td>Clay animation</td>\n",
       "      <td>1</td>\n",
       "    </tr>\n",
       "    <tr>\n",
       "      <th>275</th>\n",
       "      <td>Filmed Play</td>\n",
       "      <td>1</td>\n",
       "    </tr>\n",
       "    <tr>\n",
       "      <th>274</th>\n",
       "      <td>Goat gland</td>\n",
       "      <td>1</td>\n",
       "    </tr>\n",
       "    <tr>\n",
       "      <th>262</th>\n",
       "      <td>Supermarionation</td>\n",
       "      <td>1</td>\n",
       "    </tr>\n",
       "    <tr>\n",
       "      <th>336</th>\n",
       "      <td>Sci Fi Pictures original films</td>\n",
       "      <td>1</td>\n",
       "    </tr>\n",
       "  </tbody>\n",
       "</table>\n",
       "<p>337 rows × 2 columns</p>\n",
       "</div>"
      ],
      "text/plain": [
       "                              Genre  Count\n",
       "5                             Drama   9587\n",
       "44                           Comedy   5579\n",
       "26                     Romance Film   3856\n",
       "14                         Thriller   3518\n",
       "79                     World cinema   3227\n",
       "..                              ...    ...\n",
       "277                  Clay animation      1\n",
       "275                     Filmed Play      1\n",
       "274                      Goat gland      1\n",
       "262                Supermarionation      1\n",
       "336  Sci Fi Pictures original films      1\n",
       "\n",
       "[337 rows x 2 columns]"
      ]
     },
     "execution_count": 210,
     "metadata": {},
     "output_type": "execute_result"
    }
   ],
   "source": [
    "# Assuming your DataFrame is named 'movies'\n",
    "# Replace 'YourColumnName' with the actual column name in your DataFrame\n",
    "genres = movies_genres['genres']\n",
    "\n",
    "# Create an empty dictionary to store genre counts\n",
    "genres_counts = {}\n",
    "\n",
    "# Iterate through each list of genres in the 'genres' column\n",
    "for genres_list in genres:\n",
    "    # Update the counts in the dictionary\n",
    "    for genre in genres_list:\n",
    "        genres_counts[genre] = genres_counts.get(genre, 0) + 1\n",
    "\n",
    "# Convert the dictionary to a DataFrame for better visualization\n",
    "genres_counts_df = pd.DataFrame(list(genres_counts.items()), columns=['Genre', 'Count'])\n",
    "\n",
    "# Sort the DataFrame by the count in descending order\n",
    "genres_counts_df = genres_counts_df.sort_values(by='Count', ascending=False)\n",
    "\n",
    "# Display the result\n",
    "genres_counts_df.head(362)"
   ]
  },
  {
   "cell_type": "markdown",
   "id": "2d221b4b9375b45d",
   "metadata": {
    "collapsed": false,
    "jupyter": {
     "outputs_hidden": false
    }
   },
   "source": [
    "As we can see above, there are many genres who are very similar (technically the same but differ in terms of expression): (Comedy = Comedy film = Comedy, …), and some of them are outliers (very few movies per genre). Moreover, the 16 most popular genres are: \n",
    "`Action`, `Adventure`, `Animation`, `Comedy`, `Crime`, `Drama`, `Family`, `Fantasy`, `Period Piece`, `Horror`, `Musical`, `Romance`, `Science Fiction`, `Sport`, `Thriller and War film`. \n",
    "Therefore, we regroup all the movies into the 16 genres above (the movies who have the same genre or a very similar one). "
   ]
  },
  {
   "cell_type": "code",
   "execution_count": 211,
   "id": "fed0b2d83426506a",
   "metadata": {
    "ExecuteTime": {
     "end_time": "2023-11-17T19:29:23.748319Z",
     "start_time": "2023-11-17T19:29:22.587315700Z"
    },
    "collapsed": false,
    "jupyter": {
     "outputs_hidden": false
    }
   },
   "outputs": [
    {
     "data": {
      "text/html": [
       "<div>\n",
       "<style scoped>\n",
       "    .dataframe tbody tr th:only-of-type {\n",
       "        vertical-align: middle;\n",
       "    }\n",
       "\n",
       "    .dataframe tbody tr th {\n",
       "        vertical-align: top;\n",
       "    }\n",
       "\n",
       "    .dataframe thead th {\n",
       "        text-align: right;\n",
       "    }\n",
       "</style>\n",
       "<table border=\"1\" class=\"dataframe\">\n",
       "  <thead>\n",
       "    <tr style=\"text-align: right;\">\n",
       "      <th></th>\n",
       "      <th>Primary Genre</th>\n",
       "      <th>Grouped Genres</th>\n",
       "      <th>Count</th>\n",
       "      <th>Proportion (%)</th>\n",
       "    </tr>\n",
       "  </thead>\n",
       "  <tbody>\n",
       "    <tr>\n",
       "      <th>5</th>\n",
       "      <td>Drama</td>\n",
       "      <td>Drama, Romantic drama, Comedy-drama, Family Dr...</td>\n",
       "      <td>14646</td>\n",
       "      <td>24.69</td>\n",
       "    </tr>\n",
       "    <tr>\n",
       "      <th>3</th>\n",
       "      <td>Comedy</td>\n",
       "      <td>Comedy, Romantic comedy, Comedy-drama, Black c...</td>\n",
       "      <td>10897</td>\n",
       "      <td>18.37</td>\n",
       "    </tr>\n",
       "    <tr>\n",
       "      <th>14</th>\n",
       "      <td>Thriller</td>\n",
       "      <td>Thriller, Crime Thriller, Psychological thrill...</td>\n",
       "      <td>5763</td>\n",
       "      <td>9.71</td>\n",
       "    </tr>\n",
       "    <tr>\n",
       "      <th>0</th>\n",
       "      <td>Action</td>\n",
       "      <td>Action, Action/Adventure, Action Thrillers, Ac...</td>\n",
       "      <td>5327</td>\n",
       "      <td>8.98</td>\n",
       "    </tr>\n",
       "    <tr>\n",
       "      <th>1</th>\n",
       "      <td>Adventure</td>\n",
       "      <td>Action/Adventure, Adventure, Family-Oriented A...</td>\n",
       "      <td>4137</td>\n",
       "      <td>6.97</td>\n",
       "    </tr>\n",
       "    <tr>\n",
       "      <th>11</th>\n",
       "      <td>Romance</td>\n",
       "      <td>Romance Film</td>\n",
       "      <td>3856</td>\n",
       "      <td>6.50</td>\n",
       "    </tr>\n",
       "    <tr>\n",
       "      <th>4</th>\n",
       "      <td>Crime</td>\n",
       "      <td>Crime Fiction, Crime Thriller, Crime Drama, Cr...</td>\n",
       "      <td>3703</td>\n",
       "      <td>6.24</td>\n",
       "    </tr>\n",
       "    <tr>\n",
       "      <th>6</th>\n",
       "      <td>Family</td>\n",
       "      <td>Family Film, Family Drama, Children's/Family, ...</td>\n",
       "      <td>2274</td>\n",
       "      <td>3.83</td>\n",
       "    </tr>\n",
       "    <tr>\n",
       "      <th>9</th>\n",
       "      <td>Horror</td>\n",
       "      <td>Horror, Horror Comedy, Natural horror films, S...</td>\n",
       "      <td>1658</td>\n",
       "      <td>2.79</td>\n",
       "    </tr>\n",
       "    <tr>\n",
       "      <th>7</th>\n",
       "      <td>Fantasy</td>\n",
       "      <td>Fantasy, Children's Fantasy, Fantasy Comedy, F...</td>\n",
       "      <td>1544</td>\n",
       "      <td>2.60</td>\n",
       "    </tr>\n",
       "    <tr>\n",
       "      <th>10</th>\n",
       "      <td>Musical</td>\n",
       "      <td>Musical, Musical Drama, Musical comedy, Animat...</td>\n",
       "      <td>1297</td>\n",
       "      <td>2.19</td>\n",
       "    </tr>\n",
       "    <tr>\n",
       "      <th>8</th>\n",
       "      <td>Period piece</td>\n",
       "      <td>Period piece</td>\n",
       "      <td>1111</td>\n",
       "      <td>1.87</td>\n",
       "    </tr>\n",
       "    <tr>\n",
       "      <th>12</th>\n",
       "      <td>Science Fiction</td>\n",
       "      <td>Science Fiction, Science fiction Western</td>\n",
       "      <td>999</td>\n",
       "      <td>1.68</td>\n",
       "    </tr>\n",
       "    <tr>\n",
       "      <th>15</th>\n",
       "      <td>War film</td>\n",
       "      <td>War film, Anti-war film</td>\n",
       "      <td>799</td>\n",
       "      <td>1.35</td>\n",
       "    </tr>\n",
       "    <tr>\n",
       "      <th>2</th>\n",
       "      <td>Animation</td>\n",
       "      <td>Animation, Computer Animation, Silhouette anim...</td>\n",
       "      <td>779</td>\n",
       "      <td>1.31</td>\n",
       "    </tr>\n",
       "    <tr>\n",
       "      <th>13</th>\n",
       "      <td>Sport</td>\n",
       "      <td>Sports, Extreme Sports</td>\n",
       "      <td>532</td>\n",
       "      <td>0.90</td>\n",
       "    </tr>\n",
       "  </tbody>\n",
       "</table>\n",
       "</div>"
      ],
      "text/plain": [
       "      Primary Genre                                     Grouped Genres  Count  \\\n",
       "5             Drama  Drama, Romantic drama, Comedy-drama, Family Dr...  14646   \n",
       "3            Comedy  Comedy, Romantic comedy, Comedy-drama, Black c...  10897   \n",
       "14         Thriller  Thriller, Crime Thriller, Psychological thrill...   5763   \n",
       "0            Action  Action, Action/Adventure, Action Thrillers, Ac...   5327   \n",
       "1         Adventure  Action/Adventure, Adventure, Family-Oriented A...   4137   \n",
       "11          Romance                                       Romance Film   3856   \n",
       "4             Crime  Crime Fiction, Crime Thriller, Crime Drama, Cr...   3703   \n",
       "6            Family  Family Film, Family Drama, Children's/Family, ...   2274   \n",
       "9            Horror  Horror, Horror Comedy, Natural horror films, S...   1658   \n",
       "7           Fantasy  Fantasy, Children's Fantasy, Fantasy Comedy, F...   1544   \n",
       "10          Musical  Musical, Musical Drama, Musical comedy, Animat...   1297   \n",
       "8      Period piece                                       Period piece   1111   \n",
       "12  Science Fiction           Science Fiction, Science fiction Western    999   \n",
       "15         War film                            War film, Anti-war film    799   \n",
       "2         Animation  Animation, Computer Animation, Silhouette anim...    779   \n",
       "13            Sport                             Sports, Extreme Sports    532   \n",
       "\n",
       "    Proportion (%)  \n",
       "5            24.69  \n",
       "3            18.37  \n",
       "14            9.71  \n",
       "0             8.98  \n",
       "1             6.97  \n",
       "11            6.50  \n",
       "4             6.24  \n",
       "6             3.83  \n",
       "9             2.79  \n",
       "7             2.60  \n",
       "10            2.19  \n",
       "8             1.87  \n",
       "12            1.68  \n",
       "15            1.35  \n",
       "2             1.31  \n",
       "13            0.90  "
      ]
     },
     "execution_count": 211,
     "metadata": {},
     "output_type": "execute_result"
    }
   ],
   "source": [
    "# Assuming your DataFrame with genre counts is named 'genre_counts_df'\n",
    "# Replace 'YourColumnName' with the actual column name in your DataFrame\n",
    "genres_column = genres_counts_df['Genre']\n",
    "\n",
    "# Define the genres of interest\n",
    "primary_genres = ['Action', 'Adventure', 'Animation', 'Comedy', 'Crime', 'Drama', 'Family',\n",
    "                  'Fantasy', 'Period piece', 'Horror', 'Musical', 'Romance', 'Science Fiction',\n",
    "                  'Sport', 'Thriller', 'War film']\n",
    "\n",
    "# Create a dictionary to store the grouped genres and counts\n",
    "grouped_genre_data = {'Primary Genre': [], 'Grouped Genres': [], 'Count': [], 'Proportion (%)': []}\n",
    "\n",
    "# Group genres based on keywords\n",
    "for primary_genre in primary_genres:\n",
    "    # Find genres that contain the keyword\n",
    "    grouped_genres = [genre for genre in genres_column if primary_genre.lower() in genre.lower()]\n",
    "\n",
    "    # Sum the counts for the grouped genres\n",
    "    grouped_count = genres_counts_df[genres_counts_df['Genre'].isin(grouped_genres)]['Count'].sum()\n",
    "\n",
    "    # Add data to the dictionary\n",
    "    grouped_genre_data['Primary Genre'].append(primary_genre)\n",
    "    grouped_genre_data['Grouped Genres'].append(', '.join(grouped_genres))\n",
    "    grouped_genre_data['Count'].append(grouped_count)\n",
    "\n",
    "# Compute the total number of movies \n",
    "total_nb_movies = sum(grouped_genre_data['Count'])\n",
    "\n",
    "grouped_genre_data['Proportion (%)'] = np.round((grouped_genre_data['Count']/total_nb_movies)*100, 2)\n",
    "\n",
    "# Create a new DataFrame from the grouped data dictionary\n",
    "grouped_genre_counts_df = pd.DataFrame(grouped_genre_data)\n",
    "\n",
    "# Reorder the DataFrame\n",
    "grouped_genre_counts_df = grouped_genre_counts_df.sort_values(by='Count', ascending=False)\n",
    "\n",
    "# Display the result\n",
    "grouped_genre_counts_df.head(18)"
   ]
  },
  {
   "cell_type": "code",
   "execution_count": 273,
   "id": "b4ac8435-99ab-4b05-8cd9-951c73d041a5",
   "metadata": {},
   "outputs": [
    {
     "data": {
      "image/png": "[encoded data removed]",
      "text/plain": [
       "<Figure size 792x504 with 1 Axes>"
      ]
     },
     "metadata": {},
     "output_type": "display_data"
    }
   ],
   "source": [
    "fig, ax = plt.subplots(figsize=(11, 7))\n",
    "\n",
    "wedge_colors = sns.color_palette(\"hls\", 16)\n",
    "\n",
    "wedges, genres, prop_texts = ax.pie(grouped_genre_counts_df['Proportion (%)'], labels=None, startangle=90,\n",
    "                                     autopct='%2.2f%%', rotatelabels=True, pctdistance=0.85, colors=wedge_colors)\n",
    "for genre, prop_text in zip(genres, prop_texts):\n",
    "    prop_text.set_rotation(genre.get_rotation())\n",
    "plt.title('Proportion of movies per genre')\n",
    "plt.axis('equal')\n",
    "plt.legend(grouped_genre_counts_df['Primary Genre'], title=\"Genres\", loc=\"center left\", bbox_to_anchor=(1, 0.5))\n",
    "plt.show()"
   ]
  },
  {
   "cell_type": "markdown",
   "id": "3579a5108f46aeed",
   "metadata": {
    "collapsed": false,
    "jupyter": {
     "outputs_hidden": false
    }
   },
   "source": [
    "We will create a new column called `Generic Genre`, which is the same as the genres column but keeping only the 16 most popular genres, and removing the rest. "
   ]
  },
  {
   "cell_type": "code",
   "execution_count": 213,
   "id": "c203f90e721d67fa",
   "metadata": {
    "ExecuteTime": {
     "end_time": "2023-11-17T19:29:23.748319Z",
     "start_time": "2023-11-17T19:29:22.592314800Z"
    },
    "collapsed": false,
    "jupyter": {
     "outputs_hidden": false
    }
   },
   "outputs": [
    {
     "data": {
      "text/html": [
       "<div>\n",
       "<style scoped>\n",
       "    .dataframe tbody tr th:only-of-type {\n",
       "        vertical-align: middle;\n",
       "    }\n",
       "\n",
       "    .dataframe tbody tr th {\n",
       "        vertical-align: top;\n",
       "    }\n",
       "\n",
       "    .dataframe thead th {\n",
       "        text-align: right;\n",
       "    }\n",
       "</style>\n",
       "<table border=\"1\" class=\"dataframe\">\n",
       "  <thead>\n",
       "    <tr style=\"text-align: right;\">\n",
       "      <th></th>\n",
       "      <th>wikipedia_movie_id</th>\n",
       "      <th>freebase_movie_id</th>\n",
       "      <th>name</th>\n",
       "      <th>release_date</th>\n",
       "      <th>revenue</th>\n",
       "      <th>runtime</th>\n",
       "      <th>languages</th>\n",
       "      <th>countries</th>\n",
       "      <th>genres</th>\n",
       "      <th>budget</th>\n",
       "      <th>...</th>\n",
       "      <th>correlation_factor</th>\n",
       "      <th>adjusted_revenue</th>\n",
       "      <th>adjusted_budget</th>\n",
       "      <th>adjusted_gross_domestic</th>\n",
       "      <th>adjusted_opening_weekend</th>\n",
       "      <th>BORC</th>\n",
       "      <th>RC</th>\n",
       "      <th>movie_score</th>\n",
       "      <th>Good Movie</th>\n",
       "      <th>Generic Genre</th>\n",
       "    </tr>\n",
       "  </thead>\n",
       "  <tbody>\n",
       "    <tr>\n",
       "      <th>8110</th>\n",
       "      <td>2466773</td>\n",
       "      <td>/m/07g1sm</td>\n",
       "      <td>The Godfather</td>\n",
       "      <td>1972-03-15</td>\n",
       "      <td>2.685000e+08</td>\n",
       "      <td>177.0</td>\n",
       "      <td>{\"/m/04h9h\": \"Latin Language\", \"/m/02bjrlw\": \"...</td>\n",
       "      <td>{\"/m/09c7w0\": \"United States of America\"}</td>\n",
       "      <td>[Crime Fiction, Gangster Film, Crime Drama, Fa...</td>\n",
       "      <td>6000000.0</td>\n",
       "      <td>...</td>\n",
       "      <td>5.488629</td>\n",
       "      <td>1.473697e+09</td>\n",
       "      <td>3.293178e+07</td>\n",
       "      <td>7.485452e+08</td>\n",
       "      <td>1.659723e+06</td>\n",
       "      <td>0.930359</td>\n",
       "      <td>0.987805</td>\n",
       "      <td>95.908194</td>\n",
       "      <td>1</td>\n",
       "      <td>NaN</td>\n",
       "    </tr>\n",
       "    <tr>\n",
       "      <th>17595</th>\n",
       "      <td>174251</td>\n",
       "      <td>/m/017jd9</td>\n",
       "      <td>The Lord of the Rings: The Return of the King</td>\n",
       "      <td>2003-12-17</td>\n",
       "      <td>1.119930e+09</td>\n",
       "      <td>250.0</td>\n",
       "      <td>{\"/m/05p2d\": \"Old English language\", \"/m/02h40...</td>\n",
       "      <td>{\"/m/09c7w0\": \"United States of America\", \"/m/...</td>\n",
       "      <td>[Fantasy Adventure, Adventure, Epic, Action/Ad...</td>\n",
       "      <td>94000000.0</td>\n",
       "      <td>...</td>\n",
       "      <td>1.246866</td>\n",
       "      <td>1.396402e+09</td>\n",
       "      <td>1.172054e+08</td>\n",
       "      <td>4.730948e+08</td>\n",
       "      <td>9.055949e+07</td>\n",
       "      <td>0.927864</td>\n",
       "      <td>0.963415</td>\n",
       "      <td>94.563911</td>\n",
       "      <td>1</td>\n",
       "      <td>NaN</td>\n",
       "    </tr>\n",
       "    <tr>\n",
       "      <th>8476</th>\n",
       "      <td>4276475</td>\n",
       "      <td>/m/0btpm6</td>\n",
       "      <td>The Dark Knight</td>\n",
       "      <td>2008-07-16</td>\n",
       "      <td>1.004558e+09</td>\n",
       "      <td>153.0</td>\n",
       "      <td>{\"/m/0653m\": \"Standard Mandarin\", \"/m/02h40lc\"...</td>\n",
       "      <td>{\"/m/09c7w0\": \"United States of America\", \"/m/...</td>\n",
       "      <td>[Crime Fiction, Thriller, Superhero movie, Cri...</td>\n",
       "      <td>185000000.0</td>\n",
       "      <td>...</td>\n",
       "      <td>1.066249</td>\n",
       "      <td>1.071109e+09</td>\n",
       "      <td>1.972560e+08</td>\n",
       "      <td>5.704292e+08</td>\n",
       "      <td>1.689060e+08</td>\n",
       "      <td>0.915580</td>\n",
       "      <td>0.963415</td>\n",
       "      <td>93.949723</td>\n",
       "      <td>1</td>\n",
       "      <td>NaN</td>\n",
       "    </tr>\n",
       "    <tr>\n",
       "      <th>4837</th>\n",
       "      <td>4588970</td>\n",
       "      <td>/m/0cbckv</td>\n",
       "      <td>Anchorhead Story of Star Wars</td>\n",
       "      <td>1977-01-01 00:00:00</td>\n",
       "      <td>7.753980e+08</td>\n",
       "      <td>NaN</td>\n",
       "      <td>{}</td>\n",
       "      <td>{}</td>\n",
       "      <td>[]</td>\n",
       "      <td>11000000.0</td>\n",
       "      <td>...</td>\n",
       "      <td>3.787533</td>\n",
       "      <td>2.936845e+09</td>\n",
       "      <td>4.166286e+07</td>\n",
       "      <td>1.746047e+09</td>\n",
       "      <td>5.887625e+06</td>\n",
       "      <td>0.962298</td>\n",
       "      <td>0.914634</td>\n",
       "      <td>93.846619</td>\n",
       "      <td>1</td>\n",
       "      <td>NaN</td>\n",
       "    </tr>\n",
       "    <tr>\n",
       "      <th>17567</th>\n",
       "      <td>52549</td>\n",
       "      <td>/m/0dtfn</td>\n",
       "      <td>Star Wars Episode IV: A New Hope</td>\n",
       "      <td>1977-05-25</td>\n",
       "      <td>7.753980e+08</td>\n",
       "      <td>122.0</td>\n",
       "      <td>{\"/m/02h40lc\": \"English Language\"}</td>\n",
       "      <td>{\"/m/09c7w0\": \"United States of America\"}</td>\n",
       "      <td>[Science Fiction, Adventure, Fantasy, Coming o...</td>\n",
       "      <td>11000000.0</td>\n",
       "      <td>...</td>\n",
       "      <td>3.787533</td>\n",
       "      <td>2.936845e+09</td>\n",
       "      <td>4.166286e+07</td>\n",
       "      <td>1.746047e+09</td>\n",
       "      <td>5.887625e+06</td>\n",
       "      <td>0.962298</td>\n",
       "      <td>0.914634</td>\n",
       "      <td>93.846619</td>\n",
       "      <td>1</td>\n",
       "      <td>NaN</td>\n",
       "    </tr>\n",
       "    <tr>\n",
       "      <th>2411</th>\n",
       "      <td>73875</td>\n",
       "      <td>/m/0jsf6</td>\n",
       "      <td>The Godfather Part II</td>\n",
       "      <td>1974-12-12</td>\n",
       "      <td>1.930000e+08</td>\n",
       "      <td>200.0</td>\n",
       "      <td>{\"/m/02bjrlw\": \"Italian Language\", \"/m/02h40lc...</td>\n",
       "      <td>{\"/m/09c7w0\": \"United States of America\"}</td>\n",
       "      <td>[Crime Fiction, Gangster Film, Drama, Crime Dr...</td>\n",
       "      <td>13000000.0</td>\n",
       "      <td>...</td>\n",
       "      <td>4.656037</td>\n",
       "      <td>8.986151e+08</td>\n",
       "      <td>6.052848e+07</td>\n",
       "      <td>2.227196e+08</td>\n",
       "      <td>7.981239e+05</td>\n",
       "      <td>0.907447</td>\n",
       "      <td>0.963415</td>\n",
       "      <td>93.543061</td>\n",
       "      <td>1</td>\n",
       "      <td>NaN</td>\n",
       "    </tr>\n",
       "    <tr>\n",
       "      <th>8404</th>\n",
       "      <td>2804704</td>\n",
       "      <td>/m/083skw</td>\n",
       "      <td>Gone with the Wind</td>\n",
       "      <td>1939-12-15</td>\n",
       "      <td>4.000000e+08</td>\n",
       "      <td>234.0</td>\n",
       "      <td>{\"/m/02h40lc\": \"English Language\"}</td>\n",
       "      <td>{\"/m/09c7w0\": \"United States of America\"}</td>\n",
       "      <td>[Film adaptation, Costume drama, Roadshow thea...</td>\n",
       "      <td>3977000.0</td>\n",
       "      <td>...</td>\n",
       "      <td>16.505640</td>\n",
       "      <td>6.602256e+09</td>\n",
       "      <td>6.564293e+07</td>\n",
       "      <td>3.315689e+09</td>\n",
       "      <td>1.968451e+07</td>\n",
       "      <td>0.999819</td>\n",
       "      <td>0.865854</td>\n",
       "      <td>93.283655</td>\n",
       "      <td>1</td>\n",
       "      <td>NaN</td>\n",
       "    </tr>\n",
       "    <tr>\n",
       "      <th>1931</th>\n",
       "      <td>173944</td>\n",
       "      <td>/m/017gm7</td>\n",
       "      <td>The Lord of the Rings: The Two Towers</td>\n",
       "      <td>2002-12-05</td>\n",
       "      <td>9.260471e+08</td>\n",
       "      <td>179.0</td>\n",
       "      <td>{\"/m/05p2d\": \"Old English language\", \"/m/02h40...</td>\n",
       "      <td>{\"/m/09c7w0\": \"United States of America\", \"/m/...</td>\n",
       "      <td>[Fantasy Adventure, Adventure, Epic, Action/Ad...</td>\n",
       "      <td>94000000.0</td>\n",
       "      <td>...</td>\n",
       "      <td>1.275543</td>\n",
       "      <td>1.181213e+09</td>\n",
       "      <td>1.199011e+08</td>\n",
       "      <td>4.374508e+08</td>\n",
       "      <td>7.909330e+07</td>\n",
       "      <td>0.920112</td>\n",
       "      <td>0.939024</td>\n",
       "      <td>92.956817</td>\n",
       "      <td>1</td>\n",
       "      <td>NaN</td>\n",
       "    </tr>\n",
       "    <tr>\n",
       "      <th>12233</th>\n",
       "      <td>53964</td>\n",
       "      <td>/m/0f3m1</td>\n",
       "      <td>Star Wars Episode V: The Empire Strikes Back</td>\n",
       "      <td>1980-05-21</td>\n",
       "      <td>5.383751e+08</td>\n",
       "      <td>124.0</td>\n",
       "      <td>{\"/m/02h40lc\": \"English Language\"}</td>\n",
       "      <td>{\"/m/09c7w0\": \"United States of America\"}</td>\n",
       "      <td>[Science Fiction, Adventure, Space opera, Fant...</td>\n",
       "      <td>18000000.0</td>\n",
       "      <td>...</td>\n",
       "      <td>2.786462</td>\n",
       "      <td>1.500162e+09</td>\n",
       "      <td>5.015631e+07</td>\n",
       "      <td>8.157477e+08</td>\n",
       "      <td>1.368287e+07</td>\n",
       "      <td>0.931183</td>\n",
       "      <td>0.926829</td>\n",
       "      <td>92.900633</td>\n",
       "      <td>1</td>\n",
       "      <td>NaN</td>\n",
       "    </tr>\n",
       "    <tr>\n",
       "      <th>17401</th>\n",
       "      <td>173941</td>\n",
       "      <td>/m/017gl1</td>\n",
       "      <td>The Lord of the Rings: The Fellowship of the Ring</td>\n",
       "      <td>2001-12-10</td>\n",
       "      <td>8.715303e+08</td>\n",
       "      <td>178.0</td>\n",
       "      <td>{\"/m/02h40lc\": \"English Language\"}</td>\n",
       "      <td>{\"/m/09c7w0\": \"United States of America\", \"/m/...</td>\n",
       "      <td>[Fantasy Adventure, Adventure, Epic, Fantasy, ...</td>\n",
       "      <td>93000000.0</td>\n",
       "      <td>...</td>\n",
       "      <td>1.295952</td>\n",
       "      <td>1.129462e+09</td>\n",
       "      <td>1.205236e+08</td>\n",
       "      <td>4.096705e+08</td>\n",
       "      <td>6.118383e+07</td>\n",
       "      <td>0.918037</td>\n",
       "      <td>0.939024</td>\n",
       "      <td>92.853061</td>\n",
       "      <td>1</td>\n",
       "      <td>NaN</td>\n",
       "    </tr>\n",
       "  </tbody>\n",
       "</table>\n",
       "<p>10 rows × 27 columns</p>\n",
       "</div>"
      ],
      "text/plain": [
       "       wikipedia_movie_id freebase_movie_id  \\\n",
       "8110              2466773         /m/07g1sm   \n",
       "17595              174251         /m/017jd9   \n",
       "8476              4276475         /m/0btpm6   \n",
       "4837              4588970         /m/0cbckv   \n",
       "17567               52549          /m/0dtfn   \n",
       "2411                73875          /m/0jsf6   \n",
       "8404              2804704         /m/083skw   \n",
       "1931               173944         /m/017gm7   \n",
       "12233               53964          /m/0f3m1   \n",
       "17401              173941         /m/017gl1   \n",
       "\n",
       "                                                    name         release_date  \\\n",
       "8110                                       The Godfather           1972-03-15   \n",
       "17595      The Lord of the Rings: The Return of the King           2003-12-17   \n",
       "8476                                     The Dark Knight           2008-07-16   \n",
       "4837                       Anchorhead Story of Star Wars  1977-01-01 00:00:00   \n",
       "17567                   Star Wars Episode IV: A New Hope           1977-05-25   \n",
       "2411                               The Godfather Part II           1974-12-12   \n",
       "8404                                  Gone with the Wind           1939-12-15   \n",
       "1931               The Lord of the Rings: The Two Towers           2002-12-05   \n",
       "12233       Star Wars Episode V: The Empire Strikes Back           1980-05-21   \n",
       "17401  The Lord of the Rings: The Fellowship of the Ring           2001-12-10   \n",
       "\n",
       "            revenue  runtime  \\\n",
       "8110   2.685000e+08    177.0   \n",
       "17595  1.119930e+09    250.0   \n",
       "8476   1.004558e+09    153.0   \n",
       "4837   7.753980e+08      NaN   \n",
       "17567  7.753980e+08    122.0   \n",
       "2411   1.930000e+08    200.0   \n",
       "8404   4.000000e+08    234.0   \n",
       "1931   9.260471e+08    179.0   \n",
       "12233  5.383751e+08    124.0   \n",
       "17401  8.715303e+08    178.0   \n",
       "\n",
       "                                               languages  \\\n",
       "8110   {\"/m/04h9h\": \"Latin Language\", \"/m/02bjrlw\": \"...   \n",
       "17595  {\"/m/05p2d\": \"Old English language\", \"/m/02h40...   \n",
       "8476   {\"/m/0653m\": \"Standard Mandarin\", \"/m/02h40lc\"...   \n",
       "4837                                                  {}   \n",
       "17567                 {\"/m/02h40lc\": \"English Language\"}   \n",
       "2411   {\"/m/02bjrlw\": \"Italian Language\", \"/m/02h40lc...   \n",
       "8404                  {\"/m/02h40lc\": \"English Language\"}   \n",
       "1931   {\"/m/05p2d\": \"Old English language\", \"/m/02h40...   \n",
       "12233                 {\"/m/02h40lc\": \"English Language\"}   \n",
       "17401                 {\"/m/02h40lc\": \"English Language\"}   \n",
       "\n",
       "                                               countries  \\\n",
       "8110           {\"/m/09c7w0\": \"United States of America\"}   \n",
       "17595  {\"/m/09c7w0\": \"United States of America\", \"/m/...   \n",
       "8476   {\"/m/09c7w0\": \"United States of America\", \"/m/...   \n",
       "4837                                                  {}   \n",
       "17567          {\"/m/09c7w0\": \"United States of America\"}   \n",
       "2411           {\"/m/09c7w0\": \"United States of America\"}   \n",
       "8404           {\"/m/09c7w0\": \"United States of America\"}   \n",
       "1931   {\"/m/09c7w0\": \"United States of America\", \"/m/...   \n",
       "12233          {\"/m/09c7w0\": \"United States of America\"}   \n",
       "17401  {\"/m/09c7w0\": \"United States of America\", \"/m/...   \n",
       "\n",
       "                                                  genres       budget  ...  \\\n",
       "8110   [Crime Fiction, Gangster Film, Crime Drama, Fa...    6000000.0  ...   \n",
       "17595  [Fantasy Adventure, Adventure, Epic, Action/Ad...   94000000.0  ...   \n",
       "8476   [Crime Fiction, Thriller, Superhero movie, Cri...  185000000.0  ...   \n",
       "4837                                                  []   11000000.0  ...   \n",
       "17567  [Science Fiction, Adventure, Fantasy, Coming o...   11000000.0  ...   \n",
       "2411   [Crime Fiction, Gangster Film, Drama, Crime Dr...   13000000.0  ...   \n",
       "8404   [Film adaptation, Costume drama, Roadshow thea...    3977000.0  ...   \n",
       "1931   [Fantasy Adventure, Adventure, Epic, Action/Ad...   94000000.0  ...   \n",
       "12233  [Science Fiction, Adventure, Space opera, Fant...   18000000.0  ...   \n",
       "17401  [Fantasy Adventure, Adventure, Epic, Fantasy, ...   93000000.0  ...   \n",
       "\n",
       "       correlation_factor  adjusted_revenue  adjusted_budget  \\\n",
       "8110             5.488629      1.473697e+09     3.293178e+07   \n",
       "17595            1.246866      1.396402e+09     1.172054e+08   \n",
       "8476             1.066249      1.071109e+09     1.972560e+08   \n",
       "4837             3.787533      2.936845e+09     4.166286e+07   \n",
       "17567            3.787533      2.936845e+09     4.166286e+07   \n",
       "2411             4.656037      8.986151e+08     6.052848e+07   \n",
       "8404            16.505640      6.602256e+09     6.564293e+07   \n",
       "1931             1.275543      1.181213e+09     1.199011e+08   \n",
       "12233            2.786462      1.500162e+09     5.015631e+07   \n",
       "17401            1.295952      1.129462e+09     1.205236e+08   \n",
       "\n",
       "       adjusted_gross_domestic  adjusted_opening_weekend      BORC        RC  \\\n",
       "8110              7.485452e+08              1.659723e+06  0.930359  0.987805   \n",
       "17595             4.730948e+08              9.055949e+07  0.927864  0.963415   \n",
       "8476              5.704292e+08              1.689060e+08  0.915580  0.963415   \n",
       "4837              1.746047e+09              5.887625e+06  0.962298  0.914634   \n",
       "17567             1.746047e+09              5.887625e+06  0.962298  0.914634   \n",
       "2411              2.227196e+08              7.981239e+05  0.907447  0.963415   \n",
       "8404              3.315689e+09              1.968451e+07  0.999819  0.865854   \n",
       "1931              4.374508e+08              7.909330e+07  0.920112  0.939024   \n",
       "12233             8.157477e+08              1.368287e+07  0.931183  0.926829   \n",
       "17401             4.096705e+08              6.118383e+07  0.918037  0.939024   \n",
       "\n",
       "       movie_score  Good Movie  Generic Genre  \n",
       "8110     95.908194           1            NaN  \n",
       "17595    94.563911           1            NaN  \n",
       "8476     93.949723           1            NaN  \n",
       "4837     93.846619           1            NaN  \n",
       "17567    93.846619           1            NaN  \n",
       "2411     93.543061           1            NaN  \n",
       "8404     93.283655           1            NaN  \n",
       "1931     92.956817           1            NaN  \n",
       "12233    92.900633           1            NaN  \n",
       "17401    92.853061           1            NaN  \n",
       "\n",
       "[10 rows x 27 columns]"
      ]
     },
     "execution_count": 213,
     "metadata": {},
     "output_type": "execute_result"
    }
   ],
   "source": [
    "movies_genres['Generic Genre'] = np.nan\n",
    "movies_genres.head(10)"
   ]
  },
  {
   "cell_type": "code",
   "execution_count": 214,
   "id": "c50976fc5eb88082",
   "metadata": {
    "ExecuteTime": {
     "end_time": "2023-11-17T19:29:23.785947Z",
     "start_time": "2023-11-17T19:29:22.609315100Z"
    },
    "collapsed": false,
    "jupyter": {
     "outputs_hidden": false
    }
   },
   "outputs": [
    {
     "data": {
      "text/html": [
       "<div>\n",
       "<style scoped>\n",
       "    .dataframe tbody tr th:only-of-type {\n",
       "        vertical-align: middle;\n",
       "    }\n",
       "\n",
       "    .dataframe tbody tr th {\n",
       "        vertical-align: top;\n",
       "    }\n",
       "\n",
       "    .dataframe thead th {\n",
       "        text-align: right;\n",
       "    }\n",
       "</style>\n",
       "<table border=\"1\" class=\"dataframe\">\n",
       "  <thead>\n",
       "    <tr style=\"text-align: right;\">\n",
       "      <th></th>\n",
       "      <th>wikipedia_movie_id</th>\n",
       "      <th>freebase_movie_id</th>\n",
       "      <th>name</th>\n",
       "      <th>release_date</th>\n",
       "      <th>revenue</th>\n",
       "      <th>runtime</th>\n",
       "      <th>languages</th>\n",
       "      <th>countries</th>\n",
       "      <th>genres</th>\n",
       "      <th>budget</th>\n",
       "      <th>...</th>\n",
       "      <th>correlation_factor</th>\n",
       "      <th>adjusted_revenue</th>\n",
       "      <th>adjusted_budget</th>\n",
       "      <th>adjusted_gross_domestic</th>\n",
       "      <th>adjusted_opening_weekend</th>\n",
       "      <th>BORC</th>\n",
       "      <th>RC</th>\n",
       "      <th>movie_score</th>\n",
       "      <th>Good Movie</th>\n",
       "      <th>Generic Genre</th>\n",
       "    </tr>\n",
       "  </thead>\n",
       "  <tbody>\n",
       "    <tr>\n",
       "      <th>8110</th>\n",
       "      <td>2466773</td>\n",
       "      <td>/m/07g1sm</td>\n",
       "      <td>The Godfather</td>\n",
       "      <td>1972-03-15</td>\n",
       "      <td>2.685000e+08</td>\n",
       "      <td>177.0</td>\n",
       "      <td>{\"/m/04h9h\": \"Latin Language\", \"/m/02bjrlw\": \"...</td>\n",
       "      <td>{\"/m/09c7w0\": \"United States of America\"}</td>\n",
       "      <td>[Crime Fiction, Gangster Film, Crime Drama, Fa...</td>\n",
       "      <td>6000000.0</td>\n",
       "      <td>...</td>\n",
       "      <td>5.488629</td>\n",
       "      <td>1.473697e+09</td>\n",
       "      <td>3.293178e+07</td>\n",
       "      <td>7.485452e+08</td>\n",
       "      <td>1.659723e+06</td>\n",
       "      <td>0.930359</td>\n",
       "      <td>0.987805</td>\n",
       "      <td>95.908194</td>\n",
       "      <td>1</td>\n",
       "      <td>[Crime, Drama, Family, Period piece]</td>\n",
       "    </tr>\n",
       "    <tr>\n",
       "      <th>17595</th>\n",
       "      <td>174251</td>\n",
       "      <td>/m/017jd9</td>\n",
       "      <td>The Lord of the Rings: The Return of the King</td>\n",
       "      <td>2003-12-17</td>\n",
       "      <td>1.119930e+09</td>\n",
       "      <td>250.0</td>\n",
       "      <td>{\"/m/05p2d\": \"Old English language\", \"/m/02h40...</td>\n",
       "      <td>{\"/m/09c7w0\": \"United States of America\", \"/m/...</td>\n",
       "      <td>[Fantasy Adventure, Adventure, Epic, Action/Ad...</td>\n",
       "      <td>94000000.0</td>\n",
       "      <td>...</td>\n",
       "      <td>1.246866</td>\n",
       "      <td>1.396402e+09</td>\n",
       "      <td>1.172054e+08</td>\n",
       "      <td>4.730948e+08</td>\n",
       "      <td>9.055949e+07</td>\n",
       "      <td>0.927864</td>\n",
       "      <td>0.963415</td>\n",
       "      <td>94.563911</td>\n",
       "      <td>1</td>\n",
       "      <td>[Action, Adventure, Drama, Fantasy]</td>\n",
       "    </tr>\n",
       "    <tr>\n",
       "      <th>8476</th>\n",
       "      <td>4276475</td>\n",
       "      <td>/m/0btpm6</td>\n",
       "      <td>The Dark Knight</td>\n",
       "      <td>2008-07-16</td>\n",
       "      <td>1.004558e+09</td>\n",
       "      <td>153.0</td>\n",
       "      <td>{\"/m/0653m\": \"Standard Mandarin\", \"/m/02h40lc\"...</td>\n",
       "      <td>{\"/m/09c7w0\": \"United States of America\", \"/m/...</td>\n",
       "      <td>[Crime Fiction, Thriller, Superhero movie, Cri...</td>\n",
       "      <td>185000000.0</td>\n",
       "      <td>...</td>\n",
       "      <td>1.066249</td>\n",
       "      <td>1.071109e+09</td>\n",
       "      <td>1.972560e+08</td>\n",
       "      <td>5.704292e+08</td>\n",
       "      <td>1.689060e+08</td>\n",
       "      <td>0.915580</td>\n",
       "      <td>0.963415</td>\n",
       "      <td>93.949723</td>\n",
       "      <td>1</td>\n",
       "      <td>[Action, Adventure, Crime, Drama, Thriller]</td>\n",
       "    </tr>\n",
       "    <tr>\n",
       "      <th>4837</th>\n",
       "      <td>4588970</td>\n",
       "      <td>/m/0cbckv</td>\n",
       "      <td>Anchorhead Story of Star Wars</td>\n",
       "      <td>1977-01-01 00:00:00</td>\n",
       "      <td>7.753980e+08</td>\n",
       "      <td>NaN</td>\n",
       "      <td>{}</td>\n",
       "      <td>{}</td>\n",
       "      <td>[]</td>\n",
       "      <td>11000000.0</td>\n",
       "      <td>...</td>\n",
       "      <td>3.787533</td>\n",
       "      <td>2.936845e+09</td>\n",
       "      <td>4.166286e+07</td>\n",
       "      <td>1.746047e+09</td>\n",
       "      <td>5.887625e+06</td>\n",
       "      <td>0.962298</td>\n",
       "      <td>0.914634</td>\n",
       "      <td>93.846619</td>\n",
       "      <td>1</td>\n",
       "      <td>[]</td>\n",
       "    </tr>\n",
       "    <tr>\n",
       "      <th>17567</th>\n",
       "      <td>52549</td>\n",
       "      <td>/m/0dtfn</td>\n",
       "      <td>Star Wars Episode IV: A New Hope</td>\n",
       "      <td>1977-05-25</td>\n",
       "      <td>7.753980e+08</td>\n",
       "      <td>122.0</td>\n",
       "      <td>{\"/m/02h40lc\": \"English Language\"}</td>\n",
       "      <td>{\"/m/09c7w0\": \"United States of America\"}</td>\n",
       "      <td>[Science Fiction, Adventure, Fantasy, Coming o...</td>\n",
       "      <td>11000000.0</td>\n",
       "      <td>...</td>\n",
       "      <td>3.787533</td>\n",
       "      <td>2.936845e+09</td>\n",
       "      <td>4.166286e+07</td>\n",
       "      <td>1.746047e+09</td>\n",
       "      <td>5.887625e+06</td>\n",
       "      <td>0.962298</td>\n",
       "      <td>0.914634</td>\n",
       "      <td>93.846619</td>\n",
       "      <td>1</td>\n",
       "      <td>[Action, Adventure, Family, Fantasy, Science F...</td>\n",
       "    </tr>\n",
       "    <tr>\n",
       "      <th>2411</th>\n",
       "      <td>73875</td>\n",
       "      <td>/m/0jsf6</td>\n",
       "      <td>The Godfather Part II</td>\n",
       "      <td>1974-12-12</td>\n",
       "      <td>1.930000e+08</td>\n",
       "      <td>200.0</td>\n",
       "      <td>{\"/m/02bjrlw\": \"Italian Language\", \"/m/02h40lc...</td>\n",
       "      <td>{\"/m/09c7w0\": \"United States of America\"}</td>\n",
       "      <td>[Crime Fiction, Gangster Film, Drama, Crime Dr...</td>\n",
       "      <td>13000000.0</td>\n",
       "      <td>...</td>\n",
       "      <td>4.656037</td>\n",
       "      <td>8.986151e+08</td>\n",
       "      <td>6.052848e+07</td>\n",
       "      <td>2.227196e+08</td>\n",
       "      <td>7.981239e+05</td>\n",
       "      <td>0.907447</td>\n",
       "      <td>0.963415</td>\n",
       "      <td>93.543061</td>\n",
       "      <td>1</td>\n",
       "      <td>[Crime, Drama]</td>\n",
       "    </tr>\n",
       "    <tr>\n",
       "      <th>8404</th>\n",
       "      <td>2804704</td>\n",
       "      <td>/m/083skw</td>\n",
       "      <td>Gone with the Wind</td>\n",
       "      <td>1939-12-15</td>\n",
       "      <td>4.000000e+08</td>\n",
       "      <td>234.0</td>\n",
       "      <td>{\"/m/02h40lc\": \"English Language\"}</td>\n",
       "      <td>{\"/m/09c7w0\": \"United States of America\"}</td>\n",
       "      <td>[Film adaptation, Costume drama, Roadshow thea...</td>\n",
       "      <td>3977000.0</td>\n",
       "      <td>...</td>\n",
       "      <td>16.505640</td>\n",
       "      <td>6.602256e+09</td>\n",
       "      <td>6.564293e+07</td>\n",
       "      <td>3.315689e+09</td>\n",
       "      <td>1.968451e+07</td>\n",
       "      <td>0.999819</td>\n",
       "      <td>0.865854</td>\n",
       "      <td>93.283655</td>\n",
       "      <td>1</td>\n",
       "      <td>[Drama, Period piece, Romance, War film]</td>\n",
       "    </tr>\n",
       "    <tr>\n",
       "      <th>1931</th>\n",
       "      <td>173944</td>\n",
       "      <td>/m/017gm7</td>\n",
       "      <td>The Lord of the Rings: The Two Towers</td>\n",
       "      <td>2002-12-05</td>\n",
       "      <td>9.260471e+08</td>\n",
       "      <td>179.0</td>\n",
       "      <td>{\"/m/05p2d\": \"Old English language\", \"/m/02h40...</td>\n",
       "      <td>{\"/m/09c7w0\": \"United States of America\", \"/m/...</td>\n",
       "      <td>[Fantasy Adventure, Adventure, Epic, Action/Ad...</td>\n",
       "      <td>94000000.0</td>\n",
       "      <td>...</td>\n",
       "      <td>1.275543</td>\n",
       "      <td>1.181213e+09</td>\n",
       "      <td>1.199011e+08</td>\n",
       "      <td>4.374508e+08</td>\n",
       "      <td>7.909330e+07</td>\n",
       "      <td>0.920112</td>\n",
       "      <td>0.939024</td>\n",
       "      <td>92.956817</td>\n",
       "      <td>1</td>\n",
       "      <td>[Action, Adventure, Drama, Fantasy]</td>\n",
       "    </tr>\n",
       "    <tr>\n",
       "      <th>12233</th>\n",
       "      <td>53964</td>\n",
       "      <td>/m/0f3m1</td>\n",
       "      <td>Star Wars Episode V: The Empire Strikes Back</td>\n",
       "      <td>1980-05-21</td>\n",
       "      <td>5.383751e+08</td>\n",
       "      <td>124.0</td>\n",
       "      <td>{\"/m/02h40lc\": \"English Language\"}</td>\n",
       "      <td>{\"/m/09c7w0\": \"United States of America\"}</td>\n",
       "      <td>[Science Fiction, Adventure, Space opera, Fant...</td>\n",
       "      <td>18000000.0</td>\n",
       "      <td>...</td>\n",
       "      <td>2.786462</td>\n",
       "      <td>1.500162e+09</td>\n",
       "      <td>5.015631e+07</td>\n",
       "      <td>8.157477e+08</td>\n",
       "      <td>1.368287e+07</td>\n",
       "      <td>0.931183</td>\n",
       "      <td>0.926829</td>\n",
       "      <td>92.900633</td>\n",
       "      <td>1</td>\n",
       "      <td>[Action, Adventure, Family, Fantasy, Science F...</td>\n",
       "    </tr>\n",
       "    <tr>\n",
       "      <th>17401</th>\n",
       "      <td>173941</td>\n",
       "      <td>/m/017gl1</td>\n",
       "      <td>The Lord of the Rings: The Fellowship of the Ring</td>\n",
       "      <td>2001-12-10</td>\n",
       "      <td>8.715303e+08</td>\n",
       "      <td>178.0</td>\n",
       "      <td>{\"/m/02h40lc\": \"English Language\"}</td>\n",
       "      <td>{\"/m/09c7w0\": \"United States of America\", \"/m/...</td>\n",
       "      <td>[Fantasy Adventure, Adventure, Epic, Fantasy, ...</td>\n",
       "      <td>93000000.0</td>\n",
       "      <td>...</td>\n",
       "      <td>1.295952</td>\n",
       "      <td>1.129462e+09</td>\n",
       "      <td>1.205236e+08</td>\n",
       "      <td>4.096705e+08</td>\n",
       "      <td>6.118383e+07</td>\n",
       "      <td>0.918037</td>\n",
       "      <td>0.939024</td>\n",
       "      <td>92.853061</td>\n",
       "      <td>1</td>\n",
       "      <td>[Action, Adventure, Drama, Fantasy]</td>\n",
       "    </tr>\n",
       "  </tbody>\n",
       "</table>\n",
       "<p>10 rows × 27 columns</p>\n",
       "</div>"
      ],
      "text/plain": [
       "       wikipedia_movie_id freebase_movie_id  \\\n",
       "8110              2466773         /m/07g1sm   \n",
       "17595              174251         /m/017jd9   \n",
       "8476              4276475         /m/0btpm6   \n",
       "4837              4588970         /m/0cbckv   \n",
       "17567               52549          /m/0dtfn   \n",
       "2411                73875          /m/0jsf6   \n",
       "8404              2804704         /m/083skw   \n",
       "1931               173944         /m/017gm7   \n",
       "12233               53964          /m/0f3m1   \n",
       "17401              173941         /m/017gl1   \n",
       "\n",
       "                                                    name         release_date  \\\n",
       "8110                                       The Godfather           1972-03-15   \n",
       "17595      The Lord of the Rings: The Return of the King           2003-12-17   \n",
       "8476                                     The Dark Knight           2008-07-16   \n",
       "4837                       Anchorhead Story of Star Wars  1977-01-01 00:00:00   \n",
       "17567                   Star Wars Episode IV: A New Hope           1977-05-25   \n",
       "2411                               The Godfather Part II           1974-12-12   \n",
       "8404                                  Gone with the Wind           1939-12-15   \n",
       "1931               The Lord of the Rings: The Two Towers           2002-12-05   \n",
       "12233       Star Wars Episode V: The Empire Strikes Back           1980-05-21   \n",
       "17401  The Lord of the Rings: The Fellowship of the Ring           2001-12-10   \n",
       "\n",
       "            revenue  runtime  \\\n",
       "8110   2.685000e+08    177.0   \n",
       "17595  1.119930e+09    250.0   \n",
       "8476   1.004558e+09    153.0   \n",
       "4837   7.753980e+08      NaN   \n",
       "17567  7.753980e+08    122.0   \n",
       "2411   1.930000e+08    200.0   \n",
       "8404   4.000000e+08    234.0   \n",
       "1931   9.260471e+08    179.0   \n",
       "12233  5.383751e+08    124.0   \n",
       "17401  8.715303e+08    178.0   \n",
       "\n",
       "                                               languages  \\\n",
       "8110   {\"/m/04h9h\": \"Latin Language\", \"/m/02bjrlw\": \"...   \n",
       "17595  {\"/m/05p2d\": \"Old English language\", \"/m/02h40...   \n",
       "8476   {\"/m/0653m\": \"Standard Mandarin\", \"/m/02h40lc\"...   \n",
       "4837                                                  {}   \n",
       "17567                 {\"/m/02h40lc\": \"English Language\"}   \n",
       "2411   {\"/m/02bjrlw\": \"Italian Language\", \"/m/02h40lc...   \n",
       "8404                  {\"/m/02h40lc\": \"English Language\"}   \n",
       "1931   {\"/m/05p2d\": \"Old English language\", \"/m/02h40...   \n",
       "12233                 {\"/m/02h40lc\": \"English Language\"}   \n",
       "17401                 {\"/m/02h40lc\": \"English Language\"}   \n",
       "\n",
       "                                               countries  \\\n",
       "8110           {\"/m/09c7w0\": \"United States of America\"}   \n",
       "17595  {\"/m/09c7w0\": \"United States of America\", \"/m/...   \n",
       "8476   {\"/m/09c7w0\": \"United States of America\", \"/m/...   \n",
       "4837                                                  {}   \n",
       "17567          {\"/m/09c7w0\": \"United States of America\"}   \n",
       "2411           {\"/m/09c7w0\": \"United States of America\"}   \n",
       "8404           {\"/m/09c7w0\": \"United States of America\"}   \n",
       "1931   {\"/m/09c7w0\": \"United States of America\", \"/m/...   \n",
       "12233          {\"/m/09c7w0\": \"United States of America\"}   \n",
       "17401  {\"/m/09c7w0\": \"United States of America\", \"/m/...   \n",
       "\n",
       "                                                  genres       budget  ...  \\\n",
       "8110   [Crime Fiction, Gangster Film, Crime Drama, Fa...    6000000.0  ...   \n",
       "17595  [Fantasy Adventure, Adventure, Epic, Action/Ad...   94000000.0  ...   \n",
       "8476   [Crime Fiction, Thriller, Superhero movie, Cri...  185000000.0  ...   \n",
       "4837                                                  []   11000000.0  ...   \n",
       "17567  [Science Fiction, Adventure, Fantasy, Coming o...   11000000.0  ...   \n",
       "2411   [Crime Fiction, Gangster Film, Drama, Crime Dr...   13000000.0  ...   \n",
       "8404   [Film adaptation, Costume drama, Roadshow thea...    3977000.0  ...   \n",
       "1931   [Fantasy Adventure, Adventure, Epic, Action/Ad...   94000000.0  ...   \n",
       "12233  [Science Fiction, Adventure, Space opera, Fant...   18000000.0  ...   \n",
       "17401  [Fantasy Adventure, Adventure, Epic, Fantasy, ...   93000000.0  ...   \n",
       "\n",
       "       correlation_factor  adjusted_revenue  adjusted_budget  \\\n",
       "8110             5.488629      1.473697e+09     3.293178e+07   \n",
       "17595            1.246866      1.396402e+09     1.172054e+08   \n",
       "8476             1.066249      1.071109e+09     1.972560e+08   \n",
       "4837             3.787533      2.936845e+09     4.166286e+07   \n",
       "17567            3.787533      2.936845e+09     4.166286e+07   \n",
       "2411             4.656037      8.986151e+08     6.052848e+07   \n",
       "8404            16.505640      6.602256e+09     6.564293e+07   \n",
       "1931             1.275543      1.181213e+09     1.199011e+08   \n",
       "12233            2.786462      1.500162e+09     5.015631e+07   \n",
       "17401            1.295952      1.129462e+09     1.205236e+08   \n",
       "\n",
       "       adjusted_gross_domestic  adjusted_opening_weekend      BORC        RC  \\\n",
       "8110              7.485452e+08              1.659723e+06  0.930359  0.987805   \n",
       "17595             4.730948e+08              9.055949e+07  0.927864  0.963415   \n",
       "8476              5.704292e+08              1.689060e+08  0.915580  0.963415   \n",
       "4837              1.746047e+09              5.887625e+06  0.962298  0.914634   \n",
       "17567             1.746047e+09              5.887625e+06  0.962298  0.914634   \n",
       "2411              2.227196e+08              7.981239e+05  0.907447  0.963415   \n",
       "8404              3.315689e+09              1.968451e+07  0.999819  0.865854   \n",
       "1931              4.374508e+08              7.909330e+07  0.920112  0.939024   \n",
       "12233             8.157477e+08              1.368287e+07  0.931183  0.926829   \n",
       "17401             4.096705e+08              6.118383e+07  0.918037  0.939024   \n",
       "\n",
       "       movie_score  Good Movie  \\\n",
       "8110     95.908194           1   \n",
       "17595    94.563911           1   \n",
       "8476     93.949723           1   \n",
       "4837     93.846619           1   \n",
       "17567    93.846619           1   \n",
       "2411     93.543061           1   \n",
       "8404     93.283655           1   \n",
       "1931     92.956817           1   \n",
       "12233    92.900633           1   \n",
       "17401    92.853061           1   \n",
       "\n",
       "                                           Generic Genre  \n",
       "8110                [Crime, Drama, Family, Period piece]  \n",
       "17595                [Action, Adventure, Drama, Fantasy]  \n",
       "8476         [Action, Adventure, Crime, Drama, Thriller]  \n",
       "4837                                                  []  \n",
       "17567  [Action, Adventure, Family, Fantasy, Science F...  \n",
       "2411                                      [Crime, Drama]  \n",
       "8404            [Drama, Period piece, Romance, War film]  \n",
       "1931                 [Action, Adventure, Drama, Fantasy]  \n",
       "12233  [Action, Adventure, Family, Fantasy, Science F...  \n",
       "17401                [Action, Adventure, Drama, Fantasy]  \n",
       "\n",
       "[10 rows x 27 columns]"
      ]
     },
     "execution_count": 214,
     "metadata": {},
     "output_type": "execute_result"
    }
   ],
   "source": [
    "# Assuming 'movies' is your DataFrame\n",
    "# If not, you need to define or read it before this point\n",
    "\n",
    "# List of genres to create tables for\n",
    "genres_list = ['Action', 'Adventure', 'Animation', 'Comedy', 'Crime', 'Drama', 'Family',\n",
    "               'Fantasy', 'Period piece', 'Horror', 'Musical', 'Romance', 'Science Fiction',\n",
    "               'Sport', 'Thriller', 'War film']\n",
    "\n",
    "\n",
    "# Define a function to get the list of genres for a movie\n",
    "def get_genre_list(movie_genres):\n",
    "    return [genre for genre in genres_list if any(genre.lower() in element.lower().strip() for element in movie_genres)]\n",
    "\n",
    "\n",
    "# Apply the function to create the 'Generic Genre' column\n",
    "movies_genres['Generic Genre'] = movies_genres['genres'].apply(get_genre_list)\n",
    "\n",
    "movies_genres.head(10)"
   ]
  },
  {
   "cell_type": "markdown",
   "id": "fc82eceb7d710895",
   "metadata": {
    "collapsed": false,
    "jupyter": {
     "outputs_hidden": false
    }
   },
   "source": [
    "We will now create a dictionary consisting of 16 different dataframes (1 for each genre). Each one of these dataframes corresponds to all the movie of the specific genre. "
   ]
  },
  {
   "cell_type": "code",
   "execution_count": 215,
   "id": "d800d943d53cfb00",
   "metadata": {
    "ExecuteTime": {
     "end_time": "2023-11-17T19:29:23.922528Z",
     "start_time": "2023-11-17T19:29:22.926174500Z"
    },
    "collapsed": false,
    "jupyter": {
     "outputs_hidden": false
    }
   },
   "outputs": [],
   "source": [
    "genres_list = ['Action', 'Adventure', 'Animation', 'Comedy', 'Crime', 'Drama', 'Family',\n",
    "               'Fantasy', 'Period piece', 'Horror', 'Musical', 'Romance', 'Science Fiction',\n",
    "               'Sport', 'Thriller', 'War film']\n",
    "#for genre in genres_list: \n",
    "#    genre_movies = movies[movies['Generic Genre'].apply(lambda x: genre in x if x is not None else False)]\n",
    "#   genre_movies.head(10)\n",
    "\n",
    "genre_dataframes = {}\n",
    "\n",
    "for genre in genres_list:\n",
    "    genre_movies = movies_genres[movies_genres['Generic Genre'].apply(lambda x: genre in x if x is not None else False)]\n",
    "    genre_dataframes[genre] = genre_movies\n",
    "\n",
    "# Access specific genre DataFrames using genre names\n",
    "action_movies = genre_dataframes['Action']\n",
    "adventure_movies = genre_dataframes['Adventure']\n",
    "animation_movies = genre_dataframes['Animation']\n",
    "comedy_movies = genre_dataframes['Comedy']\n",
    "crime_movies = genre_dataframes['Crime']\n",
    "drama_movies = genre_dataframes['Drama']\n",
    "family_movies = genre_dataframes['Family']\n",
    "fantasy_movies = genre_dataframes['Fantasy']\n",
    "period_piece_movies = genre_dataframes['Period piece']\n",
    "horror_movies = genre_dataframes['Horror']\n",
    "musical_movies = genre_dataframes['Musical']\n",
    "romance_movies = genre_dataframes['Romance']\n",
    "scifi_movies = genre_dataframes['Science Fiction']\n",
    "sport_movies = genre_dataframes['Sport']\n",
    "thriller_movies = genre_dataframes['Thriller']\n",
    "war_movies = genre_dataframes['War film']"
   ]
  },
  {
   "cell_type": "markdown",
   "id": "ee92fa464c902814",
   "metadata": {
    "collapsed": false,
    "jupyter": {
     "outputs_hidden": false
    }
   },
   "source": [
    "Let’s now do a distribution of the movie score per genre."
   ]
  },
  {
   "cell_type": "code",
   "execution_count": 216,
   "id": "b235c8b761c49246",
   "metadata": {
    "ExecuteTime": {
     "end_time": "2023-11-17T19:29:26.728821900Z",
     "start_time": "2023-11-17T19:29:22.987738200Z"
    },
    "collapsed": false,
    "jupyter": {
     "outputs_hidden": false
    }
   },
   "outputs": [
    {
     "data": {
      "image/png": "[encoded data removed]",
      "text/plain": [
       "<Figure size 1080x1080 with 16 Axes>"
      ]
     },
     "metadata": {
      "needs_background": "light"
     },
     "output_type": "display_data"
    }
   ],
   "source": [
    "# Assuming 'genre_dataframes' is the dictionary of genre-specific DataFrames\n",
    "\n",
    "# Create a 4x4 subplot grid for all genres except 'Action'\n",
    "fig, axes = plt.subplots(4, 4, figsize=(15, 15), sharex=True, sharey=True)\n",
    "\n",
    "# Flatten the axes array for easy iteration\n",
    "axes = axes.flatten()\n",
    "\n",
    "# Iterate through the genres (excluding 'Action') and corresponding DataFrames\n",
    "for i, (genre, genre_df) in enumerate(genre_dataframes.items()):\n",
    "    if genre != 'Action':\n",
    "        plt.xscale(\"log\")\n",
    "        # Plot the distribution of movie score for each genre\n",
    "        sns.histplot(ax=axes[i], data=genre_df, x='movie_score', kde=True, bins=20, color='C{}'.format(i))\n",
    "        axes[i].set_title(genre)\n",
    "        axes[i].set_xlabel('Movie Score')\n",
    "        axes[i].set_ylabel('Count')\n",
    "\n",
    "# Plot 'Action' genre in the middle of the 5th row, 16th subplot\n",
    "action_df = genre_dataframes['Action']\n",
    "# Set x-axis to log scale for the 'Action' subplot\n",
    "axes[0].set_xscale('log')\n",
    "sns.histplot(ax=axes[0], data=action_df, x='movie_score', kde=True, bins=20)\n",
    "axes[0].set_title('Action')\n",
    "axes[0].set_xlabel('Movie Score')\n",
    "axes[0].set_ylabel('Count')\n",
    "\n",
    "# Adjust layout to prevent overlapping\n",
    "plt.tight_layout()\n",
    "\n",
    "# Show the plots\n",
    "plt.show()"
   ]
  },
  {
   "cell_type": "code",
   "execution_count": 251,
   "id": "d24eed9f69527516",
   "metadata": {
    "ExecuteTime": {
     "end_time": "2023-11-17T19:29:26.745820800Z",
     "start_time": "2023-11-17T19:29:26.712818300Z"
    },
    "collapsed": false,
    "jupyter": {
     "outputs_hidden": false
    }
   },
   "outputs": [
    {
     "data": {
      "text/html": [
       "<div>\n",
       "<style scoped>\n",
       "    .dataframe tbody tr th:only-of-type {\n",
       "        vertical-align: middle;\n",
       "    }\n",
       "\n",
       "    .dataframe tbody tr th {\n",
       "        vertical-align: top;\n",
       "    }\n",
       "\n",
       "    .dataframe thead th {\n",
       "        text-align: right;\n",
       "    }\n",
       "</style>\n",
       "<table border=\"1\" class=\"dataframe\">\n",
       "  <thead>\n",
       "    <tr style=\"text-align: right;\">\n",
       "      <th></th>\n",
       "      <th>Action</th>\n",
       "      <th>Adventure</th>\n",
       "      <th>Animation</th>\n",
       "      <th>Comedy</th>\n",
       "      <th>Crime</th>\n",
       "      <th>Drama</th>\n",
       "      <th>Family</th>\n",
       "      <th>Fantasy</th>\n",
       "      <th>Period piece</th>\n",
       "      <th>Horror</th>\n",
       "      <th>Musical</th>\n",
       "      <th>Romance</th>\n",
       "      <th>Science Fiction</th>\n",
       "      <th>Sport</th>\n",
       "      <th>Thriller</th>\n",
       "      <th>War film</th>\n",
       "    </tr>\n",
       "  </thead>\n",
       "  <tbody>\n",
       "    <tr>\n",
       "      <th>Mean Movie Score</th>\n",
       "      <td>65.451447</td>\n",
       "      <td>66.526025</td>\n",
       "      <td>67.463643</td>\n",
       "      <td>63.719516</td>\n",
       "      <td>65.224068</td>\n",
       "      <td>64.598715</td>\n",
       "      <td>66.472288</td>\n",
       "      <td>67.071766</td>\n",
       "      <td>67.824714</td>\n",
       "      <td>60.494450</td>\n",
       "      <td>64.905501</td>\n",
       "      <td>64.682798</td>\n",
       "      <td>65.605242</td>\n",
       "      <td>65.649396</td>\n",
       "      <td>64.376111</td>\n",
       "      <td>68.043597</td>\n",
       "    </tr>\n",
       "    <tr>\n",
       "      <th>Median Movie Score</th>\n",
       "      <td>66.730583</td>\n",
       "      <td>67.447774</td>\n",
       "      <td>68.139762</td>\n",
       "      <td>64.465856</td>\n",
       "      <td>66.026910</td>\n",
       "      <td>65.357683</td>\n",
       "      <td>67.062700</td>\n",
       "      <td>67.910670</td>\n",
       "      <td>68.102760</td>\n",
       "      <td>61.081979</td>\n",
       "      <td>66.517157</td>\n",
       "      <td>65.651986</td>\n",
       "      <td>66.794318</td>\n",
       "      <td>66.479787</td>\n",
       "      <td>65.536820</td>\n",
       "      <td>68.334888</td>\n",
       "    </tr>\n",
       "    <tr>\n",
       "      <th>Maximum Movie Score</th>\n",
       "      <td>94.563911</td>\n",
       "      <td>94.563911</td>\n",
       "      <td>91.640925</td>\n",
       "      <td>92.683054</td>\n",
       "      <td>95.908194</td>\n",
       "      <td>95.908194</td>\n",
       "      <td>95.908194</td>\n",
       "      <td>94.563911</td>\n",
       "      <td>95.908194</td>\n",
       "      <td>90.211079</td>\n",
       "      <td>91.640925</td>\n",
       "      <td>93.283655</td>\n",
       "      <td>93.846619</td>\n",
       "      <td>88.078265</td>\n",
       "      <td>93.949723</td>\n",
       "      <td>93.283655</td>\n",
       "    </tr>\n",
       "    <tr>\n",
       "      <th>Minimum Movie Score</th>\n",
       "      <td>20.068884</td>\n",
       "      <td>20.918441</td>\n",
       "      <td>26.091910</td>\n",
       "      <td>18.884183</td>\n",
       "      <td>22.265881</td>\n",
       "      <td>22.265881</td>\n",
       "      <td>26.091910</td>\n",
       "      <td>20.804988</td>\n",
       "      <td>34.584855</td>\n",
       "      <td>21.564511</td>\n",
       "      <td>25.494209</td>\n",
       "      <td>26.999474</td>\n",
       "      <td>20.918441</td>\n",
       "      <td>31.287348</td>\n",
       "      <td>20.804988</td>\n",
       "      <td>32.181485</td>\n",
       "    </tr>\n",
       "  </tbody>\n",
       "</table>\n",
       "</div>"
      ],
      "text/plain": [
       "                        Action  Adventure  Animation     Comedy      Crime  \\\n",
       "Mean Movie Score     65.451447  66.526025  67.463643  63.719516  65.224068   \n",
       "Median Movie Score   66.730583  67.447774  68.139762  64.465856  66.026910   \n",
       "Maximum Movie Score  94.563911  94.563911  91.640925  92.683054  95.908194   \n",
       "Minimum Movie Score  20.068884  20.918441  26.091910  18.884183  22.265881   \n",
       "\n",
       "                         Drama     Family    Fantasy  Period piece     Horror  \\\n",
       "Mean Movie Score     64.598715  66.472288  67.071766     67.824714  60.494450   \n",
       "Median Movie Score   65.357683  67.062700  67.910670     68.102760  61.081979   \n",
       "Maximum Movie Score  95.908194  95.908194  94.563911     95.908194  90.211079   \n",
       "Minimum Movie Score  22.265881  26.091910  20.804988     34.584855  21.564511   \n",
       "\n",
       "                       Musical    Romance  Science Fiction      Sport  \\\n",
       "Mean Movie Score     64.905501  64.682798        65.605242  65.649396   \n",
       "Median Movie Score   66.517157  65.651986        66.794318  66.479787   \n",
       "Maximum Movie Score  91.640925  93.283655        93.846619  88.078265   \n",
       "Minimum Movie Score  25.494209  26.999474        20.918441  31.287348   \n",
       "\n",
       "                      Thriller   War film  \n",
       "Mean Movie Score     64.376111  68.043597  \n",
       "Median Movie Score   65.536820  68.334888  \n",
       "Maximum Movie Score  93.949723  93.283655  \n",
       "Minimum Movie Score  20.804988  32.181485  "
      ]
     },
     "execution_count": 251,
     "metadata": {},
     "output_type": "execute_result"
    }
   ],
   "source": [
    "# Score statistics per genre\n",
    "# Create empty dictionaries to store statistics for each genre\n",
    "genre_stats = {'Mean': {}, 'Median': {}, 'Maximum': {}, 'Minimum': {}}\n",
    "\n",
    "# Iterate through the genres and corresponding DataFrames\n",
    "for genre, genre_df in genre_dataframes.items():\n",
    "    mean_score = genre_df['movie_score'].mean()\n",
    "    median_score = genre_df['movie_score'].median()\n",
    "    max_score = genre_df['movie_score'].max()\n",
    "    min_score = genre_df['movie_score'].min()\n",
    "\n",
    "    # Store the results in the dictionaries\n",
    "    genre_stats['Mean'][genre] = mean_score\n",
    "    genre_stats['Median'][genre] = median_score\n",
    "    genre_stats['Maximum'][genre] = max_score\n",
    "    genre_stats['Minimum'][genre] = min_score\n",
    "\n",
    "# For easy displays, convert the dictionaries to Pandas DataFrames \n",
    "mean_df = pd.DataFrame(genre_stats['Mean'], index=['Mean Movie Score'])\n",
    "median_df = pd.DataFrame(genre_stats['Median'], index=['Median Movie Score'])\n",
    "max_df = pd.DataFrame(genre_stats['Maximum'], index=['Maximum Movie Score'])\n",
    "min_df = pd.DataFrame(genre_stats['Minimum'], index=['Minimum Movie Score'])\n",
    "\n",
    "# Concatenate the DataFrames along the columns to create a general DataFrame\n",
    "general_stats_df = pd.concat([mean_df, median_df, max_df, min_df])\n",
    "\n",
    "# Display the summary DataFrame\n",
    "general_stats_df.head(10)"
   ]
  },
  {
   "cell_type": "code",
   "execution_count": 252,
   "id": "29e3ae922226cbd2",
   "metadata": {
    "ExecuteTime": {
     "end_time": "2023-11-17T19:29:26.773372800Z",
     "start_time": "2023-11-17T19:29:26.727821400Z"
    },
    "collapsed": false,
    "jupyter": {
     "outputs_hidden": false
    }
   },
   "outputs": [
    {
     "name": "stdout",
     "output_type": "stream",
     "text": [
      "Highest Mean Movie Score Genre: War film\n",
      "Lowest Mean Movie Score Genre: Horror\n"
     ]
    }
   ],
   "source": [
    "# Identify which genre has the highest and lowest values for each statistic\n",
    "# Mean \n",
    "highest_mean_genre = general_stats_df.loc['Mean Movie Score'].idxmax()\n",
    "lowest_mean_genre = general_stats_df.loc['Mean Movie Score'].idxmin()\n",
    "\n",
    "# Display the results\n",
    "print(f\"Highest Mean Movie Score Genre: {highest_mean_genre}\")\n",
    "print(f\"Lowest Mean Movie Score Genre: {lowest_mean_genre}\")"
   ]
  },
  {
   "cell_type": "code",
   "execution_count": 253,
   "id": "e22d91a131d4651e",
   "metadata": {
    "ExecuteTime": {
     "end_time": "2023-11-17T19:29:26.996023100Z",
     "start_time": "2023-11-17T19:29:26.742821600Z"
    },
    "collapsed": false,
    "jupyter": {
     "outputs_hidden": false
    }
   },
   "outputs": [
    {
     "name": "stdout",
     "output_type": "stream",
     "text": [
      "Highest Median Movie Score Genre: War film\n",
      "Lowest Median Movie Score Genre: Horror\n"
     ]
    }
   ],
   "source": [
    "# Median\n",
    "highest_median_genre = general_stats_df.loc['Median Movie Score'].idxmax()\n",
    "lowest_median_genre = general_stats_df.loc['Median Movie Score'].idxmin()\n",
    "\n",
    "print(f\"Highest Median Movie Score Genre: {highest_median_genre}\")\n",
    "print(f\"Lowest Median Movie Score Genre: {lowest_median_genre}\")"
   ]
  },
  {
   "cell_type": "code",
   "execution_count": 254,
   "id": "82c06099f111ecf8",
   "metadata": {
    "ExecuteTime": {
     "end_time": "2023-11-17T19:29:26.996023100Z",
     "start_time": "2023-11-17T19:29:26.757824200Z"
    },
    "collapsed": false,
    "jupyter": {
     "outputs_hidden": false
    }
   },
   "outputs": [
    {
     "name": "stdout",
     "output_type": "stream",
     "text": [
      "Highest Maximum Movie Score Genre: Crime\n",
      "Lowest Maximum Movie Score Genre: Sport\n"
     ]
    }
   ],
   "source": [
    "# Max\n",
    "highest_max_genre = general_stats_df.loc['Maximum Movie Score'].idxmax()\n",
    "lowest_max_genre = general_stats_df.loc['Maximum Movie Score'].idxmin()\n",
    "\n",
    "print(f\"Highest Maximum Movie Score Genre: {highest_max_genre}\")\n",
    "print(f\"Lowest Maximum Movie Score Genre: {lowest_max_genre}\")"
   ]
  },
  {
   "cell_type": "code",
   "execution_count": 255,
   "id": "3c9a321350cfd73d",
   "metadata": {
    "ExecuteTime": {
     "end_time": "2023-11-17T19:29:27.060054500Z",
     "start_time": "2023-11-17T19:29:26.781373Z"
    },
    "collapsed": false,
    "jupyter": {
     "outputs_hidden": false
    }
   },
   "outputs": [
    {
     "name": "stdout",
     "output_type": "stream",
     "text": [
      "Highest Minimum Movie Score Genre: Period piece\n",
      "Lowest Minimum Movie Score Genre: Comedy\n"
     ]
    }
   ],
   "source": [
    "# Min\n",
    "highest_min_genre = general_stats_df.loc['Minimum Movie Score'].idxmax()\n",
    "lowest_min_genre = general_stats_df.loc['Minimum Movie Score'].idxmin()\n",
    "\n",
    "print(f\"Highest Minimum Movie Score Genre: {highest_min_genre}\")\n",
    "print(f\"Lowest Minimum Movie Score Genre: {lowest_min_genre}\")"
   ]
  },
  {
   "cell_type": "code",
   "execution_count": 274,
   "id": "bec0c97f78550a41",
   "metadata": {
    "ExecuteTime": {
     "end_time": "2023-11-17T19:29:27.296307600Z",
     "start_time": "2023-11-17T19:29:26.790372900Z"
    },
    "collapsed": false,
    "jupyter": {
     "outputs_hidden": false
    }
   },
   "outputs": [
    {
     "data": {
      "image/png": "[encoded data removed]",
      "text/plain": [
       "<Figure size 1080x576 with 1 Axes>"
      ]
     },
     "metadata": {
      "needs_background": "light"
     },
     "output_type": "display_data"
    }
   ],
   "source": [
    "# Create a list to store DataFrames for box plots\n",
    "boxplot_genre_dfs = []\n",
    "\n",
    "# Iterate through the genres and corresponding DataFrames\n",
    "for genre, genre_df in genre_dataframes.items():\n",
    "    # Use .copy() to create a copy and add a 'Genre' column\n",
    "    genre_df_copy = genre_df.copy()\n",
    "    genre_df_copy['Genre'] = genre\n",
    "    boxplot_genre_dfs.append(genre_df_copy[['movie_score', 'Genre']])\n",
    "\n",
    "# Concatenate the DataFrames along the rows for box plot\n",
    "boxplot_concat = pd.concat(boxplot_genre_dfs)\n",
    "\n",
    "# Create a box plot using Seaborn\n",
    "plt.figure(figsize=(15, 8))\n",
    "sns.boxplot(x='Genre', y='movie_score', data=boxplot_concat, showfliers=True, hue='Genre')\n",
    "plt.title('Box Plot of Movie Score for Each Genre')\n",
    "plt.xlabel('Genre')\n",
    "plt.ylabel('Movie Score')\n",
    "# Adjust layout to prevent overlapping\n",
    "plt.tight_layout()\n",
    "plt.show()"
   ]
  },
  {
   "cell_type": "markdown",
   "id": "1439b675e54484f9",
   "metadata": {
    "collapsed": false,
    "jupyter": {
     "outputs_hidden": false
    }
   },
   "source": [
    "We will now find some statistics for each genre"
   ]
  },
  {
   "cell_type": "code",
   "execution_count": 257,
   "id": "a75a025dac119165",
   "metadata": {
    "ExecuteTime": {
     "end_time": "2023-11-17T19:29:27.403733600Z",
     "start_time": "2023-11-17T19:29:27.057054400Z"
    },
    "collapsed": false,
    "jupyter": {
     "outputs_hidden": false
    }
   },
   "outputs": [
    {
     "name": "stdout",
     "output_type": "stream",
     "text": [
      "{'Action': count    3315.000000\n",
      "mean       65.451447\n",
      "std        10.737942\n",
      "min        20.068884\n",
      "25%        59.310175\n",
      "50%        66.730583\n",
      "75%        72.663039\n",
      "max        94.563911\n",
      "Name: movie_score, dtype: float64, 'Adventure': count    3248.000000\n",
      "mean       66.526025\n",
      "std        10.287417\n",
      "min        20.918441\n",
      "25%        60.519352\n",
      "50%        67.447774\n",
      "75%        73.383063\n",
      "max        94.563911\n",
      "Name: movie_score, dtype: float64, 'Animation': count    673.000000\n",
      "mean      67.463643\n",
      "std       10.178189\n",
      "min       26.091910\n",
      "25%       61.483851\n",
      "50%       68.139762\n",
      "75%       74.449975\n",
      "max       91.640925\n",
      "Name: movie_score, dtype: float64, 'Comedy': count    6489.000000\n",
      "mean       63.719516\n",
      "std         9.594062\n",
      "min        18.884183\n",
      "25%        57.840404\n",
      "50%        64.465856\n",
      "75%        70.306675\n",
      "max        92.683054\n",
      "Name: movie_score, dtype: float64, 'Crime': count    2783.000000\n",
      "mean       65.224068\n",
      "std         9.757997\n",
      "min        22.265881\n",
      "25%        59.295875\n",
      "50%        66.026910\n",
      "75%        72.044433\n",
      "max        95.908194\n",
      "Name: movie_score, dtype: float64, 'Drama': count    9959.000000\n",
      "mean       64.598715\n",
      "std         9.565173\n",
      "min        22.265881\n",
      "25%        58.398306\n",
      "50%        65.357683\n",
      "75%        71.146820\n",
      "max        95.908194\n",
      "Name: movie_score, dtype: float64, 'Family': count    1665.000000\n",
      "mean       66.472288\n",
      "std         9.794540\n",
      "min        26.091910\n",
      "25%        60.816138\n",
      "50%        67.062700\n",
      "75%        73.040332\n",
      "max        95.908194\n",
      "Name: movie_score, dtype: float64, 'Fantasy': count    1163.000000\n",
      "mean       67.071766\n",
      "std        10.488020\n",
      "min        20.804988\n",
      "25%        60.893722\n",
      "50%        67.910670\n",
      "75%        73.822077\n",
      "max        94.563911\n",
      "Name: movie_score, dtype: float64, 'Period piece': count    1111.000000\n",
      "mean       67.824714\n",
      "std         8.793153\n",
      "min        34.584855\n",
      "25%        62.269217\n",
      "50%        68.102760\n",
      "75%        74.011658\n",
      "max        95.908194\n",
      "Name: movie_score, dtype: float64, 'Horror': count    1437.000000\n",
      "mean       60.494450\n",
      "std        10.766079\n",
      "min        21.564511\n",
      "25%        53.319745\n",
      "50%        61.081979\n",
      "75%        67.828028\n",
      "max        90.211079\n",
      "Name: movie_score, dtype: float64, 'Musical': count    1122.000000\n",
      "mean       64.905501\n",
      "std        10.443687\n",
      "min        25.494209\n",
      "25%        58.731177\n",
      "50%        66.517157\n",
      "75%        72.268334\n",
      "max        91.640925\n",
      "Name: movie_score, dtype: float64, 'Romance': count    3856.000000\n",
      "mean       64.682798\n",
      "std         9.377315\n",
      "min        26.999474\n",
      "25%        59.184280\n",
      "50%        65.651986\n",
      "75%        71.201870\n",
      "max        93.283655\n",
      "Name: movie_score, dtype: float64, 'Science Fiction': count    997.000000\n",
      "mean      65.605242\n",
      "std       11.339165\n",
      "min       20.918441\n",
      "25%       58.504485\n",
      "50%       66.794318\n",
      "75%       73.381946\n",
      "max       93.846619\n",
      "Name: movie_score, dtype: float64, 'Sport': count    518.000000\n",
      "mean      65.649396\n",
      "std        9.096221\n",
      "min       31.287348\n",
      "25%       60.184845\n",
      "50%       66.479787\n",
      "75%       71.759124\n",
      "max       88.078265\n",
      "Name: movie_score, dtype: float64, 'Thriller': count    3689.000000\n",
      "mean       64.376111\n",
      "std        10.603615\n",
      "min        20.804988\n",
      "25%        57.618644\n",
      "50%        65.536820\n",
      "75%        71.839170\n",
      "max        93.949723\n",
      "Name: movie_score, dtype: float64, 'War film': count    774.000000\n",
      "mean      68.043597\n",
      "std        9.001146\n",
      "min       32.181485\n",
      "25%       62.380735\n",
      "50%       68.334888\n",
      "75%       74.088821\n",
      "max       93.283655\n",
      "Name: movie_score, dtype: float64}\n"
     ]
    }
   ],
   "source": [
    "genre_stats = {}\n",
    "\n",
    "for genre, genre_df in genre_dataframes.items():\n",
    "    genre_stats[genre] = genre_df['movie_score'].describe()\n",
    "\n",
    "print(genre_stats)"
   ]
  },
  {
   "cell_type": "markdown",
   "id": "22ce622b-8f6a-4868-ba24-22e2627c8e42",
   "metadata": {},
   "source": [
    "The above analysis was done considering all the movies in each genre. The results showed that despite Drama and Comedy being the more frequent / popular genres, they do not necessarily have the highest scores. To push our analysis further, we will compute the movie score statistics per genre and redo the box plot, but only for the movies in the top 20% percentile of each genre. "
   ]
  },
  {
   "cell_type": "code",
   "execution_count": 258,
   "id": "1ad2f995-e806-4c55-aef1-414ba1b7eaa5",
   "metadata": {},
   "outputs": [],
   "source": [
    "genre_thresholds = {}\n",
    "for genre, genre_df in genre_dataframes.items():\n",
    "    percent_20_threshold = genre_df['movie_score'].quantile(0.8)\n",
    "    genre_thresholds[genre] = percent_20_threshold"
   ]
  },
  {
   "cell_type": "code",
   "execution_count": 276,
   "id": "15335032-11b9-4c72-b18e-1ad1829c23f4",
   "metadata": {},
   "outputs": [
    {
     "data": {
      "text/html": [
       "<div>\n",
       "<style scoped>\n",
       "    .dataframe tbody tr th:only-of-type {\n",
       "        vertical-align: middle;\n",
       "    }\n",
       "\n",
       "    .dataframe tbody tr th {\n",
       "        vertical-align: top;\n",
       "    }\n",
       "\n",
       "    .dataframe thead th {\n",
       "        text-align: right;\n",
       "    }\n",
       "</style>\n",
       "<table border=\"1\" class=\"dataframe\">\n",
       "  <thead>\n",
       "    <tr style=\"text-align: right;\">\n",
       "      <th></th>\n",
       "      <th>Action</th>\n",
       "      <th>Adventure</th>\n",
       "      <th>Animation</th>\n",
       "      <th>Comedy</th>\n",
       "      <th>Crime</th>\n",
       "      <th>Drama</th>\n",
       "      <th>Family</th>\n",
       "      <th>Fantasy</th>\n",
       "      <th>Period piece</th>\n",
       "      <th>Horror</th>\n",
       "      <th>Musical</th>\n",
       "      <th>Romance</th>\n",
       "      <th>Science Fiction</th>\n",
       "      <th>Sport</th>\n",
       "      <th>Thriller</th>\n",
       "      <th>War film</th>\n",
       "    </tr>\n",
       "  </thead>\n",
       "  <tbody>\n",
       "    <tr>\n",
       "      <th>Mean Movie Score</th>\n",
       "      <td>78.957673</td>\n",
       "      <td>79.755090</td>\n",
       "      <td>80.907175</td>\n",
       "      <td>76.207954</td>\n",
       "      <td>78.062116</td>\n",
       "      <td>77.283932</td>\n",
       "      <td>79.469923</td>\n",
       "      <td>80.811275</td>\n",
       "      <td>79.680787</td>\n",
       "      <td>74.882624</td>\n",
       "      <td>77.774218</td>\n",
       "      <td>76.725863</td>\n",
       "      <td>80.085396</td>\n",
       "      <td>77.687364</td>\n",
       "      <td>78.172573</td>\n",
       "      <td>80.344810</td>\n",
       "    </tr>\n",
       "    <tr>\n",
       "      <th>Median Movie Score</th>\n",
       "      <td>77.951128</td>\n",
       "      <td>78.565831</td>\n",
       "      <td>80.079709</td>\n",
       "      <td>75.294924</td>\n",
       "      <td>77.173120</td>\n",
       "      <td>76.254495</td>\n",
       "      <td>78.477625</td>\n",
       "      <td>79.696348</td>\n",
       "      <td>79.232729</td>\n",
       "      <td>73.620020</td>\n",
       "      <td>76.498839</td>\n",
       "      <td>75.716243</td>\n",
       "      <td>78.853480</td>\n",
       "      <td>77.589971</td>\n",
       "      <td>77.299869</td>\n",
       "      <td>79.548541</td>\n",
       "    </tr>\n",
       "  </tbody>\n",
       "</table>\n",
       "</div>"
      ],
      "text/plain": [
       "                       Action  Adventure  Animation     Comedy      Crime  \\\n",
       "Mean Movie Score    78.957673  79.755090  80.907175  76.207954  78.062116   \n",
       "Median Movie Score  77.951128  78.565831  80.079709  75.294924  77.173120   \n",
       "\n",
       "                        Drama     Family    Fantasy  Period piece     Horror  \\\n",
       "Mean Movie Score    77.283932  79.469923  80.811275     79.680787  74.882624   \n",
       "Median Movie Score  76.254495  78.477625  79.696348     79.232729  73.620020   \n",
       "\n",
       "                      Musical    Romance  Science Fiction      Sport  \\\n",
       "Mean Movie Score    77.774218  76.725863        80.085396  77.687364   \n",
       "Median Movie Score  76.498839  75.716243        78.853480  77.589971   \n",
       "\n",
       "                     Thriller   War film  \n",
       "Mean Movie Score    78.172573  80.344810  \n",
       "Median Movie Score  77.299869  79.548541  "
      ]
     },
     "execution_count": 276,
     "metadata": {},
     "output_type": "execute_result"
    }
   ],
   "source": [
    "# Score statistics per genre\n",
    "# Create empty dictionaries to store statistics for each genre\n",
    "genre_stats_top_20 = {'Mean': {}, 'Median': {}}\n",
    "\n",
    "# Iterate through the genres and corresponding DataFrames\n",
    "for genre, genre_df in genre_dataframes.items():\n",
    "    \n",
    "    percent_20_movies = genre_df[genre_df['movie_score'] >= genre_thresholds[genre]]\n",
    "\n",
    "    mean_score = percent_20_movies['movie_score'].mean()\n",
    "    median_score = percent_20_movies['movie_score'].median()\n",
    "    #max_score = percent_20_movies['movie_score'].max()\n",
    "    #min_score = percent_20_movies['movie_score'].min()\n",
    "\n",
    "    # Store the results in the dictionaries\n",
    "    genre_stats_top_20['Mean'][genre] = mean_score\n",
    "    genre_stats_top_20['Median'][genre] = median_score\n",
    "    #genre_stats['Maximum'][genre] = max_score\n",
    "    #genre_stats['Minimum'][genre] = min_score\n",
    "\n",
    "# For easy displays, convert the dictionaries to Pandas DataFrames \n",
    "mean_df = pd.DataFrame(genre_stats_top_20['Mean'], index=['Mean Movie Score'])\n",
    "median_df = pd.DataFrame(genre_stats_top_20['Median'], index=['Median Movie Score'])\n",
    "#max_df = pd.DataFrame(genre_stats['Maximum'], index=['Maximum Movie Score'])\n",
    "#min_df = pd.DataFrame(genre_stats['Minimum'], index=['Minimum Movie Score'])\n",
    "\n",
    "# Concatenate the DataFrames along the columns to create a general DataFrame\n",
    "general_stats_df = pd.concat([mean_df, median_df])\n",
    "\n",
    "# Display the summary DataFrame\n",
    "general_stats_df.head(10)"
   ]
  },
  {
   "cell_type": "code",
   "execution_count": 265,
   "id": "baf07595-0486-4491-ae7b-a1b71391786c",
   "metadata": {},
   "outputs": [
    {
     "data": {
      "image/png": "[encoded data removed]",
      "text/plain": [
       "<Figure size 1080x576 with 1 Axes>"
      ]
     },
     "metadata": {
      "needs_background": "light"
     },
     "output_type": "display_data"
    }
   ],
   "source": [
    "# Create a list to store DataFrames for box plots\n",
    "boxplot_genres = []\n",
    "\n",
    "# Iterate through the genres and corresponding DataFrames\n",
    "for genre, genre_df in genre_dataframes.items():\n",
    "    top_20_movies = genre_df[genre_df['movie_score'] >= genre_thresholds[genre]]\n",
    "    # Use .copy() to create a copy and add a 'Genre' column\n",
    "    top_20_movies_copy = top_20_movies.copy()\n",
    "    top_20_movies_copy['Genre'] = genre\n",
    "    boxplot_genres.append(top_20_movies_copy[['movie_score', 'Genre']])\n",
    "\n",
    "# Concatenate the DataFrames along the rows for box plot\n",
    "boxplot_concat = pd.concat(boxplot_genres)\n",
    "\n",
    "# Create a box plot using Seaborn\n",
    "plt.figure(figsize=(15, 8))\n",
    "sns.boxplot(x='Genre', y='movie_score', data=boxplot_concat, showfliers=True, hue='Genre')\n",
    "plt.title('Box Plot of Movie Score for Each Genre, considering the movies in the top 20 percentile of each genre')\n",
    "plt.xlabel('Genre')\n",
    "plt.ylabel('Movie Score')\n",
    "# Adjust layout to prevent overlapping\n",
    "plt.tight_layout()\n",
    "plt.show()"
   ]
  },
  {
   "cell_type": "markdown",
   "id": "7cb9b9c7-e2cf-44c5-bc75-b7f51c976269",
   "metadata": {},
   "source": [
    "The statistics we obtained are different than when we considered all the movies for every genre. However, the genres do not vary that much in ranking, which is why we want to repeat the analysis again, but considering only the top 532 movies in terms of score for each genre. We chose 532 because the least frequent genre contains 532 movies. That way, we will be considering the same number of movies for all the genres. "
   ]
  },
  {
   "cell_type": "code",
   "execution_count": 260,
   "id": "5313299e-0435-4044-a31c-a9522d79ce9c",
   "metadata": {},
   "outputs": [],
   "source": [
    "top_532_movies = {}\n",
    "for genre, genre_df in genre_dataframes.items():\n",
    "    sorted_genre = genre_df.sort_values(by='movie_score', ascending=False)\n",
    "    top_532_genre = sorted_genre.head(532)\n",
    "    top_532_movies[genre] = top_532_genre"
   ]
  },
  {
   "cell_type": "code",
   "execution_count": 277,
   "id": "1a7a98b7-9f0c-4b3e-aa74-da6e289c93be",
   "metadata": {},
   "outputs": [
    {
     "data": {
      "text/html": [
       "<div>\n",
       "<style scoped>\n",
       "    .dataframe tbody tr th:only-of-type {\n",
       "        vertical-align: middle;\n",
       "    }\n",
       "\n",
       "    .dataframe tbody tr th {\n",
       "        vertical-align: top;\n",
       "    }\n",
       "\n",
       "    .dataframe thead th {\n",
       "        text-align: right;\n",
       "    }\n",
       "</style>\n",
       "<table border=\"1\" class=\"dataframe\">\n",
       "  <thead>\n",
       "    <tr style=\"text-align: right;\">\n",
       "      <th></th>\n",
       "      <th>Action</th>\n",
       "      <th>Adventure</th>\n",
       "      <th>Animation</th>\n",
       "      <th>Comedy</th>\n",
       "      <th>Crime</th>\n",
       "      <th>Drama</th>\n",
       "      <th>Family</th>\n",
       "      <th>Fantasy</th>\n",
       "      <th>Period piece</th>\n",
       "      <th>Horror</th>\n",
       "      <th>Musical</th>\n",
       "      <th>Romance</th>\n",
       "      <th>Science Fiction</th>\n",
       "      <th>Sport</th>\n",
       "      <th>Thriller</th>\n",
       "      <th>War film</th>\n",
       "    </tr>\n",
       "  </thead>\n",
       "  <tbody>\n",
       "    <tr>\n",
       "      <th>Mean Movie Score</th>\n",
       "      <td>79.997909</td>\n",
       "      <td>80.708219</td>\n",
       "      <td>71.375025</td>\n",
       "      <td>79.799474</td>\n",
       "      <td>78.276996</td>\n",
       "      <td>82.653851</td>\n",
       "      <td>76.908974</td>\n",
       "      <td>75.842608</td>\n",
       "      <td>75.076743</td>\n",
       "      <td>71.256739</td>\n",
       "      <td>73.385569</td>\n",
       "      <td>78.231047</td>\n",
       "      <td>73.978356</td>\n",
       "      <td>65.649396</td>\n",
       "      <td>79.659462</td>\n",
       "      <td>72.693113</td>\n",
       "    </tr>\n",
       "    <tr>\n",
       "      <th>Median Movie Score</th>\n",
       "      <td>79.053346</td>\n",
       "      <td>79.792838</td>\n",
       "      <td>70.541793</td>\n",
       "      <td>78.956412</td>\n",
       "      <td>77.414410</td>\n",
       "      <td>81.807050</td>\n",
       "      <td>75.821870</td>\n",
       "      <td>74.478016</td>\n",
       "      <td>74.177187</td>\n",
       "      <td>70.231407</td>\n",
       "      <td>72.543353</td>\n",
       "      <td>77.239475</td>\n",
       "      <td>72.863872</td>\n",
       "      <td>66.479787</td>\n",
       "      <td>78.633254</td>\n",
       "      <td>71.494929</td>\n",
       "    </tr>\n",
       "  </tbody>\n",
       "</table>\n",
       "</div>"
      ],
      "text/plain": [
       "                       Action  Adventure  Animation     Comedy      Crime  \\\n",
       "Mean Movie Score    79.997909  80.708219  71.375025  79.799474  78.276996   \n",
       "Median Movie Score  79.053346  79.792838  70.541793  78.956412  77.414410   \n",
       "\n",
       "                        Drama     Family    Fantasy  Period piece     Horror  \\\n",
       "Mean Movie Score    82.653851  76.908974  75.842608     75.076743  71.256739   \n",
       "Median Movie Score  81.807050  75.821870  74.478016     74.177187  70.231407   \n",
       "\n",
       "                      Musical    Romance  Science Fiction      Sport  \\\n",
       "Mean Movie Score    73.385569  78.231047        73.978356  65.649396   \n",
       "Median Movie Score  72.543353  77.239475        72.863872  66.479787   \n",
       "\n",
       "                     Thriller   War film  \n",
       "Mean Movie Score    79.659462  72.693113  \n",
       "Median Movie Score  78.633254  71.494929  "
      ]
     },
     "execution_count": 277,
     "metadata": {},
     "output_type": "execute_result"
    }
   ],
   "source": [
    "# Score statistics per genre\n",
    "# Create empty dictionaries to store statistics for each genre\n",
    "genre_stats_top_532 = {'Mean': {}, 'Median': {}}\n",
    "\n",
    "# Iterate through the genres and corresponding DataFrames\n",
    "for genre, top_532_genre in top_532_movies.items():\n",
    "    mean_score_top_532 = top_532_genre['movie_score'].mean()\n",
    "    median_score_top_532 = top_532_genre['movie_score'].median()\n",
    "    #max_score_top_532 = top_532_genre['movie_score'].max()\n",
    "    #min_score_top_532 = top_532_genre['movie_score'].min()\n",
    "\n",
    "    # Store the results in the dictionaries\n",
    "    genre_stats_top_532['Mean'][genre] = mean_score_top_532\n",
    "    genre_stats_top_532['Median'][genre] = median_score_top_532\n",
    "    #genre_stats_top_532['Maximum'][genre] = max_score_top_532\n",
    "    #genre_stats_top_532['Minimum'][genre] = min_score_top_532\n",
    "\n",
    "# For easy displays, convert the dictionaries to Pandas DataFrames \n",
    "mean_df_top_532 = pd.DataFrame(genre_stats_top_532['Mean'], index=['Mean Movie Score'])\n",
    "median_df_top_532 = pd.DataFrame(genre_stats_top_532['Median'], index=['Median Movie Score'])\n",
    "#max_df_top_532 = pd.DataFrame(genre_stats_top_532['Maximum'], index=['Maximum Movie Score'])\n",
    "#min_df_top_532 = pd.DataFrame(genre_stats_top_532['Minimum'], index=['Minimum Movie Score'])\n",
    "\n",
    "# Concatenate the DataFrames along the columns to create a general DataFrame\n",
    "general_stats_df_top_532 = pd.concat([mean_df_top_532, median_df_top_532])\n",
    "\n",
    "# Display the summary DataFrame\n",
    "general_stats_df_top_532.head(10)"
   ]
  },
  {
   "cell_type": "code",
   "execution_count": 263,
   "id": "35d9189f-d289-4c02-b481-02c4a2f18d07",
   "metadata": {},
   "outputs": [
    {
     "data": {
      "image/png": "[encoded data removed]",
      "text/plain": [
       "<Figure size 1080x576 with 1 Axes>"
      ]
     },
     "metadata": {
      "needs_background": "light"
     },
     "output_type": "display_data"
    }
   ],
   "source": [
    "# Create a list to store DataFrames for box plots\n",
    "boxplot_genres_top_532 = []\n",
    "\n",
    "# Iterate through the genres and corresponding DataFrames\n",
    "for genre, top_532_genre in top_532_movies.items():\n",
    "    # Use .copy() to create a copy and add a 'Genre' column\n",
    "    top_532_genre_copy = top_532_genre.copy()\n",
    "    top_532_genre_copy['Genre'] = genre\n",
    "    boxplot_genres_top_532.append(top_532_genre_copy[['movie_score', 'Genre']])\n",
    "\n",
    "# Concatenate the DataFrames along the rows for box plot\n",
    "boxplot_concat = pd.concat(boxplot_genres_top_532)\n",
    "\n",
    "# Create a box plot using Seaborn\n",
    "plt.figure(figsize=(15, 8))\n",
    "sns.boxplot(x='Genre', y='movie_score', data=boxplot_concat, showfliers=True, hue='Genre')\n",
    "plt.title('Box Plot of Movie Score for Each Genre, considering the first 532 movies of each genre')\n",
    "plt.xlabel('Genre')\n",
    "plt.ylabel('Movie Score')\n",
    "# Adjust layout to prevent overlapping\n",
    "plt.tight_layout()\n",
    "plt.show()"
   ]
  },
  {
   "cell_type": "markdown",
   "id": "9044aca95df8d24a",
   "metadata": {},
   "source": [
    "## Inclusivity"
   ]
  },
  {
   "cell_type": "markdown",
   "id": "69609994-3c47-479c-be00-129ca5817d06",
   "metadata": {},
   "source": [
    "Let’s begin by retrieving actors’ information’s."
   ]
  },
  {
   "cell_type": "code",
   "execution_count": null,
   "id": "faec0e761e598fbc",
   "metadata": {
    "ExecuteTime": {
     "end_time": "2023-11-17T19:29:27.921943600Z",
     "start_time": "2023-11-17T19:29:27.086437Z"
    }
   },
   "outputs": [],
   "source": [
    "col_names = ['wikipedia_movie_id', 'freebase_movie_id', 'release_date', 'character_name', 'date_of_birth', 'gender', 'height', 'ethnicity_id', 'name', 'age_at_release', 'freebase_character_map_id', 'freebase_character_id', 'freebase_actor_id']\n",
    "\n",
    "characters = pd.read_csv(DATA_FOLDER + 'character.metadata.tsv', sep='\\t', header=None,  names=col_names)\n",
    "characters.head()"
   ]
  },
  {
   "cell_type": "code",
   "execution_count": null,
   "id": "f825764afd227eec",
   "metadata": {
    "ExecuteTime": {
     "end_time": "2023-11-17T19:29:28.185726100Z",
     "start_time": "2023-11-17T19:29:27.920942Z"
    }
   },
   "outputs": [],
   "source": [
    "actors = characters[['date_of_birth',\n",
    "    'gender',\n",
    "    'height',\n",
    "    'ethnicity_id',\n",
    "    'name',\n",
    "    'freebase_actor_id']]\n",
    "non_duped_actors = actors.drop_duplicates()\n",
    "non_duped_actors.head()"
   ]
  },
  {
   "cell_type": "code",
   "execution_count": null,
   "id": "8cd50fa70e9e6051",
   "metadata": {
    "ExecuteTime": {
     "end_time": "2023-11-17T19:29:28.247744500Z",
     "start_time": "2023-11-17T19:29:28.159893200Z"
    }
   },
   "outputs": [],
   "source": [
    "#Remove actors with non given name\n",
    "named_actors = non_duped_actors[~non_duped_actors['name'].isna() ]\n",
    "named_actors.head()"
   ]
  },
  {
   "cell_type": "markdown",
   "id": "a8242abc-2272-46ba-b26d-9599ad3ad7fb",
   "metadata": {},
   "source": [
    "To look at the data, we now find out the proportion of ethnicity ids presence between actors accros all films:"
   ]
  },
  {
   "cell_type": "code",
   "execution_count": null,
   "id": "b88d606e45df9ec",
   "metadata": {
    "ExecuteTime": {
     "end_time": "2023-11-17T19:29:28.564269400Z",
     "start_time": "2023-11-17T19:29:28.188726400Z"
    }
   },
   "outputs": [],
   "source": [
    "actors_in_movie_eth = characters[['name','freebase_actor_id','wikipedia_movie_id','ethnicity_id']].drop_duplicates()\n",
    "actors_in_movie_eth = actors_in_movie_eth[~actors_in_movie_eth['name'].isna()].drop(columns=['name'])\n",
    "actors_in_movie_eth_counts = actors_in_movie_eth.groupby('freebase_actor_id').count().rename(columns = {'wikipedia_movie_id': 'Movie count', 'ethnicity_id': 'Number of Ethnicity tags'})\n",
    "actors_in_movie_eth_counts = actors_in_movie_eth_counts[actors_in_movie_eth_counts['Movie count'] >= 1]\n",
    "print(actors_in_movie_eth_counts[actors_in_movie_eth_counts['Number of Ethnicity tags']==0].sum())\n",
    "\n",
    "\n"
   ]
  },
  {
   "cell_type": "code",
   "execution_count": null,
   "id": "47909a5646c4d7a1",
   "metadata": {
    "ExecuteTime": {
     "end_time": "2023-11-17T19:29:28.576775800Z",
     "start_time": "2023-11-17T19:29:28.520271Z"
    }
   },
   "outputs": [],
   "source": [
    "actors_with_eth_tags_count = actors_in_movie_eth_counts[actors_in_movie_eth_counts['Number of Ethnicity tags']!= 0]\n",
    "print(actors_with_eth_tags_count.sum())\n"
   ]
  },
  {
   "cell_type": "markdown",
   "id": "18e1467a6420f735",
   "metadata": {},
   "source": [
    "Below are all the actors with tags :"
   ]
  },
  {
   "cell_type": "code",
   "execution_count": null,
   "id": "42db31983b1f4354",
   "metadata": {
    "ExecuteTime": {
     "end_time": "2023-11-17T19:29:28.738679300Z",
     "start_time": "2023-11-17T19:29:28.537378300Z"
    }
   },
   "outputs": [],
   "source": [
    "actor_eth = characters[['name','freebase_actor_id','ethnicity_id']].drop_duplicates()\n",
    "actor_eth = actor_eth[~actor_eth['name'].isna()].drop(columns=['name'])\n",
    "actor_eth\n",
    "actor_eth[~actor_eth['ethnicity_id'].isna()]"
   ]
  },
  {
   "cell_type": "markdown",
   "id": "485aac4918a86a51",
   "metadata": {},
   "source": [
    "The below graphs shows the distribution of ethnicity tags and actors existance in film:"
   ]
  },
  {
   "cell_type": "code",
   "execution_count": null,
   "id": "9c2f38792fc87348",
   "metadata": {
    "ExecuteTime": {
     "end_time": "2023-11-17T19:29:29.225908900Z",
     "start_time": "2023-11-17T19:29:28.723678400Z"
    }
   },
   "outputs": [],
   "source": [
    "actors_in_movie_eth = characters[['name','freebase_actor_id','wikipedia_movie_id','ethnicity_id']].drop_duplicates()\n",
    "actors_in_movie_eth = actors_in_movie_eth[~actors_in_movie_eth['name'].isna()].drop(columns=['name'])\n",
    "actors_in_movie_eth.groupby('wikipedia_movie_id').count().describe()\n",
    "actors_in_movie_eth.groupby('wikipedia_movie_id').count().hist(bins=20, range = [0,5])\n"
   ]
  },
  {
   "cell_type": "markdown",
   "id": "4a6ca7fe-e1d5-4f2c-ad70-8360688b9819",
   "metadata": {},
   "source": [
    "Below is the movie's distinctive ethnicity tag repartitions considering NaN values:    \n",
    "Note that per movie we consider each actor once."
   ]
  },
  {
   "cell_type": "code",
   "execution_count": null,
   "id": "c52e9725133f4986",
   "metadata": {
    "ExecuteTime": {
     "end_time": "2023-11-17T19:29:29.606695500Z",
     "start_time": "2023-11-17T19:29:29.225908900Z"
    }
   },
   "outputs": [],
   "source": [
    "eth_in_movie_eth = characters[['name','freebase_actor_id','wikipedia_movie_id','ethnicity_id']].drop_duplicates()\n",
    "eth_in_movie_eth = eth_in_movie_eth[~eth_in_movie_eth['name'].isna()].drop(columns=['name', 'freebase_actor_id'])\n",
    "eth_in_movie_eth = eth_in_movie_eth.drop_duplicates()\n",
    "eth_in_movie_eth.groupby('wikipedia_movie_id').count().hist(bins=20, range = [0,5])"
   ]
  },
  {
   "cell_type": "markdown",
   "id": "fb3561e0-ab17-48d5-aa41-6601d3a1d42e",
   "metadata": {},
   "source": [
    "We start our study on ethnicity by selecting movies that had sufficient information about the ethnicity in their cast. This leads us to define a certain threshold on the number of actors' ethnicity tags per film, and only consider the movies that have a number of tags larger than this threshold.   \n",
    "On these movies, we may now compute the number of different tags of each movie and plotting histograms of the new data.\n",
    "The movies which have a number of different tags larger than our defined threshold are considered as inclusive movies, while the others are considered as non-inclusive.    \n",
    "The value of the threshold may be adapted in the future to see how it affects the results."
   ]
  },
  {
   "cell_type": "code",
   "execution_count": null,
   "id": "3f45218af3575ce7",
   "metadata": {
    "ExecuteTime": {
     "end_time": "2023-11-17T19:29:29.627676100Z",
     "start_time": "2023-11-17T19:29:29.600701700Z"
    }
   },
   "outputs": [],
   "source": [
    "thresh = 3"
   ]
  },
  {
   "cell_type": "code",
   "execution_count": null,
   "id": "fabbf0d20e6a6a27",
   "metadata": {
    "ExecuteTime": {
     "end_time": "2023-11-17T19:29:30.103810Z",
     "start_time": "2023-11-17T19:29:29.678694600Z"
    }
   },
   "outputs": [],
   "source": [
    "eth_in_movie_eth = characters[['name','freebase_actor_id','wikipedia_movie_id','ethnicity_id']].drop_duplicates()\n",
    "eth_in_movie_eth = eth_in_movie_eth[~eth_in_movie_eth['name'].isna()].drop(columns=['name', 'freebase_actor_id'])\n",
    "\n",
    "eth_in_movie_eth = eth_in_movie_eth[~eth_in_movie_eth['ethnicity_id'].isna()]\n",
    "count_by_movie_id = eth_in_movie_eth.groupby('wikipedia_movie_id').count()\n",
    "\n",
    "#Film with infos on 3 ethnicities\n",
    "filtered_data = eth_in_movie_eth[eth_in_movie_eth['wikipedia_movie_id'].isin(count_by_movie_id[count_by_movie_id >= thresh].dropna().index)]\n",
    "#Films with possible duplicates of these 3 ethnicities ie the movies for which we have sufficient data to determine whether they are inclusive or not.\n",
    "filtered_data.groupby('wikipedia_movie_id').count().hist(bins=20, range = [0,thresh+3])\n",
    "\n",
    "#Films with at least distinct 3 ethnicities among these movies for which we have sufficient data\n",
    "filtered_data.drop_duplicates().groupby('wikipedia_movie_id').count().hist(bins=20, range = [0,thresh+3])"
   ]
  },
  {
   "cell_type": "markdown",
   "id": "5be1619c-0cf5-4c10-8d2d-186c8fdcc2b2",
   "metadata": {},
   "source": [
    "But before starting analysing the data, we need to match the given ethnicity ids with their respective values from freebase and wikidata      \n",
    "Below is the scraping :"
   ]
  },
  {
   "cell_type": "code",
   "execution_count": null,
   "id": "7b9eced63071869b",
   "metadata": {
    "ExecuteTime": {
     "end_time": "2023-11-17T19:29:30.147832900Z",
     "start_time": "2023-11-17T19:29:30.102809800Z"
    }
   },
   "outputs": [],
   "source": [
    "eth_indexes = actors['ethnicity_id'].value_counts().index\n",
    "eth_indexes"
   ]
  },
  {
   "cell_type": "code",
   "execution_count": null,
   "id": "55a3ee5d435fb22e",
   "metadata": {
    "ExecuteTime": {
     "end_time": "2023-11-17T19:29:30.241193200Z",
     "start_time": "2023-11-17T19:29:30.117811500Z"
    }
   },
   "outputs": [],
   "source": [
    "actors['ethnicity_id'].isna().sum()"
   ]
  },
  {
   "cell_type": "code",
   "execution_count": null,
   "id": "64d10adc5c78e816",
   "metadata": {
    "ExecuteTime": {
     "end_time": "2023-11-17T19:29:30.308732300Z",
     "start_time": "2023-11-17T19:29:30.133810Z"
    }
   },
   "outputs": [],
   "source": [
    "actors[~actors['ethnicity_id'].isna()]"
   ]
  },
  {
   "cell_type": "code",
   "execution_count": null,
   "id": "efa460378ce49cf5",
   "metadata": {
    "ExecuteTime": {
     "end_time": "2023-11-17T19:29:30.311740800Z",
     "start_time": "2023-11-17T19:29:30.166111800Z"
    }
   },
   "outputs": [],
   "source": [
    "import requests\n",
    "\n",
    "def get_wikidata_id(freebase_id):\n",
    "    \"\"\"\n",
    "    Function fetching from the wikidata_id of the given freebase_id\n",
    "    \"\"\"\n",
    "    # Wikidata SPARQL endpoint\n",
    "    endpoint_url = \"https://query.wikidata.org/sparql\"\n",
    "    \n",
    "    # SPARQL query to get the Wikidata ID using the Freebase ID\n",
    "    query = f'''\n",
    "    SELECT ?item WHERE {{\n",
    "        ?item wdt:P646 \"{freebase_id}\".\n",
    "    }}\n",
    "    '''\n",
    "    \n",
    "    # Send the request to the endpoint\n",
    "    response = requests.get(endpoint_url, params={'query': query, 'format': 'json'})\n",
    "    while response.status_code == 429:\n",
    "        time.sleep(2.5)\n",
    "        print('sleeping')\n",
    "        response = requests.get(endpoint_url, params={'query': query, 'format': 'json'})\n",
    "        print('Woke up !')\n",
    "    # Parse the response\n",
    "    data = response.json()\n",
    "    \n",
    "    # Extract the Wikidata ID from the response\n",
    "    results = data.get(\"results\", {}).get(\"bindings\", [])\n",
    "    if results:\n",
    "        wikidata_id = results[0].get(\"item\", {}).get(\"value\", \"\")\n",
    "        # Extract the ID from the full URI\n",
    "        wikidata_id = wikidata_id.split('/')[-1]\n",
    "        return wikidata_id\n",
    "    else:\n",
    "        return None\n"
   ]
  },
  {
   "cell_type": "code",
   "execution_count": null,
   "id": "1dc203ee7af7916a",
   "metadata": {
    "ExecuteTime": {
     "end_time": "2023-11-17T19:29:30.314744800Z",
     "start_time": "2023-11-17T19:29:30.183118400Z"
    }
   },
   "outputs": [],
   "source": [
    "def get_ethnicity_info(wikidata_id):\n",
    "    \"\"\"\n",
    "    Function fetching the ethnicity information using the wikidata_id\n",
    "    \"\"\"\n",
    "    endpoint_url = \"https://query.wikidata.org/sparql\"\n",
    "    query = f'''\n",
    "    SELECT ?property ?propertyLabel ?value ?valueLabel WHERE {{\n",
    "        wd:{wikidata_id} ?p ?statement .\n",
    "        ?statement ?ps ?value .\n",
    "        \n",
    "        ?property wikibase:claim ?p.\n",
    "        ?property wikibase:statementProperty ?ps.\n",
    "        \n",
    "        SERVICE wikibase:label {{ bd:serviceParam wikibase:language \"[AUTO_LANGUAGE],en\". }}\n",
    "    }}\n",
    "    ORDER BY ?property ?value\n",
    "    '''\n",
    "    \n",
    "    # Send the request to the endpoint\n",
    "    response = requests.get(endpoint_url, params={'query': query, 'format': 'json'})\n",
    "    while response.status_code == 429:\n",
    "        time.sleep(2.5)\n",
    "        print('sleeping')\n",
    "        response = requests.get(endpoint_url, params={'query': query, 'format': 'json'})\n",
    "        print('Woke up !')\n",
    "        \n",
    "    # Parse the response\n",
    "    data = response.json()\n",
    "    # Process the data to extract labels and values\n",
    "    properties = {}\n",
    "    for item in data.get(\"results\", {}).get(\"bindings\", []):\n",
    "        prop = item.get(\"propertyLabel\", {}).get(\"value\", \"\")\n",
    "        val = item.get(\"valueLabel\", {}).get(\"value\", \"\")\n",
    "        if prop and val:\n",
    "            if prop in properties:\n",
    "                properties[prop].append(val)\n",
    "            else:\n",
    "                properties[prop] = [val]\n",
    "        \n",
    "    return properties\n"
   ]
  },
  {
   "cell_type": "code",
   "execution_count": null,
   "id": "69f106638128fcdb",
   "metadata": {
    "ExecuteTime": {
     "end_time": "2023-11-17T19:29:31.728605Z",
     "start_time": "2023-11-17T19:29:30.197816600Z"
    }
   },
   "outputs": [],
   "source": [
    "# Mock example :\n",
    "freebase_id =  '/m/043_z22'\n",
    "wikidata_id = get_wikidata_id(freebase_id)\n",
    "print(wikidata_id)\n",
    "if wikidata_id:\n",
    "    ethnicity_info = get_ethnicity_info(wikidata_id)\n",
    "    print(ethnicity_info['instance of'])\n",
    "else:\n",
    "    print(\"Wikidata ID not found for the given Freebase ID.\")\n"
   ]
  },
  {
   "cell_type": "code",
   "execution_count": null,
   "id": "94d1ade371467d00",
   "metadata": {
    "ExecuteTime": {
     "end_time": "2023-11-17T19:29:31.850780800Z",
     "start_time": "2023-11-17T19:29:31.716605200Z"
    }
   },
   "outputs": [],
   "source": [
    "def scrape_ethnicity_infos(eth_indexes):\n",
    "    \"\"\"\n",
    "    Function scraping for a list of ethnicity values using a list of ethnicity freebase id\n",
    "    \"\"\"\n",
    "    free_ids = []\n",
    "    wiki_ids = []\n",
    "    eth_infos = []\n",
    "    for idx, act_eth in enumerate(eth_indexes):\n",
    "            if idx %10 == 0:\n",
    "                print(\"Random sleep\", idx)\n",
    "                time.sleep(2.5)\n",
    "                print('Woke up !')\n",
    "                \n",
    "            freebase_id =  act_eth\n",
    "            wikidata_id = get_wikidata_id(freebase_id)\n",
    "            \n",
    "            free_ids.append(freebase_id)\n",
    "            wiki_ids.append(wikidata_id)\n",
    "            if wikidata_id:\n",
    "                ethnicity_info = get_ethnicity_info(wikidata_id)\n",
    "                eth_infos.append(ethnicity_info)\n",
    "            else:\n",
    "                eth_infos.append(None)\n",
    "                print(\"Wikidata ID not found for the given Freebase ID.\")\n",
    "                \n",
    "    return eth_infos, wiki_ids, free_ids"
   ]
  },
  {
   "cell_type": "code",
   "execution_count": null,
   "id": "71cf237b5cd534a",
   "metadata": {
    "ExecuteTime": {
     "end_time": "2023-11-17T19:29:31.853785200Z",
     "start_time": "2023-11-17T19:29:31.733605500Z"
    }
   },
   "outputs": [],
   "source": [
    "def retrieve_ethnicity_infos(eth_indexes=None):\n",
    "    \"\"\"\n",
    "    Function used to retrieve the ethnicity values either from saved data or from scraping\n",
    "    \"\"\"\n",
    "    try:\n",
    "        with open(ADDITIONAL_FOLDER + 'eth_infos.pkl', 'rb') as file:\n",
    "            eth_infos = pkl.load(file)\n",
    "        with open(ADDITIONAL_FOLDER + 'wiki_ids.pkl', 'rb') as file:\n",
    "            wiki_ids = pkl.load(file)\n",
    "        with open(ADDITIONAL_FOLDER + 'free_ids.pkl', 'rb') as file:\n",
    "            free_ids = pkl.load(file)\n",
    "        return eth_infos, wiki_ids, free_ids\n",
    "    \n",
    "    except:\n",
    "        eth_infos, wiki_ids, free_ids = scrape_ethnicity_infos(eth_indexes)\n",
    "        with open(ADDITIONAL_FOLDER + 'eth_infos.pkl', 'wb') as file:\n",
    "            pkl.dump(eth_infos, file)      \n",
    "        with open(ADDITIONAL_FOLDER + 'wiki_ids.pkl', 'wb') as file:\n",
    "            pkl.dump(wiki_ids, file)   \n",
    "        with open(ADDITIONAL_FOLDER + 'free_ids.pkl', 'wb') as file:\n",
    "            pkl.dump(free_ids, file)\n",
    "        return eth_infos, wiki_ids, free_ids      "
   ]
  },
  {
   "cell_type": "code",
   "execution_count": null,
   "id": "31ee1337a87a207b",
   "metadata": {
    "ExecuteTime": {
     "end_time": "2023-11-17T19:29:31.853785200Z",
     "start_time": "2023-11-17T19:29:31.743603200Z"
    }
   },
   "outputs": [],
   "source": [
    "eth_infos, wiki_ids, free_ids = retrieve_ethnicity_infos(eth_indexes=eth_indexes)\n",
    "len(eth_infos)"
   ]
  },
  {
   "cell_type": "code",
   "execution_count": null,
   "id": "204de22bf5759a7",
   "metadata": {
    "ExecuteTime": {
     "end_time": "2023-11-17T19:29:31.872291900Z",
     "start_time": "2023-11-17T19:29:31.826782100Z"
    }
   },
   "outputs": [],
   "source": [
    "data_dict = {\n",
    "    'wiki_ids': wiki_ids,\n",
    "    'eth_infos': eth_infos,\n",
    "    'category' : np.nan\n",
    "}\n",
    "\n",
    "# Create a ethnicity information DataFrame with free_ids as the index\n",
    "ethnicity_map = pd.DataFrame(data_dict, index=free_ids)\n",
    "ethnicity_map['category'] = ethnicity_map['category'].astype('object')\n",
    "ethnicity_map"
   ]
  },
  {
   "cell_type": "code",
   "execution_count": null,
   "id": "7119fffc7ab87056",
   "metadata": {
    "ExecuteTime": {
     "end_time": "2023-11-17T19:29:31.920292100Z",
     "start_time": "2023-11-17T19:29:31.838780500Z"
    }
   },
   "outputs": [],
   "source": [
    "ethnicity_map = ethnicity_map.replace('', np.nan)\n",
    "ethnicity_map = ethnicity_map[ (~ethnicity_map['eth_infos'].isna() )]"
   ]
  },
  {
   "cell_type": "markdown",
   "id": "b56ee3a623484bab",
   "metadata": {},
   "source": [
    "The best way to understand the data is to look at it.\n",
    "In the following subsection we are going to retrieve little by little information from the quite dirty obtained data :"
   ]
  },
  {
   "cell_type": "code",
   "execution_count": null,
   "id": "b7d447ae23e7a9a9",
   "metadata": {
    "ExecuteTime": {
     "end_time": "2023-11-17T19:29:31.974799800Z",
     "start_time": "2023-11-17T19:29:31.853785200Z"
    }
   },
   "outputs": [],
   "source": [
    "ethnicity_map['eth_infos'].iloc[1]"
   ]
  },
  {
   "cell_type": "code",
   "execution_count": null,
   "id": "75289134e706b438",
   "metadata": {
    "ExecuteTime": {
     "end_time": "2023-11-17T19:29:32.105329300Z",
     "start_time": "2023-11-17T19:29:31.870291700Z"
    }
   },
   "outputs": [],
   "source": [
    "def remove_stopwords_and_specific_words(text, specific_words):\n",
    "    \"\"\"\n",
    "    Function used to preprocess and clean the ethnicities values obtained by removing stop words and demanded words.\n",
    "    \"\"\"\n",
    "    stop_words = set(stopwords.words('english'))\n",
    "    words = nltk.word_tokenize(text)\n",
    "    filtered_words = [word for word in words if word.lower() not in stop_words and word.lower() not in specific_words]\n",
    "    filtered_text = ' '.join(filtered_words)\n",
    "    \n",
    "    return filtered_text"
   ]
  },
  {
   "cell_type": "code",
   "execution_count": null,
   "id": "77d1d71974add38b",
   "metadata": {
    "ExecuteTime": {
     "end_time": "2023-11-17T19:29:32.105329300Z",
     "start_time": "2023-11-17T19:29:31.889291800Z"
    }
   },
   "outputs": [],
   "source": [
    "class EthnicityColumnProcessing(ABC):\n",
    "    \"\"\"\n",
    "    Super class used to define a generic cleaning policy of the ethnicity values.\n",
    "    \"\"\"\n",
    "    @staticmethod\n",
    "    def find_category_from_dict(dico):\n",
    "        \"\"\"\n",
    "        Function which return a single cleaned and demanded from a dict.\n",
    "        \"\"\"\n",
    "        raise NotImplementedError(\"Subclasses must implement this method\")\n",
    "        \n",
    "    @staticmethod\n",
    "    def process_data_list(data_list):\n",
    "        \"\"\"\n",
    "        Function used to clean the hole data obtained from the ethnicity dict.\n",
    "        \"\"\"\n",
    "        if data_list is None or data_list is np.nan:\n",
    "            return np.nan\n",
    "            \n",
    "        new_data_list = []  \n",
    "        for item in data_list:\n",
    "            processed_content = item.replace('-', ' ').lower()\n",
    "            processed_content = remove_stopwords_and_specific_words(processed_content, ['people', 'peoples', 'descent'])\n",
    "            new_data_list.append(processed_content)\n",
    "        return new_data_list\n",
    "        \n",
    "    @classmethod\n",
    "    def process_dataframe(cls, df):\n",
    "        \"\"\"\n",
    "        Function used to obtain and update the ethnicity category of a dataframe with new informations.\n",
    "        \"\"\"\n",
    "        for index, row in df.iterrows():\n",
    "            if isinstance(row['category'], list):\n",
    "                if pd.isna(row['category']).all():\n",
    "                    df.at[index, 'category'] = cls.process_data_list(cls.find_category_from_dict(row['eth_infos']))\n",
    "            elif pd.isna(row['category']):\n",
    "                df.at[index, 'category'] = cls.process_data_list(cls.find_category_from_dict(row['eth_infos']))\n",
    "        "
   ]
  },
  {
   "cell_type": "markdown",
   "id": "c843b1b1-7c1e-4e83-8826-59052ab5cdfc",
   "metadata": {},
   "source": [
    "We incrementally add values from the ethnicity infos `eth_info` to the ethnicity category of our dataframe `ethnicity_map`"
   ]
  },
  {
   "cell_type": "code",
   "execution_count": null,
   "id": "70686fbe5906094e",
   "metadata": {
    "ExecuteTime": {
     "end_time": "2023-11-17T19:29:32.105329300Z",
     "start_time": "2023-11-17T19:29:31.905291400Z"
    }
   },
   "outputs": [],
   "source": [
    "class MainCategoryProcessing(EthnicityColumnProcessing):\n",
    "    @staticmethod\n",
    "    def find_category_from_dict(dico):\n",
    "        category = dico.get(\"topic's main category\", np.nan)   \n",
    "        return category\n",
    "        \n",
    "    @staticmethod\n",
    "    def process_data_list(data_list):\n",
    "        if data_list is None or data_list is np.nan:\n",
    "            return np.nan\n",
    "            \n",
    "        new_data = []  \n",
    "        for item in data_list:\n",
    "            if item.startswith(\"Category:\"):\n",
    "                content = item[len(\"Category:\"):]\n",
    "    \n",
    "                processed_content = content.replace('-', ' ').lower()\n",
    "                processed_content = remove_stopwords_and_specific_words(processed_content, ['people', 'peoples', 'descent'])\n",
    "                new_data.append(processed_content)\n",
    "            else:\n",
    "                continue\n",
    "    \n",
    "        return new_data"
   ]
  },
  {
   "cell_type": "code",
   "execution_count": null,
   "id": "d009e143fdf05f25",
   "metadata": {
    "ExecuteTime": {
     "end_time": "2023-11-17T19:29:32.453031800Z",
     "start_time": "2023-11-17T19:29:31.918292Z"
    }
   },
   "outputs": [],
   "source": [
    "MainCategoryProcessing().process_dataframe(ethnicity_map)\n",
    "ethnicity_map"
   ]
  },
  {
   "cell_type": "code",
   "execution_count": null,
   "id": "72d76ff27bb771e",
   "metadata": {
    "ExecuteTime": {
     "end_time": "2023-11-17T19:29:32.453031800Z",
     "start_time": "2023-11-17T19:29:32.151330300Z"
    }
   },
   "outputs": [],
   "source": [
    "ethnicity_map['eth_infos'].loc['/m/03x_fq7']"
   ]
  },
  {
   "cell_type": "code",
   "execution_count": null,
   "id": "497ebfb250fa282c",
   "metadata": {
    "ExecuteTime": {
     "end_time": "2023-11-17T19:29:32.517573500Z",
     "start_time": "2023-11-17T19:29:32.168838300Z"
    }
   },
   "outputs": [],
   "source": [
    "class CommonCategoryProcessing(EthnicityColumnProcessing):\n",
    "    @staticmethod\n",
    "    def find_category_from_dict(dico):\n",
    "        category = dico.get('Commons category', np.nan)   \n",
    "        return category\n",
    "\n",
    "CommonCategoryProcessing().process_dataframe(ethnicity_map)\n",
    "display(ethnicity_map)\n",
    "ethnicity_map.isna().sum()"
   ]
  },
  {
   "cell_type": "code",
   "execution_count": null,
   "id": "b449e00c4a5a0227",
   "metadata": {
    "ExecuteTime": {
     "end_time": "2023-11-17T19:29:32.519028500Z",
     "start_time": "2023-11-17T19:29:32.256250300Z"
    }
   },
   "outputs": [],
   "source": [
    "class EncyclopedyCategoryProcessing(EthnicityColumnProcessing):\n",
    "    @staticmethod\n",
    "    def find_category_from_dict(dico):\n",
    "        if isinstance(dico, dict):\n",
    "            eth = dico.get('Encyclopædia Britannica Online ID', np.nan)\n",
    "            if eth is not np.nan:\n",
    "                eth = eth[0].removeprefix(\"topic/\")\n",
    "                    \n",
    "            return eth\n",
    "        else: \n",
    "            return np.nan\n",
    "        \n",
    "EncyclopedyCategoryProcessing().process_dataframe(ethnicity_map)\n",
    "ethnicity_map.isna().sum()"
   ]
  },
  {
   "cell_type": "code",
   "execution_count": null,
   "id": "4b196fd7538efff1",
   "metadata": {
    "ExecuteTime": {
     "end_time": "2023-11-17T19:29:32.519028500Z",
     "start_time": "2023-11-17T19:29:32.293497900Z"
    }
   },
   "outputs": [],
   "source": [
    "ethnicity_map.loc['/m/06mvq'].eth_infos"
   ]
  },
  {
   "cell_type": "code",
   "execution_count": null,
   "id": "7dad82ff4579b96b",
   "metadata": {
    "ExecuteTime": {
     "end_time": "2023-11-17T19:29:32.521059700Z",
     "start_time": "2023-11-17T19:29:32.309489900Z"
    }
   },
   "outputs": [],
   "source": [
    "class QuoraCategoryProcessing(EthnicityColumnProcessing):\n",
    "    @staticmethod\n",
    "    def find_category_from_dict(dico):\n",
    "        category = dico.get('Quora topic ID', np.nan)   \n",
    "        return category\n",
    "        \n",
    "QuoraCategoryProcessing().process_dataframe(ethnicity_map)\n",
    "ethnicity_map.isna().sum()"
   ]
  },
  {
   "cell_type": "code",
   "execution_count": null,
   "id": "1db1b06b58a58777",
   "metadata": {
    "ExecuteTime": {
     "end_time": "2023-11-17T19:29:32.521059700Z",
     "start_time": "2023-11-17T19:29:32.338803700Z"
    }
   },
   "outputs": [],
   "source": [
    "ethnicity_map[(ethnicity_map['category'].isna())]"
   ]
  },
  {
   "cell_type": "code",
   "execution_count": null,
   "id": "b0a0317f40318c24",
   "metadata": {
    "ExecuteTime": {
     "end_time": "2023-11-17T19:29:32.522058Z",
     "start_time": "2023-11-17T19:29:32.386684700Z"
    }
   },
   "outputs": [],
   "source": [
    "ethnicity_map.loc['/m/0g96wd'].eth_infos"
   ]
  },
  {
   "cell_type": "code",
   "execution_count": null,
   "id": "2b0efd21d88cc5bb",
   "metadata": {
    "ExecuteTime": {
     "end_time": "2023-11-17T19:29:32.522058Z",
     "start_time": "2023-11-17T19:29:32.403661300Z"
    }
   },
   "outputs": [],
   "source": [
    "ethnicity_map.loc['/m/02rm7_9'].eth_infos"
   ]
  },
  {
   "cell_type": "code",
   "execution_count": null,
   "id": "2b9fc334963dff61",
   "metadata": {
    "ExecuteTime": {
     "end_time": "2023-11-17T19:29:32.540086200Z",
     "start_time": "2023-11-17T19:29:32.420678500Z"
    }
   },
   "outputs": [],
   "source": [
    "class CountryCategoryProcessing(EthnicityColumnProcessing):\n",
    "    @staticmethod\n",
    "    def find_category_from_dict(dico):\n",
    "        category = dico.get('country', np.nan)   \n",
    "        return category\n",
    "        \n",
    "CountryCategoryProcessing().process_dataframe(ethnicity_map)\n",
    "ethnicity_map.isna().sum()"
   ]
  },
  {
   "cell_type": "code",
   "execution_count": null,
   "id": "184aa3f3647024f0",
   "metadata": {
    "ExecuteTime": {
     "end_time": "2023-11-17T19:29:32.619908700Z",
     "start_time": "2023-11-17T19:29:32.449661Z"
    }
   },
   "outputs": [],
   "source": [
    "ethnicity_map.loc['/m/01hm_'].eth_infos"
   ]
  },
  {
   "cell_type": "code",
   "execution_count": null,
   "id": "c42c6fe9822bf642",
   "metadata": {
    "ExecuteTime": {
     "end_time": "2023-11-17T19:29:32.716908800Z",
     "start_time": "2023-11-17T19:29:32.464048700Z"
    }
   },
   "outputs": [],
   "source": [
    "ethnicity_map.loc['/m/047q05d'].eth_infos"
   ]
  },
  {
   "cell_type": "code",
   "execution_count": null,
   "id": "c5b1c237652621e6",
   "metadata": {
    "ExecuteTime": {
     "end_time": "2023-11-17T19:29:32.717907300Z",
     "start_time": "2023-11-17T19:29:32.480579200Z"
    }
   },
   "outputs": [],
   "source": [
    "ethnicity_map.loc['/m/03b_13l'].eth_infos\n"
   ]
  },
  {
   "cell_type": "code",
   "execution_count": null,
   "id": "b99274f95dfa6440",
   "metadata": {
    "ExecuteTime": {
     "end_time": "2023-11-17T19:29:32.717907300Z",
     "start_time": "2023-11-17T19:29:32.496594800Z"
    }
   },
   "outputs": [],
   "source": [
    "ethnicity_map.loc['/m/0960kn'].eth_infos"
   ]
  },
  {
   "cell_type": "markdown",
   "id": "69b54e95f58ae76c",
   "metadata": {},
   "source": [
    "We see now that most of the useful obtained values are in our dataframe.   \n",
    "we therefore stop the incremental dataframe update here.   \n",
    "We find now all actors with existing mapping:"
   ]
  },
  {
   "cell_type": "code",
   "execution_count": null,
   "id": "ab39e841648033ad",
   "metadata": {
    "ExecuteTime": {
     "end_time": "2023-11-17T19:29:33.285473200Z",
     "start_time": "2023-11-17T19:29:32.511576100Z"
    }
   },
   "outputs": [],
   "source": [
    "# All actors with existing mapping\n",
    "useful_eth_tags = ethnicity_map[~ethnicity_map['category'].isna()]\n",
    "useful_eth_tags\n",
    "\n",
    "actors_with_eth_tags = characters[['name','freebase_actor_id','wikipedia_movie_id','ethnicity_id']].drop_duplicates()\n",
    "actors_with_eth_tags = actors_with_eth_tags[~actors_with_eth_tags['name'].isna()].drop(columns=['name'])\n",
    "\n",
    "actors_with_eth_tags = actors_with_eth_tags[~actors_with_eth_tags['ethnicity_id'].isna()]\n",
    "actors_with_eth_categories = actors_with_eth_tags[actors_with_eth_tags['ethnicity_id'].isin(useful_eth_tags.index)]\n",
    "actors_with_eth_categories"
   ]
  },
  {
   "cell_type": "markdown",
   "id": "7c545e8d076f0d25",
   "metadata": {},
   "source": [
    "We now recompute the last cell to check if any drastic changes in the data occured "
   ]
  },
  {
   "cell_type": "code",
   "execution_count": null,
   "id": "f339afdbc31a50d9",
   "metadata": {
    "ExecuteTime": {
     "end_time": "2023-11-17T19:29:33.377636600Z",
     "start_time": "2023-11-17T19:29:32.762310Z"
    }
   },
   "outputs": [],
   "source": [
    "eth_in_movie_eth = actors_with_eth_categories.drop(columns=['freebase_actor_id'])\n",
    "\n",
    "eth_in_movie_eth = eth_in_movie_eth[~eth_in_movie_eth['ethnicity_id'].isna()]\n",
    "count_by_movie_id = eth_in_movie_eth.groupby('wikipedia_movie_id').count()\n",
    "\n",
    "#Film with infos on 3 ethnicities\n",
    "filtered_data = eth_in_movie_eth[eth_in_movie_eth['wikipedia_movie_id'].isin(count_by_movie_id[count_by_movie_id >= thresh].dropna().index)]\n",
    "\n",
    "#Films with possible duplicates of these 3 ethnicities ie the movies for which we have sufficient data to determine whether they are inclusive or not.\n",
    "filtered_data.groupby('wikipedia_movie_id').count().hist(bins=20, range = [0,thresh+3])\n",
    "\n",
    "#Films with at least distinct 3 ethnicities among these movies for which we have sufficient data\n",
    "filtered_data.drop_duplicates().groupby('wikipedia_movie_id').count().hist(bins=20, range = [0,thresh+3])\n",
    "\n"
   ]
  },
  {
   "cell_type": "markdown",
   "id": "753a74fd7609aeec",
   "metadata": {},
   "source": [
    "We saw that no drastic change occured except for some loss of movies."
   ]
  },
  {
   "cell_type": "markdown",
   "id": "d6e091409c44f14",
   "metadata": {},
   "source": [
    "Now let's start our little analysis by first redefining the choosen threshold for separating non inclusive and inclusive films :"
   ]
  },
  {
   "cell_type": "code",
   "execution_count": null,
   "id": "dfe6ca2ee6cb3c5d",
   "metadata": {
    "ExecuteTime": {
     "end_time": "2023-11-17T19:29:33.456667400Z",
     "start_time": "2023-11-17T19:29:33.057049600Z"
    }
   },
   "outputs": [],
   "source": [
    "threshold = 3"
   ]
  },
  {
   "cell_type": "code",
   "execution_count": null,
   "id": "bd2986a074cf02bd",
   "metadata": {
    "ExecuteTime": {
     "end_time": "2023-11-17T19:29:33.488240Z",
     "start_time": "2023-11-17T19:29:33.071187Z"
    }
   },
   "outputs": [],
   "source": [
    "film_ethnicity_difference_repartition = filtered_data.drop_duplicates().groupby('wikipedia_movie_id').count()\n",
    "low_inclusivity_films_ids = film_ethnicity_difference_repartition[film_ethnicity_difference_repartition < threshold].dropna().index\n",
    "high_inclusivity_films_ids = film_ethnicity_difference_repartition[film_ethnicity_difference_repartition >= threshold].dropna().index"
   ]
  },
  {
   "cell_type": "code",
   "execution_count": null,
   "id": "7e4abcb6e1046992",
   "metadata": {
    "ExecuteTime": {
     "end_time": "2023-11-17T19:29:33.496240100Z",
     "start_time": "2023-11-17T19:29:33.103284500Z"
    }
   },
   "outputs": [],
   "source": [
    "movies_inclusivity = movies.copy(deep=True)"
   ]
  },
  {
   "cell_type": "code",
   "execution_count": null,
   "id": "2b717c36b01222d0",
   "metadata": {
    "ExecuteTime": {
     "end_time": "2023-11-17T19:29:33.497230200Z",
     "start_time": "2023-11-17T19:29:33.117284500Z"
    }
   },
   "outputs": [],
   "source": [
    "low_inclusivity_movies = movies_inclusivity[movies_inclusivity['wikipedia_movie_id'].isin(low_inclusivity_films_ids)]\n",
    "high_inclusivity_movies = movies_inclusivity[movies_inclusivity['wikipedia_movie_id'].isin(high_inclusivity_films_ids)]\n",
    "display(low_inclusivity_movies)\n",
    "display(high_inclusivity_movies)"
   ]
  },
  {
   "cell_type": "code",
   "execution_count": null,
   "id": "bf53b18b39ca666c",
   "metadata": {
    "ExecuteTime": {
     "end_time": "2023-11-17T19:29:33.497230200Z",
     "start_time": "2023-11-17T19:29:33.164316100Z"
    }
   },
   "outputs": [],
   "source": [
    "inclusive_good_movies = df_good_movies[df_good_movies['wikipedia_movie_id'].isin(high_inclusivity_films_ids)].copy(deep=True)\n",
    "inclusive_bad_movies = df_bad_movies[df_bad_movies['wikipedia_movie_id'].isin(high_inclusivity_films_ids)].copy(deep=True)\n",
    "exclusive_good_movies = df_good_movies[df_good_movies['wikipedia_movie_id'].isin(low_inclusivity_films_ids)].copy(deep=True)\n",
    "exclusive_bad_movies = df_bad_movies[df_bad_movies['wikipedia_movie_id'].isin(low_inclusivity_films_ids)].copy(deep=True)\n",
    "\n",
    "inc_good_len = len(inclusive_good_movies)\n",
    "inc_bad_len = len(inclusive_bad_movies)\n",
    "ex_good_len = len(exclusive_good_movies)\n",
    "ex_bad_len = len(exclusive_bad_movies)\n"
   ]
  },
  {
   "cell_type": "code",
   "execution_count": null,
   "id": "30db493d4288d3f5",
   "metadata": {
    "ExecuteTime": {
     "end_time": "2023-11-17T19:29:33.497230200Z",
     "start_time": "2023-11-17T19:29:33.178888100Z"
    }
   },
   "outputs": [],
   "source": [
    "print(f\"Number of good inclusive movies {inc_good_len}\")\n",
    "print(f\"Number of good exclusive movies {ex_good_len} \")\n",
    "print()\n",
    "print(f\"Number of bad inclusive movies {inc_bad_len}\")\n",
    "print(f\"Number of bad exclusive movies {ex_bad_len}\")"
   ]
  },
  {
   "cell_type": "markdown",
   "id": "265fd1a3742d659b",
   "metadata": {},
   "source": [
    "With a naive and somewhat incorrect analysis, we see that inclusive movies tend to be worse than their counter parts, but somehow more rewarding \n",
    "when successful. \n",
    "A deeper probabilistic analysis is therefore needed here to know if there is a significant difference between inclusive and exclusive movies success "
   ]
  },
  {
   "cell_type": "markdown",
   "id": "6f9803fe729256ba",
   "metadata": {},
   "source": [
    "As a first step in this direction, lets compute the proportion of inclusive and exclusive movies that are good."
   ]
  },
  {
   "cell_type": "code",
   "execution_count": null,
   "id": "49e4d2ecbda070d9",
   "metadata": {
    "ExecuteTime": {
     "end_time": "2023-11-17T19:29:33.497230200Z",
     "start_time": "2023-11-17T19:29:33.209924100Z"
    }
   },
   "outputs": [],
   "source": [
    "print(f\"Proportion of inclusive movies that are good movies {inc_good_len / (inc_good_len + inc_bad_len)}\")\n",
    "print(f\"Proportion of exclusive movies that are good movies {ex_good_len / (ex_good_len + ex_bad_len)}\")"
   ]
  },
  {
   "cell_type": "code",
   "execution_count": null,
   "id": "416c2ae98f76bc7c",
   "metadata": {
    "ExecuteTime": {
     "end_time": "2023-11-17T19:29:33.500241200Z",
     "start_time": "2023-11-17T19:29:33.228088Z"
    }
   },
   "outputs": [],
   "source": [
    "exclusive_mean = low_inclusivity_movies[\"movie_score\"].mean()\n",
    "inclusive_mean = high_inclusivity_movies[\"movie_score\"].mean()\n",
    "\n",
    "ex_std = low_inclusivity_movies[\"movie_score\"].std()\n",
    "in_std = high_inclusivity_movies[\"movie_score\"].std()\n",
    "\n",
    "e_b = exclusive_mean - 1.96 * ex_std / np.sqrt(low_inclusivity_movies['movie_score'].shape[0])\n",
    "e_u = exclusive_mean + 1.96 * ex_std / np.sqrt(low_inclusivity_movies['movie_score'].shape[0])\n",
    "\n",
    "i_b = inclusive_mean - 1.96 * in_std / np.sqrt(high_inclusivity_movies['movie_score'].shape[0])\n",
    "i_u = inclusive_mean + 1.96 * in_std / np.sqrt(high_inclusivity_movies['movie_score'].shape[0])\n",
    "\n",
    "print(f\"Exclusive movies' mean movie score 95% confidence interval: [{e_b:.4f}, {e_u:.4f}]\")\n",
    "print(f\"Inclusive movies' mean movie score 95% confidence interval: [{i_b:.4f}, {i_u:.4f}]\")"
   ]
  },
  {
   "cell_type": "code",
   "execution_count": null,
   "id": "3cf9bf86dc1f90fb",
   "metadata": {
    "ExecuteTime": {
     "end_time": "2023-11-17T19:29:34.072440500Z",
     "start_time": "2023-11-17T19:29:33.243394200Z"
    }
   },
   "outputs": [],
   "source": [
    "#confid = df[~df[\"salary\"].isna()][[\"salary\", \"throws\"]]\n",
    "inc = pd.DataFrame()\n",
    "exl = pd.DataFrame()\n",
    "\n",
    "inc['movie_score'] = high_inclusivity_movies[\"movie_score\"]\n",
    "exl['movie_score'] = low_inclusivity_movies[\"movie_score\"]\n",
    "\n",
    "inc['inclusivity'] = \"Highly Inclusive\"\n",
    "exl['inclusivity'] = \"Lowly Inclusive\"\n",
    "\n",
    "confid = pd.concat([inc, exl])\n",
    "#display(confid)\n",
    "sns.pointplot(x=\"inclusivity\",\n",
    "              y=\"movie_score\",\n",
    "              data=confid,\n",
    "              errorbar=('ci', 95),\n",
    "              n_boot=10000,\n",
    "              seed=1,\n",
    "              )\n",
    "plt.title('Point plot showing confidence intervals of movie scores in function of inclusivity of the film')\n",
    "plt.grid(False)\n",
    "plt.show()\n"
   ]
  },
  {
   "cell_type": "markdown",
   "id": "6b86f064-d886-4927-a3b8-daee3146beae",
   "metadata": {},
   "source": [
    "This simplistic analysis therefore shows that inclusive films somewhat performs better than non-inclusive one.\n",
    "However some issues as data imbalance must be addressed further on."
   ]
  },
  {
   "cell_type": "markdown",
   "id": "af1ae5b07e7e6370",
   "metadata": {
    "collapsed": false,
    "jupyter": {
     "outputs_hidden": false
    }
   },
   "source": [
    "We want to add the binary inclusivity feature to our movies dataframe."
   ]
  },
  {
   "cell_type": "code",
   "execution_count": null,
   "id": "2c64dc20d38e0ccd",
   "metadata": {
    "ExecuteTime": {
     "end_time": "2023-11-17T19:29:34.073440Z",
     "start_time": "2023-11-17T19:29:33.724851900Z"
    },
    "collapsed": false,
    "jupyter": {
     "outputs_hidden": false
    }
   },
   "outputs": [],
   "source": [
    "movies_with_inclusivity = movies.copy(deep=True)\n",
    "\n",
    "movies_with_inclusivity[\"inclusivity\"] = np.nan\n",
    "movies_with_inclusivity.loc[movies_with_inclusivity[\"wikipedia_movie_id\"].isin(low_inclusivity_films_ids), \"inclusivity\"] = 0\n",
    "movies_with_inclusivity.loc[movies_with_inclusivity[\"wikipedia_movie_id\"].isin(high_inclusivity_films_ids), \"inclusivity\"] = 1"
   ]
  },
  {
   "cell_type": "code",
   "execution_count": null,
   "id": "610081e88fa86fa",
   "metadata": {
    "ExecuteTime": {
     "end_time": "2023-11-17T19:29:34.073440Z",
     "start_time": "2023-11-17T19:29:33.740846100Z"
    },
    "collapsed": false,
    "jupyter": {
     "outputs_hidden": false
    }
   },
   "outputs": [],
   "source": [
    "movies_with_inclusivity[\"inclusivity\"].isna().value_counts()"
   ]
  },
  {
   "cell_type": "code",
   "execution_count": null,
   "id": "26f67e7f37aca84e",
   "metadata": {
    "ExecuteTime": {
     "end_time": "2023-11-17T19:29:34.073440Z",
     "start_time": "2023-11-17T19:29:33.755908500Z"
    },
    "collapsed": false,
    "jupyter": {
     "outputs_hidden": false
    }
   },
   "outputs": [],
   "source": [
    "movies_with_inclusivity[\"inclusivity\"].value_counts()"
   ]
  },
  {
   "cell_type": "markdown",
   "id": "690f62cff1f8c317",
   "metadata": {
    "collapsed": false,
    "jupyter": {
     "outputs_hidden": false
    }
   },
   "source": [
    "## Sequels"
   ]
  },
  {
   "cell_type": "markdown",
   "id": "3b86af90b2de4844",
   "metadata": {
    "collapsed": false,
    "jupyter": {
     "outputs_hidden": false
    }
   },
   "source": [
    "### Firstly We fetch Sequel Data"
   ]
  },
  {
   "cell_type": "code",
   "execution_count": null,
   "id": "bb7776dad9afb708",
   "metadata": {
    "ExecuteTime": {
     "end_time": "2023-11-17T19:29:34.475978700Z",
     "start_time": "2023-11-17T19:29:33.768892600Z"
    },
    "collapsed": false,
    "jupyter": {
     "outputs_hidden": false
    }
   },
   "outputs": [],
   "source": [
    "# data comes from https://data.world/priyankad0993/sequels\n",
    "df_sequels = pd.read_excel(ADDITIONAL_FOLDER + 'sequels.xlsx')[[\"Title\", \"Release Date\", \"Year\", \"IMDb Rating\", \"Runtime (mins)\", \"Genres\", \"Num Votes\", \"Directors\", \"Movie Series\", \"Order\"]]#,\n",
    "              #dtype={'Name': str, 'Value': float}) \n",
    "\n",
    "df_sequels[\"Genres\"] = df_sequels[\"Genres\"].apply(lambda x: x.split(\", \"))"
   ]
  },
  {
   "cell_type": "code",
   "execution_count": null,
   "id": "30e7d01713a1bc7a",
   "metadata": {
    "ExecuteTime": {
     "end_time": "2023-11-17T19:29:34.475978700Z",
     "start_time": "2023-11-17T19:29:34.208220Z"
    },
    "collapsed": false,
    "jupyter": {
     "outputs_hidden": false
    }
   },
   "outputs": [],
   "source": [
    "df_data = movies.copy(deep=True)\n",
    "df_data.rename(columns={'name': 'movie_title', 'year': 'Year'}, inplace=True)\n",
    "df_data.head()"
   ]
  },
  {
   "cell_type": "code",
   "execution_count": null,
   "id": "629589dfba664ed4",
   "metadata": {
    "ExecuteTime": {
     "end_time": "2023-11-17T19:29:34.475978700Z",
     "start_time": "2023-11-17T19:29:34.223255Z"
    },
    "collapsed": false,
    "jupyter": {
     "outputs_hidden": false
    }
   },
   "outputs": [],
   "source": [
    "# we need the titles in lower case\n",
    "df_sequels['Title'] = df_sequels['Title'].str.lower().str.replace('[^\\w\\s]','')\n",
    "df_data['movie_title'] = df_data['movie_title'].str.lower().str.replace('[^\\w\\s]','')"
   ]
  },
  {
   "cell_type": "markdown",
   "id": "fd512089cf4b22b8",
   "metadata": {
    "collapsed": false,
    "jupyter": {
     "outputs_hidden": false
    }
   },
   "source": [
    "### we only want to keep those for which we have data"
   ]
  },
  {
   "cell_type": "code",
   "execution_count": null,
   "id": "fe9b5e09acc1e2a1",
   "metadata": {
    "ExecuteTime": {
     "end_time": "2023-11-17T19:29:34.475978700Z",
     "start_time": "2023-11-17T19:29:34.238255100Z"
    },
    "collapsed": false,
    "jupyter": {
     "outputs_hidden": false
    }
   },
   "outputs": [],
   "source": [
    "df_movie_series = df_sequels.merge(df_data, left_on=['Title', \"Year\"], right_on=['movie_title', \"Year\"], how='inner')"
   ]
  },
  {
   "cell_type": "markdown",
   "id": "66a0a8e885623757",
   "metadata": {
    "collapsed": false,
    "jupyter": {
     "outputs_hidden": false
    }
   },
   "source": [
    "### Now that we have the sequels and prequels we need to preprocess the data"
   ]
  },
  {
   "cell_type": "code",
   "execution_count": null,
   "id": "cd051824f6395c68",
   "metadata": {
    "ExecuteTime": {
     "end_time": "2023-11-17T19:29:34.476969900Z",
     "start_time": "2023-11-17T19:29:34.254255700Z"
    },
    "collapsed": false,
    "jupyter": {
     "outputs_hidden": false
    }
   },
   "outputs": [],
   "source": [
    "df_movie_series.shape[0]"
   ]
  },
  {
   "cell_type": "code",
   "execution_count": null,
   "id": "429fd37a2d9fab75",
   "metadata": {
    "ExecuteTime": {
     "end_time": "2023-11-17T19:29:34.476969900Z",
     "start_time": "2023-11-17T19:29:34.269291300Z"
    },
    "collapsed": false,
    "jupyter": {
     "outputs_hidden": false
    }
   },
   "outputs": [],
   "source": [
    "df_movie_series.head()"
   ]
  },
  {
   "cell_type": "code",
   "execution_count": null,
   "id": "3933ee5ca7a95447",
   "metadata": {
    "ExecuteTime": {
     "end_time": "2023-11-17T19:29:34.476969900Z",
     "start_time": "2023-11-17T19:29:34.285856300Z"
    },
    "collapsed": false,
    "jupyter": {
     "outputs_hidden": false
    }
   },
   "outputs": [],
   "source": [
    "# we \n",
    "df_movie_series[~df_movie_series[\"adjusted_revenue\"].isna()].shape[0]"
   ]
  },
  {
   "cell_type": "markdown",
   "id": "5880e922d8e72e2f",
   "metadata": {
    "collapsed": false,
    "jupyter": {
     "outputs_hidden": false
    }
   },
   "source": [
    "### We remove movies where we don't have data for at least two of the series\n",
    "\n",
    "Sometimes the sequel came after our dataset cutoff (November 2, 2012) so we don't have data for these"
   ]
  },
  {
   "cell_type": "code",
   "execution_count": null,
   "id": "aef35a0c401c8ec1",
   "metadata": {
    "ExecuteTime": {
     "end_time": "2023-11-17T19:29:34.476969900Z",
     "start_time": "2023-11-17T19:29:34.302856500Z"
    },
    "collapsed": false,
    "jupyter": {
     "outputs_hidden": false
    }
   },
   "outputs": [],
   "source": [
    "# We dont keep movies with only one movie in that Movie Series\n",
    "df_movie_series = df_movie_series.groupby('Movie Series').filter(lambda x: len(x) >= 2)\n",
    "df_movie_series.shape[0]"
   ]
  },
  {
   "cell_type": "code",
   "execution_count": null,
   "id": "af5f1a2269ade583",
   "metadata": {
    "ExecuteTime": {
     "end_time": "2023-11-17T19:29:34.476969900Z",
     "start_time": "2023-11-17T19:29:34.316856400Z"
    },
    "collapsed": false,
    "jupyter": {
     "outputs_hidden": false
    }
   },
   "outputs": [],
   "source": [
    "# Grouping by \"Movie Series\"\n",
    "grouped = df_movie_series.groupby('Movie Series')\n",
    "\n",
    "# Creating a DataFrame for prequels (movies with the minimum Order in each group)\n",
    "prequels_df = df_movie_series[df_movie_series['Order'] == grouped['Order'].transform('min')]\n",
    "\n",
    "# Creating a DataFrame for sequels (movies where Order is not the minimum in each group)\n",
    "sequels_df = df_movie_series[df_movie_series['Order'] != grouped['Order'].transform('min')]"
   ]
  },
  {
   "cell_type": "code",
   "execution_count": null,
   "id": "3a4138233a26b32",
   "metadata": {
    "ExecuteTime": {
     "end_time": "2023-11-17T19:29:34.826305900Z",
     "start_time": "2023-11-17T19:29:34.334856100Z"
    },
    "collapsed": false,
    "jupyter": {
     "outputs_hidden": false
    }
   },
   "outputs": [],
   "source": [
    "fig, axes = plt.subplots(1, 2, figsize=(10, 5))  # Creating a figure with two subplots\n",
    "# Combine the data for both prequels and sequels to find the common y-axis limit\n",
    "combined_data = pd.concat([prequels_df[\"movie_score\"], sequels_df[\"movie_score\"]])\n",
    "y_max = combined_data.max()  # Find the maximum value to set the y-axis limit\n",
    "\n",
    "\n",
    "# Plotting boxplot for prequels\n",
    "axes[0].boxplot(prequels_df[\"movie_score\"])\n",
    "axes[0].set_title('Prequels Boxplot')\n",
    "axes[0].set_ylabel('Movie Score (function of revenue and rating)')\n",
    "axes[0].set_ylim(-2, y_max + 2) \n",
    "\n",
    "# Plotting boxplot for sequels\n",
    "axes[1].boxplot(sequels_df[\"movie_score\"])\n",
    "axes[1].set_title('Sequels Boxplot')\n",
    "axes[1].set_ylabel('Movie Score (function of revenue and rating)')\n",
    "axes[1].set_ylim(-2, y_max + 2) \n",
    "\n",
    "plt.tight_layout()  # Adjust layout"
   ]
  },
  {
   "cell_type": "code",
   "execution_count": null,
   "id": "3fa9ff66b43d884b",
   "metadata": {
    "ExecuteTime": {
     "end_time": "2023-11-17T19:29:34.826305900Z",
     "start_time": "2023-11-17T19:29:34.505015800Z"
    },
    "collapsed": false,
    "jupyter": {
     "outputs_hidden": false
    }
   },
   "outputs": [],
   "source": [
    "from scipy.stats import ttest_ind, shapiro, levene\n",
    "\n",
    "prequel_scores = prequels_df[\"movie_score\"]\n",
    "sequel_scores = sequels_df[\"movie_score\"]\n",
    "\n",
    "\n",
    "# Check assumptions (normality and variance equality)\n",
    "# Perform Shapiro-Wilk test for normality\n",
    "shapiro_sequels = shapiro(prequel_scores)\n",
    "shapiro_prequels = shapiro(sequel_scores)\n",
    "\n",
    "print(shapiro_sequels)\n",
    "print(shapiro_prequels)\n",
    "\n",
    "# Perform Levene's test for equality of variances\n",
    "levene_test = levene(sequel_scores, prequel_scores)\n",
    "print(levene_test)\n",
    "\n",
    "# Perform t-test\n",
    "t_stat, p_value = ttest_ind(sequel_scores, prequel_scores, equal_var=True)  # Assuming equal variances\n",
    "\n",
    "print(t_stat, \" \", p_value)\n",
    "\n",
    "# Interpret the results\n",
    "if p_value < 0.05:\n",
    "    print(\"Reject Null Hypothesis: Significant difference between sequel and prequel scores.\")\n",
    "else:\n",
    "    print(\"Failed to reject Null Hypothesis: No significant difference between sequel and prequel scores.\")\n",
    "\n",
    "# the Shapiro-Wilk tests indicate non-normality, the Levene test suggests unequal variances, \n",
    "# and the t-test suggests a significant difference in the means of the two groups. \n",
    "# These results indicate that assumptions for a t-test might not hold, and alternative approaches \n",
    "# might be necessary to compare the means of the two groups."
   ]
  },
  {
   "cell_type": "markdown",
   "id": "da818400cb9c9320",
   "metadata": {
    "collapsed": false,
    "jupyter": {
     "outputs_hidden": false
    }
   },
   "source": [
    "### We look at the differences in scores between the prequel and corresponding sequels to see if in general it increases or decreases"
   ]
  },
  {
   "cell_type": "code",
   "execution_count": null,
   "id": "7d96d677c4917156",
   "metadata": {
    "ExecuteTime": {
     "end_time": "2023-11-17T19:29:34.827302300Z",
     "start_time": "2023-11-17T19:29:34.524129500Z"
    },
    "collapsed": false,
    "jupyter": {
     "outputs_hidden": false
    }
   },
   "outputs": [],
   "source": [
    "# Create a dictionary mapping prequel scores to their series\n",
    "prequel_scores_dict = prequels_df.set_index('Movie Series')['movie_score'].to_dict()\n",
    "\n",
    "# Function to calculate the score difference based on the series\n",
    "def score_difference(row):\n",
    "    prequel_score = prequel_scores_dict.get(row['Movie Series'], None)\n",
    "    if prequel_score is not None:\n",
    "        return row['movie_score'] - prequel_score\n",
    "    else:\n",
    "        return None\n",
    "\n",
    "# Apply the function to create a new column 'Score Difference'\n",
    "sequels_df['Score Difference'] = sequels_df.apply(score_difference, axis=1)"
   ]
  },
  {
   "cell_type": "code",
   "execution_count": null,
   "id": "425f3a7e75b1a458",
   "metadata": {
    "ExecuteTime": {
     "end_time": "2023-11-17T19:29:34.827302300Z",
     "start_time": "2023-11-17T19:29:34.536119100Z"
    },
    "collapsed": false,
    "jupyter": {
     "outputs_hidden": false
    }
   },
   "outputs": [],
   "source": [
    "sequels_df[\"Score Difference\"].hist()"
   ]
  },
  {
   "cell_type": "markdown",
   "id": "1b196304dc545ab8",
   "metadata": {
    "collapsed": false,
    "jupyter": {
     "outputs_hidden": false
    }
   },
   "source": [
    "#### Clearly in general, sequels are worst, but we'd like to see if the movies that did improve have something in common.\n",
    "#### In other words we are searching for a positive change from prequel to sequels"
   ]
  },
  {
   "cell_type": "code",
   "execution_count": null,
   "id": "e55b88952b3690e9",
   "metadata": {
    "ExecuteTime": {
     "end_time": "2023-11-17T19:29:34.874546600Z",
     "start_time": "2023-11-17T19:29:34.660746400Z"
    },
    "collapsed": false,
    "jupyter": {
     "outputs_hidden": false
    }
   },
   "outputs": [],
   "source": [
    "sequels_that_improved = sequels_df[sequels_df[\"Score Difference\"] >= 0][[\"Title\", \"Release Date\",\"IMDb Rating\", \"Genres\", \"adjusted_revenue\", \"movie_score\", \"Score Difference\", \"Good Movie\"]]\n",
    "sequels_that_worstened = sequels_df[sequels_df[\"Score Difference\"] < 0][[\"Title\", \"Release Date\",\"IMDb Rating\", \"Genres\", \"adjusted_revenue\", \"movie_score\", \"Score Difference\", \"Good Movie\"]]\n",
    "sequels_that_improved.head()"
   ]
  },
  {
   "cell_type": "markdown",
   "id": "f36a0dc99310c6eb",
   "metadata": {
    "collapsed": false,
    "jupyter": {
     "outputs_hidden": false
    }
   },
   "source": [
    "We can see that most of these movies are Categorized as Good Movies. Lets dig deeper"
   ]
  },
  {
   "cell_type": "code",
   "execution_count": null,
   "id": "99e26bb66fcac5d4",
   "metadata": {
    "ExecuteTime": {
     "end_time": "2023-11-17T19:29:34.956676700Z",
     "start_time": "2023-11-17T19:29:34.675644900Z"
    },
    "collapsed": false,
    "jupyter": {
     "outputs_hidden": false
    }
   },
   "outputs": [],
   "source": [
    "# Creating pie charts for 'Good Movie' column in prequels and sequels DataFrames\n",
    "fig, axs = plt.subplots(1, 2, figsize=(12, 6))\n",
    "\n",
    "# Choose contrasting shades within the 'vlag' palette\n",
    "colors = [sns.color_palette('vlag')[0], sns.color_palette('vlag')[-1]]\n",
    "\n",
    "keys = [\"Bad Movies\", \"Good Movies\"]\n",
    "prequel_counts = prequels_df[\"Good Movie\"].value_counts()\n",
    "sequel_counts = sequels_df[\"Good Movie\"].value_counts()\n",
    "\n",
    "# declaring exploding pie \n",
    "explode = [0.1, 0] \n",
    "# define Seaborn color palette to use\n",
    "  \n",
    "# plotting prequel Good Movie share\n",
    "axs[0].pie([prequel_counts[0], prequel_counts[1]], labels=keys, colors=colors, \n",
    "        explode=explode, autopct='%.0f%%') \n",
    "axs[0].set_title(\"Prequel share of Good and Bad Movies\")\n",
    "\n",
    "# Sequels\n",
    "axs[1].pie([sequel_counts[0], sequel_counts[1]], labels=keys, colors=colors, \n",
    "        explode=explode, autopct='%.0f%%') \n",
    "axs[1].set_title(\"Sequel share of Good and Bad Movies\")\n",
    "plt.tight_layout()"
   ]
  },
  {
   "cell_type": "markdown",
   "id": "42381845b86e01e6",
   "metadata": {
    "collapsed": false,
    "jupyter": {
     "outputs_hidden": false
    }
   },
   "source": [
    "### Analysis\n",
    "We can see that more sequels are bad movies than good movies, eventhough the opposite is true for the prequels. In fact we saw that most sequels worsten in Movie Score. Yet there is still a non negligeable amount of good movies.\n",
    "\n",
    "Maybe sequels are a safe way of surfing the popularity of a previous movie; however, they don't usually result in increased popularity.\n",
    "\n",
    "In addition, it makes sense that a fewer prequels are Bad Movies, because it is very risky to tackle an unsuccessful movie"
   ]
  },
  {
   "cell_type": "markdown",
   "id": "3bee71dafee18442",
   "metadata": {
    "collapsed": false,
    "jupyter": {
     "outputs_hidden": false
    }
   },
   "source": [
    "### Can we find a trend in the sequels that improved?"
   ]
  },
  {
   "cell_type": "markdown",
   "id": "a6735ce636a9ff25",
   "metadata": {
    "collapsed": false,
    "jupyter": {
     "outputs_hidden": false
    }
   },
   "source": [
    "#### Lets see if we can find one among the Genres"
   ]
  },
  {
   "cell_type": "code",
   "execution_count": null,
   "id": "b546f390f2b07aef",
   "metadata": {
    "ExecuteTime": {
     "end_time": "2023-11-17T19:29:34.956676700Z",
     "start_time": "2023-11-17T19:29:34.799155300Z"
    },
    "collapsed": false,
    "jupyter": {
     "outputs_hidden": false
    }
   },
   "outputs": [],
   "source": [
    "# Explode the lists in the 'genres' column\n",
    "exploded_genres = sequels_that_improved.explode('Genres')\n",
    "\n",
    "# Get the count of each genre\n",
    "genre_counts = exploded_genres['Genres'].value_counts()\n",
    "genre_counts"
   ]
  },
  {
   "cell_type": "code",
   "execution_count": null,
   "id": "82c07df75d1d38f0",
   "metadata": {
    "ExecuteTime": {
     "end_time": "2023-11-17T19:29:35.102885700Z",
     "start_time": "2023-11-17T19:29:34.814668100Z"
    },
    "collapsed": false,
    "jupyter": {
     "outputs_hidden": false
    }
   },
   "outputs": [],
   "source": [
    "# Explode the lists in the 'genres' column\n",
    "exploded_genres = sequels_that_worstened.explode('Genres')\n",
    "\n",
    "# Get the count of each genre\n",
    "genre_counts = exploded_genres['Genres'].value_counts()\n",
    "genre_counts"
   ]
  },
  {
   "cell_type": "markdown",
   "id": "82d54d37d11578af",
   "metadata": {
    "collapsed": false,
    "jupyter": {
     "outputs_hidden": false
    }
   },
   "source": [
    "Can't see any significant differences (note that there are more sequels that worstened which explains the differences in counts) and the data is too sparse to try and find slight distinctions between the two sets.\n",
    "\n",
    "Deeper analysis will be performed in P3"
   ]
  },
  {
   "cell_type": "markdown",
   "id": "8b4193ab36694047",
   "metadata": {
    "collapsed": false,
    "jupyter": {
     "outputs_hidden": false
    }
   },
   "source": [
    "## Actors' popularity"
   ]
  },
  {
   "cell_type": "markdown",
   "id": "cdf852964d79446c",
   "metadata": {
    "collapsed": false,
    "jupyter": {
     "outputs_hidden": false
    }
   },
   "source": [
    "First we need to read the actors dataset."
   ]
  },
  {
   "cell_type": "code",
   "execution_count": null,
   "id": "33588a6e33fea532",
   "metadata": {
    "ExecuteTime": {
     "end_time": "2023-11-17T19:29:35.644790600Z",
     "start_time": "2023-11-17T19:29:34.831704700Z"
    },
    "collapsed": false,
    "jupyter": {
     "outputs_hidden": false
    }
   },
   "outputs": [],
   "source": [
    "characters_columns = ['wikipedia_movie_id', 'freebase_movie_id', 'release_date', 'character_name', 'actor_dob',\n",
    "                      'gender',\n",
    "                      'height', 'ethnicity', 'actor_name', 'actor_age_at_release', 'freebase_character_map', '0', '1']\n",
    "\n",
    "characters = pd.read_csv(DATA_FOLDER + 'character.metadata.tsv', sep='\\t', header=None, names=characters_columns,\n",
    "                         usecols=['wikipedia_movie_id', 'actor_dob', 'actor_name', 'character_name', 'release_date'])\n",
    "characters.head()"
   ]
  },
  {
   "cell_type": "code",
   "execution_count": null,
   "id": "6782faa44307cb24",
   "metadata": {
    "ExecuteTime": {
     "end_time": "2023-11-17T19:29:35.645769800Z",
     "start_time": "2023-11-17T19:29:35.250037700Z"
    },
    "collapsed": false,
    "jupyter": {
     "outputs_hidden": false
    }
   },
   "outputs": [],
   "source": [
    "movies_actors = movies.copy(deep=True)\n",
    "movies_actors.head()"
   ]
  },
  {
   "cell_type": "markdown",
   "id": "7244191192934912",
   "metadata": {
    "collapsed": false,
    "jupyter": {
     "outputs_hidden": false
    }
   },
   "source": [
    "We don't need all the columns of movies dataset for this analysis."
   ]
  },
  {
   "cell_type": "code",
   "execution_count": null,
   "id": "99606eeb95edb3d8",
   "metadata": {
    "ExecuteTime": {
     "end_time": "2023-11-17T19:29:35.645769800Z",
     "start_time": "2023-11-17T19:29:35.266575800Z"
    },
    "collapsed": false,
    "jupyter": {
     "outputs_hidden": false
    }
   },
   "outputs": [],
   "source": [
    "movies_actors = movies_actors[\n",
    "    ['wikipedia_movie_id', 'name', 'release_date', 'movie_score', 'adjusted_revenue', 'genres', 'year']]\n",
    "movies_actors.rename(columns={'genres': 'movie_genres', 'name': 'movie_title'}, inplace=True)\n",
    "movies_actors.head()"
   ]
  },
  {
   "cell_type": "markdown",
   "id": "5fbe4c87ea01be4b",
   "metadata": {
    "collapsed": false,
    "jupyter": {
     "outputs_hidden": false
    }
   },
   "source": [
    "Filtering the actors dataset to only contain actors of the movies left after preprocessing."
   ]
  },
  {
   "cell_type": "code",
   "execution_count": null,
   "id": "3b631f19b1fcf261",
   "metadata": {
    "ExecuteTime": {
     "end_time": "2023-11-17T19:29:35.645769800Z",
     "start_time": "2023-11-17T19:29:35.281394500Z"
    },
    "collapsed": false,
    "jupyter": {
     "outputs_hidden": false
    }
   },
   "outputs": [],
   "source": [
    "print('Number of actors before filtering: ', characters.shape[0])\n",
    "characters_relevant = characters[characters['wikipedia_movie_id'].isin(movies_actors['wikipedia_movie_id'])]\n",
    "characters_relevant = characters_relevant[~characters_relevant['actor_name'].isna()]\n",
    "print('Number of actors after filtering: ', characters_relevant.shape[0])"
   ]
  },
  {
   "cell_type": "markdown",
   "id": "e34012e9e9aa96a0",
   "metadata": {
    "collapsed": false,
    "jupyter": {
     "outputs_hidden": false
    }
   },
   "source": [
    "We want to define actor's popularity at the time of the movie release. For this reason we want to sum `movie_score` of movies released on previous years for which actor was part of the cast."
   ]
  },
  {
   "cell_type": "code",
   "execution_count": null,
   "id": "48719be0b07c1db1",
   "metadata": {
    "ExecuteTime": {
     "end_time": "2023-11-17T19:29:35.645769800Z",
     "start_time": "2023-11-17T19:29:35.312025800Z"
    },
    "collapsed": false,
    "jupyter": {
     "outputs_hidden": false
    }
   },
   "outputs": [],
   "source": [
    "def get_actors_popularity(movies_data, char_data, lookback_movies=-1):\n",
    "    \"\"\"\n",
    "    The function computes the popularity of the actors in the movies they have played in.\n",
    "    \n",
    "    movies_data: dataframe containing movies data\n",
    "    char_data: dataframe containing characters data\n",
    "    lookback_movies: number of movies to consider for the popularity of the actor\n",
    "    \n",
    "    returns: dataframe containing actors popularity\n",
    "    \"\"\"\n",
    "    popularity = []\n",
    "\n",
    "    movies_data.sort_values(by=['year'], inplace=True)\n",
    "\n",
    "    for i, movie in tqdm(movies_data.iterrows(), total=movies_data.shape[0]):\n",
    "        actors = char_data[char_data['wikipedia_movie_id'] == movie['wikipedia_movie_id']]\n",
    "        for j, actor in actors.iterrows():\n",
    "            actor_name = actor['actor_name']\n",
    "\n",
    "            relevant_movies = char_data[char_data['actor_name'] == actor_name]['wikipedia_movie_id']\n",
    "            actor_movies = movies_data[movies_data['wikipedia_movie_id'].isin(relevant_movies)]\n",
    "\n",
    "            if lookback_movies > 0:\n",
    "                actor_movies = actor_movies[actor_movies['year'] < movie['year']][-lookback_movies:]\n",
    "            else:\n",
    "                actor_movies = actor_movies[actor_movies['year'] < movie['year']]\n",
    "\n",
    "            popularity.append({'actor_name': actor_name, 'actor_popularity': actor_movies['movie_score'].sum(),\n",
    "                               'year': movie['year'], 'character_name': actor['character_name'],\n",
    "                               'movie_title': movie['movie_title'],\n",
    "                               'wikipedia_movie_id': movie['wikipedia_movie_id'],\n",
    "                               'movie_score': movie['movie_score']})\n",
    "\n",
    "    return pd.DataFrame(popularity)"
   ]
  },
  {
   "cell_type": "markdown",
   "id": "1b1624d98d2a59b5",
   "metadata": {
    "collapsed": false,
    "jupyter": {
     "outputs_hidden": false
    }
   },
   "source": [
    "#### Popularity of the actors in all the previous movies they have played in\n",
    "Here we are taking into account all the movies the actor has played in before the movie we are considering."
   ]
  },
  {
   "cell_type": "code",
   "execution_count": null,
   "id": "3a3eaa810e8ab516",
   "metadata": {
    "ExecuteTime": {
     "end_time": "2023-11-17T19:29:35.654785200Z",
     "start_time": "2023-11-17T19:29:35.327031200Z"
    },
    "collapsed": false,
    "jupyter": {
     "outputs_hidden": false
    }
   },
   "outputs": [],
   "source": [
    "try:\n",
    "    actors_popularity = pd.read_csv(ADDITIONAL_FOLDER + 'actors_popularity.csv')\n",
    "except:\n",
    "    actors_popularity = get_actors_popularity(movies_actors, characters_relevant)\n",
    "    actors_popularity.to_csv(ADDITIONAL_FOLDER + 'actors_popularity.csv', index=False)"
   ]
  },
  {
   "cell_type": "code",
   "execution_count": null,
   "id": "e8e036ea12d2945c",
   "metadata": {
    "ExecuteTime": {
     "end_time": "2023-11-17T19:29:35.682953Z",
     "start_time": "2023-11-17T19:29:35.504210Z"
    },
    "collapsed": false,
    "jupyter": {
     "outputs_hidden": false
    }
   },
   "outputs": [],
   "source": [
    "actors_popularity.sort_values(['actor_name', 'year'])"
   ]
  },
  {
   "cell_type": "code",
   "execution_count": null,
   "id": "695ed05abf46e126",
   "metadata": {
    "ExecuteTime": {
     "end_time": "2023-11-17T19:29:35.822656400Z",
     "start_time": "2023-11-17T19:29:35.599675200Z"
    },
    "collapsed": false,
    "jupyter": {
     "outputs_hidden": false
    }
   },
   "outputs": [],
   "source": [
    "grouped_popularity = actors_popularity.groupby(['movie_title', 'movie_score']).agg(\n",
    "    sum_pop=('actor_popularity', 'sum')\n",
    ").reset_index()\n",
    "grouped_popularity.head()"
   ]
  },
  {
   "cell_type": "code",
   "execution_count": null,
   "id": "aec74f74ef6a8622",
   "metadata": {
    "ExecuteTime": {
     "end_time": "2023-11-17T19:29:35.965014400Z",
     "start_time": "2023-11-17T19:29:35.639768600Z"
    },
    "collapsed": false,
    "jupyter": {
     "outputs_hidden": false
    }
   },
   "outputs": [],
   "source": [
    "stats.pearsonr(grouped_popularity['movie_score'], grouped_popularity['sum_pop'])"
   ]
  },
  {
   "cell_type": "markdown",
   "id": "c6e589d6e3efa579",
   "metadata": {
    "collapsed": false,
    "jupyter": {
     "outputs_hidden": false
    }
   },
   "source": [
    "The p_value is low enough, we can trust the value of Pearson's coefficient `r=0.19` which indicates a weak positive correlation between `sum_pop` of a movie and its `movie_score`"
   ]
  },
  {
   "cell_type": "markdown",
   "id": "c13d0c79cb11bf92",
   "metadata": {
    "collapsed": false,
    "jupyter": {
     "outputs_hidden": false
    }
   },
   "source": [
    "#### Popularity of the actors in the last 5 movies they have played in\n",
    "Here we are taking into account only the last 5 movies the actor has played in before the movie we are considering."
   ]
  },
  {
   "cell_type": "code",
   "execution_count": null,
   "id": "e3608c7c0d1ba39f",
   "metadata": {
    "ExecuteTime": {
     "end_time": "2023-11-17T19:29:36.253924200Z",
     "start_time": "2023-11-17T19:29:35.656772400Z"
    },
    "collapsed": false,
    "jupyter": {
     "outputs_hidden": false
    }
   },
   "outputs": [],
   "source": [
    "try:\n",
    "    actors_popularity = pd.read_csv(ADDITIONAL_FOLDER + 'actors_popularity_5.csv')\n",
    "except:\n",
    "    actors_popularity = get_actors_popularity(movies_actors, characters_relevant, 5)\n",
    "    actors_popularity.to_csv(ADDITIONAL_FOLDER + 'actors_popularity_5.csv', index=False)\n",
    "\n",
    "grouped_popularity = actors_popularity.groupby(['movie_title', 'movie_score']).agg(\n",
    "    sum_pop=('actor_popularity', 'sum')\n",
    ").reset_index()"
   ]
  },
  {
   "cell_type": "code",
   "execution_count": null,
   "id": "269c3cfa0637405a",
   "metadata": {
    "ExecuteTime": {
     "end_time": "2023-11-17T19:29:36.254924400Z",
     "start_time": "2023-11-17T19:29:35.858822400Z"
    },
    "collapsed": false,
    "jupyter": {
     "outputs_hidden": false
    }
   },
   "outputs": [],
   "source": [
    "stats.pearsonr(grouped_popularity['movie_score'], grouped_popularity['sum_pop'])"
   ]
  },
  {
   "cell_type": "markdown",
   "id": "78962a2b0aec6562",
   "metadata": {
    "collapsed": false,
    "jupyter": {
     "outputs_hidden": false
    }
   },
   "source": [
    "The p_value is low enough, we can trust the value of Pearson's coefficient `r=0.25` which indicates a weak positive correlation between `sum_pop` of a movie and its `movie_score`"
   ]
  },
  {
   "cell_type": "markdown",
   "id": "9aa5168985d52e28",
   "metadata": {
    "collapsed": false,
    "jupyter": {
     "outputs_hidden": false
    }
   },
   "source": [
    "#### Popularity of actors vs movie score for different genres"
   ]
  },
  {
   "cell_type": "markdown",
   "id": "bd47af90ff74a004",
   "metadata": {
    "collapsed": false,
    "jupyter": {
     "outputs_hidden": false
    }
   },
   "source": [
    "We want to see if the correlation between the popularity of actors and the movie score is different for different genres."
   ]
  },
  {
   "cell_type": "code",
   "execution_count": null,
   "id": "561877c52573cc25",
   "metadata": {
    "ExecuteTime": {
     "end_time": "2023-11-17T19:29:36.254924400Z",
     "start_time": "2023-11-17T19:29:35.874010700Z"
    },
    "collapsed": false,
    "jupyter": {
     "outputs_hidden": false
    }
   },
   "outputs": [],
   "source": [
    "popular_actors_by_genres = movies_actors.copy(deep=True)"
   ]
  },
  {
   "cell_type": "markdown",
   "id": "e43a341edc24359b",
   "metadata": {
    "collapsed": false,
    "jupyter": {
     "outputs_hidden": false
    }
   },
   "source": [
    "First we need to separate genres for each movie making them separate rows."
   ]
  },
  {
   "cell_type": "code",
   "execution_count": null,
   "id": "e657d9a3e445eeb6",
   "metadata": {
    "ExecuteTime": {
     "end_time": "2023-11-17T19:29:47.778718100Z",
     "start_time": "2023-11-17T19:29:35.906012400Z"
    },
    "collapsed": false,
    "jupyter": {
     "outputs_hidden": false
    }
   },
   "outputs": [],
   "source": [
    "movie_genres = pd.DataFrame(columns=[\"wikipedia_movie_id\", \"genre_id\"])\n",
    "genre_dictionary = {}\n",
    "for i in range(popular_actors_by_genres.shape[0]):\n",
    "    wiki_id = popular_actors_by_genres[\"wikipedia_movie_id\"].iloc[i]\n",
    "    dico = ast.literal_eval(popular_actors_by_genres[\"movie_genres\"][i])\n",
    "    data = [{'wikipedia_movie_id': wiki_id, 'genre_id': key} for key in dico.keys()]\n",
    "    dataframe = pd.DataFrame(data)\n",
    "    movie_genres = pd.concat([movie_genres, dataframe], axis=0)\n",
    "    genre_dictionary.update(dico)\n",
    "\n",
    "movie_genres.head()"
   ]
  },
  {
   "cell_type": "markdown",
   "id": "76703cdee6193e64",
   "metadata": {
    "collapsed": false,
    "jupyter": {
     "outputs_hidden": false
    }
   },
   "source": [
    "Here is the list of all the genres."
   ]
  },
  {
   "cell_type": "code",
   "execution_count": null,
   "id": "18321697223a77bc",
   "metadata": {
    "ExecuteTime": {
     "end_time": "2023-11-17T19:29:47.806317100Z",
     "start_time": "2023-11-17T19:29:47.773594300Z"
    },
    "collapsed": false,
    "jupyter": {
     "outputs_hidden": false
    }
   },
   "outputs": [],
   "source": [
    "genre_dictionary.values()"
   ]
  },
  {
   "cell_type": "markdown",
   "id": "d4a597d1d06db114",
   "metadata": {
    "collapsed": false,
    "jupyter": {
     "outputs_hidden": false
    }
   },
   "source": [
    "Let's plot the number of movies per genre."
   ]
  },
  {
   "cell_type": "code",
   "execution_count": null,
   "id": "3e87fa13464df8e8",
   "metadata": {
    "ExecuteTime": {
     "end_time": "2023-11-17T19:29:48.179009300Z",
     "start_time": "2023-11-17T19:29:47.789340Z"
    },
    "collapsed": false,
    "jupyter": {
     "outputs_hidden": false
    }
   },
   "outputs": [],
   "source": [
    "plt.figure(figsize=(20, 10))\n",
    "values = movie_genres['genre_id'].value_counts()\n",
    "values.rename(index=genre_dictionary, inplace=True)\n",
    "values[:50].plot(kind='bar')\n",
    "plt.xlabel('Genre')\n",
    "plt.ylabel('Number of movies')\n",
    "plt.title('Number of movies per genre for 50 genres', fontsize=20)\n",
    "plt.show()"
   ]
  },
  {
   "cell_type": "markdown",
   "id": "77716b49547c53e5",
   "metadata": {
    "collapsed": false,
    "jupyter": {
     "outputs_hidden": false
    }
   },
   "source": [
    "As we can see there are some genres with a very small number of movies. We will remove them."
   ]
  },
  {
   "cell_type": "code",
   "execution_count": null,
   "id": "abd6191e1835a959",
   "metadata": {
    "ExecuteTime": {
     "end_time": "2023-11-17T19:29:49.214446900Z",
     "start_time": "2023-11-17T19:29:48.166893700Z"
    },
    "collapsed": false,
    "jupyter": {
     "outputs_hidden": false
    }
   },
   "outputs": [],
   "source": [
    "considered_number_of_movies = 500\n",
    "\n",
    "reduced_movie_genres = movie_genres.groupby('genre_id').filter(lambda x: len(x) > considered_number_of_movies).copy(\n",
    "    deep=True)\n",
    "reduced_genre_dictionary = {key: value for key, value in genre_dictionary.items() if\n",
    "                            key in reduced_movie_genres['genre_id'].unique()}"
   ]
  },
  {
   "cell_type": "code",
   "execution_count": null,
   "id": "406970a2571d2105",
   "metadata": {
    "ExecuteTime": {
     "end_time": "2023-11-17T19:29:49.248372500Z",
     "start_time": "2023-11-17T19:29:49.202916300Z"
    },
    "collapsed": false,
    "jupyter": {
     "outputs_hidden": false
    }
   },
   "outputs": [],
   "source": [
    "reduced_genre_dictionary.values()"
   ]
  },
  {
   "cell_type": "code",
   "execution_count": null,
   "id": "85bf5aa6e5346c44",
   "metadata": {
    "ExecuteTime": {
     "end_time": "2023-11-17T19:29:49.427253100Z",
     "start_time": "2023-11-17T19:29:49.219469500Z"
    },
    "collapsed": false,
    "jupyter": {
     "outputs_hidden": false
    }
   },
   "outputs": [],
   "source": [
    "try:\n",
    "    actors_popularity = pd.read_csv(ADDITIONAL_FOLDER + 'actors_popularity.csv')\n",
    "except:\n",
    "    actors_popularity = get_actors_popularity(movies_actors, characters_relevant)\n",
    "    actors_popularity.to_csv(ADDITIONAL_FOLDER + 'actors_popularity.csv', index=False)\n",
    "\n",
    "actors_popularity.head()"
   ]
  },
  {
   "cell_type": "markdown",
   "id": "b02d105c172b1ae5",
   "metadata": {
    "collapsed": false,
    "jupyter": {
     "outputs_hidden": false
    }
   },
   "source": [
    "We need to separate different genres into different datasets and merge them with actors popularity."
   ]
  },
  {
   "cell_type": "code",
   "execution_count": null,
   "id": "ffec4150fbaa0b25",
   "metadata": {
    "ExecuteTime": {
     "end_time": "2023-11-17T19:29:51.191095800Z",
     "start_time": "2023-11-17T19:29:49.420250300Z"
    },
    "collapsed": false,
    "jupyter": {
     "outputs_hidden": false
    }
   },
   "outputs": [],
   "source": [
    "datasets_by_genres = []\n",
    "\n",
    "for genre in reduced_genre_dictionary:\n",
    "    genre_movies = reduced_movie_genres[reduced_movie_genres['genre_id'] == genre]\n",
    "    genre_movies = pd.merge(genre_movies, actors_popularity, on='wikipedia_movie_id')\n",
    "    datasets_by_genres.append(genre_movies)"
   ]
  },
  {
   "cell_type": "code",
   "execution_count": null,
   "id": "df8532769f24c139",
   "metadata": {
    "ExecuteTime": {
     "end_time": "2023-11-17T19:29:51.395882Z",
     "start_time": "2023-11-17T19:29:51.195095100Z"
    },
    "collapsed": false,
    "jupyter": {
     "outputs_hidden": false
    }
   },
   "outputs": [],
   "source": [
    "grouped_datasets_by_genres = []\n",
    "\n",
    "for df in datasets_by_genres:\n",
    "    grouped_popularity = df.groupby(['movie_title', 'movie_score', 'genre_id']).agg(\n",
    "        sum_pop=('actor_popularity', 'sum')\n",
    "    ).reset_index()\n",
    "    grouped_datasets_by_genres.append(grouped_popularity)"
   ]
  },
  {
   "cell_type": "markdown",
   "id": "2a177a27c20e88e3",
   "metadata": {
    "collapsed": false,
    "jupyter": {
     "outputs_hidden": false
    }
   },
   "source": [
    "Let's see the correlation between the popularity of actors and the movie score for each genre."
   ]
  },
  {
   "cell_type": "code",
   "execution_count": null,
   "id": "2db8b09a2cd27dc2",
   "metadata": {
    "ExecuteTime": {
     "end_time": "2023-11-17T19:29:51.505480400Z",
     "start_time": "2023-11-17T19:29:51.396865Z"
    },
    "collapsed": false,
    "jupyter": {
     "outputs_hidden": false
    }
   },
   "outputs": [],
   "source": [
    "print('Correlation between sum of actor popularity and movie score for:\\n')\n",
    "\n",
    "correlations = []\n",
    "\n",
    "for df in grouped_datasets_by_genres:\n",
    "    correlations.append({'genre': reduced_genre_dictionary[df['genre_id'].iloc[0]],\n",
    "                         'corr': stats.pearsonr(df['movie_score'], df['sum_pop'])})\n",
    "\n",
    "correlations.sort(key=lambda x: x['corr'][0], reverse=True)\n",
    "\n",
    "for stat in correlations:\n",
    "    print(stat['genre'], ': ', stat['corr'][0])"
   ]
  },
  {
   "cell_type": "markdown",
   "id": "f388c521b3ffaca4",
   "metadata": {
    "collapsed": false,
    "jupyter": {
     "outputs_hidden": false
    }
   },
   "source": [
    "We can see that the correlation is different for different genres. We will plot the correlation for each genre."
   ]
  },
  {
   "cell_type": "code",
   "execution_count": null,
   "id": "3c494547a9351562",
   "metadata": {
    "ExecuteTime": {
     "end_time": "2023-11-17T19:29:51.731728200Z",
     "start_time": "2023-11-17T19:29:51.429883Z"
    },
    "collapsed": false,
    "jupyter": {
     "outputs_hidden": false
    }
   },
   "outputs": [],
   "source": [
    "plt.figure(figsize=(20, 10))\n",
    "plt.bar([stat['genre'] for stat in correlations], [stat['corr'][0] for stat in correlations])\n",
    "plt.xlabel('Genre')\n",
    "plt.ylabel('Correlation')\n",
    "plt.title('Correlation between sum of actor popularity and movie score for each genre', fontsize=20)\n",
    "plt.xticks(rotation=90)\n",
    "plt.show()"
   ]
  },
  {
   "cell_type": "markdown",
   "id": "2d45edd28964f7bf",
   "metadata": {
    "collapsed": false,
    "jupyter": {
     "outputs_hidden": false
    }
   },
   "source": [
    "## Movie producers' popularity"
   ]
  },
  {
   "cell_type": "markdown",
   "id": "5e6fb08d87cfd537",
   "metadata": {
    "collapsed": false,
    "jupyter": {
     "outputs_hidden": false
    }
   },
   "source": [
    "We want to define producer's popularity at the time of the movie release. For this reason we want to sum `movie_score` of movies released on previous years for which the same person was a director."
   ]
  },
  {
   "cell_type": "code",
   "execution_count": null,
   "id": "9bf8b1cff02d9efa",
   "metadata": {
    "ExecuteTime": {
     "end_time": "2023-11-17T19:29:51.749139400Z",
     "start_time": "2023-11-17T19:29:51.726614700Z"
    },
    "collapsed": false,
    "jupyter": {
     "outputs_hidden": false
    }
   },
   "outputs": [],
   "source": [
    "movies_producers = movies.copy(deep=True)\n",
    "movies_producers.head()"
   ]
  },
  {
   "cell_type": "code",
   "execution_count": null,
   "id": "5f7bcec32660eb8f",
   "metadata": {
    "ExecuteTime": {
     "end_time": "2023-11-17T19:29:51.977583Z",
     "start_time": "2023-11-17T19:29:51.744115300Z"
    },
    "collapsed": false,
    "jupyter": {
     "outputs_hidden": false
    }
   },
   "outputs": [],
   "source": [
    "def get_producers_popularity(movies_data, lookback_movies=-1):\n",
    "    \"\"\"\n",
    "    The function computes the popularity of the producers in the movies they have produced.\n",
    "    \n",
    "    movies_data: dataframe containing movies data\n",
    "    lookback_movies: number of movies to consider for the popularity of the producer\n",
    "    \n",
    "    returns: dataframe containing producers popularity\n",
    "    \"\"\"\n",
    "    \n",
    "    popularity = []\n",
    "\n",
    "    movies_data.sort_values(by=['year'], inplace=True)\n",
    "\n",
    "    for i, movie in tqdm(movies_data.iterrows(), total=movies_data.shape[0]):\n",
    "        producer = movie['producer']\n",
    "        relevant_movies = movies_data[movies_data['producer'] == producer]\n",
    "\n",
    "        if lookback_movies > 0:\n",
    "            producer_movies = relevant_movies[relevant_movies['year'] < movie['year']][-lookback_movies:]\n",
    "        else:\n",
    "            producer_movies = relevant_movies[relevant_movies['year'] < movie['year']]\n",
    "\n",
    "        popularity.append({'producer': producer, 'producer_popularity': producer_movies['movie_score'].sum(),\n",
    "                           'year': movie['year'],\n",
    "                           'movie_title': movie['name'],\n",
    "                           'wikipedia_movie_id': movie['wikipedia_movie_id'],\n",
    "                           'movie_score': movie['movie_score']})\n",
    "\n",
    "    return pd.DataFrame(popularity)"
   ]
  },
  {
   "cell_type": "markdown",
   "id": "950e3d88b744165d",
   "metadata": {
    "collapsed": false,
    "jupyter": {
     "outputs_hidden": false
    }
   },
   "source": [
    "#### Popularity of the producers in all the previous movies they have played in\n",
    "Here we are taking into account all the movies the producer has produced before the movie we are considering."
   ]
  },
  {
   "cell_type": "code",
   "execution_count": null,
   "id": "6ab009f30c19c80",
   "metadata": {
    "ExecuteTime": {
     "end_time": "2023-11-17T19:29:51.977583Z",
     "start_time": "2023-11-17T19:29:51.759134700Z"
    },
    "collapsed": false,
    "jupyter": {
     "outputs_hidden": false
    }
   },
   "outputs": [],
   "source": [
    "try:\n",
    "    producers_popularity = pd.read_csv(ADDITIONAL_FOLDER + 'producers_popularity.csv')\n",
    "except:\n",
    "    producers_popularity = get_producers_popularity(movies_producers)\n",
    "    producers_popularity.to_csv(ADDITIONAL_FOLDER + 'producers_popularity.csv', index=False)"
   ]
  },
  {
   "cell_type": "code",
   "execution_count": null,
   "id": "4205708d355cb1a",
   "metadata": {
    "ExecuteTime": {
     "end_time": "2023-11-17T19:29:51.977583Z",
     "start_time": "2023-11-17T19:29:51.806011500Z"
    },
    "collapsed": false,
    "jupyter": {
     "outputs_hidden": false
    }
   },
   "outputs": [],
   "source": [
    "producers_popularity.sort_values(['producer', 'year'])"
   ]
  },
  {
   "cell_type": "code",
   "execution_count": null,
   "id": "7ce4e3a9006caba2",
   "metadata": {
    "ExecuteTime": {
     "end_time": "2023-11-17T19:29:51.977583Z",
     "start_time": "2023-11-17T19:29:51.837011500Z"
    },
    "collapsed": false,
    "jupyter": {
     "outputs_hidden": false
    }
   },
   "outputs": [],
   "source": [
    "stats.pearsonr(producers_popularity['movie_score'], producers_popularity['producer_popularity'])"
   ]
  },
  {
   "cell_type": "markdown",
   "id": "d6c056ce0cb17be5",
   "metadata": {
    "collapsed": false,
    "jupyter": {
     "outputs_hidden": false
    }
   },
   "source": [
    "The p_value is low enough, we can trust the value of Pearson's coefficient `r=0.24` which indicates a weak positive correlation between `producer_popularity` of a movie and its `movie_score`"
   ]
  },
  {
   "cell_type": "markdown",
   "id": "9987b1c48c849d9e",
   "metadata": {
    "collapsed": false,
    "jupyter": {
     "outputs_hidden": false
    }
   },
   "source": [
    "## Sentiment analysis of movies endings (IN MILESTONE 3)"
   ]
  },
  {
   "cell_type": "markdown",
   "id": "52c1a4835043c709",
   "metadata": {
    "collapsed": false,
    "jupyter": {
     "outputs_hidden": false
    }
   },
   "source": [
    "## First regression analysis"
   ]
  },
  {
   "cell_type": "markdown",
   "id": "f583361c3c9e7e46",
   "metadata": {
    "collapsed": false,
    "jupyter": {
     "outputs_hidden": false
    }
   },
   "source": [
    "Let's run a simple regression analysis to see if we can predict the movie score from the data we have."
   ]
  },
  {
   "cell_type": "code",
   "execution_count": null,
   "id": "23e633ada6c8075f",
   "metadata": {
    "ExecuteTime": {
     "end_time": "2023-11-17T19:29:51.977583Z",
     "start_time": "2023-11-17T19:29:51.853011400Z"
    },
    "collapsed": false,
    "jupyter": {
     "outputs_hidden": false
    }
   },
   "outputs": [],
   "source": [
    "# the dataset we are going to use for the regression analysis\n",
    "movies_reg = movies_with_inclusivity.copy(deep=True)\n",
    "movies_reg.drop(columns=[\"freebase_movie_id\", \"release_date\", \"revenue\", \"correlation_factor\", \"RC\", \"BORC\", \"budget\", \"gross_domestic\", \"opening_weekend\", \"rating_score\"], inplace=True)"
   ]
  },
  {
   "cell_type": "code",
   "execution_count": null,
   "id": "1e685ccbe7026df3",
   "metadata": {
    "ExecuteTime": {
     "end_time": "2023-11-17T19:29:51.978605500Z",
     "start_time": "2023-11-17T19:29:51.870011600Z"
    },
    "collapsed": false,
    "jupyter": {
     "outputs_hidden": false
    }
   },
   "outputs": [],
   "source": [
    "regression_ids = movies_reg[\"wikipedia_movie_id\"]"
   ]
  },
  {
   "cell_type": "code",
   "execution_count": null,
   "id": "c6442254c3096f01",
   "metadata": {
    "ExecuteTime": {
     "end_time": "2023-11-17T19:29:51.981582700Z",
     "start_time": "2023-11-17T19:29:51.886018400Z"
    },
    "collapsed": false,
    "jupyter": {
     "outputs_hidden": false
    }
   },
   "outputs": [],
   "source": [
    "movies_reg.head(3)"
   ]
  },
  {
   "cell_type": "code",
   "execution_count": null,
   "id": "660c17aa0a8696f2",
   "metadata": {
    "ExecuteTime": {
     "end_time": "2023-11-17T19:29:52.009116600Z",
     "start_time": "2023-11-17T19:29:51.918541200Z"
    },
    "collapsed": false,
    "jupyter": {
     "outputs_hidden": false
    }
   },
   "outputs": [],
   "source": [
    "try:\n",
    "    movie_countries     = pd.read_csv(processed_directory + \"/movie_countries.csv\")\n",
    "    country_dictionary  = pkl.load(open(processed_directory + \"/country_dictionary.pickle\", \"rb\"))\n",
    "    movie_languages     = pd.read_csv(processed_directory + \"/movie_languages.csv\")\n",
    "    language_dictionary = pkl.load(open(processed_directory + \"/language_dictionary.pickle\", \"rb\"))\n",
    "    movie_genres        = pd.read_csv(processed_directory + \"/movie_genres.csv\")\n",
    "    genre_dictionary   = pkl.load(open(processed_directory + \"/genre_dictionary.pickle\", \"rb\"))\n",
    "except:\n",
    "    raise ValueError(\"A file is missing, please run the previous parts of the notebook\")"
   ]
  },
  {
   "cell_type": "code",
   "execution_count": null,
   "id": "3972c8ca0e772efb",
   "metadata": {
    "ExecuteTime": {
     "end_time": "2023-11-17T19:29:52.397122100Z",
     "start_time": "2023-11-17T19:29:51.966540700Z"
    },
    "collapsed": false,
    "jupyter": {
     "outputs_hidden": false
    }
   },
   "outputs": [],
   "source": [
    "grouped_by_genre = movie_genres.groupby(by=\"genre_id\").count().dropna()\n",
    "\n",
    "# select the movie genres for which there are at least `genre_threshold` movies of that genre\n",
    "genre_threshold = 250\n",
    "grouped_by_genre_filtered = grouped_by_genre[grouped_by_genre[\"wikipedia_movie_id\"] > genre_threshold]\n",
    "grouped_by_genre_filtered.shape\n",
    "kept_genre_ids = grouped_by_genre_filtered.index\n",
    "print(f\"Number of genres kept:      {kept_genre_ids.shape[0]}\")\n",
    "\n",
    "# select the movie genres for which there are at least `language_threshold` movies of that language\n",
    "language_threshold = 50\n",
    "grouped_by_language = movie_languages.groupby(by=\"language_id\").count().dropna()\n",
    "grouped_by_language_filtered = grouped_by_language[grouped_by_language[\"wikipedia_movie_id\"] > language_threshold]\n",
    "kept_languages_ids = grouped_by_language_filtered.index\n",
    "print(f\"Number of languages kept:   {kept_languages_ids.shape[0]}\")\n",
    "\n",
    "# select the movie countries for which there are at least `country_threshold` movies of that country\n",
    "country_threshold = 100\n",
    "grouped_by_country = movie_countries.groupby(by=\"country_id\").count().dropna()\n",
    "grouped_by_country_filtered = grouped_by_country[grouped_by_country[\"wikipedia_movie_id\"] > country_threshold]\n",
    "kept_country_ids = grouped_by_country_filtered.index\n",
    "print(f\"Number of countries kept:   {kept_country_ids.shape[0]}\")"
   ]
  },
  {
   "cell_type": "code",
   "execution_count": null,
   "id": "29e7d320ed90690c",
   "metadata": {
    "ExecuteTime": {
     "end_time": "2023-11-17T19:29:52.567480600Z",
     "start_time": "2023-11-17T19:29:51.997096300Z"
    },
    "collapsed": false,
    "jupyter": {
     "outputs_hidden": false
    }
   },
   "outputs": [],
   "source": [
    "%%capture\n",
    "\n",
    "kept_genre_names = [genre_dictionary[genre_id] for genre_id in kept_genre_ids]\n",
    "kept_language_names = [language_dictionary[language_id] for language_id in kept_languages_ids]\n",
    "kept_country_names = [country_dictionary[country_id] for country_id in kept_country_ids]\n",
    "new_categorical_features = kept_genre_names + kept_language_names + kept_country_names\n",
    "\n",
    "# creating empty binary features\n",
    "movies_reg[kept_genre_names]    = np.nan\n",
    "movies_reg[kept_language_names] = np.nan\n",
    "movies_reg[kept_country_names]  = np.nan"
   ]
  },
  {
   "cell_type": "code",
   "execution_count": null,
   "id": "89c401c2741bc71b",
   "metadata": {
    "ExecuteTime": {
     "end_time": "2023-11-17T19:29:52.567480600Z",
     "start_time": "2023-11-17T19:29:52.049096Z"
    },
    "collapsed": false,
    "jupyter": {
     "outputs_hidden": false
    }
   },
   "outputs": [],
   "source": [
    "movies_reg.head(3)"
   ]
  },
  {
   "cell_type": "markdown",
   "id": "a530792a22ad7439",
   "metadata": {
    "collapsed": false,
    "jupyter": {
     "outputs_hidden": false
    }
   },
   "source": [
    "We now need to fill the binary features with 1 if the movie has the corresponding genre/language/country and 0 otherwise."
   ]
  },
  {
   "cell_type": "code",
   "execution_count": null,
   "id": "75002f14e90475aa",
   "metadata": {
    "ExecuteTime": {
     "end_time": "2023-11-17T19:29:57.530330300Z",
     "start_time": "2023-11-17T19:29:52.062189400Z"
    },
    "collapsed": false,
    "jupyter": {
     "outputs_hidden": false
    }
   },
   "outputs": [],
   "source": [
    "for index in tqdm(range(movies_reg.shape[0])):\n",
    "    movie_languages = movies_reg.loc[index, \"languages\"]\n",
    "    movie_genres    = movies_reg.loc[index, \"genres\"]\n",
    "    movie_countries = movies_reg.loc[index, \"countries\"]\n",
    "\n",
    "    language_dic  = ast.literal_eval(movie_languages)\n",
    "    genre_dic     = ast.literal_eval(movie_genres)\n",
    "    country_dic   = ast.literal_eval(movie_countries)\n",
    "\n",
    "    for language in language_dic.values():\n",
    "        if language in kept_language_names:\n",
    "            movies_reg.loc[index, language] = 1\n",
    "\n",
    "    for genre in genre_dic.values():\n",
    "        if genre in kept_genre_names:\n",
    "            movies_reg.loc[index, genre] = 1\n",
    "            \n",
    "    for country in country_dic.values():\n",
    "        if country in kept_country_names:\n",
    "            movies_reg.loc[index, country] = 1"
   ]
  },
  {
   "cell_type": "code",
   "execution_count": null,
   "id": "6f60cd9f9ffcc574",
   "metadata": {
    "ExecuteTime": {
     "end_time": "2023-11-17T19:29:57.591450800Z",
     "start_time": "2023-11-17T19:29:57.527963800Z"
    },
    "collapsed": false,
    "jupyter": {
     "outputs_hidden": false
    }
   },
   "outputs": [],
   "source": [
    "# removing features with only nans\n",
    "movies_reg.dropna(inplace=True, axis=1, how='all')\n",
    "\n",
    "# filling nan values by 0 for the new categorical features\n",
    "movies_reg[new_categorical_features] = movies_reg[new_categorical_features].fillna(0)\n",
    "\n",
    "movies_reg.head(3)"
   ]
  },
  {
   "cell_type": "code",
   "execution_count": null,
   "id": "1ae3dc29f1180fd6",
   "metadata": {
    "ExecuteTime": {
     "end_time": "2023-11-17T19:29:57.636955400Z",
     "start_time": "2023-11-17T19:29:57.590450800Z"
    },
    "collapsed": false,
    "jupyter": {
     "outputs_hidden": false
    }
   },
   "outputs": [],
   "source": [
    "movies_reg.head(1).columns.values"
   ]
  },
  {
   "cell_type": "markdown",
   "id": "1a578be013ba0b05",
   "metadata": {
    "collapsed": false,
    "jupyter": {
     "outputs_hidden": false
    }
   },
   "source": [
    "We drop the features that are not useful for the regression analysis."
   ]
  },
  {
   "cell_type": "code",
   "execution_count": null,
   "id": "6a5b474e04ed5fe2",
   "metadata": {
    "ExecuteTime": {
     "end_time": "2023-11-17T19:29:57.684593900Z",
     "start_time": "2023-11-17T19:29:57.606956400Z"
    },
    "collapsed": false,
    "jupyter": {
     "outputs_hidden": false
    }
   },
   "outputs": [],
   "source": [
    "regression_data = movies_reg.drop(columns=[\"wikipedia_movie_id\", \"name\", \"languages\", \"countries\",\n",
    "                                            \"genres\", \"producer\", \"adjusted_revenue\", \"Good Movie\",\n",
    "                                            \"number_of_ratings\", \"watched_rank\",\"adjusted_gross_domestic\",\n",
    "                                            \"adjusted_opening_weekend\"])"
   ]
  },
  {
   "cell_type": "code",
   "execution_count": null,
   "id": "b5acb464669fd4d0",
   "metadata": {
    "ExecuteTime": {
     "end_time": "2023-11-17T19:29:57.747121700Z",
     "start_time": "2023-11-17T19:29:57.622956800Z"
    },
    "collapsed": false,
    "jupyter": {
     "outputs_hidden": false
    }
   },
   "outputs": [],
   "source": [
    "from sklearn.model_selection import train_test_split"
   ]
  },
  {
   "cell_type": "markdown",
   "id": "9508cf71c48a8dad",
   "metadata": {
    "collapsed": false,
    "jupyter": {
     "outputs_hidden": false
    }
   },
   "source": [
    "We split the data into train and test sets."
   ]
  },
  {
   "cell_type": "code",
   "execution_count": null,
   "id": "918bc3a942b2d918",
   "metadata": {
    "ExecuteTime": {
     "end_time": "2023-11-17T19:29:57.807132Z",
     "start_time": "2023-11-17T19:29:57.639956200Z"
    },
    "collapsed": false,
    "jupyter": {
     "outputs_hidden": false
    }
   },
   "outputs": [],
   "source": [
    "np.random.seed(270)\n",
    "\n",
    "# Split the data into train and test sets\n",
    "train_data, test_data = train_test_split(regression_data, test_size=0.2, random_state=270)\n",
    "x_train_raw, y_train_raw = train_data.loc[:, train_data.columns != \"movie_score\"], train_data[\"movie_score\"]\n",
    "x_test_raw, y_test_raw = test_data.loc[:, test_data.columns != \"movie_score\"], test_data[\"movie_score\"]\n",
    "\n",
    "x_train_raw.head(3)"
   ]
  },
  {
   "cell_type": "markdown",
   "id": "4515ab2fb57b962f",
   "metadata": {
    "collapsed": false,
    "jupyter": {
     "outputs_hidden": false
    }
   },
   "source": [
    "We need to fill the missing values in the data."
   ]
  },
  {
   "cell_type": "code",
   "execution_count": null,
   "id": "f06f5645e27cfd7",
   "metadata": {
    "ExecuteTime": {
     "end_time": "2023-11-17T19:29:58.001464200Z",
     "start_time": "2023-11-17T19:29:57.685594300Z"
    },
    "collapsed": false,
    "jupyter": {
     "outputs_hidden": false
    }
   },
   "outputs": [],
   "source": [
    "from sklearn.impute import SimpleImputer\n",
    "from sklearn.preprocessing import StandardScaler\n",
    "\n",
    "# replacing missing values by the mean of the feature\n",
    "imputer = SimpleImputer(missing_values=np.nan, strategy='mean')\n",
    "imputer.fit(x_train_raw)\n",
    "x_train = imputer.transform(x_train_raw)\n",
    "x_test  = imputer.transform(x_test_raw)\n",
    "\n",
    "# scaling the data\n",
    "scaler  = StandardScaler()\n",
    "scaler.fit(x_train)\n",
    "x_train = scaler.transform(x_train)\n",
    "x_test  = scaler.transform(x_test)\n",
    "\n",
    "y_train = y_train_raw\n",
    "y_test  = y_test_raw"
   ]
  },
  {
   "cell_type": "markdown",
   "id": "f8b768609226e99c",
   "metadata": {
    "collapsed": false,
    "jupyter": {
     "outputs_hidden": false
    }
   },
   "source": [
    "We now have our data ready for the regression analysis."
   ]
  },
  {
   "cell_type": "code",
   "execution_count": null,
   "id": "c29ff35d90a41c18",
   "metadata": {
    "ExecuteTime": {
     "end_time": "2023-11-17T19:29:58.076001100Z",
     "start_time": "2023-11-17T19:29:57.764520500Z"
    },
    "collapsed": false,
    "jupyter": {
     "outputs_hidden": false
    }
   },
   "outputs": [],
   "source": [
    "from sklearn.linear_model import LinearRegression\n",
    "from sklearn.metrics import mean_squared_error, r2_score\n",
    "\n",
    "linear_model = LinearRegression()\n",
    "\n",
    "linear_model.fit(x_train, y_train)\n",
    "\n",
    "y_pred = linear_model.predict(x_test)\n",
    "\n",
    "print('Coefficients: \\n', linear_model.coef_)\n",
    "print('Mean squared error: %.2f'\n",
    "      % mean_squared_error(y_test, y_pred))\n",
    "\n",
    "print('Coefficient of determination: %.2f'\n",
    "      % r2_score(y_test, y_pred))\n",
    "\n",
    "\n",
    "plt.scatter(y_test, y_pred,  color='black')\n",
    "plt.plot(y_test, y_test, color='blue', linewidth=3)\n",
    "\n",
    "plt.xticks(())\n",
    "plt.yticks(())\n",
    "plt.xlabel(\"True movie score\")\n",
    "plt.ylabel(\"Predicted movie score\")\n",
    "plt.title(\"Linear regression model\")\n",
    "plt.show()"
   ]
  },
  {
   "cell_type": "markdown",
   "id": "ea9b9e5d8018caa4",
   "metadata": {
    "collapsed": false,
    "jupyter": {
     "outputs_hidden": false
    }
   },
   "source": [
    "Let's see the most important features according to the linear regression model."
   ]
  },
  {
   "cell_type": "code",
   "execution_count": null,
   "id": "8569397cc096ab3c",
   "metadata": {
    "ExecuteTime": {
     "end_time": "2023-11-17T19:29:58.077024600Z",
     "start_time": "2023-11-17T19:29:57.953531900Z"
    },
    "collapsed": false,
    "jupyter": {
     "outputs_hidden": false
    }
   },
   "outputs": [],
   "source": [
    "feature_names = x_train_raw.columns.values\n",
    "coef = linear_model.coef_\n",
    "indices = np.argsort(coef)[::-1]\n",
    "\n",
    "print(\"Top 20 features:\")\n",
    "for f in range(len(indices)):\n",
    "    print(\"%d. %s (%f)\" % (f + 1, feature_names[indices[f]], coef[indices[f]]))"
   ]
  },
  {
   "cell_type": "code",
   "execution_count": null,
   "id": "b61c72e1",
   "metadata": {},
   "outputs": [],
   "source": [
    "feature_names"
   ]
  },
  {
   "cell_type": "markdown",
   "id": "bd690a15fcf9d85c",
   "metadata": {
    "collapsed": false,
    "jupyter": {
     "outputs_hidden": false
    }
   },
   "source": [
    "From this simple model it turned out that the most important features are languages, countries and genres."
   ]
  },
  {
   "cell_type": "markdown",
   "id": "3507badfbdfd6471",
   "metadata": {
    "collapsed": false,
    "jupyter": {
     "outputs_hidden": false
    }
   },
   "source": [
    "**We will do further analysis in Milestone 3.**"
   ]
  }
 ],
 "metadata": {
  "kernelspec": {
   "display_name": "Python 3 (ipykernel)",
   "language": "python",
   "name": "python3"
  },
  "language_info": {
   "codemirror_mode": {
    "name": "ipython",
    "version": 3
   },
   "file_extension": ".py",
   "mimetype": "text/x-python",
   "name": "python",
   "nbconvert_exporter": "python",
   "pygments_lexer": "ipython3",
   "version": "3.9.12"
  }
 },
 "nbformat": 4,
 "nbformat_minor": 5
}
